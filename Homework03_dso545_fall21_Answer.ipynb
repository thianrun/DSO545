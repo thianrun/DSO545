{
 "cells": [
  {
   "cell_type": "markdown",
   "source": [
    "# Homework 3\n",
    "\n",
    "### Due: Sunday Oct 3, at 11:59pm via Blackboard"
   ],
   "metadata": {
    "id": "ty_Gvth62Tav"
   }
  },
  {
   "cell_type": "code",
   "execution_count": 4,
   "source": [
    "import pandas as pd\n",
    "import numpy as np\n",
    "import matplotlib.pyplot as plt\n",
    "import seaborn as sns\n",
    "\n",
    "plt.style.use('ggplot')"
   ],
   "outputs": [],
   "metadata": {}
  },
  {
   "cell_type": "markdown",
   "source": [
    "## Problem 1: Peformance of Large vs. Small Companies\n",
    "\n",
    "Companies vary greatly in size. This variation can hide how well a company is performing. Rather than looking at the raw profit numbers, analysts consider financial ratios that adjust for the size of the company. A popular ratio is the return on assets, defined as:\n",
    "\n",
    "**Return on Assets $= Net Income/Total Assets$**\n",
    "\n",
    "Net income is another name for profits, and the total assets of a company is the value of everything it owns that is used to produce profits. The return on assets indicates how much profit the company generates relative to the amount that it invested to make that profit. A company with losses rather than profits has a negative return on assets. \n",
    "\n",
    "**Data:** The data set `Company.csv` gives the company name, total assets (in Millions \\$), net income (in Millions \\$), and the number of employees reported by 167 retailers in the United States. \n",
    "\n",
    "In the following questions, you will be performing an **exploratory data analysis (EDA)** for the given companies data. "
   ],
   "metadata": {}
  },
  {
   "cell_type": "code",
   "execution_count": 5,
   "source": [
    "company = pd.read_csv('Company.csv')\n",
    "company.head()"
   ],
   "outputs": [
    {
     "output_type": "execute_result",
     "data": {
      "text/html": [
       "<div>\n",
       "<style scoped>\n",
       "    .dataframe tbody tr th:only-of-type {\n",
       "        vertical-align: middle;\n",
       "    }\n",
       "\n",
       "    .dataframe tbody tr th {\n",
       "        vertical-align: top;\n",
       "    }\n",
       "\n",
       "    .dataframe thead th {\n",
       "        text-align: right;\n",
       "    }\n",
       "</style>\n",
       "<table border=\"1\" class=\"dataframe\">\n",
       "  <thead>\n",
       "    <tr style=\"text-align: right;\">\n",
       "      <th></th>\n",
       "      <th>Company Name</th>\n",
       "      <th>Total Assets (M$)</th>\n",
       "      <th>Net Income (M$)</th>\n",
       "      <th># Employees</th>\n",
       "    </tr>\n",
       "  </thead>\n",
       "  <tbody>\n",
       "    <tr>\n",
       "      <th>0</th>\n",
       "      <td>1-800-FLOWERS.COM</td>\n",
       "      <td>256</td>\n",
       "      <td>-4</td>\n",
       "      <td>2200</td>\n",
       "    </tr>\n",
       "    <tr>\n",
       "      <th>1</th>\n",
       "      <td>99 CENTS ONLY STORES</td>\n",
       "      <td>824</td>\n",
       "      <td>74</td>\n",
       "      <td>12000</td>\n",
       "    </tr>\n",
       "    <tr>\n",
       "      <th>2</th>\n",
       "      <td>A.C. MOORE ARTS &amp; CRAFTS INC</td>\n",
       "      <td>237</td>\n",
       "      <td>-30</td>\n",
       "      <td>4710</td>\n",
       "    </tr>\n",
       "    <tr>\n",
       "      <th>3</th>\n",
       "      <td>ABERCROMBIE &amp; FITCH  -CL A</td>\n",
       "      <td>2948</td>\n",
       "      <td>150</td>\n",
       "      <td>85000</td>\n",
       "    </tr>\n",
       "    <tr>\n",
       "      <th>4</th>\n",
       "      <td>ADVANCE AUTO PARTS INC</td>\n",
       "      <td>3354</td>\n",
       "      <td>346</td>\n",
       "      <td>51017</td>\n",
       "    </tr>\n",
       "  </tbody>\n",
       "</table>\n",
       "</div>"
      ],
      "text/plain": [
       "                   Company Name  Total Assets (M$)  Net Income (M$)  \\\n",
       "0             1-800-FLOWERS.COM                256               -4   \n",
       "1          99 CENTS ONLY STORES                824               74   \n",
       "2  A.C. MOORE ARTS & CRAFTS INC                237              -30   \n",
       "3    ABERCROMBIE & FITCH  -CL A               2948              150   \n",
       "4        ADVANCE AUTO PARTS INC               3354              346   \n",
       "\n",
       "   # Employees  \n",
       "0         2200  \n",
       "1        12000  \n",
       "2         4710  \n",
       "3        85000  \n",
       "4        51017  "
      ]
     },
     "metadata": {},
     "execution_count": 5
    }
   ],
   "metadata": {}
  },
  {
   "cell_type": "markdown",
   "source": [
    "### 1.1. (2 points) Compute and report (in a short paragraph of text) the following summary statistics for the `Net Income (M\\$)` data (round your values to the nearest integer):\n",
    "\n",
    "    - Mean\n",
    "    - Median\n",
    "    - Standard Deviation\n",
    "    - Range\n",
    "    - IQR "
   ],
   "metadata": {}
  },
  {
   "cell_type": "code",
   "execution_count": 6,
   "source": [
    "c_income_mean = company['Net Income (M$)'].mean()\n",
    "c_income_med = company['Net Income (M$)'].median()\n",
    "c_income_sd = company['Net Income (M$)'].std()\n",
    "c_income_range = company['Net Income (M$)'].max() - company['Net Income (M$)'].min()\n",
    "c_income_iqr = company['Net Income (M$)'].quantile(0.75) - company['Net Income (M$)'].quantile(0.25)\n",
    "\n",
    "print(f'From the given data, the average income of the companies is ${round(c_income_mean)}M while the median is only ${round(c_income_med)}M. \\\n",
    "The standard diviation is ${round(c_income_sd)}M. Besides, the companies\\' income also has extremely wide range, ${round(c_income_range)}M. \\\n",
    "However, the IQR is only ${round(c_income_iqr)}M. We can imply from these statistics that the income data are vary and there are outliers in this data.')"
   ],
   "outputs": [
    {
     "output_type": "stream",
     "name": "stdout",
     "text": [
      "From the given data, the average income of the companies is $334M while the median is only $34M. The standard diviation is $1385M. Besides, the companies' income also has extremely wide range, $17899M. However, the IQR is only $188M. We can imply from these statistics that the income data are vary and there are outliers in this data.\n"
     ]
    }
   ],
   "metadata": {}
  },
  {
   "cell_type": "markdown",
   "source": [
    "### 1.2. (2 points) Report the % of companies that inccured losses. For this question, you are expected to add a new categorical variable to the dataset (call it `Profit`) with two levels: `PROFIT` if the net income is above zero (net income >= 0) and `LOSS` if the net income is below zero (net income < 0). \n",
    "\n"
   ],
   "metadata": {}
  },
  {
   "cell_type": "code",
   "execution_count": 7,
   "source": [
    "company['Profit'] = ['PROFIT' if i >= 0 else 'LOSS' for i in company['Net Income (M$)']]\n",
    "\n",
    "company.head()"
   ],
   "outputs": [
    {
     "output_type": "execute_result",
     "data": {
      "text/html": [
       "<div>\n",
       "<style scoped>\n",
       "    .dataframe tbody tr th:only-of-type {\n",
       "        vertical-align: middle;\n",
       "    }\n",
       "\n",
       "    .dataframe tbody tr th {\n",
       "        vertical-align: top;\n",
       "    }\n",
       "\n",
       "    .dataframe thead th {\n",
       "        text-align: right;\n",
       "    }\n",
       "</style>\n",
       "<table border=\"1\" class=\"dataframe\">\n",
       "  <thead>\n",
       "    <tr style=\"text-align: right;\">\n",
       "      <th></th>\n",
       "      <th>Company Name</th>\n",
       "      <th>Total Assets (M$)</th>\n",
       "      <th>Net Income (M$)</th>\n",
       "      <th># Employees</th>\n",
       "      <th>Profit</th>\n",
       "    </tr>\n",
       "  </thead>\n",
       "  <tbody>\n",
       "    <tr>\n",
       "      <th>0</th>\n",
       "      <td>1-800-FLOWERS.COM</td>\n",
       "      <td>256</td>\n",
       "      <td>-4</td>\n",
       "      <td>2200</td>\n",
       "      <td>LOSS</td>\n",
       "    </tr>\n",
       "    <tr>\n",
       "      <th>1</th>\n",
       "      <td>99 CENTS ONLY STORES</td>\n",
       "      <td>824</td>\n",
       "      <td>74</td>\n",
       "      <td>12000</td>\n",
       "      <td>PROFIT</td>\n",
       "    </tr>\n",
       "    <tr>\n",
       "      <th>2</th>\n",
       "      <td>A.C. MOORE ARTS &amp; CRAFTS INC</td>\n",
       "      <td>237</td>\n",
       "      <td>-30</td>\n",
       "      <td>4710</td>\n",
       "      <td>LOSS</td>\n",
       "    </tr>\n",
       "    <tr>\n",
       "      <th>3</th>\n",
       "      <td>ABERCROMBIE &amp; FITCH  -CL A</td>\n",
       "      <td>2948</td>\n",
       "      <td>150</td>\n",
       "      <td>85000</td>\n",
       "      <td>PROFIT</td>\n",
       "    </tr>\n",
       "    <tr>\n",
       "      <th>4</th>\n",
       "      <td>ADVANCE AUTO PARTS INC</td>\n",
       "      <td>3354</td>\n",
       "      <td>346</td>\n",
       "      <td>51017</td>\n",
       "      <td>PROFIT</td>\n",
       "    </tr>\n",
       "  </tbody>\n",
       "</table>\n",
       "</div>"
      ],
      "text/plain": [
       "                   Company Name  Total Assets (M$)  Net Income (M$)  \\\n",
       "0             1-800-FLOWERS.COM                256               -4   \n",
       "1          99 CENTS ONLY STORES                824               74   \n",
       "2  A.C. MOORE ARTS & CRAFTS INC                237              -30   \n",
       "3    ABERCROMBIE & FITCH  -CL A               2948              150   \n",
       "4        ADVANCE AUTO PARTS INC               3354              346   \n",
       "\n",
       "   # Employees  Profit  \n",
       "0         2200    LOSS  \n",
       "1        12000  PROFIT  \n",
       "2         4710    LOSS  \n",
       "3        85000  PROFIT  \n",
       "4        51017  PROFIT  "
      ]
     },
     "metadata": {},
     "execution_count": 7
    }
   ],
   "metadata": {}
  },
  {
   "cell_type": "markdown",
   "source": [
    "### 1.3. (2 points) What is the shape of the distribution of the variable `Net Income (M$)`? For this question, you are expected to create **both** a histogram and a boxplot, and comment about the shape of the distribution and if there are any companies with an outlier net income."
   ],
   "metadata": {}
  },
  {
   "cell_type": "code",
   "execution_count": 8,
   "source": [
    "# company['Net Income (M$)'].plot(kind = 'hist')\n",
    "# plt.boxplot(company['Net Income (M$)'])\n",
    "\n",
    "fig, (ax1, ax2) = plt.subplots(1, 2, figsize=(15, 7))\n",
    "ax1.hist(company['Net Income (M$)'])\n",
    "ax2.boxplot(company['Net Income (M$)'])\n",
    "ax1.set(ylabel = 'Count of Companies', xlabel = 'Net Income (M$)')\n",
    "ax2.set_xticks([])\n",
    "ax2.set(ylabel = 'Net Income (M$)')\n",
    "\n",
    "fig.suptitle('Histogram and boxplot of Net Income', fontsize=16)\n",
    "ax1.text(2500, 120, 'Distribution of Net Income is \\nRight-skewed.', style='italic', fontsize=14,\n",
    "        bbox= { 'facecolor':'white', 'ec': 'black'} )\n",
    "ax2.text(1.05, 15000, 'All of black circles \\nare outliers.', style='italic', fontsize=14,\n",
    "        bbox= { 'facecolor':'white', 'ec': 'black'} )"
   ],
   "outputs": [
    {
     "output_type": "execute_result",
     "data": {
      "text/plain": [
       "Text(1.05, 15000, 'All of black circles \\nare outliers.')"
      ]
     },
     "metadata": {},
     "execution_count": 8
    },
    {
     "output_type": "display_data",
     "data": {
      "image/png": "[encoded data removed]",
      "text/plain": [
       "<Figure size 1080x504 with 2 Axes>"
      ]
     },
     "metadata": {}
    }
   ],
   "metadata": {}
  },
  {
   "cell_type": "markdown",
   "source": [
    "### 1.4. (2 points) A company that has more than 5000 employees is considered a large one, otherwise it is cosidered small. Create a new categroical variable (call it `Company Size`) with two levels: `LARGE` if the number of employees is greater than 5000 (employees > 5000), and `SMALL` otherwise (employees <=5000). What is the % of large and small companies in the dataset?"
   ],
   "metadata": {}
  },
  {
   "cell_type": "code",
   "execution_count": 9,
   "source": [
    "company['Company Size'] =['LARGE' if i > 5000 else 'SMALL' for i in company['# Employees']]\n",
    "\n",
    "company['Company Size'].value_counts(normalize = True)*100"
   ],
   "outputs": [
    {
     "output_type": "execute_result",
     "data": {
      "text/plain": [
       "LARGE    68.862275\n",
       "SMALL    31.137725\n",
       "Name: Company Size, dtype: float64"
      ]
     },
     "metadata": {},
     "execution_count": 9
    }
   ],
   "metadata": {}
  },
  {
   "cell_type": "markdown",
   "source": [
    "### 1.5. (2 points) Create a side-by-side boxplot to compare the distribtution of `Net Income (M$)` for both Large and Small companies. What does this graph tell you about the net income for both types of companies?"
   ],
   "metadata": {}
  },
  {
   "cell_type": "code",
   "execution_count": 10,
   "source": [
    "# company[['Company Size','Net Income (M$)']]\n",
    "sns.factorplot(data = company[['Company Size','Net Income (M$)']],\n",
    "               x = 'Company Size',\n",
    "               y = 'Net Income (M$)',\n",
    "               kind = 'box',\n",
    "               )\n",
    "plt.text(-0.4,12500,'Small companies\\' net income\\n is fewer and less vary than\\n those of large companies.', bbox = {'fc': 'white', 'ec': 'black'},style='italic', fontsize=12)\n",
    "plt.title('Net income by company size')\n",
    "plt.show()"
   ],
   "outputs": [
    {
     "output_type": "stream",
     "name": "stderr",
     "text": [
      "/Users/suwarath/opt/anaconda3/lib/python3.8/site-packages/seaborn/categorical.py:3714: UserWarning: The `factorplot` function has been renamed to `catplot`. The original name will be removed in a future release. Please update your code. Note that the default `kind` in `factorplot` (`'point'`) has changed `'strip'` in `catplot`.\n",
      "  warnings.warn(msg)\n"
     ]
    },
    {
     "output_type": "display_data",
     "data": {
      "image/png": "[encoded data removed]",
      "text/plain": [
       "<Figure size 360x360 with 1 Axes>"
      ]
     },
     "metadata": {}
    }
   ],
   "metadata": {}
  },
  {
   "cell_type": "markdown",
   "source": [
    "### 1.6. (3 points) A better way to assess the performance of companies is to look at their `Return on Assets` instead of looking only at net income. The return on assets indicates how much profit the company generates relative to the amount that it invested to make profits. \n",
    "\n",
    "- Create a new numerical variable (call it `Return on Assets`) based on the formula: **Return on Assets = Net Income/Total Assets**. \n",
    "\n",
    "- What is the shape of the distribution of the variable `Return on Assets`? For this question, you are expected to create **both** a histogram and a boxplot, and comment about the shape of the distribution and if there are any companies with an outlier return on assets value.\n",
    "\n",
    "- Create a side-by-side boxplot to compare the distribtution of `Return on Assets` for both Large and Small companies. What does this graph tell you about the return on assets for both types of companies?"
   ],
   "metadata": {}
  },
  {
   "cell_type": "code",
   "execution_count": 11,
   "source": [
    "company['Return on Assets'] = company['Net Income (M$)']/company['Total Assets (M$)']\n",
    "\n",
    "fig, axes = plt.subplots(1, 3, figsize=(20, 7))\n",
    "sns.histplot(data = company['Return on Assets'], ax = axes[0])\n",
    "sns.boxplot(data = company[['Return on Assets']], y = 'Return on Assets', ax = axes[1])\n",
    "sns.boxplot(data = company[['Company Size','Return on Assets']], x = 'Company Size', y = 'Return on Assets', ax = axes[2])\n",
    "axes[0].set_title('Histogram of ROA')\n",
    "axes[1].set_title('Boxplot of ROA')\n",
    "axes[2].set_title('ROA by company size')\n",
    "\n",
    "fig.suptitle('Return on Assets (ROA) analysis', fontsize = 16)\n",
    "axes[0].text(-0.55, 30, 'Distribution of ROA\\n is left-skewed.', style='italic', fontsize=12,\n",
    "        bbox= { 'facecolor':'white', 'ec': 'black'} )\n",
    "axes[1].text(-0.45, -0.4, 'There are many \\noutliers that below \\nthe reasonable range.', style='italic', fontsize=12,\n",
    "        bbox= { 'facecolor':'white', 'ec': 'black'} )\n",
    "axes[2].text(-0.4, -0.4, 'Small company\\'s ROA is \\nnormally distributed with\\nonly one outlier. \\nIn contrast, large company\\'s \\nROA is more vary and has\\nmany outliers.', style='italic', fontsize=12,\n",
    "        bbox= { 'facecolor':'white', 'ec': 'black'} )\n"
   ],
   "outputs": [
    {
     "output_type": "execute_result",
     "data": {
      "text/plain": [
       "Text(-0.4, -0.4, \"Small company's ROA is \\nnormally distributed with\\nonly one outlier. \\nIn contrast, large company's \\nROA is more vary and has\\nmany outliers.\")"
      ]
     },
     "metadata": {},
     "execution_count": 11
    },
    {
     "output_type": "display_data",
     "data": {
      "image/png": "[encoded data removed]",
      "text/plain": [
       "<Figure size 1440x504 with 3 Axes>"
      ]
     },
     "metadata": {}
    }
   ],
   "metadata": {}
  },
  {
   "cell_type": "markdown",
   "source": [
    "### 1.7. (1 point) Which company has the least return on assets?"
   ],
   "metadata": {}
  },
  {
   "cell_type": "code",
   "execution_count": 12,
   "source": [
    "company.loc[company['Return on Assets'].idxmin(),['Company Name']]"
   ],
   "outputs": [
    {
     "output_type": "execute_result",
     "data": {
      "text/plain": [
       "Company Name    SCHOOL SPECIALTY INC\n",
       "Name: 123, dtype: object"
      ]
     },
     "metadata": {},
     "execution_count": 12
    }
   ],
   "metadata": {}
  },
  {
   "cell_type": "markdown",
   "source": [
    "## Problem 2: Data Analytics Jobs in the USA\n",
    "\n",
    "Soon you will start getting ready to explore the job market for data analyst/data scientist positions (internship and full time). In this case study, we will assess the job market in the USA, and in particular, we are interested to learn which business sectors and companies are looking to hire data analysts in different US states. This should get you started with your internship search for Summer 2022.\n",
    "\n",
    "The data set (`DataAnalyst.csv`) is available for download from blackboard. It is scrapped and cleaned from GlassDoor using this [web scrapper](https://github.com/picklesueat/data_jobs_data/blob/master/glass_scraper.py). We will learn how to scrap data from the web in the second half of the semester.\n",
    "\n",
    "The dataset has a sample of 2,253 job listings. The following table describes some of the variables necessary to answer the questions in this quiz:\n",
    "\n",
    "|**Variables**    |**Explanation**|\n",
    "|:-----------------|:--------------|\n",
    "|`Job Title`| listing's job title\n",
    "|`Job Description`| listing's job description\n",
    "|`Rating`| the company's rating on Glassdoor\n",
    "|`Company Name` | the listing company's name\n",
    "|`City` | city location of the company \n",
    "|`State`| state location of the company\n",
    "|`Size` | number of employees in the company \n",
    "|`Founded`| the year the company was founded\n",
    "|`Type of ownership`| is the company private, public, non-profit, etc.?\n",
    "|`Industry`| primary business activity \n",
    "|`Sector`| economic sector classification for the company\n",
    "|`Revenue`| company's income generated from business operations\n",
    "|`Competitors`| the company's list of competitors\n",
    "|`Min_Salary`| the minimum salary listing for the position\n",
    "|`Max_Salary`| the maximum salary listing for the position\n",
    "\n",
    "**In this homework, we assume that the sample of 2,253 job listings is a representative of the population of job listings in the USA.**"
   ],
   "metadata": {}
  },
  {
   "cell_type": "code",
   "execution_count": 13,
   "source": [
    "DataAnalyst = pd.read_csv('DataAnalyst.csv')\n",
    "DataAnalyst.head()"
   ],
   "outputs": [
    {
     "output_type": "execute_result",
     "data": {
      "text/html": [
       "<div>\n",
       "<style scoped>\n",
       "    .dataframe tbody tr th:only-of-type {\n",
       "        vertical-align: middle;\n",
       "    }\n",
       "\n",
       "    .dataframe tbody tr th {\n",
       "        vertical-align: top;\n",
       "    }\n",
       "\n",
       "    .dataframe thead th {\n",
       "        text-align: right;\n",
       "    }\n",
       "</style>\n",
       "<table border=\"1\" class=\"dataframe\">\n",
       "  <thead>\n",
       "    <tr style=\"text-align: right;\">\n",
       "      <th></th>\n",
       "      <th>Job Title</th>\n",
       "      <th>Job Description</th>\n",
       "      <th>Rating</th>\n",
       "      <th>Company Name</th>\n",
       "      <th>City</th>\n",
       "      <th>State</th>\n",
       "      <th>Size</th>\n",
       "      <th>Founded</th>\n",
       "      <th>Type of ownership</th>\n",
       "      <th>Industry</th>\n",
       "      <th>Sector</th>\n",
       "      <th>Revenue</th>\n",
       "      <th>Competitors</th>\n",
       "      <th>Min_Salary</th>\n",
       "      <th>Max_Salary</th>\n",
       "    </tr>\n",
       "  </thead>\n",
       "  <tbody>\n",
       "    <tr>\n",
       "      <th>0</th>\n",
       "      <td>Data Analyst, Center on Immigration and Justic...</td>\n",
       "      <td>Are you eager to roll up your sleeves and harn...</td>\n",
       "      <td>3.2</td>\n",
       "      <td>Vera Institute of Justice</td>\n",
       "      <td>New York</td>\n",
       "      <td>NY</td>\n",
       "      <td>201 to 500 employees</td>\n",
       "      <td>1961.0</td>\n",
       "      <td>Nonprofit Organization</td>\n",
       "      <td>Social Assistance</td>\n",
       "      <td>Non-Profit</td>\n",
       "      <td>$100 to $500 million (USD)</td>\n",
       "      <td>NaN</td>\n",
       "      <td>37</td>\n",
       "      <td>66</td>\n",
       "    </tr>\n",
       "    <tr>\n",
       "      <th>1</th>\n",
       "      <td>Quality Data Analyst</td>\n",
       "      <td>Overview\\n\\nProvides analytical and technical ...</td>\n",
       "      <td>3.8</td>\n",
       "      <td>Visiting Nurse Service of New York</td>\n",
       "      <td>New York</td>\n",
       "      <td>NY</td>\n",
       "      <td>10000+ employees</td>\n",
       "      <td>1893.0</td>\n",
       "      <td>Nonprofit Organization</td>\n",
       "      <td>Health Care Services &amp; Hospitals</td>\n",
       "      <td>Health Care</td>\n",
       "      <td>$2 to $5 billion (USD)</td>\n",
       "      <td>NaN</td>\n",
       "      <td>37</td>\n",
       "      <td>66</td>\n",
       "    </tr>\n",
       "    <tr>\n",
       "      <th>2</th>\n",
       "      <td>Senior Data Analyst, Insights &amp; Analytics Team...</td>\n",
       "      <td>We’re looking for a Senior Data Analyst who ha...</td>\n",
       "      <td>3.4</td>\n",
       "      <td>Squarespace</td>\n",
       "      <td>New York</td>\n",
       "      <td>NY</td>\n",
       "      <td>1001 to 5000 employees</td>\n",
       "      <td>2003.0</td>\n",
       "      <td>Company - Private</td>\n",
       "      <td>Internet</td>\n",
       "      <td>Information Technology</td>\n",
       "      <td>Unknown / Non-Applicable</td>\n",
       "      <td>GoDaddy</td>\n",
       "      <td>37</td>\n",
       "      <td>66</td>\n",
       "    </tr>\n",
       "    <tr>\n",
       "      <th>3</th>\n",
       "      <td>Data Analyst</td>\n",
       "      <td>Requisition NumberRR-0001939\\nRemote:Yes\\nWe c...</td>\n",
       "      <td>4.1</td>\n",
       "      <td>Celerity</td>\n",
       "      <td>New York</td>\n",
       "      <td>NY</td>\n",
       "      <td>201 to 500 employees</td>\n",
       "      <td>2002.0</td>\n",
       "      <td>Subsidiary or Business Segment</td>\n",
       "      <td>IT Services</td>\n",
       "      <td>Information Technology</td>\n",
       "      <td>$50 to $100 million (USD)</td>\n",
       "      <td>NaN</td>\n",
       "      <td>37</td>\n",
       "      <td>66</td>\n",
       "    </tr>\n",
       "    <tr>\n",
       "      <th>4</th>\n",
       "      <td>Reporting Data Analyst</td>\n",
       "      <td>ABOUT FANDUEL GROUP\\n\\nFanDuel Group is a worl...</td>\n",
       "      <td>3.9</td>\n",
       "      <td>FanDuel</td>\n",
       "      <td>New York</td>\n",
       "      <td>NY</td>\n",
       "      <td>501 to 1000 employees</td>\n",
       "      <td>2009.0</td>\n",
       "      <td>Company - Private</td>\n",
       "      <td>Sports &amp; Recreation</td>\n",
       "      <td>Arts, Entertainment &amp; Recreation</td>\n",
       "      <td>$100 to $500 million (USD)</td>\n",
       "      <td>DraftKings</td>\n",
       "      <td>37</td>\n",
       "      <td>66</td>\n",
       "    </tr>\n",
       "  </tbody>\n",
       "</table>\n",
       "</div>"
      ],
      "text/plain": [
       "                                           Job Title  \\\n",
       "0  Data Analyst, Center on Immigration and Justic...   \n",
       "1                               Quality Data Analyst   \n",
       "2  Senior Data Analyst, Insights & Analytics Team...   \n",
       "3                                       Data Analyst   \n",
       "4                             Reporting Data Analyst   \n",
       "\n",
       "                                     Job Description  Rating  \\\n",
       "0  Are you eager to roll up your sleeves and harn...     3.2   \n",
       "1  Overview\\n\\nProvides analytical and technical ...     3.8   \n",
       "2  We’re looking for a Senior Data Analyst who ha...     3.4   \n",
       "3  Requisition NumberRR-0001939\\nRemote:Yes\\nWe c...     4.1   \n",
       "4  ABOUT FANDUEL GROUP\\n\\nFanDuel Group is a worl...     3.9   \n",
       "\n",
       "                         Company Name      City State                    Size  \\\n",
       "0           Vera Institute of Justice  New York    NY    201 to 500 employees   \n",
       "1  Visiting Nurse Service of New York  New York    NY        10000+ employees   \n",
       "2                         Squarespace  New York    NY  1001 to 5000 employees   \n",
       "3                            Celerity  New York    NY    201 to 500 employees   \n",
       "4                             FanDuel  New York    NY   501 to 1000 employees   \n",
       "\n",
       "   Founded               Type of ownership                          Industry  \\\n",
       "0   1961.0          Nonprofit Organization                 Social Assistance   \n",
       "1   1893.0          Nonprofit Organization  Health Care Services & Hospitals   \n",
       "2   2003.0               Company - Private                          Internet   \n",
       "3   2002.0  Subsidiary or Business Segment                       IT Services   \n",
       "4   2009.0               Company - Private               Sports & Recreation   \n",
       "\n",
       "                             Sector                     Revenue Competitors  \\\n",
       "0                        Non-Profit  $100 to $500 million (USD)         NaN   \n",
       "1                       Health Care      $2 to $5 billion (USD)         NaN   \n",
       "2            Information Technology    Unknown / Non-Applicable     GoDaddy   \n",
       "3            Information Technology   $50 to $100 million (USD)         NaN   \n",
       "4  Arts, Entertainment & Recreation  $100 to $500 million (USD)  DraftKings   \n",
       "\n",
       "   Min_Salary  Max_Salary  \n",
       "0          37          66  \n",
       "1          37          66  \n",
       "2          37          66  \n",
       "3          37          66  \n",
       "4          37          66  "
      ]
     },
     "metadata": {},
     "execution_count": 13
    }
   ],
   "metadata": {}
  },
  {
   "cell_type": "markdown",
   "source": [
    "### 2.1 (1 point) What are the top 4 sectors with the highest count of job listings?"
   ],
   "metadata": {}
  },
  {
   "cell_type": "code",
   "execution_count": 14,
   "source": [
    "DataAnalyst['Sector'].value_counts().head(4)"
   ],
   "outputs": [
    {
     "output_type": "execute_result",
     "data": {
      "text/plain": [
       "Information Technology    570\n",
       "Business Services         524\n",
       "Finance                   169\n",
       "Health Care               151\n",
       "Name: Sector, dtype: int64"
      ]
     },
     "metadata": {},
     "execution_count": 14
    }
   ],
   "metadata": {}
  },
  {
   "cell_type": "markdown",
   "source": [
    "### 2.2. (1 point) Suppose that you want to focus your job search in the following sectors (Information Technology, Business Services, Finance,  Health Care). Create a subset of the given dataset that include only these 4 sectors with their data (include all variables).\n",
    "\n",
    "*Name the subset dataframe `mydata`.*"
   ],
   "metadata": {}
  },
  {
   "cell_type": "code",
   "execution_count": 15,
   "source": [
    "mydata = DataAnalyst[DataAnalyst['Sector'].isin(['Information Technology', 'Business Services', 'Finance',  'Health Care'])]\n",
    "mydata.head()"
   ],
   "outputs": [
    {
     "output_type": "execute_result",
     "data": {
      "text/html": [
       "<div>\n",
       "<style scoped>\n",
       "    .dataframe tbody tr th:only-of-type {\n",
       "        vertical-align: middle;\n",
       "    }\n",
       "\n",
       "    .dataframe tbody tr th {\n",
       "        vertical-align: top;\n",
       "    }\n",
       "\n",
       "    .dataframe thead th {\n",
       "        text-align: right;\n",
       "    }\n",
       "</style>\n",
       "<table border=\"1\" class=\"dataframe\">\n",
       "  <thead>\n",
       "    <tr style=\"text-align: right;\">\n",
       "      <th></th>\n",
       "      <th>Job Title</th>\n",
       "      <th>Job Description</th>\n",
       "      <th>Rating</th>\n",
       "      <th>Company Name</th>\n",
       "      <th>City</th>\n",
       "      <th>State</th>\n",
       "      <th>Size</th>\n",
       "      <th>Founded</th>\n",
       "      <th>Type of ownership</th>\n",
       "      <th>Industry</th>\n",
       "      <th>Sector</th>\n",
       "      <th>Revenue</th>\n",
       "      <th>Competitors</th>\n",
       "      <th>Min_Salary</th>\n",
       "      <th>Max_Salary</th>\n",
       "    </tr>\n",
       "  </thead>\n",
       "  <tbody>\n",
       "    <tr>\n",
       "      <th>1</th>\n",
       "      <td>Quality Data Analyst</td>\n",
       "      <td>Overview\\n\\nProvides analytical and technical ...</td>\n",
       "      <td>3.8</td>\n",
       "      <td>Visiting Nurse Service of New York</td>\n",
       "      <td>New York</td>\n",
       "      <td>NY</td>\n",
       "      <td>10000+ employees</td>\n",
       "      <td>1893.0</td>\n",
       "      <td>Nonprofit Organization</td>\n",
       "      <td>Health Care Services &amp; Hospitals</td>\n",
       "      <td>Health Care</td>\n",
       "      <td>$2 to $5 billion (USD)</td>\n",
       "      <td>NaN</td>\n",
       "      <td>37</td>\n",
       "      <td>66</td>\n",
       "    </tr>\n",
       "    <tr>\n",
       "      <th>2</th>\n",
       "      <td>Senior Data Analyst, Insights &amp; Analytics Team...</td>\n",
       "      <td>We’re looking for a Senior Data Analyst who ha...</td>\n",
       "      <td>3.4</td>\n",
       "      <td>Squarespace</td>\n",
       "      <td>New York</td>\n",
       "      <td>NY</td>\n",
       "      <td>1001 to 5000 employees</td>\n",
       "      <td>2003.0</td>\n",
       "      <td>Company - Private</td>\n",
       "      <td>Internet</td>\n",
       "      <td>Information Technology</td>\n",
       "      <td>Unknown / Non-Applicable</td>\n",
       "      <td>GoDaddy</td>\n",
       "      <td>37</td>\n",
       "      <td>66</td>\n",
       "    </tr>\n",
       "    <tr>\n",
       "      <th>3</th>\n",
       "      <td>Data Analyst</td>\n",
       "      <td>Requisition NumberRR-0001939\\nRemote:Yes\\nWe c...</td>\n",
       "      <td>4.1</td>\n",
       "      <td>Celerity</td>\n",
       "      <td>New York</td>\n",
       "      <td>NY</td>\n",
       "      <td>201 to 500 employees</td>\n",
       "      <td>2002.0</td>\n",
       "      <td>Subsidiary or Business Segment</td>\n",
       "      <td>IT Services</td>\n",
       "      <td>Information Technology</td>\n",
       "      <td>$50 to $100 million (USD)</td>\n",
       "      <td>NaN</td>\n",
       "      <td>37</td>\n",
       "      <td>66</td>\n",
       "    </tr>\n",
       "    <tr>\n",
       "      <th>5</th>\n",
       "      <td>Data Analyst</td>\n",
       "      <td>About Cubist\\nCubist Systematic Strategies is ...</td>\n",
       "      <td>3.9</td>\n",
       "      <td>Point72</td>\n",
       "      <td>New York</td>\n",
       "      <td>NY</td>\n",
       "      <td>1001 to 5000 employees</td>\n",
       "      <td>2014.0</td>\n",
       "      <td>Company - Private</td>\n",
       "      <td>Investment Banking &amp; Asset Management</td>\n",
       "      <td>Finance</td>\n",
       "      <td>Unknown / Non-Applicable</td>\n",
       "      <td>NaN</td>\n",
       "      <td>37</td>\n",
       "      <td>66</td>\n",
       "    </tr>\n",
       "    <tr>\n",
       "      <th>6</th>\n",
       "      <td>Business/Data Analyst (FP&amp;A)</td>\n",
       "      <td>Two Sigma is a different kind of investment ma...</td>\n",
       "      <td>4.4</td>\n",
       "      <td>Two Sigma</td>\n",
       "      <td>New York</td>\n",
       "      <td>NY</td>\n",
       "      <td>1001 to 5000 employees</td>\n",
       "      <td>2001.0</td>\n",
       "      <td>Company - Private</td>\n",
       "      <td>Investment Banking &amp; Asset Management</td>\n",
       "      <td>Finance</td>\n",
       "      <td>Unknown / Non-Applicable</td>\n",
       "      <td>NaN</td>\n",
       "      <td>37</td>\n",
       "      <td>66</td>\n",
       "    </tr>\n",
       "  </tbody>\n",
       "</table>\n",
       "</div>"
      ],
      "text/plain": [
       "                                           Job Title  \\\n",
       "1                               Quality Data Analyst   \n",
       "2  Senior Data Analyst, Insights & Analytics Team...   \n",
       "3                                       Data Analyst   \n",
       "5                                       Data Analyst   \n",
       "6                       Business/Data Analyst (FP&A)   \n",
       "\n",
       "                                     Job Description  Rating  \\\n",
       "1  Overview\\n\\nProvides analytical and technical ...     3.8   \n",
       "2  We’re looking for a Senior Data Analyst who ha...     3.4   \n",
       "3  Requisition NumberRR-0001939\\nRemote:Yes\\nWe c...     4.1   \n",
       "5  About Cubist\\nCubist Systematic Strategies is ...     3.9   \n",
       "6  Two Sigma is a different kind of investment ma...     4.4   \n",
       "\n",
       "                         Company Name      City State                    Size  \\\n",
       "1  Visiting Nurse Service of New York  New York    NY        10000+ employees   \n",
       "2                         Squarespace  New York    NY  1001 to 5000 employees   \n",
       "3                            Celerity  New York    NY    201 to 500 employees   \n",
       "5                             Point72  New York    NY  1001 to 5000 employees   \n",
       "6                           Two Sigma  New York    NY  1001 to 5000 employees   \n",
       "\n",
       "   Founded               Type of ownership  \\\n",
       "1   1893.0          Nonprofit Organization   \n",
       "2   2003.0               Company - Private   \n",
       "3   2002.0  Subsidiary or Business Segment   \n",
       "5   2014.0               Company - Private   \n",
       "6   2001.0               Company - Private   \n",
       "\n",
       "                                Industry                  Sector  \\\n",
       "1       Health Care Services & Hospitals             Health Care   \n",
       "2                               Internet  Information Technology   \n",
       "3                            IT Services  Information Technology   \n",
       "5  Investment Banking & Asset Management                 Finance   \n",
       "6  Investment Banking & Asset Management                 Finance   \n",
       "\n",
       "                     Revenue Competitors  Min_Salary  Max_Salary  \n",
       "1     $2 to $5 billion (USD)         NaN          37          66  \n",
       "2   Unknown / Non-Applicable     GoDaddy          37          66  \n",
       "3  $50 to $100 million (USD)         NaN          37          66  \n",
       "5   Unknown / Non-Applicable         NaN          37          66  \n",
       "6   Unknown / Non-Applicable         NaN          37          66  "
      ]
     },
     "metadata": {},
     "execution_count": 15
    }
   ],
   "metadata": {}
  },
  {
   "cell_type": "markdown",
   "source": [
    "### 2.3 (2 points) You are given the range of salary for each job listing (minimum and maximum salary). Add a new variable to `mydata` to estimate the salary of the for each of the listing in the dataset. The estimate salary is the average of the given minimum and maximum salary.\n",
    "\n",
    "*Name the the new column `Est_Salary`.*\n",
    "\n",
    "What is the **average**, and **standard deviation** for the estimated salary among the 4 sectors listed in `mydata` dataframe?"
   ],
   "metadata": {}
  },
  {
   "cell_type": "code",
   "execution_count": 16,
   "source": [
    "mydata['Est_Salary'] = (mydata['Max_Salary']+mydata['Min_Salary'])/2"
   ],
   "outputs": [
    {
     "output_type": "stream",
     "name": "stderr",
     "text": [
      "/var/folders/1c/xy5l3bvx653590381s90cwv80000gn/T/ipykernel_3653/1521362959.py:1: SettingWithCopyWarning: \n",
      "A value is trying to be set on a copy of a slice from a DataFrame.\n",
      "Try using .loc[row_indexer,col_indexer] = value instead\n",
      "\n",
      "See the caveats in the documentation: https://pandas.pydata.org/pandas-docs/stable/user_guide/indexing.html#returning-a-view-versus-a-copy\n",
      "  mydata['Est_Salary'] = (mydata['Max_Salary']+mydata['Min_Salary'])/2\n"
     ]
    }
   ],
   "metadata": {}
  },
  {
   "cell_type": "code",
   "execution_count": 17,
   "source": [
    "Est_Salary_mean = mydata['Est_Salary'].mean()\n",
    "Est_Salary_std = mydata['Est_Salary'].std()\n",
    "\n",
    "print(f'Average of Est_Salary is {Est_Salary_mean}. Standard Diviation of Est_Salary is {Est_Salary_std}.')"
   ],
   "outputs": [
    {
     "output_type": "stream",
     "name": "stdout",
     "text": [
      "Average of Est_Salary is 72.52192362093352. Standard Diviation of Est_Salary is 24.240090092766003.\n"
     ]
    }
   ],
   "metadata": {}
  },
  {
   "cell_type": "markdown",
   "source": [
    "### 2.4 (2 points) Create a side-by-side boxplot to show the distribution of salaries among the four hiring sectors (listed in `mydata`). What does the boxplot tell you about the salaries in these industries for data analysts?"
   ],
   "metadata": {}
  },
  {
   "cell_type": "code",
   "execution_count": 18,
   "source": [
    "plt.figure(figsize = (7,7))\n",
    "ax = sns.boxplot(data = mydata, x = 'Sector', y = 'Est_Salary')\n",
    "plt.text(3.7,80,\n",
    "         'From the graph, we can observe an error in data \\nwhich indicate that expected salaries is 0.\\n\\\n",
    "Thus, we will ignore this 0 point for our analysis.\\n\\\n",
    "The minimum of expected salaries for Data Analysts \\nin all four sectors is around $35K.\\\n",
    "Moreover, the median \\nof expected salaries all four is approximately $70K.\\n\\\n",
    "On the other hand, variety in expected salaries for \\neach industries is different.'\n",
    "         ,va = 'center',style='italic', fontsize=12\n",
    "         ,bbox= { 'facecolor':'white', 'ec': 'black'})\n",
    "plt.show()"
   ],
   "outputs": [
    {
     "output_type": "display_data",
     "data": {
      "image/png": "[encoded data removed]",
      "text/plain": [
       "<Figure size 504x504 with 1 Axes>"
      ]
     },
     "metadata": {}
    }
   ],
   "metadata": {}
  },
  {
   "cell_type": "markdown",
   "source": [
    "### 2.5 (2 points) List the company names (distinct) in the **Information Technology** sector has job postings with estimated salaries above 100K dollars?"
   ],
   "metadata": {}
  },
  {
   "cell_type": "code",
   "execution_count": 19,
   "source": [
    "mydata['Company Name'][(mydata['Sector'].isin(['Information Technology'])) & (mydata['Est_Salary'] > 100)].drop_duplicates().reset_index()"
   ],
   "outputs": [
    {
     "output_type": "execute_result",
     "data": {
      "text/html": [
       "<div>\n",
       "<style scoped>\n",
       "    .dataframe tbody tr th:only-of-type {\n",
       "        vertical-align: middle;\n",
       "    }\n",
       "\n",
       "    .dataframe tbody tr th {\n",
       "        vertical-align: top;\n",
       "    }\n",
       "\n",
       "    .dataframe thead th {\n",
       "        text-align: right;\n",
       "    }\n",
       "</style>\n",
       "<table border=\"1\" class=\"dataframe\">\n",
       "  <thead>\n",
       "    <tr style=\"text-align: right;\">\n",
       "      <th></th>\n",
       "      <th>index</th>\n",
       "      <th>Company Name</th>\n",
       "    </tr>\n",
       "  </thead>\n",
       "  <tbody>\n",
       "    <tr>\n",
       "      <th>0</th>\n",
       "      <td>340</td>\n",
       "      <td>Criteo</td>\n",
       "    </tr>\n",
       "    <tr>\n",
       "      <th>1</th>\n",
       "      <td>344</td>\n",
       "      <td>Tekfortune Inc.</td>\n",
       "    </tr>\n",
       "    <tr>\n",
       "      <th>2</th>\n",
       "      <td>346</td>\n",
       "      <td>Staffigo Technical Services, LLC</td>\n",
       "    </tr>\n",
       "    <tr>\n",
       "      <th>3</th>\n",
       "      <td>347</td>\n",
       "      <td>8K Miles Software Services, Inc.</td>\n",
       "    </tr>\n",
       "    <tr>\n",
       "      <th>4</th>\n",
       "      <td>349</td>\n",
       "      <td>VTS</td>\n",
       "    </tr>\n",
       "    <tr>\n",
       "      <th>5</th>\n",
       "      <td>361</td>\n",
       "      <td>RMS Computer Corporation</td>\n",
       "    </tr>\n",
       "    <tr>\n",
       "      <th>6</th>\n",
       "      <td>370</td>\n",
       "      <td>Reliable Software Resources</td>\n",
       "    </tr>\n",
       "    <tr>\n",
       "      <th>7</th>\n",
       "      <td>378</td>\n",
       "      <td>Oracle</td>\n",
       "    </tr>\n",
       "    <tr>\n",
       "      <th>8</th>\n",
       "      <td>380</td>\n",
       "      <td>Avani Technology Solutions</td>\n",
       "    </tr>\n",
       "    <tr>\n",
       "      <th>9</th>\n",
       "      <td>381</td>\n",
       "      <td>Primesoft</td>\n",
       "    </tr>\n",
       "    <tr>\n",
       "      <th>10</th>\n",
       "      <td>386</td>\n",
       "      <td>Systemart LLC</td>\n",
       "    </tr>\n",
       "    <tr>\n",
       "      <th>11</th>\n",
       "      <td>388</td>\n",
       "      <td>TechProjects</td>\n",
       "    </tr>\n",
       "    <tr>\n",
       "      <th>12</th>\n",
       "      <td>702</td>\n",
       "      <td>Information Technology Partners</td>\n",
       "    </tr>\n",
       "    <tr>\n",
       "      <th>13</th>\n",
       "      <td>714</td>\n",
       "      <td>TikTok</td>\n",
       "    </tr>\n",
       "    <tr>\n",
       "      <th>14</th>\n",
       "      <td>839</td>\n",
       "      <td>Synchronous Solutions, Inc</td>\n",
       "    </tr>\n",
       "    <tr>\n",
       "      <th>15</th>\n",
       "      <td>840</td>\n",
       "      <td>HR Pundits</td>\n",
       "    </tr>\n",
       "    <tr>\n",
       "      <th>16</th>\n",
       "      <td>842</td>\n",
       "      <td>Softpath System LLC</td>\n",
       "    </tr>\n",
       "    <tr>\n",
       "      <th>17</th>\n",
       "      <td>844</td>\n",
       "      <td>Motorola Solutions</td>\n",
       "    </tr>\n",
       "    <tr>\n",
       "      <th>18</th>\n",
       "      <td>846</td>\n",
       "      <td>Capgemini</td>\n",
       "    </tr>\n",
       "    <tr>\n",
       "      <th>19</th>\n",
       "      <td>1469</td>\n",
       "      <td>NVIDIA</td>\n",
       "    </tr>\n",
       "    <tr>\n",
       "      <th>20</th>\n",
       "      <td>1470</td>\n",
       "      <td>Risk Management Solutions (RMS)</td>\n",
       "    </tr>\n",
       "    <tr>\n",
       "      <th>21</th>\n",
       "      <td>1471</td>\n",
       "      <td>LeanData</td>\n",
       "    </tr>\n",
       "    <tr>\n",
       "      <th>22</th>\n",
       "      <td>1472</td>\n",
       "      <td>Alteryx</td>\n",
       "    </tr>\n",
       "    <tr>\n",
       "      <th>23</th>\n",
       "      <td>1476</td>\n",
       "      <td>L&amp;T Infotech</td>\n",
       "    </tr>\n",
       "    <tr>\n",
       "      <th>24</th>\n",
       "      <td>1477</td>\n",
       "      <td>IntraEdge</td>\n",
       "    </tr>\n",
       "    <tr>\n",
       "      <th>25</th>\n",
       "      <td>1480</td>\n",
       "      <td>Joomag, Inc.</td>\n",
       "    </tr>\n",
       "    <tr>\n",
       "      <th>26</th>\n",
       "      <td>1484</td>\n",
       "      <td>Moveworks</td>\n",
       "    </tr>\n",
       "    <tr>\n",
       "      <th>27</th>\n",
       "      <td>1485</td>\n",
       "      <td>Ursus</td>\n",
       "    </tr>\n",
       "    <tr>\n",
       "      <th>28</th>\n",
       "      <td>1486</td>\n",
       "      <td>Nuro</td>\n",
       "    </tr>\n",
       "    <tr>\n",
       "      <th>29</th>\n",
       "      <td>1487</td>\n",
       "      <td>TalentBurst, Inc.</td>\n",
       "    </tr>\n",
       "    <tr>\n",
       "      <th>30</th>\n",
       "      <td>1489</td>\n",
       "      <td>BayOne Solutions</td>\n",
       "    </tr>\n",
       "    <tr>\n",
       "      <th>31</th>\n",
       "      <td>1491</td>\n",
       "      <td>Logic Planet</td>\n",
       "    </tr>\n",
       "    <tr>\n",
       "      <th>32</th>\n",
       "      <td>1492</td>\n",
       "      <td>Netflix</td>\n",
       "    </tr>\n",
       "    <tr>\n",
       "      <th>33</th>\n",
       "      <td>1496</td>\n",
       "      <td>Diverse Lynx</td>\n",
       "    </tr>\n",
       "    <tr>\n",
       "      <th>34</th>\n",
       "      <td>1497</td>\n",
       "      <td>Adwait Algorithm</td>\n",
       "    </tr>\n",
       "    <tr>\n",
       "      <th>35</th>\n",
       "      <td>1498</td>\n",
       "      <td>Netflix, Inc.</td>\n",
       "    </tr>\n",
       "    <tr>\n",
       "      <th>36</th>\n",
       "      <td>1500</td>\n",
       "      <td>Apple</td>\n",
       "    </tr>\n",
       "    <tr>\n",
       "      <th>37</th>\n",
       "      <td>1505</td>\n",
       "      <td>Collabera</td>\n",
       "    </tr>\n",
       "    <tr>\n",
       "      <th>38</th>\n",
       "      <td>1507</td>\n",
       "      <td>Crystal Equation</td>\n",
       "    </tr>\n",
       "    <tr>\n",
       "      <th>39</th>\n",
       "      <td>1508</td>\n",
       "      <td>Frontend Arts</td>\n",
       "    </tr>\n",
       "    <tr>\n",
       "      <th>40</th>\n",
       "      <td>1510</td>\n",
       "      <td>Poshmark</td>\n",
       "    </tr>\n",
       "    <tr>\n",
       "      <th>41</th>\n",
       "      <td>1513</td>\n",
       "      <td>Zolon Tech Solutions Inc.</td>\n",
       "    </tr>\n",
       "    <tr>\n",
       "      <th>42</th>\n",
       "      <td>1519</td>\n",
       "      <td>Lodestone</td>\n",
       "    </tr>\n",
       "    <tr>\n",
       "      <th>43</th>\n",
       "      <td>1520</td>\n",
       "      <td>SAP</td>\n",
       "    </tr>\n",
       "    <tr>\n",
       "      <th>44</th>\n",
       "      <td>1521</td>\n",
       "      <td>Calsoft Labs</td>\n",
       "    </tr>\n",
       "    <tr>\n",
       "      <th>45</th>\n",
       "      <td>1917</td>\n",
       "      <td>Coinbase</td>\n",
       "    </tr>\n",
       "    <tr>\n",
       "      <th>46</th>\n",
       "      <td>1918</td>\n",
       "      <td>Trifacta</td>\n",
       "    </tr>\n",
       "    <tr>\n",
       "      <th>47</th>\n",
       "      <td>1919</td>\n",
       "      <td>Wilbur Labs</td>\n",
       "    </tr>\n",
       "    <tr>\n",
       "      <th>48</th>\n",
       "      <td>1921</td>\n",
       "      <td>User Testing</td>\n",
       "    </tr>\n",
       "    <tr>\n",
       "      <th>49</th>\n",
       "      <td>1929</td>\n",
       "      <td>Priceonomics</td>\n",
       "    </tr>\n",
       "    <tr>\n",
       "      <th>50</th>\n",
       "      <td>1931</td>\n",
       "      <td>BOLD</td>\n",
       "    </tr>\n",
       "    <tr>\n",
       "      <th>51</th>\n",
       "      <td>1933</td>\n",
       "      <td>Flatiron Health</td>\n",
       "    </tr>\n",
       "    <tr>\n",
       "      <th>52</th>\n",
       "      <td>1941</td>\n",
       "      <td>Twitter</td>\n",
       "    </tr>\n",
       "    <tr>\n",
       "      <th>53</th>\n",
       "      <td>1949</td>\n",
       "      <td>Evolver, Inc.</td>\n",
       "    </tr>\n",
       "    <tr>\n",
       "      <th>54</th>\n",
       "      <td>1950</td>\n",
       "      <td>Lyft</td>\n",
       "    </tr>\n",
       "    <tr>\n",
       "      <th>55</th>\n",
       "      <td>1954</td>\n",
       "      <td>Scale AI</td>\n",
       "    </tr>\n",
       "    <tr>\n",
       "      <th>56</th>\n",
       "      <td>1957</td>\n",
       "      <td>Softova Inc</td>\n",
       "    </tr>\n",
       "    <tr>\n",
       "      <th>57</th>\n",
       "      <td>1958</td>\n",
       "      <td>LeadStack</td>\n",
       "    </tr>\n",
       "    <tr>\n",
       "      <th>58</th>\n",
       "      <td>1961</td>\n",
       "      <td>TaskRabbit</td>\n",
       "    </tr>\n",
       "  </tbody>\n",
       "</table>\n",
       "</div>"
      ],
      "text/plain": [
       "    index                      Company Name\n",
       "0     340                            Criteo\n",
       "1     344                   Tekfortune Inc.\n",
       "2     346  Staffigo Technical Services, LLC\n",
       "3     347  8K Miles Software Services, Inc.\n",
       "4     349                               VTS\n",
       "5     361          RMS Computer Corporation\n",
       "6     370       Reliable Software Resources\n",
       "7     378                            Oracle\n",
       "8     380        Avani Technology Solutions\n",
       "9     381                         Primesoft\n",
       "10    386                     Systemart LLC\n",
       "11    388                      TechProjects\n",
       "12    702   Information Technology Partners\n",
       "13    714                            TikTok\n",
       "14    839        Synchronous Solutions, Inc\n",
       "15    840                        HR Pundits\n",
       "16    842               Softpath System LLC\n",
       "17    844                Motorola Solutions\n",
       "18    846                         Capgemini\n",
       "19   1469                            NVIDIA\n",
       "20   1470   Risk Management Solutions (RMS)\n",
       "21   1471                          LeanData\n",
       "22   1472                           Alteryx\n",
       "23   1476                      L&T Infotech\n",
       "24   1477                         IntraEdge\n",
       "25   1480                      Joomag, Inc.\n",
       "26   1484                         Moveworks\n",
       "27   1485                             Ursus\n",
       "28   1486                              Nuro\n",
       "29   1487                 TalentBurst, Inc.\n",
       "30   1489                  BayOne Solutions\n",
       "31   1491                      Logic Planet\n",
       "32   1492                           Netflix\n",
       "33   1496                      Diverse Lynx\n",
       "34   1497                  Adwait Algorithm\n",
       "35   1498                     Netflix, Inc.\n",
       "36   1500                             Apple\n",
       "37   1505                         Collabera\n",
       "38   1507                  Crystal Equation\n",
       "39   1508                     Frontend Arts\n",
       "40   1510                          Poshmark\n",
       "41   1513         Zolon Tech Solutions Inc.\n",
       "42   1519                         Lodestone\n",
       "43   1520                               SAP\n",
       "44   1521                      Calsoft Labs\n",
       "45   1917                          Coinbase\n",
       "46   1918                          Trifacta\n",
       "47   1919                       Wilbur Labs\n",
       "48   1921                      User Testing\n",
       "49   1929                      Priceonomics\n",
       "50   1931                              BOLD\n",
       "51   1933                   Flatiron Health\n",
       "52   1941                           Twitter\n",
       "53   1949                     Evolver, Inc.\n",
       "54   1950                              Lyft\n",
       "55   1954                          Scale AI\n",
       "56   1957                       Softova Inc\n",
       "57   1958                         LeadStack\n",
       "58   1961                        TaskRabbit"
      ]
     },
     "metadata": {},
     "execution_count": 19
    }
   ],
   "metadata": {}
  },
  {
   "cell_type": "markdown",
   "source": [
    "### 2.6 (3 points) Use the dataset with the 4 sectors (`mydata`) to create a dot plot (lollipop plot) that shows the top 15 states with the highest average salaries.\n",
    "\n",
    "*Name the dataframe `top15states`*\n",
    "\n",
    "*The resulting dataframe should have two columns (`State`, `Avg Salary`), where `Avg Salary` is the mean salary in the corresponding `State`*\n",
    "\n",
    "*Use two different colors of your choice to distingusih between the states with avegrage salary larger than \\$75K and thos with average salary less than \\$75K.* "
   ],
   "metadata": {}
  },
  {
   "cell_type": "code",
   "execution_count": 20,
   "source": [
    "top15states = (mydata.loc[:,['State','Est_Salary']]).groupby('State').mean().sort_values('Est_Salary', ascending = False).reset_index().head(15)\n",
    "top15states.columns = ['State','Avg Salary']\n",
    "# top15states"
   ],
   "outputs": [],
   "metadata": {}
  },
  {
   "cell_type": "code",
   "execution_count": 21,
   "source": [
    "plt.style.use('default')\n",
    "color = ['#fc8d62' if i < 75 else '#66c2a5' for i in top15states['Avg Salary']]\n",
    "plt.hlines(y = top15states['State'], xmin = 0, xmax = top15states['Avg Salary'], colors = color)\n",
    "plt.scatter(top15states['Avg Salary'], top15states['State'], color = color)\n",
    "plt.title('Top 15 states with the highest average salaries')\n",
    "plt.show()"
   ],
   "outputs": [
    {
     "output_type": "display_data",
     "data": {
      "image/png": "[encoded data removed]",
      "text/plain": [
       "<Figure size 640x480 with 1 Axes>"
      ]
     },
     "metadata": {}
    }
   ],
   "metadata": {}
  }
 ],
 "metadata": {
  "colab": {
   "name": "Homework01-dso545-fall21.ipynb",
   "provenance": []
  },
  "kernelspec": {
   "name": "python3",
   "display_name": "Python 3.8.8 64-bit ('base': conda)"
  },
  "language_info": {
   "codemirror_mode": {
    "name": "ipython",
    "version": 3
   },
   "file_extension": ".py",
   "mimetype": "text/x-python",
   "name": "python",
   "nbconvert_exporter": "python",
   "pygments_lexer": "ipython3",
   "version": "3.8.8"
  },
  "varInspector": {
   "cols": {
    "lenName": 16,
    "lenType": 16,
    "lenVar": 40
   },
   "kernels_config": {
    "python": {
     "delete_cmd_postfix": "",
     "delete_cmd_prefix": "del ",
     "library": "var_list.py",
     "varRefreshCmd": "print(var_dic_list())"
    },
    "r": {
     "delete_cmd_postfix": ") ",
     "delete_cmd_prefix": "rm(",
     "library": "var_list.r",
     "varRefreshCmd": "cat(var_dic_list()) "
    }
   },
   "types_to_exclude": [
    "module",
    "function",
    "builtin_function_or_method",
    "instance",
    "_Feature"
   ],
   "window_display": false
  },
  "interpreter": {
   "hash": "a5cdaf32c2e8bec21917e924e9bfc5d049804a384a6f55861ea7049aa878018a"
  }
 },
 "nbformat": 4,
 "nbformat_minor": 1
}