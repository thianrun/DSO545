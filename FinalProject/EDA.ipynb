{
 "cells": [
  {
   "cell_type": "code",
   "execution_count": 37,
   "metadata": {},
   "outputs": [],
   "source": [
    "import pandas as pd\n",
    "import numpy as np\n",
    "import matplotlib.pyplot as plt\n",
    "import plotly.express as px\n",
    "import plotly.graph_objects as go \n",
    "import datetime\n",
    "import ast"
   ]
  },
  {
   "cell_type": "code",
   "execution_count": 38,
   "metadata": {},
   "outputs": [
    {
     "data": {
      "text/html": [
       "<div>\n",
       "<style scoped>\n",
       "    .dataframe tbody tr th:only-of-type {\n",
       "        vertical-align: middle;\n",
       "    }\n",
       "\n",
       "    .dataframe tbody tr th {\n",
       "        vertical-align: top;\n",
       "    }\n",
       "\n",
       "    .dataframe thead th {\n",
       "        text-align: right;\n",
       "    }\n",
       "</style>\n",
       "<table border=\"1\" class=\"dataframe\">\n",
       "  <thead>\n",
       "    <tr style=\"text-align: right;\">\n",
       "      <th></th>\n",
       "      <th>comments</th>\n",
       "      <th>description</th>\n",
       "      <th>duration</th>\n",
       "      <th>event</th>\n",
       "      <th>film_date</th>\n",
       "      <th>languages</th>\n",
       "      <th>main_speaker</th>\n",
       "      <th>name</th>\n",
       "      <th>num_speaker</th>\n",
       "      <th>published_date</th>\n",
       "      <th>ratings</th>\n",
       "      <th>related_talks</th>\n",
       "      <th>speaker_occupation</th>\n",
       "      <th>tags</th>\n",
       "      <th>title</th>\n",
       "      <th>url</th>\n",
       "      <th>views</th>\n",
       "    </tr>\n",
       "  </thead>\n",
       "  <tbody>\n",
       "    <tr>\n",
       "      <th>0</th>\n",
       "      <td>4553</td>\n",
       "      <td>Sir Ken Robinson makes an entertaining and pro...</td>\n",
       "      <td>1164</td>\n",
       "      <td>TED2006</td>\n",
       "      <td>2006-02-25</td>\n",
       "      <td>60</td>\n",
       "      <td>Ken Robinson</td>\n",
       "      <td>Ken Robinson: Do schools kill creativity?</td>\n",
       "      <td>1</td>\n",
       "      <td>2006-02-25</td>\n",
       "      <td>[{'id': 7, 'name': 'Funny', 'count': 19645}, {...</td>\n",
       "      <td>[{'id': 865, 'hero': 'https://pe.tedcdn.com/im...</td>\n",
       "      <td>Author/educator</td>\n",
       "      <td>['children', 'creativity', 'culture', 'dance',...</td>\n",
       "      <td>Do schools kill creativity?</td>\n",
       "      <td>https://www.ted.com/talks/ken_robinson_says_sc...</td>\n",
       "      <td>47227110</td>\n",
       "    </tr>\n",
       "    <tr>\n",
       "      <th>1</th>\n",
       "      <td>265</td>\n",
       "      <td>With the same humor and humanity he exuded in ...</td>\n",
       "      <td>977</td>\n",
       "      <td>TED2006</td>\n",
       "      <td>2006-02-25</td>\n",
       "      <td>43</td>\n",
       "      <td>Al Gore</td>\n",
       "      <td>Al Gore: Averting the climate crisis</td>\n",
       "      <td>1</td>\n",
       "      <td>2006-02-25</td>\n",
       "      <td>[{'id': 7, 'name': 'Funny', 'count': 544}, {'i...</td>\n",
       "      <td>[{'id': 243, 'hero': 'https://pe.tedcdn.com/im...</td>\n",
       "      <td>Climate advocate</td>\n",
       "      <td>['alternative energy', 'cars', 'climate change...</td>\n",
       "      <td>Averting the climate crisis</td>\n",
       "      <td>https://www.ted.com/talks/al_gore_on_averting_...</td>\n",
       "      <td>3200520</td>\n",
       "    </tr>\n",
       "    <tr>\n",
       "      <th>2</th>\n",
       "      <td>124</td>\n",
       "      <td>New York Times columnist David Pogue takes aim...</td>\n",
       "      <td>1286</td>\n",
       "      <td>TED2006</td>\n",
       "      <td>2006-02-24</td>\n",
       "      <td>26</td>\n",
       "      <td>David Pogue</td>\n",
       "      <td>David Pogue: Simplicity sells</td>\n",
       "      <td>1</td>\n",
       "      <td>2006-02-24</td>\n",
       "      <td>[{'id': 7, 'name': 'Funny', 'count': 964}, {'i...</td>\n",
       "      <td>[{'id': 1725, 'hero': 'https://pe.tedcdn.com/i...</td>\n",
       "      <td>Technology columnist</td>\n",
       "      <td>['computers', 'entertainment', 'interface desi...</td>\n",
       "      <td>Simplicity sells</td>\n",
       "      <td>https://www.ted.com/talks/david_pogue_says_sim...</td>\n",
       "      <td>1636292</td>\n",
       "    </tr>\n",
       "    <tr>\n",
       "      <th>3</th>\n",
       "      <td>200</td>\n",
       "      <td>In an emotionally charged talk, MacArthur-winn...</td>\n",
       "      <td>1116</td>\n",
       "      <td>TED2006</td>\n",
       "      <td>2006-02-26</td>\n",
       "      <td>35</td>\n",
       "      <td>Majora Carter</td>\n",
       "      <td>Majora Carter: Greening the ghetto</td>\n",
       "      <td>1</td>\n",
       "      <td>2006-02-26</td>\n",
       "      <td>[{'id': 3, 'name': 'Courageous', 'count': 760}...</td>\n",
       "      <td>[{'id': 1041, 'hero': 'https://pe.tedcdn.com/i...</td>\n",
       "      <td>Activist for environmental justice</td>\n",
       "      <td>['MacArthur grant', 'activism', 'business', 'c...</td>\n",
       "      <td>Greening the ghetto</td>\n",
       "      <td>https://www.ted.com/talks/majora_carter_s_tale...</td>\n",
       "      <td>1697550</td>\n",
       "    </tr>\n",
       "    <tr>\n",
       "      <th>4</th>\n",
       "      <td>593</td>\n",
       "      <td>You've never seen data presented like this. Wi...</td>\n",
       "      <td>1190</td>\n",
       "      <td>TED2006</td>\n",
       "      <td>2006-02-22</td>\n",
       "      <td>48</td>\n",
       "      <td>Hans Rosling</td>\n",
       "      <td>Hans Rosling: The best stats you've ever seen</td>\n",
       "      <td>1</td>\n",
       "      <td>2006-02-22</td>\n",
       "      <td>[{'id': 9, 'name': 'Ingenious', 'count': 3202}...</td>\n",
       "      <td>[{'id': 2056, 'hero': 'https://pe.tedcdn.com/i...</td>\n",
       "      <td>Global health expert; data visionary</td>\n",
       "      <td>['Africa', 'Asia', 'Google', 'demo', 'economic...</td>\n",
       "      <td>The best stats you've ever seen</td>\n",
       "      <td>https://www.ted.com/talks/hans_rosling_shows_t...</td>\n",
       "      <td>12005869</td>\n",
       "    </tr>\n",
       "  </tbody>\n",
       "</table>\n",
       "</div>"
      ],
      "text/plain": [
       "   comments                                        description  duration  \\\n",
       "0      4553  Sir Ken Robinson makes an entertaining and pro...      1164   \n",
       "1       265  With the same humor and humanity he exuded in ...       977   \n",
       "2       124  New York Times columnist David Pogue takes aim...      1286   \n",
       "3       200  In an emotionally charged talk, MacArthur-winn...      1116   \n",
       "4       593  You've never seen data presented like this. Wi...      1190   \n",
       "\n",
       "     event  film_date  languages   main_speaker  \\\n",
       "0  TED2006 2006-02-25         60   Ken Robinson   \n",
       "1  TED2006 2006-02-25         43        Al Gore   \n",
       "2  TED2006 2006-02-24         26    David Pogue   \n",
       "3  TED2006 2006-02-26         35  Majora Carter   \n",
       "4  TED2006 2006-02-22         48   Hans Rosling   \n",
       "\n",
       "                                            name  num_speaker published_date  \\\n",
       "0      Ken Robinson: Do schools kill creativity?            1     2006-02-25   \n",
       "1           Al Gore: Averting the climate crisis            1     2006-02-25   \n",
       "2                  David Pogue: Simplicity sells            1     2006-02-24   \n",
       "3             Majora Carter: Greening the ghetto            1     2006-02-26   \n",
       "4  Hans Rosling: The best stats you've ever seen            1     2006-02-22   \n",
       "\n",
       "                                             ratings  \\\n",
       "0  [{'id': 7, 'name': 'Funny', 'count': 19645}, {...   \n",
       "1  [{'id': 7, 'name': 'Funny', 'count': 544}, {'i...   \n",
       "2  [{'id': 7, 'name': 'Funny', 'count': 964}, {'i...   \n",
       "3  [{'id': 3, 'name': 'Courageous', 'count': 760}...   \n",
       "4  [{'id': 9, 'name': 'Ingenious', 'count': 3202}...   \n",
       "\n",
       "                                       related_talks  \\\n",
       "0  [{'id': 865, 'hero': 'https://pe.tedcdn.com/im...   \n",
       "1  [{'id': 243, 'hero': 'https://pe.tedcdn.com/im...   \n",
       "2  [{'id': 1725, 'hero': 'https://pe.tedcdn.com/i...   \n",
       "3  [{'id': 1041, 'hero': 'https://pe.tedcdn.com/i...   \n",
       "4  [{'id': 2056, 'hero': 'https://pe.tedcdn.com/i...   \n",
       "\n",
       "                     speaker_occupation  \\\n",
       "0                       Author/educator   \n",
       "1                      Climate advocate   \n",
       "2                  Technology columnist   \n",
       "3    Activist for environmental justice   \n",
       "4  Global health expert; data visionary   \n",
       "\n",
       "                                                tags  \\\n",
       "0  ['children', 'creativity', 'culture', 'dance',...   \n",
       "1  ['alternative energy', 'cars', 'climate change...   \n",
       "2  ['computers', 'entertainment', 'interface desi...   \n",
       "3  ['MacArthur grant', 'activism', 'business', 'c...   \n",
       "4  ['Africa', 'Asia', 'Google', 'demo', 'economic...   \n",
       "\n",
       "                             title  \\\n",
       "0      Do schools kill creativity?   \n",
       "1      Averting the climate crisis   \n",
       "2                 Simplicity sells   \n",
       "3              Greening the ghetto   \n",
       "4  The best stats you've ever seen   \n",
       "\n",
       "                                                 url     views  \n",
       "0  https://www.ted.com/talks/ken_robinson_says_sc...  47227110  \n",
       "1  https://www.ted.com/talks/al_gore_on_averting_...   3200520  \n",
       "2  https://www.ted.com/talks/david_pogue_says_sim...   1636292  \n",
       "3  https://www.ted.com/talks/majora_carter_s_tale...   1697550  \n",
       "4  https://www.ted.com/talks/hans_rosling_shows_t...  12005869  "
      ]
     },
     "execution_count": 38,
     "metadata": {},
     "output_type": "execute_result"
    }
   ],
   "source": [
    "# Import data\n",
    "ted_talk = pd.read_csv('ted_main.csv')\n",
    "ted_talk['film_date'] = pd.to_datetime(ted_talk['film_date'],unit = 's')\n",
    "ted_talk['published_date'] = pd.to_datetime(ted_talk['film_date'],unit = 's')\n",
    "ted_talk.head()"
   ]
  },
  {
   "cell_type": "markdown",
   "metadata": {},
   "source": [
    "# EDA"
   ]
  },
  {
   "cell_type": "markdown",
   "metadata": {},
   "source": [
    "### 1. Find Null value"
   ]
  },
  {
   "cell_type": "code",
   "execution_count": 39,
   "metadata": {},
   "outputs": [
    {
     "name": "stdout",
     "output_type": "stream",
     "text": [
      "<class 'pandas.core.frame.DataFrame'>\n",
      "RangeIndex: 2550 entries, 0 to 2549\n",
      "Data columns (total 17 columns):\n",
      " #   Column              Non-Null Count  Dtype         \n",
      "---  ------              --------------  -----         \n",
      " 0   comments            2550 non-null   int64         \n",
      " 1   description         2550 non-null   object        \n",
      " 2   duration            2550 non-null   int64         \n",
      " 3   event               2550 non-null   object        \n",
      " 4   film_date           2550 non-null   datetime64[ns]\n",
      " 5   languages           2550 non-null   int64         \n",
      " 6   main_speaker        2550 non-null   object        \n",
      " 7   name                2550 non-null   object        \n",
      " 8   num_speaker         2550 non-null   int64         \n",
      " 9   published_date      2550 non-null   datetime64[ns]\n",
      " 10  ratings             2550 non-null   object        \n",
      " 11  related_talks       2550 non-null   object        \n",
      " 12  speaker_occupation  2544 non-null   object        \n",
      " 13  tags                2550 non-null   object        \n",
      " 14  title               2550 non-null   object        \n",
      " 15  url                 2550 non-null   object        \n",
      " 16  views               2550 non-null   int64         \n",
      "dtypes: datetime64[ns](2), int64(5), object(10)\n",
      "memory usage: 338.8+ KB\n"
     ]
    }
   ],
   "source": [
    "# Overall Data\n",
    "ted_talk.info()"
   ]
  },
  {
   "cell_type": "code",
   "execution_count": 40,
   "metadata": {},
   "outputs": [
    {
     "data": {
      "text/plain": [
       "comments              0\n",
       "description           0\n",
       "duration              0\n",
       "event                 0\n",
       "film_date             0\n",
       "languages             0\n",
       "main_speaker          0\n",
       "name                  0\n",
       "num_speaker           0\n",
       "published_date        0\n",
       "ratings               0\n",
       "related_talks         0\n",
       "speaker_occupation    6\n",
       "tags                  0\n",
       "title                 0\n",
       "url                   0\n",
       "views                 0\n",
       "dtype: int64"
      ]
     },
     "execution_count": 40,
     "metadata": {},
     "output_type": "execute_result"
    }
   ],
   "source": [
    "# Find Null or NA value\n",
    "\n",
    "ted_talk.isna().sum()"
   ]
  },
  {
   "cell_type": "markdown",
   "metadata": {},
   "source": [
    "The data has 2550 records, 17 columns. There is no null value in this data set"
   ]
  },
  {
   "cell_type": "markdown",
   "metadata": {},
   "source": [
    "### 2. Distribution of the data"
   ]
  },
  {
   "cell_type": "markdown",
   "metadata": {},
   "source": [
    "#### Comment"
   ]
  },
  {
   "cell_type": "code",
   "execution_count": 41,
   "metadata": {},
   "outputs": [
    {
     "data": {
      "application/vnd.plotly.v1+json": {
       "config": {
        "plotlyServerURL": "https://plot.ly"
       },
       "data": [
        {
         "alignmentgroup": "True",
         "hovertemplate": "comments=%{y}<extra></extra>",
         "legendgroup": "",
         "marker": {
          "color": "red"
         },
         "name": "",
         "notched": false,
         "offsetgroup": "",
         "orientation": "v",
         "showlegend": false,
         "type": "box",
         "x0": " ",
         "xaxis": "x",
         "y": [
          4553,
          265,
          124,
          200,
          593,
          672,
          919,
          46,
          852,
          900,
          79,
          55,
          71,
          242,
          99,
          325,
          305,
          88,
          163,
          84,
          108,
          185,
          50,
          556,
          117,
          184,
          507,
          95,
          355,
          970,
          991,
          213,
          612,
          74,
          58,
          43,
          67,
          186,
          57,
          112,
          58,
          33,
          105,
          494,
          233,
          149,
          52,
          578,
          95,
          199,
          85,
          499,
          371,
          59,
          203,
          130,
          47,
          91,
          222,
          111,
          28,
          64,
          226,
          97,
          89,
          107,
          161,
          220,
          114,
          88,
          130,
          49,
          86,
          107,
          50,
          78,
          40,
          27,
          84,
          131,
          127,
          34,
          47,
          335,
          143,
          57,
          39,
          34,
          501,
          296,
          231,
          58,
          58,
          75,
          50,
          588,
          6404,
          49,
          39,
          42,
          67,
          56,
          72,
          328,
          32,
          99,
          230,
          87,
          260,
          295,
          127,
          124,
          220,
          14,
          305,
          27,
          22,
          261,
          240,
          392,
          150,
          145,
          136,
          126,
          276,
          231,
          80,
          97,
          108,
          174,
          31,
          150,
          77,
          106,
          60,
          36,
          49,
          102,
          151,
          126,
          304,
          124,
          677,
          164,
          65,
          83,
          169,
          29,
          225,
          101,
          80,
          242,
          45,
          145,
          432,
          64,
          262,
          412,
          328,
          40,
          279,
          115,
          46,
          31,
          185,
          156,
          160,
          154,
          604,
          183,
          71,
          435,
          465,
          71,
          95,
          227,
          554,
          40,
          39,
          41,
          95,
          205,
          51,
          34,
          117,
          78,
          63,
          30,
          165,
          60,
          105,
          53,
          29,
          46,
          84,
          43,
          26,
          70,
          61,
          137,
          64,
          2877,
          9,
          231,
          456,
          69,
          67,
          156,
          251,
          67,
          82,
          39,
          68,
          551,
          664,
          258,
          87,
          92,
          51,
          145,
          534,
          292,
          39,
          32,
          356,
          69,
          82,
          303,
          211,
          537,
          111,
          60,
          76,
          49,
          139,
          358,
          57,
          43,
          174,
          76,
          85,
          218,
          102,
          83,
          131,
          119,
          638,
          43,
          42,
          50,
          38,
          197,
          49,
          41,
          43,
          166,
          64,
          59,
          87,
          229,
          791,
          583,
          669,
          224,
          15,
          137,
          70,
          79,
          36,
          233,
          93,
          66,
          16,
          272,
          90,
          80,
          109,
          134,
          45,
          55,
          174,
          92,
          99,
          54,
          91,
          62,
          151,
          62,
          85,
          56,
          66,
          68,
          12,
          219,
          838,
          97,
          102,
          45,
          383,
          166,
          39,
          218,
          81,
          41,
          172,
          53,
          33,
          180,
          53,
          15,
          93,
          278,
          23,
          43,
          120,
          111,
          29,
          243,
          40,
          212,
          87,
          41,
          37,
          76,
          99,
          30,
          152,
          46,
          82,
          30,
          27,
          108,
          139,
          65,
          57,
          45,
          29,
          80,
          51,
          89,
          36,
          255,
          36,
          226,
          33,
          63,
          66,
          92,
          127,
          19,
          31,
          58,
          111,
          43,
          230,
          99,
          42,
          94,
          116,
          84,
          116,
          26,
          24,
          124,
          50,
          24,
          68,
          42,
          89,
          51,
          36,
          22,
          117,
          35,
          144,
          42,
          67,
          50,
          53,
          90,
          468,
          1604,
          21,
          147,
          505,
          448,
          135,
          204,
          168,
          201,
          59,
          165,
          30,
          74,
          127,
          91,
          156,
          61,
          409,
          194,
          45,
          768,
          223,
          152,
          179,
          267,
          280,
          104,
          121,
          233,
          115,
          119,
          91,
          269,
          60,
          39,
          109,
          117,
          18,
          294,
          23,
          252,
          420,
          147,
          92,
          389,
          144,
          103,
          271,
          55,
          113,
          64,
          33,
          238,
          20,
          202,
          130,
          112,
          92,
          107,
          142,
          99,
          80,
          846,
          277,
          266,
          138,
          125,
          133,
          88,
          109,
          324,
          354,
          181,
          62,
          591,
          588,
          313,
          103,
          287,
          323,
          145,
          143,
          55,
          126,
          172,
          69,
          112,
          72,
          182,
          103,
          344,
          642,
          110,
          135,
          166,
          93,
          42,
          60,
          398,
          172,
          423,
          26,
          101,
          80,
          144,
          473,
          54,
          81,
          155,
          301,
          514,
          471,
          85,
          621,
          103,
          752,
          403,
          141,
          210,
          1094,
          428,
          122,
          123,
          99,
          118,
          91,
          125,
          60,
          288,
          110,
          386,
          146,
          91,
          227,
          108,
          328,
          91,
          96,
          110,
          292,
          171,
          52,
          185,
          64,
          311,
          70,
          158,
          111,
          248,
          1155,
          234,
          149,
          57,
          178,
          286,
          343,
          184,
          133,
          89,
          207,
          233,
          112,
          270,
          156,
          259,
          72,
          46,
          152,
          61,
          124,
          75,
          70,
          1329,
          50,
          55,
          477,
          88,
          276,
          199,
          148,
          595,
          402,
          193,
          146,
          150,
          39,
          552,
          69,
          56,
          64,
          171,
          97,
          96,
          174,
          56,
          115,
          140,
          184,
          168,
          307,
          105,
          93,
          380,
          58,
          304,
          42,
          74,
          124,
          204,
          87,
          93,
          277,
          43,
          20,
          120,
          296,
          35,
          151,
          104,
          133,
          177,
          111,
          37,
          472,
          144,
          238,
          356,
          113,
          95,
          68,
          171,
          36,
          196,
          1137,
          209,
          250,
          266,
          948,
          142,
          277,
          110,
          383,
          68,
          189,
          321,
          425,
          90,
          112,
          146,
          197,
          216,
          258,
          90,
          210,
          317,
          164,
          556,
          101,
          82,
          101,
          1309,
          104,
          73,
          3356,
          76,
          146,
          180,
          180,
          74,
          270,
          152,
          137,
          422,
          795,
          368,
          266,
          140,
          183,
          59,
          192,
          2272,
          117,
          140,
          65,
          152,
          77,
          1545,
          38,
          181,
          89,
          150,
          278,
          84,
          79,
          279,
          206,
          1930,
          292,
          120,
          64,
          314,
          304,
          98,
          454,
          233,
          373,
          585,
          650,
          68,
          212,
          580,
          1234,
          304,
          1502,
          139,
          85,
          88,
          227,
          342,
          477,
          228,
          142,
          393,
          86,
          491,
          921,
          149,
          837,
          223,
          62,
          683,
          155,
          363,
          135,
          147,
          287,
          138,
          294,
          118,
          69,
          179,
          254,
          127,
          296,
          150,
          607,
          368,
          459,
          141,
          1217,
          926,
          804,
          274,
          581,
          113,
          959,
          123,
          218,
          58,
          613,
          173,
          169,
          538,
          649,
          207,
          99,
          287,
          295,
          285,
          236,
          404,
          66,
          175,
          137,
          396,
          568,
          215,
          582,
          175,
          626,
          70,
          90,
          97,
          237,
          331,
          484,
          241,
          125,
          60,
          209,
          359,
          40,
          105,
          159,
          229,
          40,
          141,
          411,
          68,
          233,
          266,
          364,
          35,
          342,
          505,
          954,
          322,
          77,
          69,
          148,
          225,
          718,
          266,
          259,
          135,
          63,
          190,
          264,
          91,
          83,
          144,
          343,
          834,
          58,
          124,
          226,
          156,
          74,
          850,
          146,
          134,
          579,
          388,
          52,
          305,
          31,
          140,
          187,
          589,
          189,
          767,
          366,
          297,
          233,
          117,
          209,
          893,
          220,
          831,
          301,
          219,
          291,
          473,
          153,
          868,
          68,
          1927,
          272,
          409,
          2374,
          214,
          207,
          592,
          205,
          250,
          179,
          322,
          616,
          342,
          142,
          356,
          55,
          114,
          920,
          98,
          132,
          146,
          58,
          76,
          98,
          168,
          350,
          89,
          283,
          189,
          79,
          229,
          93,
          84,
          347,
          165,
          76,
          107,
          273,
          38,
          555,
          82,
          97,
          163,
          378,
          190,
          231,
          249,
          202,
          548,
          370,
          134,
          226,
          239,
          163,
          109,
          645,
          268,
          232,
          773,
          226,
          71,
          353,
          214,
          102,
          289,
          270,
          86,
          278,
          110,
          154,
          158,
          207,
          32,
          542,
          221,
          134,
          324,
          273,
          529,
          480,
          290,
          69,
          394,
          328,
          78,
          140,
          236,
          119,
          507,
          149,
          80,
          144,
          363,
          162,
          213,
          94,
          299,
          124,
          69,
          170,
          143,
          427,
          95,
          309,
          115,
          79,
          97,
          165,
          615,
          72,
          121,
          169,
          93,
          333,
          188,
          135,
          189,
          2492,
          383,
          241,
          339,
          123,
          281,
          199,
          121,
          226,
          100,
          279,
          220,
          78,
          85,
          235,
          471,
          232,
          199,
          92,
          736,
          159,
          197,
          216,
          164,
          123,
          264,
          316,
          199,
          222,
          621,
          292,
          440,
          212,
          238,
          212,
          162,
          351,
          189,
          375,
          405,
          75,
          656,
          300,
          131,
          82,
          311,
          131,
          380,
          63,
          143,
          323,
          156,
          174,
          78,
          109,
          245,
          159,
          374,
          185,
          167,
          148,
          161,
          126,
          592,
          318,
          102,
          144,
          227,
          231,
          155,
          53,
          339,
          117,
          514,
          153,
          371,
          1627,
          316,
          42,
          252,
          107,
          58,
          561,
          259,
          359,
          301,
          88,
          84,
          148,
          1058,
          233,
          311,
          142,
          70,
          138,
          310,
          106,
          250,
          93,
          46,
          90,
          188,
          104,
          93,
          104,
          262,
          254,
          118,
          495,
          120,
          307,
          196,
          160,
          240,
          223,
          157,
          103,
          131,
          203,
          298,
          172,
          217,
          332,
          97,
          219,
          84,
          186,
          91,
          308,
          117,
          417,
          113,
          75,
          138,
          86,
          224,
          155,
          176,
          48,
          130,
          119,
          363,
          110,
          231,
          108,
          168,
          166,
          295,
          270,
          161,
          70,
          41,
          211,
          170,
          57,
          161,
          45,
          325,
          43,
          145,
          1328,
          110,
          689,
          110,
          195,
          76,
          375,
          230,
          100,
          507,
          65,
          104,
          113,
          626,
          187,
          754,
          63,
          71,
          136,
          80,
          245,
          86,
          180,
          94,
          78,
          111,
          267,
          70,
          101,
          353,
          15,
          42,
          44,
          36,
          775,
          80,
          305,
          96,
          181,
          110,
          151,
          100,
          90,
          212,
          24,
          27,
          445,
          786,
          376,
          1155,
          717,
          247,
          844,
          216,
          324,
          123,
          939,
          152,
          428,
          62,
          145,
          497,
          241,
          707,
          84,
          99,
          514,
          162,
          407,
          96,
          59,
          202,
          361,
          486,
          104,
          234,
          98,
          86,
          122,
          76,
          587,
          111,
          82,
          177,
          175,
          419,
          168,
          619,
          650,
          148,
          124,
          191,
          135,
          62,
          129,
          53,
          763,
          409,
          224,
          208,
          157,
          398,
          130,
          79,
          374,
          68,
          257,
          208,
          269,
          59,
          128,
          92,
          67,
          240,
          151,
          73,
          182,
          240,
          101,
          213,
          79,
          68,
          196,
          67,
          85,
          491,
          76,
          108,
          253,
          294,
          56,
          130,
          79,
          38,
          109,
          245,
          208,
          456,
          120,
          378,
          104,
          63,
          138,
          68,
          216,
          75,
          78,
          375,
          104,
          159,
          308,
          76,
          186,
          104,
          61,
          63,
          158,
          150,
          87,
          109,
          156,
          254,
          309,
          211,
          56,
          102,
          211,
          554,
          198,
          108,
          458,
          48,
          165,
          45,
          197,
          138,
          89,
          140,
          277,
          66,
          67,
          203,
          227,
          135,
          404,
          131,
          89,
          43,
          463,
          168,
          473,
          64,
          117,
          148,
          203,
          466,
          231,
          203,
          223,
          526,
          75,
          170,
          82,
          439,
          91,
          98,
          63,
          78,
          49,
          109,
          159,
          169,
          96,
          455,
          96,
          82,
          78,
          211,
          165,
          128,
          94,
          91,
          81,
          169,
          260,
          45,
          202,
          180,
          380,
          87,
          40,
          122,
          2290,
          125,
          179,
          94,
          31,
          46,
          62,
          225,
          350,
          32,
          150,
          92,
          119,
          127,
          111,
          115,
          102,
          141,
          151,
          109,
          361,
          58,
          79,
          77,
          169,
          300,
          105,
          44,
          69,
          107,
          76,
          170,
          197,
          82,
          41,
          309,
          136,
          87,
          667,
          782,
          329,
          221,
          342,
          74,
          183,
          238,
          129,
          102,
          145,
          84,
          94,
          107,
          200,
          72,
          112,
          82,
          183,
          75,
          215,
          810,
          200,
          311,
          56,
          226,
          197,
          134,
          54,
          366,
          127,
          169,
          846,
          93,
          659,
          120,
          818,
          73,
          800,
          144,
          143,
          411,
          103,
          229,
          93,
          312,
          249,
          210,
          99,
          166,
          122,
          301,
          473,
          158,
          206,
          342,
          162,
          145,
          137,
          117,
          129,
          548,
          279,
          838,
          1586,
          205,
          1413,
          208,
          720,
          1451,
          212,
          400,
          361,
          135,
          172,
          417,
          902,
          156,
          208,
          91,
          328,
          246,
          80,
          183,
          140,
          307,
          728,
          208,
          187,
          102,
          183,
          347,
          129,
          210,
          167,
          264,
          225,
          282,
          219,
          388,
          200,
          235,
          126,
          159,
          323,
          194,
          473,
          126,
          146,
          632,
          148,
          440,
          405,
          149,
          120,
          62,
          321,
          659,
          634,
          937,
          128,
          97,
          145,
          339,
          475,
          172,
          239,
          180,
          276,
          118,
          921,
          146,
          404,
          489,
          127,
          149,
          103,
          110,
          354,
          309,
          280,
          154,
          339,
          161,
          114,
          311,
          108,
          139,
          441,
          1000,
          63,
          109,
          223,
          1640,
          85,
          206,
          129,
          258,
          308,
          130,
          269,
          230,
          186,
          123,
          239,
          153,
          173,
          630,
          169,
          107,
          263,
          295,
          121,
          162,
          78,
          121,
          177,
          390,
          180,
          90,
          671,
          201,
          289,
          157,
          419,
          333,
          186,
          202,
          693,
          554,
          257,
          166,
          68,
          90,
          98,
          285,
          133,
          253,
          99,
          463,
          253,
          520,
          193,
          127,
          313,
          565,
          441,
          169,
          404,
          133,
          266,
          218,
          395,
          148,
          147,
          268,
          64,
          124,
          124,
          195,
          134,
          165,
          143,
          207,
          227,
          207,
          84,
          262,
          130,
          194,
          172,
          167,
          286,
          148,
          156,
          515,
          325,
          833,
          100,
          209,
          126,
          147,
          138,
          177,
          224,
          291,
          258,
          182,
          992,
          582,
          217,
          247,
          507,
          162,
          253,
          265,
          156,
          80,
          594,
          89,
          178,
          114,
          767,
          137,
          782,
          372,
          99,
          683,
          345,
          158,
          534,
          77,
          140,
          132,
          170,
          157,
          65,
          136,
          194,
          124,
          141,
          121,
          178,
          161,
          106,
          44,
          116,
          76,
          36,
          36,
          316,
          51,
          177,
          148,
          50,
          63,
          208,
          52,
          146,
          290,
          158,
          78,
          110,
          164,
          107,
          92,
          99,
          65,
          86,
          64,
          201,
          222,
          185,
          140,
          79,
          177,
          119,
          421,
          172,
          215,
          440,
          128,
          182,
          82,
          173,
          82,
          316,
          170,
          42,
          409,
          283,
          138,
          228,
          78,
          206,
          208,
          46,
          80,
          200,
          147,
          134,
          182,
          44,
          94,
          163,
          150,
          57,
          183,
          238,
          125,
          69,
          143,
          84,
          350,
          85,
          95,
          117,
          86,
          131,
          49,
          255,
          44,
          170,
          294,
          98,
          224,
          108,
          88,
          231,
          44,
          122,
          55,
          101,
          180,
          248,
          84,
          49,
          173,
          207,
          105,
          118,
          81,
          69,
          453,
          123,
          397,
          278,
          74,
          147,
          117,
          338,
          70,
          297,
          93,
          37,
          1234,
          101,
          133,
          100,
          67,
          76,
          335,
          171,
          2673,
          117,
          33,
          63,
          251,
          191,
          111,
          65,
          51,
          161,
          71,
          992,
          134,
          146,
          293,
          59,
          34,
          70,
          177,
          33,
          283,
          45,
          208,
          100,
          184,
          503,
          163,
          92,
          56,
          417,
          38,
          177,
          52,
          91,
          62,
          114,
          87,
          44,
          176,
          65,
          172,
          263,
          107,
          61,
          91,
          112,
          271,
          35,
          120,
          206,
          129,
          105,
          400,
          203,
          47,
          80,
          71,
          50,
          62,
          49,
          116,
          32,
          46,
          110,
          38,
          56,
          47,
          40,
          71,
          28,
          74,
          54,
          77,
          47,
          100,
          320,
          139,
          27,
          40,
          112,
          45,
          108,
          170,
          103,
          152,
          83,
          87,
          38,
          84,
          155,
          48,
          42,
          113,
          145,
          386,
          65,
          164,
          249,
          203,
          35,
          43,
          86,
          102,
          31,
          71,
          65,
          18,
          22,
          70,
          32,
          42,
          49,
          116,
          49,
          33,
          181,
          113,
          33,
          93,
          339,
          46,
          36,
          196,
          54,
          48,
          30,
          100,
          69,
          133,
          271,
          300,
          37,
          62,
          124,
          115,
          45,
          83,
          26,
          65,
          49,
          83,
          31,
          121,
          120,
          32,
          102,
          76,
          45,
          52,
          62,
          156,
          221,
          71,
          1355,
          185,
          123,
          108,
          51,
          86,
          68,
          42,
          213,
          70,
          171,
          192,
          98,
          176,
          46,
          19,
          78,
          169,
          237,
          149,
          305,
          38,
          101,
          171,
          29,
          363,
          174,
          62,
          206,
          486,
          104,
          100,
          50,
          33,
          82,
          131,
          109,
          170,
          64,
          73,
          240,
          370,
          69,
          72,
          271,
          93,
          63,
          166,
          92,
          92,
          141,
          145,
          214,
          45,
          378,
          59,
          95,
          112,
          288,
          43,
          75,
          165,
          52,
          198,
          186,
          66,
          227,
          108,
          78,
          42,
          59,
          767,
          120,
          91,
          201,
          69,
          22,
          27,
          138,
          316,
          143,
          49,
          524,
          265,
          244,
          33,
          65,
          55,
          79,
          142,
          71,
          36,
          119,
          21,
          31,
          58,
          62,
          68,
          109,
          57,
          80,
          97,
          244,
          21,
          74,
          64,
          164,
          149,
          181,
          77,
          90,
          128,
          12,
          120,
          162,
          32,
          76,
          489,
          164,
          42,
          75,
          155,
          38,
          76,
          37,
          115,
          45,
          50,
          126,
          217,
          43,
          22,
          80,
          57,
          37,
          30,
          129,
          32,
          70,
          56,
          102,
          44,
          50,
          57,
          303,
          46,
          75,
          49,
          65,
          149,
          81,
          63,
          160,
          37,
          21,
          219,
          46,
          36,
          28,
          75,
          76,
          35,
          69,
          147,
          37,
          52,
          88,
          39,
          44,
          527,
          167,
          45,
          92,
          43,
          150,
          48,
          96,
          67,
          72,
          25,
          52,
          90,
          56,
          44,
          299,
          19,
          64,
          24,
          105,
          67,
          42,
          129,
          20,
          38,
          169,
          58,
          36,
          110,
          114,
          102,
          215,
          143,
          150,
          61,
          362,
          422,
          17,
          57,
          184,
          36,
          26,
          68,
          139,
          171,
          138,
          83,
          28,
          50,
          89,
          120,
          77,
          310,
          214,
          166,
          47,
          101,
          56,
          87,
          33,
          125,
          93,
          335,
          92,
          23,
          135,
          35,
          73,
          45,
          155,
          64,
          149,
          140,
          139,
          65,
          45,
          36,
          107,
          73,
          31,
          77,
          35,
          48,
          61,
          29,
          139,
          40,
          67,
          24,
          15,
          64,
          120,
          74,
          96,
          43,
          38,
          28,
          107,
          35,
          68,
          212,
          51,
          372,
          70,
          34,
          26,
          36,
          39,
          71,
          28,
          60,
          44,
          42,
          69,
          103,
          60,
          70,
          49,
          23,
          18,
          49,
          43,
          70,
          73,
          59,
          30,
          24,
          36,
          126,
          30,
          40,
          65,
          353,
          112,
          30,
          38,
          55,
          30,
          59,
          80,
          65,
          25,
          68,
          49,
          134,
          75,
          45,
          56,
          19,
          107,
          74,
          49,
          44,
          43,
          11,
          105,
          62,
          35,
          100,
          28,
          20,
          102,
          88,
          42,
          46,
          145,
          58,
          46,
          26,
          84,
          203,
          266,
          60,
          95,
          58,
          73,
          34,
          10,
          35,
          66,
          23,
          20,
          490,
          36,
          39,
          72,
          56,
          109,
          13,
          83,
          29,
          32,
          25,
          24,
          86,
          39,
          24,
          84,
          45,
          38,
          93,
          49,
          31,
          18,
          6,
          326,
          146,
          128,
          11,
          23,
          8,
          90,
          121,
          214,
          18,
          58,
          106,
          48,
          45,
          37,
          82,
          71,
          93,
          69,
          291,
          99,
          43,
          13,
          65,
          53,
          40,
          79,
          42,
          44,
          34,
          76,
          85,
          52,
          90,
          135,
          35,
          40,
          240,
          53,
          76,
          92,
          45,
          116,
          43,
          58,
          18,
          43,
          31,
          266,
          360,
          14,
          128,
          92,
          31,
          54,
          59,
          29,
          20,
          34,
          105,
          133,
          66,
          125,
          308,
          51,
          33,
          36,
          41,
          33,
          53,
          93,
          30,
          270,
          345,
          52,
          44,
          22,
          100,
          6,
          74,
          22,
          19,
          13,
          191,
          197,
          28,
          66,
          60,
          80,
          37,
          33,
          101,
          70,
          5,
          37,
          22,
          29,
          12,
          83,
          44,
          22,
          39,
          56,
          57,
          11,
          15,
          56,
          42,
          56,
          22,
          54,
          33,
          35,
          70,
          11,
          18,
          55,
          27,
          30,
          25,
          32,
          67,
          53,
          23,
          235,
          22,
          51,
          250,
          92,
          80,
          35,
          49,
          13,
          115,
          23,
          15,
          105,
          70,
          41,
          259,
          64,
          48,
          183,
          12,
          54,
          35,
          27,
          33,
          35,
          34,
          18,
          10,
          20,
          35,
          21,
          20,
          28,
          65,
          55,
          21,
          41,
          14,
          8,
          60,
          31,
          62,
          26,
          29,
          66,
          27,
          48,
          51,
          12,
          29,
          26,
          135,
          21,
          11,
          15,
          59,
          7,
          39,
          15,
          17,
          40,
          46,
          19,
          3,
          20,
          20,
          18,
          47,
          36,
          6,
          20,
          15,
          50,
          8,
          14,
          26,
          14,
          24,
          18,
          35,
          20,
          14,
          81,
          13,
          12,
          20,
          9,
          18,
          39,
          17,
          3,
          45,
          12,
          18,
          25,
          9,
          2,
          8,
          21,
          39,
          7,
          10,
          33,
          12,
          3,
          7,
          10,
          17,
          6,
          10,
          32,
          8
         ],
         "y0": " ",
         "yaxis": "y"
        }
       ],
       "layout": {
        "boxmode": "group",
        "legend": {
         "tracegroupgap": 0
        },
        "template": {
         "data": {
          "bar": [
           {
            "error_x": {
             "color": "#f2f5fa"
            },
            "error_y": {
             "color": "#f2f5fa"
            },
            "marker": {
             "line": {
              "color": "rgb(17,17,17)",
              "width": 0.5
             },
             "pattern": {
              "fillmode": "overlay",
              "size": 10,
              "solidity": 0.2
             }
            },
            "type": "bar"
           }
          ],
          "barpolar": [
           {
            "marker": {
             "line": {
              "color": "rgb(17,17,17)",
              "width": 0.5
             },
             "pattern": {
              "fillmode": "overlay",
              "size": 10,
              "solidity": 0.2
             }
            },
            "type": "barpolar"
           }
          ],
          "carpet": [
           {
            "aaxis": {
             "endlinecolor": "#A2B1C6",
             "gridcolor": "#506784",
             "linecolor": "#506784",
             "minorgridcolor": "#506784",
             "startlinecolor": "#A2B1C6"
            },
            "baxis": {
             "endlinecolor": "#A2B1C6",
             "gridcolor": "#506784",
             "linecolor": "#506784",
             "minorgridcolor": "#506784",
             "startlinecolor": "#A2B1C6"
            },
            "type": "carpet"
           }
          ],
          "choropleth": [
           {
            "colorbar": {
             "outlinewidth": 0,
             "ticks": ""
            },
            "type": "choropleth"
           }
          ],
          "contour": [
           {
            "colorbar": {
             "outlinewidth": 0,
             "ticks": ""
            },
            "colorscale": [
             [
              0,
              "#0d0887"
             ],
             [
              0.1111111111111111,
              "#46039f"
             ],
             [
              0.2222222222222222,
              "#7201a8"
             ],
             [
              0.3333333333333333,
              "#9c179e"
             ],
             [
              0.4444444444444444,
              "#bd3786"
             ],
             [
              0.5555555555555556,
              "#d8576b"
             ],
             [
              0.6666666666666666,
              "#ed7953"
             ],
             [
              0.7777777777777778,
              "#fb9f3a"
             ],
             [
              0.8888888888888888,
              "#fdca26"
             ],
             [
              1,
              "#f0f921"
             ]
            ],
            "type": "contour"
           }
          ],
          "contourcarpet": [
           {
            "colorbar": {
             "outlinewidth": 0,
             "ticks": ""
            },
            "type": "contourcarpet"
           }
          ],
          "heatmap": [
           {
            "colorbar": {
             "outlinewidth": 0,
             "ticks": ""
            },
            "colorscale": [
             [
              0,
              "#0d0887"
             ],
             [
              0.1111111111111111,
              "#46039f"
             ],
             [
              0.2222222222222222,
              "#7201a8"
             ],
             [
              0.3333333333333333,
              "#9c179e"
             ],
             [
              0.4444444444444444,
              "#bd3786"
             ],
             [
              0.5555555555555556,
              "#d8576b"
             ],
             [
              0.6666666666666666,
              "#ed7953"
             ],
             [
              0.7777777777777778,
              "#fb9f3a"
             ],
             [
              0.8888888888888888,
              "#fdca26"
             ],
             [
              1,
              "#f0f921"
             ]
            ],
            "type": "heatmap"
           }
          ],
          "heatmapgl": [
           {
            "colorbar": {
             "outlinewidth": 0,
             "ticks": ""
            },
            "colorscale": [
             [
              0,
              "#0d0887"
             ],
             [
              0.1111111111111111,
              "#46039f"
             ],
             [
              0.2222222222222222,
              "#7201a8"
             ],
             [
              0.3333333333333333,
              "#9c179e"
             ],
             [
              0.4444444444444444,
              "#bd3786"
             ],
             [
              0.5555555555555556,
              "#d8576b"
             ],
             [
              0.6666666666666666,
              "#ed7953"
             ],
             [
              0.7777777777777778,
              "#fb9f3a"
             ],
             [
              0.8888888888888888,
              "#fdca26"
             ],
             [
              1,
              "#f0f921"
             ]
            ],
            "type": "heatmapgl"
           }
          ],
          "histogram": [
           {
            "marker": {
             "pattern": {
              "fillmode": "overlay",
              "size": 10,
              "solidity": 0.2
             }
            },
            "type": "histogram"
           }
          ],
          "histogram2d": [
           {
            "colorbar": {
             "outlinewidth": 0,
             "ticks": ""
            },
            "colorscale": [
             [
              0,
              "#0d0887"
             ],
             [
              0.1111111111111111,
              "#46039f"
             ],
             [
              0.2222222222222222,
              "#7201a8"
             ],
             [
              0.3333333333333333,
              "#9c179e"
             ],
             [
              0.4444444444444444,
              "#bd3786"
             ],
             [
              0.5555555555555556,
              "#d8576b"
             ],
             [
              0.6666666666666666,
              "#ed7953"
             ],
             [
              0.7777777777777778,
              "#fb9f3a"
             ],
             [
              0.8888888888888888,
              "#fdca26"
             ],
             [
              1,
              "#f0f921"
             ]
            ],
            "type": "histogram2d"
           }
          ],
          "histogram2dcontour": [
           {
            "colorbar": {
             "outlinewidth": 0,
             "ticks": ""
            },
            "colorscale": [
             [
              0,
              "#0d0887"
             ],
             [
              0.1111111111111111,
              "#46039f"
             ],
             [
              0.2222222222222222,
              "#7201a8"
             ],
             [
              0.3333333333333333,
              "#9c179e"
             ],
             [
              0.4444444444444444,
              "#bd3786"
             ],
             [
              0.5555555555555556,
              "#d8576b"
             ],
             [
              0.6666666666666666,
              "#ed7953"
             ],
             [
              0.7777777777777778,
              "#fb9f3a"
             ],
             [
              0.8888888888888888,
              "#fdca26"
             ],
             [
              1,
              "#f0f921"
             ]
            ],
            "type": "histogram2dcontour"
           }
          ],
          "mesh3d": [
           {
            "colorbar": {
             "outlinewidth": 0,
             "ticks": ""
            },
            "type": "mesh3d"
           }
          ],
          "parcoords": [
           {
            "line": {
             "colorbar": {
              "outlinewidth": 0,
              "ticks": ""
             }
            },
            "type": "parcoords"
           }
          ],
          "pie": [
           {
            "automargin": true,
            "type": "pie"
           }
          ],
          "scatter": [
           {
            "marker": {
             "line": {
              "color": "#283442"
             }
            },
            "type": "scatter"
           }
          ],
          "scatter3d": [
           {
            "line": {
             "colorbar": {
              "outlinewidth": 0,
              "ticks": ""
             }
            },
            "marker": {
             "colorbar": {
              "outlinewidth": 0,
              "ticks": ""
             }
            },
            "type": "scatter3d"
           }
          ],
          "scattercarpet": [
           {
            "marker": {
             "colorbar": {
              "outlinewidth": 0,
              "ticks": ""
             }
            },
            "type": "scattercarpet"
           }
          ],
          "scattergeo": [
           {
            "marker": {
             "colorbar": {
              "outlinewidth": 0,
              "ticks": ""
             }
            },
            "type": "scattergeo"
           }
          ],
          "scattergl": [
           {
            "marker": {
             "line": {
              "color": "#283442"
             }
            },
            "type": "scattergl"
           }
          ],
          "scattermapbox": [
           {
            "marker": {
             "colorbar": {
              "outlinewidth": 0,
              "ticks": ""
             }
            },
            "type": "scattermapbox"
           }
          ],
          "scatterpolar": [
           {
            "marker": {
             "colorbar": {
              "outlinewidth": 0,
              "ticks": ""
             }
            },
            "type": "scatterpolar"
           }
          ],
          "scatterpolargl": [
           {
            "marker": {
             "colorbar": {
              "outlinewidth": 0,
              "ticks": ""
             }
            },
            "type": "scatterpolargl"
           }
          ],
          "scatterternary": [
           {
            "marker": {
             "colorbar": {
              "outlinewidth": 0,
              "ticks": ""
             }
            },
            "type": "scatterternary"
           }
          ],
          "surface": [
           {
            "colorbar": {
             "outlinewidth": 0,
             "ticks": ""
            },
            "colorscale": [
             [
              0,
              "#0d0887"
             ],
             [
              0.1111111111111111,
              "#46039f"
             ],
             [
              0.2222222222222222,
              "#7201a8"
             ],
             [
              0.3333333333333333,
              "#9c179e"
             ],
             [
              0.4444444444444444,
              "#bd3786"
             ],
             [
              0.5555555555555556,
              "#d8576b"
             ],
             [
              0.6666666666666666,
              "#ed7953"
             ],
             [
              0.7777777777777778,
              "#fb9f3a"
             ],
             [
              0.8888888888888888,
              "#fdca26"
             ],
             [
              1,
              "#f0f921"
             ]
            ],
            "type": "surface"
           }
          ],
          "table": [
           {
            "cells": {
             "fill": {
              "color": "#506784"
             },
             "line": {
              "color": "rgb(17,17,17)"
             }
            },
            "header": {
             "fill": {
              "color": "#2a3f5f"
             },
             "line": {
              "color": "rgb(17,17,17)"
             }
            },
            "type": "table"
           }
          ]
         },
         "layout": {
          "annotationdefaults": {
           "arrowcolor": "#f2f5fa",
           "arrowhead": 0,
           "arrowwidth": 1
          },
          "autotypenumbers": "strict",
          "coloraxis": {
           "colorbar": {
            "outlinewidth": 0,
            "ticks": ""
           }
          },
          "colorscale": {
           "diverging": [
            [
             0,
             "#8e0152"
            ],
            [
             0.1,
             "#c51b7d"
            ],
            [
             0.2,
             "#de77ae"
            ],
            [
             0.3,
             "#f1b6da"
            ],
            [
             0.4,
             "#fde0ef"
            ],
            [
             0.5,
             "#f7f7f7"
            ],
            [
             0.6,
             "#e6f5d0"
            ],
            [
             0.7,
             "#b8e186"
            ],
            [
             0.8,
             "#7fbc41"
            ],
            [
             0.9,
             "#4d9221"
            ],
            [
             1,
             "#276419"
            ]
           ],
           "sequential": [
            [
             0,
             "#0d0887"
            ],
            [
             0.1111111111111111,
             "#46039f"
            ],
            [
             0.2222222222222222,
             "#7201a8"
            ],
            [
             0.3333333333333333,
             "#9c179e"
            ],
            [
             0.4444444444444444,
             "#bd3786"
            ],
            [
             0.5555555555555556,
             "#d8576b"
            ],
            [
             0.6666666666666666,
             "#ed7953"
            ],
            [
             0.7777777777777778,
             "#fb9f3a"
            ],
            [
             0.8888888888888888,
             "#fdca26"
            ],
            [
             1,
             "#f0f921"
            ]
           ],
           "sequentialminus": [
            [
             0,
             "#0d0887"
            ],
            [
             0.1111111111111111,
             "#46039f"
            ],
            [
             0.2222222222222222,
             "#7201a8"
            ],
            [
             0.3333333333333333,
             "#9c179e"
            ],
            [
             0.4444444444444444,
             "#bd3786"
            ],
            [
             0.5555555555555556,
             "#d8576b"
            ],
            [
             0.6666666666666666,
             "#ed7953"
            ],
            [
             0.7777777777777778,
             "#fb9f3a"
            ],
            [
             0.8888888888888888,
             "#fdca26"
            ],
            [
             1,
             "#f0f921"
            ]
           ]
          },
          "colorway": [
           "#636efa",
           "#EF553B",
           "#00cc96",
           "#ab63fa",
           "#FFA15A",
           "#19d3f3",
           "#FF6692",
           "#B6E880",
           "#FF97FF",
           "#FECB52"
          ],
          "font": {
           "color": "#f2f5fa"
          },
          "geo": {
           "bgcolor": "rgb(17,17,17)",
           "lakecolor": "rgb(17,17,17)",
           "landcolor": "rgb(17,17,17)",
           "showlakes": true,
           "showland": true,
           "subunitcolor": "#506784"
          },
          "hoverlabel": {
           "align": "left"
          },
          "hovermode": "closest",
          "mapbox": {
           "style": "dark"
          },
          "paper_bgcolor": "rgb(17,17,17)",
          "plot_bgcolor": "rgb(17,17,17)",
          "polar": {
           "angularaxis": {
            "gridcolor": "#506784",
            "linecolor": "#506784",
            "ticks": ""
           },
           "bgcolor": "rgb(17,17,17)",
           "radialaxis": {
            "gridcolor": "#506784",
            "linecolor": "#506784",
            "ticks": ""
           }
          },
          "scene": {
           "xaxis": {
            "backgroundcolor": "rgb(17,17,17)",
            "gridcolor": "#506784",
            "gridwidth": 2,
            "linecolor": "#506784",
            "showbackground": true,
            "ticks": "",
            "zerolinecolor": "#C8D4E3"
           },
           "yaxis": {
            "backgroundcolor": "rgb(17,17,17)",
            "gridcolor": "#506784",
            "gridwidth": 2,
            "linecolor": "#506784",
            "showbackground": true,
            "ticks": "",
            "zerolinecolor": "#C8D4E3"
           },
           "zaxis": {
            "backgroundcolor": "rgb(17,17,17)",
            "gridcolor": "#506784",
            "gridwidth": 2,
            "linecolor": "#506784",
            "showbackground": true,
            "ticks": "",
            "zerolinecolor": "#C8D4E3"
           }
          },
          "shapedefaults": {
           "line": {
            "color": "#f2f5fa"
           }
          },
          "sliderdefaults": {
           "bgcolor": "#C8D4E3",
           "bordercolor": "rgb(17,17,17)",
           "borderwidth": 1,
           "tickwidth": 0
          },
          "ternary": {
           "aaxis": {
            "gridcolor": "#506784",
            "linecolor": "#506784",
            "ticks": ""
           },
           "baxis": {
            "gridcolor": "#506784",
            "linecolor": "#506784",
            "ticks": ""
           },
           "bgcolor": "rgb(17,17,17)",
           "caxis": {
            "gridcolor": "#506784",
            "linecolor": "#506784",
            "ticks": ""
           }
          },
          "title": {
           "x": 0.05
          },
          "updatemenudefaults": {
           "bgcolor": "#506784",
           "borderwidth": 0
          },
          "xaxis": {
           "automargin": true,
           "gridcolor": "#283442",
           "linecolor": "#506784",
           "ticks": "",
           "title": {
            "standoff": 15
           },
           "zerolinecolor": "#283442",
           "zerolinewidth": 2
          },
          "yaxis": {
           "automargin": true,
           "gridcolor": "#283442",
           "linecolor": "#506784",
           "ticks": "",
           "title": {
            "standoff": 15
           },
           "zerolinecolor": "#283442",
           "zerolinewidth": 2
          }
         }
        },
        "title": {
         "text": "Distribution of comments"
        },
        "xaxis": {
         "anchor": "y",
         "domain": [
          0,
          1
         ]
        },
        "yaxis": {
         "anchor": "x",
         "domain": [
          0,
          1
         ],
         "title": {
          "text": "comments"
         }
        }
       }
      }
     },
     "metadata": {},
     "output_type": "display_data"
    }
   ],
   "source": [
    "fig = px.box(ted_talk, y = 'comments', title = 'Distribution of comments', color_discrete_sequence = ['red'])\n",
    "fig.update_layout(\n",
    "    template= 'plotly_dark')"
   ]
  },
  {
   "cell_type": "markdown",
   "metadata": {},
   "source": [
    "#### Duration"
   ]
  },
  {
   "cell_type": "code",
   "execution_count": 42,
   "metadata": {},
   "outputs": [
    {
     "data": {
      "application/vnd.plotly.v1+json": {
       "config": {
        "plotlyServerURL": "https://plot.ly"
       },
       "data": [
        {
         "alignmentgroup": "True",
         "hovertemplate": "duration=%{y}<extra></extra>",
         "legendgroup": "",
         "marker": {
          "color": "red"
         },
         "name": "",
         "notched": false,
         "offsetgroup": "",
         "orientation": "v",
         "showlegend": false,
         "type": "box",
         "x0": " ",
         "xaxis": "x",
         "y": [
          1164,
          977,
          1286,
          1116,
          1190,
          1305,
          992,
          1198,
          1485,
          1262,
          1414,
          1538,
          1550,
          527,
          1057,
          1481,
          1445,
          906,
          1170,
          1201,
          1114,
          1136,
          1006,
          1407,
          1225,
          1140,
          1316,
          1275,
          1050,
          1276,
          1177,
          1129,
          1365,
          952,
          773,
          1080,
          1125,
          1177,
          1083,
          1672,
          2065,
          1609,
          1280,
          805,
          1376,
          1200,
          848,
          210,
          247,
          198,
          843,
          1001,
          1321,
          1115,
          1046,
          1151,
          603,
          1141,
          825,
          1385,
          869,
          1038,
          1155,
          1447,
          1355,
          1316,
          1645,
          1021,
          1211,
          873,
          1207,
          1340,
          930,
          1054,
          1240,
          1204,
          276,
          850,
          891,
          1012,
          1399,
          1011,
          893,
          1045,
          977,
          985,
          163,
          459,
          1308,
          1929,
          1205,
          1031,
          251,
          378,
          312,
          1172,
          1750,
          1195,
          201,
          858,
          311,
          1233,
          277,
          1184,
          1020,
          185,
          1211,
          1001,
          450,
          1072,
          1213,
          279,
          726,
          1477,
          1402,
          214,
          370,
          1137,
          1063,
          926,
          1165,
          1030,
          934,
          997,
          552,
          585,
          288,
          1070,
          1330,
          252,
          1141,
          1051,
          1056,
          1103,
          606,
          299,
          931,
          310,
          950,
          1027,
          493,
          1047,
          1155,
          1056,
          951,
          959,
          1782,
          1280,
          1029,
          212,
          1791,
          378,
          1050,
          963,
          1414,
          1234,
          1338,
          1254,
          1136,
          299,
          958,
          1090,
          1261,
          1164,
          1017,
          1026,
          962,
          1184,
          914,
          793,
          249,
          558,
          1080,
          375,
          1231,
          1082,
          327,
          1097,
          1320,
          640,
          2128,
          1148,
          255,
          1056,
          775,
          819,
          943,
          1295,
          1045,
          1171,
          1151,
          518,
          1066,
          374,
          927,
          326,
          202,
          402,
          1237,
          954,
          1523,
          1099,
          2678,
          1535,
          1288,
          1490,
          1917,
          242,
          1077,
          419,
          264,
          230,
          240,
          612,
          1674,
          340,
          1241,
          1072,
          1003,
          1372,
          1146,
          899,
          1041,
          1197,
          1064,
          1071,
          2222,
          606,
          269,
          1208,
          1099,
          1063,
          944,
          863,
          1011,
          1168,
          1034,
          386,
          1152,
          135,
          1038,
          674,
          192,
          1222,
          211,
          1138,
          1243,
          1000,
          140,
          186,
          241,
          1507,
          559,
          1098,
          1100,
          240,
          1246,
          334,
          1151,
          956,
          1580,
          1060,
          1189,
          1422,
          153,
          974,
          936,
          1229,
          921,
          1174,
          982,
          953,
          178,
          969,
          1253,
          893,
          1868,
          886,
          213,
          821,
          1259,
          998,
          348,
          984,
          931,
          1899,
          748,
          1426,
          1518,
          1206,
          800,
          1414,
          966,
          1182,
          1122,
          825,
          879,
          813,
          1396,
          209,
          1107,
          1362,
          1127,
          285,
          907,
          1164,
          352,
          1266,
          1128,
          990,
          284,
          1286,
          1060,
          975,
          1009,
          1000,
          1368,
          1135,
          277,
          1101,
          197,
          946,
          1124,
          946,
          1014,
          1118,
          1007,
          1087,
          1016,
          731,
          1019,
          1164,
          1678,
          953,
          745,
          1389,
          1697,
          957,
          1403,
          856,
          1054,
          1140,
          1142,
          1224,
          202,
          227,
          1171,
          1711,
          552,
          238,
          1517,
          1089,
          988,
          429,
          2018,
          880,
          1109,
          1318,
          408,
          998,
          1772,
          1026,
          1306,
          939,
          1134,
          937,
          1028,
          934,
          859,
          1316,
          1359,
          975,
          1286,
          756,
          829,
          1181,
          1345,
          965,
          1127,
          1195,
          1216,
          1149,
          914,
          429,
          1245,
          1130,
          1018,
          1026,
          1096,
          1283,
          1087,
          440,
          1008,
          870,
          480,
          788,
          1242,
          990,
          1202,
          636,
          761,
          522,
          598,
          1602,
          983,
          465,
          983,
          938,
          781,
          244,
          325,
          450,
          1623,
          1056,
          735,
          1397,
          364,
          733,
          381,
          965,
          627,
          1145,
          1094,
          1372,
          226,
          1086,
          1071,
          387,
          985,
          288,
          933,
          1040,
          236,
          556,
          671,
          873,
          1387,
          1260,
          1265,
          209,
          439,
          888,
          715,
          464,
          1080,
          1049,
          294,
          602,
          919,
          236,
          954,
          1046,
          1003,
          209,
          143,
          358,
          274,
          749,
          394,
          889,
          1118,
          527,
          894,
          1044,
          230,
          252,
          199,
          1185,
          714,
          237,
          953,
          948,
          384,
          1135,
          185,
          394,
          994,
          754,
          353,
          178,
          245,
          1116,
          908,
          386,
          357,
          275,
          1002,
          576,
          254,
          392,
          888,
          1003,
          1011,
          933,
          1033,
          1183,
          571,
          1109,
          1062,
          1083,
          1116,
          609,
          1196,
          879,
          1028,
          334,
          1080,
          279,
          870,
          1162,
          1133,
          1011,
          814,
          1170,
          1094,
          624,
          1128,
          237,
          1191,
          713,
          359,
          1052,
          1024,
          1133,
          1010,
          594,
          952,
          1060,
          940,
          999,
          1129,
          990,
          267,
          969,
          297,
          999,
          890,
          346,
          994,
          366,
          1251,
          285,
          426,
          998,
          452,
          429,
          1099,
          141,
          531,
          185,
          253,
          220,
          337,
          830,
          1084,
          995,
          1106,
          565,
          950,
          1000,
          703,
          1012,
          1073,
          1030,
          986,
          1034,
          709,
          762,
          881,
          1254,
          1047,
          305,
          944,
          680,
          266,
          998,
          570,
          641,
          594,
          268,
          3296,
          889,
          1066,
          463,
          798,
          1179,
          1038,
          1505,
          4587,
          2246,
          510,
          242,
          572,
          174,
          3573,
          1083,
          1219,
          394,
          1072,
          1000,
          3475,
          182,
          565,
          1122,
          1194,
          286,
          162,
          1258,
          1081,
          1014,
          976,
          1424,
          801,
          1021,
          1313,
          465,
          839,
          1318,
          1669,
          992,
          1101,
          1018,
          1183,
          1103,
          1075,
          184,
          1206,
          1019,
          385,
          3955,
          1028,
          1008,
          1092,
          333,
          266,
          1142,
          545,
          927,
          1093,
          1001,
          5256,
          1203,
          1249,
          1274,
          1386,
          334,
          266,
          974,
          566,
          407,
          1081,
          983,
          201,
          189,
          492,
          1698,
          1154,
          1172,
          955,
          432,
          1758,
          1141,
          362,
          373,
          748,
          255,
          1039,
          1039,
          371,
          411,
          367,
          1418,
          1198,
          1115,
          1115,
          359,
          1007,
          1084,
          1099,
          1375,
          297,
          1259,
          1018,
          1195,
          699,
          316,
          262,
          1202,
          345,
          909,
          588,
          1097,
          1008,
          936,
          489,
          1265,
          1384,
          1125,
          922,
          973,
          790,
          989,
          868,
          1182,
          946,
          757,
          1379,
          960,
          1141,
          345,
          1280,
          1284,
          967,
          1059,
          988,
          1138,
          541,
          350,
          787,
          1163,
          942,
          417,
          176,
          1029,
          675,
          307,
          604,
          1195,
          986,
          1185,
          1185,
          1173,
          1102,
          1110,
          636,
          411,
          1448,
          1002,
          1124,
          1250,
          1185,
          585,
          1169,
          1102,
          453,
          655,
          539,
          554,
          722,
          1076,
          585,
          639,
          855,
          1034,
          458,
          1009,
          1090,
          1523,
          195,
          848,
          1033,
          1011,
          1238,
          764,
          1214,
          1094,
          1133,
          241,
          1074,
          341,
          534,
          1065,
          1110,
          556,
          255,
          434,
          1690,
          310,
          1165,
          641,
          830,
          545,
          1223,
          1206,
          934,
          197,
          830,
          988,
          510,
          1190,
          1080,
          775,
          1113,
          914,
          318,
          752,
          195,
          1180,
          1095,
          566,
          923,
          671,
          988,
          422,
          1035,
          1054,
          1159,
          1003,
          1055,
          927,
          1066,
          222,
          1039,
          933,
          946,
          815,
          946,
          561,
          1066,
          921,
          1077,
          314,
          1125,
          994,
          731,
          529,
          585,
          673,
          527,
          972,
          605,
          1028,
          994,
          700,
          1040,
          898,
          1079,
          1219,
          1387,
          250,
          573,
          991,
          1268,
          1053,
          652,
          473,
          651,
          668,
          750,
          1189,
          1085,
          769,
          996,
          364,
          1290,
          993,
          402,
          904,
          1233,
          607,
          707,
          507,
          952,
          353,
          605,
          844,
          523,
          826,
          716,
          953,
          617,
          1068,
          887,
          779,
          1098,
          954,
          613,
          1195,
          565,
          1032,
          1449,
          591,
          616,
          1044,
          686,
          1227,
          1192,
          526,
          1124,
          1063,
          247,
          1011,
          1105,
          555,
          421,
          1182,
          383,
          654,
          635,
          640,
          1091,
          254,
          874,
          248,
          938,
          848,
          1168,
          469,
          1157,
          266,
          1060,
          425,
          1169,
          250,
          986,
          1087,
          1071,
          1190,
          848,
          302,
          1041,
          1265,
          625,
          274,
          930,
          544,
          594,
          946,
          400,
          954,
          468,
          1075,
          580,
          446,
          335,
          881,
          1104,
          1012,
          494,
          765,
          179,
          200,
          1098,
          1389,
          644,
          1031,
          561,
          2761,
          548,
          573,
          471,
          324,
          978,
          996,
          566,
          553,
          1128,
          254,
          1101,
          1008,
          1076,
          251,
          389,
          1209,
          1008,
          653,
          213,
          676,
          351,
          737,
          1021,
          991,
          341,
          207,
          605,
          828,
          1337,
          253,
          892,
          1073,
          1087,
          818,
          1054,
          835,
          922,
          379,
          1202,
          1053,
          977,
          1150,
          470,
          329,
          771,
          1210,
          325,
          286,
          778,
          613,
          703,
          1061,
          264,
          307,
          335,
          1021,
          651,
          364,
          841,
          970,
          840,
          911,
          270,
          1131,
          1119,
          545,
          662,
          792,
          1177,
          1219,
          848,
          256,
          783,
          350,
          1112,
          376,
          516,
          859,
          355,
          1034,
          1131,
          349,
          904,
          658,
          1176,
          1109,
          1035,
          341,
          1130,
          450,
          1147,
          765,
          564,
          1131,
          259,
          1014,
          708,
          900,
          767,
          1095,
          870,
          994,
          578,
          1199,
          344,
          1013,
          942,
          877,
          470,
          740,
          921,
          724,
          933,
          982,
          577,
          888,
          280,
          983,
          518,
          978,
          769,
          856,
          316,
          231,
          472,
          584,
          230,
          1006,
          677,
          959,
          1011,
          686,
          735,
          722,
          999,
          868,
          973,
          791,
          508,
          780,
          284,
          968,
          991,
          574,
          673,
          1129,
          1085,
          1122,
          601,
          959,
          763,
          1142,
          522,
          680,
          1109,
          454,
          632,
          581,
          957,
          976,
          898,
          548,
          330,
          599,
          816,
          217,
          1160,
          563,
          839,
          965,
          583,
          869,
          719,
          889,
          1017,
          1168,
          796,
          1335,
          726,
          1030,
          935,
          740,
          683,
          1150,
          1092,
          594,
          1090,
          543,
          1052,
          653,
          1103,
          381,
          374,
          1118,
          1068,
          677,
          199,
          372,
          1006,
          657,
          1060,
          669,
          1177,
          960,
          456,
          1065,
          736,
          1016,
          1254,
          440,
          1007,
          542,
          974,
          1006,
          1006,
          1144,
          1421,
          1156,
          1071,
          731,
          229,
          953,
          915,
          376,
          728,
          508,
          452,
          1096,
          311,
          1238,
          663,
          1191,
          1182,
          959,
          212,
          913,
          1042,
          799,
          915,
          1501,
          879,
          327,
          391,
          338,
          1097,
          362,
          1188,
          1036,
          396,
          239,
          305,
          1066,
          684,
          1012,
          1527,
          794,
          394,
          1159,
          400,
          1079,
          698,
          331,
          1307,
          658,
          328,
          741,
          324,
          271,
          563,
          726,
          1630,
          538,
          399,
          1104,
          450,
          1084,
          1213,
          488,
          608,
          1228,
          247,
          769,
          620,
          1060,
          266,
          706,
          292,
          391,
          470,
          697,
          430,
          800,
          1147,
          928,
          583,
          1115,
          1029,
          893,
          872,
          743,
          742,
          1120,
          1023,
          1008,
          680,
          237,
          181,
          383,
          1184,
          1317,
          994,
          792,
          320,
          1071,
          1099,
          631,
          1096,
          624,
          365,
          371,
          695,
          473,
          912,
          896,
          646,
          946,
          1070,
          892,
          625,
          386,
          658,
          870,
          1010,
          1170,
          863,
          647,
          1165,
          600,
          945,
          285,
          978,
          730,
          587,
          484,
          575,
          734,
          848,
          1003,
          596,
          861,
          662,
          667,
          763,
          711,
          1131,
          839,
          1240,
          589,
          1010,
          602,
          947,
          776,
          364,
          801,
          582,
          1161,
          424,
          844,
          563,
          1081,
          665,
          987,
          749,
          732,
          956,
          885,
          1001,
          1250,
          742,
          865,
          898,
          918,
          1043,
          855,
          866,
          591,
          719,
          561,
          741,
          1186,
          847,
          803,
          1112,
          528,
          809,
          356,
          996,
          876,
          1262,
          987,
          1142,
          985,
          996,
          390,
          1001,
          524,
          274,
          754,
          757,
          985,
          925,
          1137,
          265,
          1023,
          842,
          917,
          539,
          395,
          821,
          866,
          985,
          1001,
          320,
          616,
          299,
          726,
          641,
          1111,
          1040,
          561,
          292,
          393,
          546,
          1077,
          674,
          302,
          587,
          380,
          1029,
          507,
          1137,
          401,
          172,
          991,
          313,
          300,
          379,
          535,
          676,
          809,
          431,
          1028,
          637,
          744,
          678,
          218,
          1188,
          897,
          690,
          837,
          414,
          1201,
          578,
          1128,
          670,
          564,
          528,
          608,
          577,
          779,
          773,
          713,
          1066,
          701,
          959,
          740,
          1008,
          1098,
          526,
          208,
          588,
          680,
          482,
          186,
          942,
          576,
          410,
          850,
          1150,
          1017,
          895,
          733,
          1089,
          1187,
          955,
          1080,
          189,
          1351,
          761,
          827,
          1339,
          518,
          645,
          916,
          723,
          1134,
          925,
          1104,
          837,
          595,
          751,
          1264,
          735,
          880,
          752,
          523,
          331,
          440,
          829,
          388,
          712,
          260,
          1099,
          502,
          1072,
          910,
          350,
          1226,
          959,
          754,
          841,
          783,
          1110,
          934,
          628,
          828,
          734,
          716,
          441,
          540,
          344,
          208,
          773,
          1013,
          357,
          468,
          945,
          370,
          624,
          389,
          483,
          180,
          1027,
          372,
          1151,
          889,
          480,
          466,
          795,
          435,
          1039,
          601,
          363,
          791,
          761,
          1122,
          1060,
          622,
          376,
          1407,
          491,
          766,
          878,
          655,
          855,
          968,
          1206,
          800,
          856,
          1021,
          573,
          1283,
          1059,
          206,
          825,
          958,
          1259,
          1056,
          596,
          1237,
          978,
          307,
          527,
          867,
          742,
          1201,
          649,
          501,
          888,
          654,
          841,
          560,
          701,
          899,
          705,
          377,
          651,
          331,
          358,
          644,
          1108,
          476,
          670,
          575,
          543,
          490,
          857,
          1178,
          878,
          702,
          1306,
          925,
          616,
          1037,
          868,
          924,
          424,
          910,
          938,
          944,
          918,
          527,
          1046,
          957,
          475,
          542,
          1085,
          1056,
          1113,
          590,
          1120,
          660,
          940,
          834,
          1047,
          725,
          603,
          988,
          877,
          842,
          645,
          848,
          715,
          1016,
          924,
          1018,
          900,
          546,
          798,
          693,
          791,
          850,
          464,
          844,
          821,
          721,
          531,
          508,
          1072,
          472,
          863,
          1158,
          384,
          983,
          700,
          541,
          776,
          438,
          810,
          830,
          621,
          553,
          569,
          1091,
          811,
          870,
          603,
          803,
          359,
          268,
          857,
          899,
          731,
          482,
          933,
          683,
          708,
          756,
          1761,
          595,
          995,
          935,
          915,
          853,
          852,
          669,
          762,
          620,
          389,
          838,
          830,
          1016,
          791,
          1058,
          970,
          882,
          721,
          483,
          919,
          761,
          322,
          825,
          436,
          670,
          584,
          794,
          708,
          536,
          641,
          1087,
          739,
          704,
          642,
          892,
          559,
          842,
          562,
          957,
          590,
          864,
          403,
          589,
          626,
          837,
          498,
          296,
          561,
          943,
          1031,
          474,
          587,
          924,
          875,
          2102,
          1102,
          971,
          2010,
          1410,
          996,
          1212,
          794,
          559,
          1140,
          599,
          277,
          282,
          1500,
          595,
          824,
          1108,
          414,
          444,
          283,
          1128,
          301,
          1091,
          1013,
          398,
          961,
          701,
          770,
          752,
          372,
          438,
          935,
          893,
          393,
          730,
          1116,
          854,
          378,
          404,
          569,
          1010,
          1128,
          849,
          853,
          893,
          844,
          719,
          670,
          1227,
          551,
          867,
          788,
          856,
          300,
          639,
          1395,
          592,
          409,
          792,
          307,
          1062,
          556,
          999,
          273,
          952,
          585,
          880,
          1033,
          881,
          269,
          242,
          720,
          1061,
          1154,
          1056,
          598,
          1005,
          831,
          1074,
          983,
          958,
          751,
          1183,
          902,
          1205,
          703,
          1117,
          561,
          314,
          731,
          274,
          648,
          776,
          1174,
          306,
          778,
          1023,
          1222,
          632,
          1035,
          258,
          403,
          339,
          324,
          1169,
          272,
          412,
          604,
          838,
          276,
          373,
          1037,
          496,
          262,
          1045,
          550,
          377,
          1145,
          243,
          1093,
          1059,
          1019,
          544,
          1295,
          993,
          951,
          252,
          333,
          346,
          501,
          837,
          1028,
          1060,
          570,
          1260,
          722,
          804,
          1019,
          1237,
          701,
          701,
          677,
          968,
          758,
          743,
          806,
          455,
          647,
          792,
          926,
          383,
          210,
          969,
          908,
          915,
          852,
          586,
          949,
          683,
          882,
          896,
          1046,
          942,
          1453,
          394,
          481,
          1133,
          301,
          368,
          995,
          848,
          937,
          875,
          1024,
          767,
          897,
          590,
          862,
          365,
          1086,
          354,
          328,
          1069,
          1185,
          620,
          815,
          322,
          412,
          798,
          345,
          440,
          277,
          520,
          916,
          985,
          962,
          888,
          757,
          967,
          366,
          727,
          622,
          1137,
          961,
          1120,
          278,
          974,
          1151,
          895,
          541,
          366,
          375,
          1302,
          346,
          1022,
          1044,
          959,
          305,
          424,
          833,
          1044,
          1093,
          881,
          708,
          791,
          364,
          570,
          838,
          729,
          818,
          353,
          1085,
          683,
          340,
          1037,
          1187,
          884,
          1234,
          645,
          1346,
          1078,
          1163,
          1298,
          1012,
          819,
          279,
          783,
          1201,
          440,
          512,
          371,
          581,
          533,
          1067,
          637,
          1109,
          587,
          591,
          962,
          1328,
          259,
          616,
          312,
          362,
          991,
          352,
          1024,
          964,
          1069,
          1077,
          386,
          251,
          566,
          366,
          617,
          1098,
          576,
          1264,
          357,
          857,
          1291,
          582,
          1083,
          841,
          974,
          1038,
          400,
          1218,
          1001,
          562,
          1027,
          752,
          1528,
          1310,
          261,
          664,
          947,
          828,
          303,
          388,
          688,
          1137,
          1019,
          929,
          1007,
          996,
          831,
          685,
          728,
          758,
          882,
          935,
          1131,
          658,
          618,
          652,
          718,
          1031,
          733,
          1090,
          339,
          1028,
          338,
          781,
          415,
          265,
          626,
          769,
          815,
          376,
          452,
          969,
          437,
          539,
          998,
          938,
          759,
          855,
          1383,
          868,
          482,
          1147,
          965,
          1080,
          916,
          958,
          833,
          1067,
          1023,
          957,
          1307,
          717,
          473,
          991,
          1155,
          848,
          746,
          863,
          1055,
          1056,
          664,
          649,
          879,
          789,
          929,
          881,
          783,
          895,
          953,
          503,
          877,
          1015,
          588,
          917,
          776,
          740,
          579,
          1155,
          692,
          444,
          691,
          710,
          558,
          756,
          930,
          711,
          567,
          1275,
          1166,
          725,
          723,
          631,
          951,
          826,
          945,
          569,
          1150,
          822,
          380,
          388,
          421,
          864,
          350,
          529,
          944,
          1194,
          568,
          669,
          766,
          837,
          745,
          325,
          817,
          588,
          932,
          787,
          814,
          986,
          409,
          836,
          656,
          437,
          1053,
          1191,
          834,
          1085,
          850,
          660,
          663,
          949,
          564,
          577,
          852,
          844,
          562,
          727,
          918,
          876,
          694,
          704,
          1124,
          658,
          695,
          1520,
          976,
          754,
          829,
          710,
          610,
          330,
          881,
          1089,
          1158,
          759,
          955,
          681,
          417,
          1134,
          1099,
          951,
          843,
          359,
          854,
          654,
          957,
          721,
          747,
          862,
          1145,
          687,
          818,
          771,
          638,
          925,
          915,
          1234,
          724,
          826,
          469,
          1290,
          1016,
          1034,
          642,
          932,
          589,
          891,
          475,
          361,
          889,
          670,
          949,
          491,
          763,
          518,
          772,
          928,
          617,
          704,
          716,
          758,
          686,
          745,
          891,
          259,
          643,
          816,
          363,
          808,
          1070,
          313,
          778,
          734,
          434,
          788,
          1082,
          858,
          814,
          1186,
          756,
          983,
          900,
          364,
          708,
          485,
          794,
          537,
          425,
          1054,
          895,
          637,
          408,
          868,
          915,
          440,
          675,
          1054,
          697,
          289,
          518,
          625,
          1042,
          648,
          797,
          842,
          647,
          952,
          551,
          787,
          715,
          686,
          788,
          795,
          1099,
          276,
          894,
          741,
          923,
          822,
          952,
          639,
          419,
          997,
          859,
          746,
          812,
          696,
          1129,
          682,
          747,
          948,
          712,
          1096,
          460,
          649,
          932,
          956,
          568,
          976,
          856,
          838,
          938,
          741,
          813,
          449,
          430,
          784,
          716,
          882,
          276,
          801,
          867,
          1145,
          593,
          762,
          762,
          706,
          269,
          601,
          849,
          605,
          588,
          801,
          933,
          1028,
          579,
          1062,
          1042,
          651,
          691,
          937,
          788,
          993,
          523,
          740,
          464,
          830,
          675,
          704,
          369,
          1158,
          888,
          1217,
          423,
          631,
          1129,
          897,
          445,
          713,
          1024,
          1188,
          945,
          908,
          826,
          965,
          847,
          686,
          747,
          1027,
          615,
          931,
          944,
          746,
          1033,
          824,
          1103,
          620,
          714,
          1117,
          237,
          715,
          987,
          954,
          808,
          899,
          728,
          896,
          917,
          575,
          720,
          759,
          766,
          1027,
          970,
          649,
          721,
          1099,
          715,
          867,
          1211,
          479,
          1308,
          769,
          682,
          918,
          827,
          923,
          1146,
          746,
          1117,
          856,
          745,
          257,
          865,
          517,
          763,
          620,
          3608,
          749,
          850,
          711,
          944,
          440,
          370,
          368,
          918,
          299,
          778,
          917,
          761,
          802,
          524,
          448,
          714,
          366,
          1020,
          973,
          389,
          713,
          1018,
          715,
          861,
          895,
          705,
          361,
          599,
          644,
          995,
          609,
          651,
          502,
          2853,
          771,
          825,
          1047,
          673,
          822,
          896,
          322,
          404,
          1768,
          766,
          925,
          634,
          907,
          663,
          386,
          873,
          1072,
          1108,
          836,
          2450,
          930,
          573,
          546,
          425,
          648,
          951,
          1000,
          711,
          1071,
          1055,
          969,
          787,
          633,
          933,
          898,
          509,
          768,
          910,
          1055,
          543,
          920,
          452,
          1230,
          885,
          746,
          866,
          759,
          429,
          392,
          955,
          801,
          428,
          777,
          902,
          212,
          1332,
          881,
          1118,
          597,
          840,
          853,
          838,
          756,
          870,
          668,
          569,
          787,
          1021,
          972,
          857,
          467,
          615,
          730,
          1020,
          424,
          434,
          873,
          772,
          1180,
          509,
          457,
          586,
          887,
          697,
          736,
          575,
          607,
          325,
          973,
          714,
          631,
          860,
          741,
          962,
          558,
          798,
          815,
          1215,
          736,
          685,
          530,
          747,
          310,
          791,
          817,
          865,
          717,
          1156,
          738,
          698,
          993,
          663,
          725,
          723,
          865,
          738,
          808,
          934,
          722,
          957,
          795,
          894,
          810,
          476,
          290,
          651,
          1100,
          519
         ],
         "y0": " ",
         "yaxis": "y"
        }
       ],
       "layout": {
        "boxmode": "group",
        "legend": {
         "tracegroupgap": 0
        },
        "template": {
         "data": {
          "bar": [
           {
            "error_x": {
             "color": "#f2f5fa"
            },
            "error_y": {
             "color": "#f2f5fa"
            },
            "marker": {
             "line": {
              "color": "rgb(17,17,17)",
              "width": 0.5
             },
             "pattern": {
              "fillmode": "overlay",
              "size": 10,
              "solidity": 0.2
             }
            },
            "type": "bar"
           }
          ],
          "barpolar": [
           {
            "marker": {
             "line": {
              "color": "rgb(17,17,17)",
              "width": 0.5
             },
             "pattern": {
              "fillmode": "overlay",
              "size": 10,
              "solidity": 0.2
             }
            },
            "type": "barpolar"
           }
          ],
          "carpet": [
           {
            "aaxis": {
             "endlinecolor": "#A2B1C6",
             "gridcolor": "#506784",
             "linecolor": "#506784",
             "minorgridcolor": "#506784",
             "startlinecolor": "#A2B1C6"
            },
            "baxis": {
             "endlinecolor": "#A2B1C6",
             "gridcolor": "#506784",
             "linecolor": "#506784",
             "minorgridcolor": "#506784",
             "startlinecolor": "#A2B1C6"
            },
            "type": "carpet"
           }
          ],
          "choropleth": [
           {
            "colorbar": {
             "outlinewidth": 0,
             "ticks": ""
            },
            "type": "choropleth"
           }
          ],
          "contour": [
           {
            "colorbar": {
             "outlinewidth": 0,
             "ticks": ""
            },
            "colorscale": [
             [
              0,
              "#0d0887"
             ],
             [
              0.1111111111111111,
              "#46039f"
             ],
             [
              0.2222222222222222,
              "#7201a8"
             ],
             [
              0.3333333333333333,
              "#9c179e"
             ],
             [
              0.4444444444444444,
              "#bd3786"
             ],
             [
              0.5555555555555556,
              "#d8576b"
             ],
             [
              0.6666666666666666,
              "#ed7953"
             ],
             [
              0.7777777777777778,
              "#fb9f3a"
             ],
             [
              0.8888888888888888,
              "#fdca26"
             ],
             [
              1,
              "#f0f921"
             ]
            ],
            "type": "contour"
           }
          ],
          "contourcarpet": [
           {
            "colorbar": {
             "outlinewidth": 0,
             "ticks": ""
            },
            "type": "contourcarpet"
           }
          ],
          "heatmap": [
           {
            "colorbar": {
             "outlinewidth": 0,
             "ticks": ""
            },
            "colorscale": [
             [
              0,
              "#0d0887"
             ],
             [
              0.1111111111111111,
              "#46039f"
             ],
             [
              0.2222222222222222,
              "#7201a8"
             ],
             [
              0.3333333333333333,
              "#9c179e"
             ],
             [
              0.4444444444444444,
              "#bd3786"
             ],
             [
              0.5555555555555556,
              "#d8576b"
             ],
             [
              0.6666666666666666,
              "#ed7953"
             ],
             [
              0.7777777777777778,
              "#fb9f3a"
             ],
             [
              0.8888888888888888,
              "#fdca26"
             ],
             [
              1,
              "#f0f921"
             ]
            ],
            "type": "heatmap"
           }
          ],
          "heatmapgl": [
           {
            "colorbar": {
             "outlinewidth": 0,
             "ticks": ""
            },
            "colorscale": [
             [
              0,
              "#0d0887"
             ],
             [
              0.1111111111111111,
              "#46039f"
             ],
             [
              0.2222222222222222,
              "#7201a8"
             ],
             [
              0.3333333333333333,
              "#9c179e"
             ],
             [
              0.4444444444444444,
              "#bd3786"
             ],
             [
              0.5555555555555556,
              "#d8576b"
             ],
             [
              0.6666666666666666,
              "#ed7953"
             ],
             [
              0.7777777777777778,
              "#fb9f3a"
             ],
             [
              0.8888888888888888,
              "#fdca26"
             ],
             [
              1,
              "#f0f921"
             ]
            ],
            "type": "heatmapgl"
           }
          ],
          "histogram": [
           {
            "marker": {
             "pattern": {
              "fillmode": "overlay",
              "size": 10,
              "solidity": 0.2
             }
            },
            "type": "histogram"
           }
          ],
          "histogram2d": [
           {
            "colorbar": {
             "outlinewidth": 0,
             "ticks": ""
            },
            "colorscale": [
             [
              0,
              "#0d0887"
             ],
             [
              0.1111111111111111,
              "#46039f"
             ],
             [
              0.2222222222222222,
              "#7201a8"
             ],
             [
              0.3333333333333333,
              "#9c179e"
             ],
             [
              0.4444444444444444,
              "#bd3786"
             ],
             [
              0.5555555555555556,
              "#d8576b"
             ],
             [
              0.6666666666666666,
              "#ed7953"
             ],
             [
              0.7777777777777778,
              "#fb9f3a"
             ],
             [
              0.8888888888888888,
              "#fdca26"
             ],
             [
              1,
              "#f0f921"
             ]
            ],
            "type": "histogram2d"
           }
          ],
          "histogram2dcontour": [
           {
            "colorbar": {
             "outlinewidth": 0,
             "ticks": ""
            },
            "colorscale": [
             [
              0,
              "#0d0887"
             ],
             [
              0.1111111111111111,
              "#46039f"
             ],
             [
              0.2222222222222222,
              "#7201a8"
             ],
             [
              0.3333333333333333,
              "#9c179e"
             ],
             [
              0.4444444444444444,
              "#bd3786"
             ],
             [
              0.5555555555555556,
              "#d8576b"
             ],
             [
              0.6666666666666666,
              "#ed7953"
             ],
             [
              0.7777777777777778,
              "#fb9f3a"
             ],
             [
              0.8888888888888888,
              "#fdca26"
             ],
             [
              1,
              "#f0f921"
             ]
            ],
            "type": "histogram2dcontour"
           }
          ],
          "mesh3d": [
           {
            "colorbar": {
             "outlinewidth": 0,
             "ticks": ""
            },
            "type": "mesh3d"
           }
          ],
          "parcoords": [
           {
            "line": {
             "colorbar": {
              "outlinewidth": 0,
              "ticks": ""
             }
            },
            "type": "parcoords"
           }
          ],
          "pie": [
           {
            "automargin": true,
            "type": "pie"
           }
          ],
          "scatter": [
           {
            "marker": {
             "line": {
              "color": "#283442"
             }
            },
            "type": "scatter"
           }
          ],
          "scatter3d": [
           {
            "line": {
             "colorbar": {
              "outlinewidth": 0,
              "ticks": ""
             }
            },
            "marker": {
             "colorbar": {
              "outlinewidth": 0,
              "ticks": ""
             }
            },
            "type": "scatter3d"
           }
          ],
          "scattercarpet": [
           {
            "marker": {
             "colorbar": {
              "outlinewidth": 0,
              "ticks": ""
             }
            },
            "type": "scattercarpet"
           }
          ],
          "scattergeo": [
           {
            "marker": {
             "colorbar": {
              "outlinewidth": 0,
              "ticks": ""
             }
            },
            "type": "scattergeo"
           }
          ],
          "scattergl": [
           {
            "marker": {
             "line": {
              "color": "#283442"
             }
            },
            "type": "scattergl"
           }
          ],
          "scattermapbox": [
           {
            "marker": {
             "colorbar": {
              "outlinewidth": 0,
              "ticks": ""
             }
            },
            "type": "scattermapbox"
           }
          ],
          "scatterpolar": [
           {
            "marker": {
             "colorbar": {
              "outlinewidth": 0,
              "ticks": ""
             }
            },
            "type": "scatterpolar"
           }
          ],
          "scatterpolargl": [
           {
            "marker": {
             "colorbar": {
              "outlinewidth": 0,
              "ticks": ""
             }
            },
            "type": "scatterpolargl"
           }
          ],
          "scatterternary": [
           {
            "marker": {
             "colorbar": {
              "outlinewidth": 0,
              "ticks": ""
             }
            },
            "type": "scatterternary"
           }
          ],
          "surface": [
           {
            "colorbar": {
             "outlinewidth": 0,
             "ticks": ""
            },
            "colorscale": [
             [
              0,
              "#0d0887"
             ],
             [
              0.1111111111111111,
              "#46039f"
             ],
             [
              0.2222222222222222,
              "#7201a8"
             ],
             [
              0.3333333333333333,
              "#9c179e"
             ],
             [
              0.4444444444444444,
              "#bd3786"
             ],
             [
              0.5555555555555556,
              "#d8576b"
             ],
             [
              0.6666666666666666,
              "#ed7953"
             ],
             [
              0.7777777777777778,
              "#fb9f3a"
             ],
             [
              0.8888888888888888,
              "#fdca26"
             ],
             [
              1,
              "#f0f921"
             ]
            ],
            "type": "surface"
           }
          ],
          "table": [
           {
            "cells": {
             "fill": {
              "color": "#506784"
             },
             "line": {
              "color": "rgb(17,17,17)"
             }
            },
            "header": {
             "fill": {
              "color": "#2a3f5f"
             },
             "line": {
              "color": "rgb(17,17,17)"
             }
            },
            "type": "table"
           }
          ]
         },
         "layout": {
          "annotationdefaults": {
           "arrowcolor": "#f2f5fa",
           "arrowhead": 0,
           "arrowwidth": 1
          },
          "autotypenumbers": "strict",
          "coloraxis": {
           "colorbar": {
            "outlinewidth": 0,
            "ticks": ""
           }
          },
          "colorscale": {
           "diverging": [
            [
             0,
             "#8e0152"
            ],
            [
             0.1,
             "#c51b7d"
            ],
            [
             0.2,
             "#de77ae"
            ],
            [
             0.3,
             "#f1b6da"
            ],
            [
             0.4,
             "#fde0ef"
            ],
            [
             0.5,
             "#f7f7f7"
            ],
            [
             0.6,
             "#e6f5d0"
            ],
            [
             0.7,
             "#b8e186"
            ],
            [
             0.8,
             "#7fbc41"
            ],
            [
             0.9,
             "#4d9221"
            ],
            [
             1,
             "#276419"
            ]
           ],
           "sequential": [
            [
             0,
             "#0d0887"
            ],
            [
             0.1111111111111111,
             "#46039f"
            ],
            [
             0.2222222222222222,
             "#7201a8"
            ],
            [
             0.3333333333333333,
             "#9c179e"
            ],
            [
             0.4444444444444444,
             "#bd3786"
            ],
            [
             0.5555555555555556,
             "#d8576b"
            ],
            [
             0.6666666666666666,
             "#ed7953"
            ],
            [
             0.7777777777777778,
             "#fb9f3a"
            ],
            [
             0.8888888888888888,
             "#fdca26"
            ],
            [
             1,
             "#f0f921"
            ]
           ],
           "sequentialminus": [
            [
             0,
             "#0d0887"
            ],
            [
             0.1111111111111111,
             "#46039f"
            ],
            [
             0.2222222222222222,
             "#7201a8"
            ],
            [
             0.3333333333333333,
             "#9c179e"
            ],
            [
             0.4444444444444444,
             "#bd3786"
            ],
            [
             0.5555555555555556,
             "#d8576b"
            ],
            [
             0.6666666666666666,
             "#ed7953"
            ],
            [
             0.7777777777777778,
             "#fb9f3a"
            ],
            [
             0.8888888888888888,
             "#fdca26"
            ],
            [
             1,
             "#f0f921"
            ]
           ]
          },
          "colorway": [
           "#636efa",
           "#EF553B",
           "#00cc96",
           "#ab63fa",
           "#FFA15A",
           "#19d3f3",
           "#FF6692",
           "#B6E880",
           "#FF97FF",
           "#FECB52"
          ],
          "font": {
           "color": "#f2f5fa"
          },
          "geo": {
           "bgcolor": "rgb(17,17,17)",
           "lakecolor": "rgb(17,17,17)",
           "landcolor": "rgb(17,17,17)",
           "showlakes": true,
           "showland": true,
           "subunitcolor": "#506784"
          },
          "hoverlabel": {
           "align": "left"
          },
          "hovermode": "closest",
          "mapbox": {
           "style": "dark"
          },
          "paper_bgcolor": "rgb(17,17,17)",
          "plot_bgcolor": "rgb(17,17,17)",
          "polar": {
           "angularaxis": {
            "gridcolor": "#506784",
            "linecolor": "#506784",
            "ticks": ""
           },
           "bgcolor": "rgb(17,17,17)",
           "radialaxis": {
            "gridcolor": "#506784",
            "linecolor": "#506784",
            "ticks": ""
           }
          },
          "scene": {
           "xaxis": {
            "backgroundcolor": "rgb(17,17,17)",
            "gridcolor": "#506784",
            "gridwidth": 2,
            "linecolor": "#506784",
            "showbackground": true,
            "ticks": "",
            "zerolinecolor": "#C8D4E3"
           },
           "yaxis": {
            "backgroundcolor": "rgb(17,17,17)",
            "gridcolor": "#506784",
            "gridwidth": 2,
            "linecolor": "#506784",
            "showbackground": true,
            "ticks": "",
            "zerolinecolor": "#C8D4E3"
           },
           "zaxis": {
            "backgroundcolor": "rgb(17,17,17)",
            "gridcolor": "#506784",
            "gridwidth": 2,
            "linecolor": "#506784",
            "showbackground": true,
            "ticks": "",
            "zerolinecolor": "#C8D4E3"
           }
          },
          "shapedefaults": {
           "line": {
            "color": "#f2f5fa"
           }
          },
          "sliderdefaults": {
           "bgcolor": "#C8D4E3",
           "bordercolor": "rgb(17,17,17)",
           "borderwidth": 1,
           "tickwidth": 0
          },
          "ternary": {
           "aaxis": {
            "gridcolor": "#506784",
            "linecolor": "#506784",
            "ticks": ""
           },
           "baxis": {
            "gridcolor": "#506784",
            "linecolor": "#506784",
            "ticks": ""
           },
           "bgcolor": "rgb(17,17,17)",
           "caxis": {
            "gridcolor": "#506784",
            "linecolor": "#506784",
            "ticks": ""
           }
          },
          "title": {
           "x": 0.05
          },
          "updatemenudefaults": {
           "bgcolor": "#506784",
           "borderwidth": 0
          },
          "xaxis": {
           "automargin": true,
           "gridcolor": "#283442",
           "linecolor": "#506784",
           "ticks": "",
           "title": {
            "standoff": 15
           },
           "zerolinecolor": "#283442",
           "zerolinewidth": 2
          },
          "yaxis": {
           "automargin": true,
           "gridcolor": "#283442",
           "linecolor": "#506784",
           "ticks": "",
           "title": {
            "standoff": 15
           },
           "zerolinecolor": "#283442",
           "zerolinewidth": 2
          }
         }
        },
        "title": {
         "text": "Distribution of duration"
        },
        "xaxis": {
         "anchor": "y",
         "domain": [
          0,
          1
         ]
        },
        "yaxis": {
         "anchor": "x",
         "domain": [
          0,
          1
         ],
         "title": {
          "text": "duration"
         }
        }
       }
      }
     },
     "metadata": {},
     "output_type": "display_data"
    }
   ],
   "source": [
    "fig = px.box(ted_talk, y = 'duration', title = 'Distribution of duration', color_discrete_sequence = ['red'])\n",
    "fig.update_layout(\n",
    "    template= 'plotly_dark')"
   ]
  },
  {
   "cell_type": "markdown",
   "metadata": {},
   "source": [
    "#### Event"
   ]
  },
  {
   "cell_type": "code",
   "execution_count": 43,
   "metadata": {},
   "outputs": [
    {
     "data": {
      "application/vnd.plotly.v1+json": {
       "config": {
        "plotlyServerURL": "https://plot.ly"
       },
       "data": [
        {
         "alignmentgroup": "True",
         "customdata": [
          [
           "AORN Congress"
          ],
          [
           "Arbejdsglaede Live"
          ],
          [
           "BBC TV"
          ],
          [
           "Bowery Poetry Club"
          ],
          [
           "Business Innovation Factory"
          ],
          [
           "Carnegie Mellon University"
          ],
          [
           "Chautauqua Institution"
          ],
          [
           "DICE Summit 2010"
          ],
          [
           "DLD 2007"
          ],
          [
           "EG 2007"
          ],
          [
           "EG 2008"
          ],
          [
           "Elizabeth G. Anderson School"
          ],
          [
           "Eric Whitacre's Virtual Choir"
          ],
          [
           "Fort Worth City Council"
          ],
          [
           "Full Spectrum Auditions"
          ],
          [
           "Gel Conference"
          ],
          [
           "Global Witness HQ"
          ],
          [
           "Handheld Learning"
          ],
          [
           "Harvard University"
          ],
          [
           "INK Conference"
          ],
          [
           "Justice with Michael Sandel"
          ],
          [
           "LIFT 2007"
          ],
          [
           "Michael Howard Studios"
          ],
          [
           "Mission Blue II"
          ],
          [
           "Mission Blue Voyage"
          ],
          [
           "New York State Senate"
          ],
          [
           "NextGen:Charity"
          ],
          [
           "Princeton University"
          ],
          [
           "RSA Animate"
          ],
          [
           "Royal Institution"
          ],
          [
           "Serious Play 2008"
          ],
          [
           "Skoll World Forum 2007"
          ],
          [
           "SoulPancake"
          ],
          [
           "Stanford University"
          ],
          [
           "TED Dialogues"
          ],
          [
           "TED Fellows 2015"
          ],
          [
           "TED Fellows Retreat 2013"
          ],
          [
           "TED Fellows Retreat 2015"
          ],
          [
           "TED Prize Wish"
          ],
          [
           "TED Residency"
          ],
          [
           "TED Senior Fellows at TEDGlobal 2010"
          ],
          [
           "TED Studio"
          ],
          [
           "TED Talks Education"
          ],
          [
           "TED Talks Live"
          ],
          [
           "TED in the Field"
          ],
          [
           "TED-Ed"
          ],
          [
           "TED-Ed Weekend"
          ],
          [
           "TED1984"
          ],
          [
           "TED1990"
          ],
          [
           "TED1994"
          ],
          [
           "TED1998"
          ],
          [
           "TED2001"
          ],
          [
           "TED2002"
          ],
          [
           "TED2003"
          ],
          [
           "TED2004"
          ],
          [
           "TED2005"
          ],
          [
           "TED2006"
          ],
          [
           "TED2007"
          ],
          [
           "TED2008"
          ],
          [
           "TED2009"
          ],
          [
           "TED2010"
          ],
          [
           "TED2011"
          ],
          [
           "TED2012"
          ],
          [
           "TED2013"
          ],
          [
           "TED2014"
          ],
          [
           "TED2015"
          ],
          [
           "TED2016"
          ],
          [
           "TED2017"
          ],
          [
           "TED@BCG Berlin"
          ],
          [
           "TED@BCG London"
          ],
          [
           "TED@BCG Paris"
          ],
          [
           "TED@BCG San Francisco"
          ],
          [
           "TED@BCG Singapore"
          ],
          [
           "TED@Bangalore"
          ],
          [
           "TED@Cannes"
          ],
          [
           "TED@IBM"
          ],
          [
           "TED@Intel"
          ],
          [
           "TED@Johannesburg"
          ],
          [
           "TED@London"
          ],
          [
           "TED@MotorCity"
          ],
          [
           "TED@NYC"
          ],
          [
           "TED@Nairobi"
          ],
          [
           "TED@New York"
          ],
          [
           "TED@SXSWi"
          ],
          [
           "TED@State"
          ],
          [
           "TED@State Street Boston"
          ],
          [
           "TED@State Street London"
          ],
          [
           "TED@StateStreet Boston"
          ],
          [
           "TED@UPS"
          ],
          [
           "TED@Unilever"
          ],
          [
           "TEDActive 2011"
          ],
          [
           "TEDActive 2014"
          ],
          [
           "TEDActive 2015"
          ],
          [
           "TEDCity2.0"
          ],
          [
           "TEDGlobal 2005"
          ],
          [
           "TEDGlobal 2007"
          ],
          [
           "TEDGlobal 2009"
          ],
          [
           "TEDGlobal 2010"
          ],
          [
           "TEDGlobal 2011"
          ],
          [
           "TEDGlobal 2012"
          ],
          [
           "TEDGlobal 2013"
          ],
          [
           "TEDGlobal 2014"
          ],
          [
           "TEDGlobal 2017"
          ],
          [
           "TEDGlobal>Geneva"
          ],
          [
           "TEDGlobal>London"
          ],
          [
           "TEDGlobalLondon"
          ],
          [
           "TEDIndia 2009"
          ],
          [
           "TEDLagos Ideas Search"
          ],
          [
           "TEDMED 2009"
          ],
          [
           "TEDMED 2010"
          ],
          [
           "TEDMED 2011"
          ],
          [
           "TEDMED 2012"
          ],
          [
           "TEDMED 2013"
          ],
          [
           "TEDMED 2014"
          ],
          [
           "TEDMED 2015"
          ],
          [
           "TEDMED 2016"
          ],
          [
           "TEDNYC"
          ],
          [
           "TEDNairobi Ideas Search"
          ],
          [
           "TEDPrize@UN"
          ],
          [
           "TEDSalon 2006"
          ],
          [
           "TEDSalon 2007 Hot Science"
          ],
          [
           "TEDSalon 2009 Compassion"
          ],
          [
           "TEDSalon Berlin 2014"
          ],
          [
           "TEDSalon London 2009"
          ],
          [
           "TEDSalon London 2010"
          ],
          [
           "TEDSalon London Fall 2011"
          ],
          [
           "TEDSalon London Fall 2012"
          ],
          [
           "TEDSalon London Spring 2011"
          ],
          [
           "TEDSalon London Spring 2012"
          ],
          [
           "TEDSalon NY2011"
          ],
          [
           "TEDSalon NY2012"
          ],
          [
           "TEDSalon NY2013"
          ],
          [
           "TEDSalon NY2014"
          ],
          [
           "TEDSalon NY2015"
          ],
          [
           "TEDSummit"
          ],
          [
           "TEDWomen 2010"
          ],
          [
           "TEDWomen 2013"
          ],
          [
           "TEDWomen 2015"
          ],
          [
           "TEDWomen 2016"
          ],
          [
           "TEDYouth 2011"
          ],
          [
           "TEDYouth 2012"
          ],
          [
           "TEDYouth 2013"
          ],
          [
           "TEDYouth 2014"
          ],
          [
           "TEDYouth 2015"
          ],
          [
           "TEDxABQ"
          ],
          [
           "TEDxAmazonia"
          ],
          [
           "TEDxAmericanRiviera"
          ],
          [
           "TEDxAmoskeagMillyard"
          ],
          [
           "TEDxAmsterdam"
          ],
          [
           "TEDxArendal"
          ],
          [
           "TEDxAsheville"
          ],
          [
           "TEDxAthens"
          ],
          [
           "TEDxAtlanta"
          ],
          [
           "TEDxAustin"
          ],
          [
           "TEDxBG"
          ],
          [
           "TEDxBeaconStreet"
          ],
          [
           "TEDxBeirut"
          ],
          [
           "TEDxBend"
          ],
          [
           "TEDxBerkeley"
          ],
          [
           "TEDxBerlin"
          ],
          [
           "TEDxBinghamtonUniversity"
          ],
          [
           "TEDxBloomington"
          ],
          [
           "TEDxBoston"
          ],
          [
           "TEDxBoston 2009"
          ],
          [
           "TEDxBoston 2010"
          ],
          [
           "TEDxBoston 2011"
          ],
          [
           "TEDxBoston 2012"
          ],
          [
           "TEDxBoulder"
          ],
          [
           "TEDxBoulder 2011"
          ],
          [
           "TEDxBratislava"
          ],
          [
           "TEDxBrighton"
          ],
          [
           "TEDxBrussels"
          ],
          [
           "TEDxCERN"
          ],
          [
           "TEDxCHUV"
          ],
          [
           "TEDxCMU"
          ],
          [
           "TEDxCaFoscariU"
          ],
          [
           "TEDxCaltech"
          ],
          [
           "TEDxCambridge"
          ],
          [
           "TEDxCanberra"
          ],
          [
           "TEDxCannes"
          ],
          [
           "TEDxChange"
          ],
          [
           "TEDxChapmanU"
          ],
          [
           "TEDxClaremontColleges"
          ],
          [
           "TEDxColbyCollege"
          ],
          [
           "TEDxColoradoSprings"
          ],
          [
           "TEDxColumbus"
          ],
          [
           "TEDxColumbusWomen"
          ],
          [
           "TEDxConcorde"
          ],
          [
           "TEDxConcordiaUPortland"
          ],
          [
           "TEDxCreativeCoast"
          ],
          [
           "TEDxCrenshaw"
          ],
          [
           "TEDxDU 2010"
          ],
          [
           "TEDxDU 2011"
          ],
          [
           "TEDxDanubia"
          ],
          [
           "TEDxDeExtinction"
          ],
          [
           "TEDxDelft"
          ],
          [
           "TEDxDesMoines"
          ],
          [
           "TEDxDirigo"
          ],
          [
           "TEDxDubai"
          ],
          [
           "TEDxDublin"
          ],
          [
           "TEDxEQChCh"
          ],
          [
           "TEDxEast"
          ],
          [
           "TEDxEastEnd"
          ],
          [
           "TEDxEdmonton"
          ],
          [
           "TEDxEuston"
          ],
          [
           "TEDxExeter"
          ],
          [
           "TEDxFiDiWomen"
          ],
          [
           "TEDxFrankfurt"
          ],
          [
           "TEDxFulbrightDublin"
          ],
          [
           "TEDxGatewayWomen"
          ],
          [
           "TEDxGeorgetown"
          ],
          [
           "TEDxGhent"
          ],
          [
           "TEDxGlasgow"
          ],
          [
           "TEDxGoldenGatePark 2012"
          ],
          [
           "TEDxGoodenoughCollege"
          ],
          [
           "TEDxGrandRapids"
          ],
          [
           "TEDxGreatPacificGarbagePatch"
          ],
          [
           "TEDxGroningen"
          ],
          [
           "TEDxGöteborg 2010"
          ],
          [
           "TEDxHamburg"
          ],
          [
           "TEDxHampshireCollege"
          ],
          [
           "TEDxHelvetia"
          ],
          [
           "TEDxHogeschoolUtrecht"
          ],
          [
           "TEDxHousesOfParliament"
          ],
          [
           "TEDxHouston"
          ],
          [
           "TEDxImperialCollege"
          ],
          [
           "TEDxIndianaUniversity"
          ],
          [
           "TEDxIndianapolis"
          ],
          [
           "TEDxIslay"
          ],
          [
           "TEDxJaffa 2012"
          ],
          [
           "TEDxJaffa 2013"
          ],
          [
           "TEDxKC"
          ],
          [
           "TEDxKids@Ambleside"
          ],
          [
           "TEDxKids@Brussels"
          ],
          [
           "TEDxKrakow"
          ],
          [
           "TEDxKyoto"
          ],
          [
           "TEDxLeuvenSalon"
          ],
          [
           "TEDxLinnaeusUniversity"
          ],
          [
           "TEDxLondonBusinessSchool"
          ],
          [
           "TEDxMIA"
          ],
          [
           "TEDxMaastricht"
          ],
          [
           "TEDxManchester"
          ],
          [
           "TEDxManhattan"
          ],
          [
           "TEDxManhattanBeach"
          ],
          [
           "TEDxMarin"
          ],
          [
           "TEDxMaui"
          ],
          [
           "TEDxMet"
          ],
          [
           "TEDxMiamiUniversity"
          ],
          [
           "TEDxMidAtlantic"
          ],
          [
           "TEDxMidAtlantic 2013"
          ],
          [
           "TEDxMidwest"
          ],
          [
           "TEDxMileHigh"
          ],
          [
           "TEDxMonroeCorrectionalComplex"
          ],
          [
           "TEDxMonterey"
          ],
          [
           "TEDxMontreal"
          ],
          [
           "TEDxMtHood"
          ],
          [
           "TEDxMuncyStatePrison"
          ],
          [
           "TEDxNASA"
          ],
          [
           "TEDxNASA@SiliconValley"
          ],
          [
           "TEDxNYED"
          ],
          [
           "TEDxNatick"
          ],
          [
           "TEDxNewYork"
          ],
          [
           "TEDxNewy"
          ],
          [
           "TEDxNextGenerationAsheville"
          ],
          [
           "TEDxNijmegen"
          ],
          [
           "TEDxNorrkoping"
          ],
          [
           "TEDxNorthwesternU"
          ],
          [
           "TEDxO'Porto"
          ],
          [
           "TEDxObserver"
          ],
          [
           "TEDxOilSpill"
          ],
          [
           "TEDxOmaha"
          ],
          [
           "TEDxOrangeCoast"
          ],
          [
           "TEDxOrcasIsland"
          ],
          [
           "TEDxOslo"
          ],
          [
           "TEDxPSU"
          ],
          [
           "TEDxParis 2010"
          ],
          [
           "TEDxParis 2012"
          ],
          [
           "TEDxPeachtree"
          ],
          [
           "TEDxPenn"
          ],
          [
           "TEDxPennQuarter"
          ],
          [
           "TEDxPennsylvaniaAvenue"
          ],
          [
           "TEDxPerth"
          ],
          [
           "TEDxPhoenix"
          ],
          [
           "TEDxPittsburgh"
          ],
          [
           "TEDxPlaceDesNations"
          ],
          [
           "TEDxPortland"
          ],
          [
           "TEDxPortofSpain"
          ],
          [
           "TEDxProvidence"
          ],
          [
           "TEDxPuget Sound "
          ],
          [
           "TEDxRC2"
          ],
          [
           "TEDxRainier"
          ],
          [
           "TEDxRiodelaPlata"
          ],
          [
           "TEDxRotterdam 2010"
          ],
          [
           "TEDxSBU"
          ],
          [
           "TEDxSF"
          ],
          [
           "TEDxSFU"
          ],
          [
           "TEDxSMU"
          ],
          [
           "TEDxSaltLakeCity"
          ],
          [
           "TEDxSanDiego"
          ],
          [
           "TEDxSanJoseCA"
          ],
          [
           "TEDxSanMigueldeAllende"
          ],
          [
           "TEDxSanQuentin"
          ],
          [
           "TEDxSantaCruz"
          ],
          [
           "TEDxSeattleU"
          ],
          [
           "TEDxSeoul"
          ],
          [
           "TEDxSiliconValley"
          ],
          [
           "TEDxSkoll"
          ],
          [
           "TEDxSonomaCounty"
          ],
          [
           "TEDxSouthBank"
          ],
          [
           "TEDxStanford"
          ],
          [
           "TEDxSummit"
          ],
          [
           "TEDxSussexUniversity"
          ],
          [
           "TEDxSydney"
          ],
          [
           "TEDxTC"
          ],
          [
           "TEDxTeen"
          ],
          [
           "TEDxTelAviv 2010"
          ],
          [
           "TEDxThessaloniki"
          ],
          [
           "TEDxTokyo"
          ],
          [
           "TEDxToronto"
          ],
          [
           "TEDxToronto 2010"
          ],
          [
           "TEDxToronto 2011"
          ],
          [
           "TEDxToulouse"
          ],
          [
           "TEDxUCL"
          ],
          [
           "TEDxUF"
          ],
          [
           "TEDxUIUC"
          ],
          [
           "TEDxUM"
          ],
          [
           "TEDxUMKC"
          ],
          [
           "TEDxUSC"
          ],
          [
           "TEDxUW"
          ],
          [
           "TEDxUdeM"
          ],
          [
           "TEDxUniversityofNevada"
          ],
          [
           "TEDxUofM"
          ],
          [
           "TEDxVancouver"
          ],
          [
           "TEDxVictoria"
          ],
          [
           "TEDxVienna"
          ],
          [
           "TEDxVirginiaTech"
          ],
          [
           "TEDxWarwick"
          ],
          [
           "TEDxWaterloo"
          ],
          [
           "TEDxWinnipeg"
          ],
          [
           "TEDxWitsUniversity"
          ],
          [
           "TEDxWomen 2011"
          ],
          [
           "TEDxWomen 2012"
          ],
          [
           "TEDxYYC"
          ],
          [
           "TEDxYouth@Manchester"
          ],
          [
           "TEDxYouth@Sydney"
          ],
          [
           "TEDxZurich"
          ],
          [
           "TEDxZurich 2011"
          ],
          [
           "TEDxZurich 2012"
          ],
          [
           "TEDxZurich 2013"
          ],
          [
           "Taste3 2008"
          ],
          [
           "The Do Lectures"
          ],
          [
           "Toronto Youth Corps"
          ],
          [
           "University of California"
          ],
          [
           "Web 2.0 Expo 2008"
          ],
          [
           "World Science Festival"
          ]
         ],
         "hovertemplate": "y=%{y}<br>index=%{customdata[0]}<extra></extra>",
         "legendgroup": "",
         "marker": {
          "color": "red"
         },
         "name": "",
         "notched": false,
         "offsetgroup": "",
         "orientation": "v",
         "showlegend": false,
         "type": "box",
         "x0": " ",
         "xaxis": "x",
         "y": [
          1,
          1,
          1,
          1,
          3,
          1,
          3,
          1,
          1,
          13,
          8,
          1,
          1,
          1,
          3,
          2,
          1,
          1,
          1,
          6,
          1,
          1,
          1,
          8,
          18,
          1,
          1,
          1,
          3,
          1,
          8,
          1,
          1,
          2,
          2,
          1,
          5,
          7,
          1,
          5,
          1,
          4,
          8,
          20,
          4,
          9,
          1,
          1,
          1,
          1,
          6,
          3,
          28,
          34,
          31,
          37,
          45,
          68,
          57,
          83,
          68,
          70,
          65,
          77,
          84,
          75,
          77,
          67,
          2,
          4,
          11,
          7,
          3,
          1,
          5,
          10,
          3,
          1,
          1,
          2,
          10,
          1,
          4,
          1,
          5,
          6,
          1,
          1,
          5,
          3,
          3,
          2,
          1,
          11,
          26,
          27,
          65,
          55,
          68,
          70,
          66,
          51,
          3,
          11,
          13,
          8,
          35,
          2,
          11,
          4,
          7,
          10,
          8,
          10,
          8,
          10,
          19,
          1,
          2,
          4,
          2,
          3,
          10,
          1,
          7,
          2,
          6,
          6,
          5,
          6,
          4,
          11,
          11,
          1,
          34,
          34,
          9,
          28,
          25,
          3,
          1,
          3,
          7,
          5,
          1,
          1,
          1,
          1,
          4,
          1,
          1,
          2,
          1,
          4,
          1,
          22,
          1,
          2,
          2,
          3,
          1,
          2,
          3,
          1,
          1,
          6,
          6,
          3,
          2,
          2,
          1,
          8,
          7,
          1,
          2,
          1,
          8,
          8,
          3,
          1,
          4,
          1,
          1,
          1,
          1,
          2,
          1,
          1,
          1,
          1,
          1,
          2,
          1,
          1,
          2,
          2,
          1,
          1,
          1,
          3,
          1,
          5,
          1,
          1,
          1,
          9,
          1,
          1,
          1,
          1,
          1,
          2,
          1,
          1,
          1,
          1,
          3,
          1,
          1,
          1,
          1,
          1,
          1,
          6,
          2,
          1,
          1,
          1,
          1,
          1,
          1,
          4,
          1,
          1,
          2,
          2,
          1,
          1,
          1,
          1,
          4,
          2,
          2,
          3,
          3,
          2,
          2,
          1,
          17,
          2,
          3,
          4,
          1,
          1,
          1,
          1,
          1,
          2,
          1,
          2,
          1,
          6,
          1,
          1,
          1,
          1,
          1,
          1,
          2,
          3,
          1,
          1,
          1,
          2,
          7,
          2,
          1,
          3,
          1,
          1,
          1,
          2,
          4,
          1,
          2,
          1,
          2,
          1,
          1,
          3,
          5,
          8,
          2,
          1,
          1,
          1,
          3,
          1,
          2,
          1,
          2,
          1,
          1,
          1,
          1,
          1,
          2,
          1,
          1,
          9,
          12,
          1,
          13,
          3,
          2,
          2,
          3,
          2,
          1,
          4,
          2,
          1,
          1,
          1,
          1,
          1,
          1,
          9,
          1,
          1,
          1,
          1,
          4,
          1,
          3,
          1,
          4,
          1,
          1,
          1,
          7,
          6,
          3,
          2,
          2,
          1,
          1,
          2,
          1,
          6,
          1,
          1,
          2,
          1,
          1
         ],
         "y0": " ",
         "yaxis": "y"
        }
       ],
       "layout": {
        "boxmode": "group",
        "legend": {
         "tracegroupgap": 0
        },
        "template": {
         "data": {
          "bar": [
           {
            "error_x": {
             "color": "#f2f5fa"
            },
            "error_y": {
             "color": "#f2f5fa"
            },
            "marker": {
             "line": {
              "color": "rgb(17,17,17)",
              "width": 0.5
             },
             "pattern": {
              "fillmode": "overlay",
              "size": 10,
              "solidity": 0.2
             }
            },
            "type": "bar"
           }
          ],
          "barpolar": [
           {
            "marker": {
             "line": {
              "color": "rgb(17,17,17)",
              "width": 0.5
             },
             "pattern": {
              "fillmode": "overlay",
              "size": 10,
              "solidity": 0.2
             }
            },
            "type": "barpolar"
           }
          ],
          "carpet": [
           {
            "aaxis": {
             "endlinecolor": "#A2B1C6",
             "gridcolor": "#506784",
             "linecolor": "#506784",
             "minorgridcolor": "#506784",
             "startlinecolor": "#A2B1C6"
            },
            "baxis": {
             "endlinecolor": "#A2B1C6",
             "gridcolor": "#506784",
             "linecolor": "#506784",
             "minorgridcolor": "#506784",
             "startlinecolor": "#A2B1C6"
            },
            "type": "carpet"
           }
          ],
          "choropleth": [
           {
            "colorbar": {
             "outlinewidth": 0,
             "ticks": ""
            },
            "type": "choropleth"
           }
          ],
          "contour": [
           {
            "colorbar": {
             "outlinewidth": 0,
             "ticks": ""
            },
            "colorscale": [
             [
              0,
              "#0d0887"
             ],
             [
              0.1111111111111111,
              "#46039f"
             ],
             [
              0.2222222222222222,
              "#7201a8"
             ],
             [
              0.3333333333333333,
              "#9c179e"
             ],
             [
              0.4444444444444444,
              "#bd3786"
             ],
             [
              0.5555555555555556,
              "#d8576b"
             ],
             [
              0.6666666666666666,
              "#ed7953"
             ],
             [
              0.7777777777777778,
              "#fb9f3a"
             ],
             [
              0.8888888888888888,
              "#fdca26"
             ],
             [
              1,
              "#f0f921"
             ]
            ],
            "type": "contour"
           }
          ],
          "contourcarpet": [
           {
            "colorbar": {
             "outlinewidth": 0,
             "ticks": ""
            },
            "type": "contourcarpet"
           }
          ],
          "heatmap": [
           {
            "colorbar": {
             "outlinewidth": 0,
             "ticks": ""
            },
            "colorscale": [
             [
              0,
              "#0d0887"
             ],
             [
              0.1111111111111111,
              "#46039f"
             ],
             [
              0.2222222222222222,
              "#7201a8"
             ],
             [
              0.3333333333333333,
              "#9c179e"
             ],
             [
              0.4444444444444444,
              "#bd3786"
             ],
             [
              0.5555555555555556,
              "#d8576b"
             ],
             [
              0.6666666666666666,
              "#ed7953"
             ],
             [
              0.7777777777777778,
              "#fb9f3a"
             ],
             [
              0.8888888888888888,
              "#fdca26"
             ],
             [
              1,
              "#f0f921"
             ]
            ],
            "type": "heatmap"
           }
          ],
          "heatmapgl": [
           {
            "colorbar": {
             "outlinewidth": 0,
             "ticks": ""
            },
            "colorscale": [
             [
              0,
              "#0d0887"
             ],
             [
              0.1111111111111111,
              "#46039f"
             ],
             [
              0.2222222222222222,
              "#7201a8"
             ],
             [
              0.3333333333333333,
              "#9c179e"
             ],
             [
              0.4444444444444444,
              "#bd3786"
             ],
             [
              0.5555555555555556,
              "#d8576b"
             ],
             [
              0.6666666666666666,
              "#ed7953"
             ],
             [
              0.7777777777777778,
              "#fb9f3a"
             ],
             [
              0.8888888888888888,
              "#fdca26"
             ],
             [
              1,
              "#f0f921"
             ]
            ],
            "type": "heatmapgl"
           }
          ],
          "histogram": [
           {
            "marker": {
             "pattern": {
              "fillmode": "overlay",
              "size": 10,
              "solidity": 0.2
             }
            },
            "type": "histogram"
           }
          ],
          "histogram2d": [
           {
            "colorbar": {
             "outlinewidth": 0,
             "ticks": ""
            },
            "colorscale": [
             [
              0,
              "#0d0887"
             ],
             [
              0.1111111111111111,
              "#46039f"
             ],
             [
              0.2222222222222222,
              "#7201a8"
             ],
             [
              0.3333333333333333,
              "#9c179e"
             ],
             [
              0.4444444444444444,
              "#bd3786"
             ],
             [
              0.5555555555555556,
              "#d8576b"
             ],
             [
              0.6666666666666666,
              "#ed7953"
             ],
             [
              0.7777777777777778,
              "#fb9f3a"
             ],
             [
              0.8888888888888888,
              "#fdca26"
             ],
             [
              1,
              "#f0f921"
             ]
            ],
            "type": "histogram2d"
           }
          ],
          "histogram2dcontour": [
           {
            "colorbar": {
             "outlinewidth": 0,
             "ticks": ""
            },
            "colorscale": [
             [
              0,
              "#0d0887"
             ],
             [
              0.1111111111111111,
              "#46039f"
             ],
             [
              0.2222222222222222,
              "#7201a8"
             ],
             [
              0.3333333333333333,
              "#9c179e"
             ],
             [
              0.4444444444444444,
              "#bd3786"
             ],
             [
              0.5555555555555556,
              "#d8576b"
             ],
             [
              0.6666666666666666,
              "#ed7953"
             ],
             [
              0.7777777777777778,
              "#fb9f3a"
             ],
             [
              0.8888888888888888,
              "#fdca26"
             ],
             [
              1,
              "#f0f921"
             ]
            ],
            "type": "histogram2dcontour"
           }
          ],
          "mesh3d": [
           {
            "colorbar": {
             "outlinewidth": 0,
             "ticks": ""
            },
            "type": "mesh3d"
           }
          ],
          "parcoords": [
           {
            "line": {
             "colorbar": {
              "outlinewidth": 0,
              "ticks": ""
             }
            },
            "type": "parcoords"
           }
          ],
          "pie": [
           {
            "automargin": true,
            "type": "pie"
           }
          ],
          "scatter": [
           {
            "marker": {
             "line": {
              "color": "#283442"
             }
            },
            "type": "scatter"
           }
          ],
          "scatter3d": [
           {
            "line": {
             "colorbar": {
              "outlinewidth": 0,
              "ticks": ""
             }
            },
            "marker": {
             "colorbar": {
              "outlinewidth": 0,
              "ticks": ""
             }
            },
            "type": "scatter3d"
           }
          ],
          "scattercarpet": [
           {
            "marker": {
             "colorbar": {
              "outlinewidth": 0,
              "ticks": ""
             }
            },
            "type": "scattercarpet"
           }
          ],
          "scattergeo": [
           {
            "marker": {
             "colorbar": {
              "outlinewidth": 0,
              "ticks": ""
             }
            },
            "type": "scattergeo"
           }
          ],
          "scattergl": [
           {
            "marker": {
             "line": {
              "color": "#283442"
             }
            },
            "type": "scattergl"
           }
          ],
          "scattermapbox": [
           {
            "marker": {
             "colorbar": {
              "outlinewidth": 0,
              "ticks": ""
             }
            },
            "type": "scattermapbox"
           }
          ],
          "scatterpolar": [
           {
            "marker": {
             "colorbar": {
              "outlinewidth": 0,
              "ticks": ""
             }
            },
            "type": "scatterpolar"
           }
          ],
          "scatterpolargl": [
           {
            "marker": {
             "colorbar": {
              "outlinewidth": 0,
              "ticks": ""
             }
            },
            "type": "scatterpolargl"
           }
          ],
          "scatterternary": [
           {
            "marker": {
             "colorbar": {
              "outlinewidth": 0,
              "ticks": ""
             }
            },
            "type": "scatterternary"
           }
          ],
          "surface": [
           {
            "colorbar": {
             "outlinewidth": 0,
             "ticks": ""
            },
            "colorscale": [
             [
              0,
              "#0d0887"
             ],
             [
              0.1111111111111111,
              "#46039f"
             ],
             [
              0.2222222222222222,
              "#7201a8"
             ],
             [
              0.3333333333333333,
              "#9c179e"
             ],
             [
              0.4444444444444444,
              "#bd3786"
             ],
             [
              0.5555555555555556,
              "#d8576b"
             ],
             [
              0.6666666666666666,
              "#ed7953"
             ],
             [
              0.7777777777777778,
              "#fb9f3a"
             ],
             [
              0.8888888888888888,
              "#fdca26"
             ],
             [
              1,
              "#f0f921"
             ]
            ],
            "type": "surface"
           }
          ],
          "table": [
           {
            "cells": {
             "fill": {
              "color": "#506784"
             },
             "line": {
              "color": "rgb(17,17,17)"
             }
            },
            "header": {
             "fill": {
              "color": "#2a3f5f"
             },
             "line": {
              "color": "rgb(17,17,17)"
             }
            },
            "type": "table"
           }
          ]
         },
         "layout": {
          "annotationdefaults": {
           "arrowcolor": "#f2f5fa",
           "arrowhead": 0,
           "arrowwidth": 1
          },
          "autotypenumbers": "strict",
          "coloraxis": {
           "colorbar": {
            "outlinewidth": 0,
            "ticks": ""
           }
          },
          "colorscale": {
           "diverging": [
            [
             0,
             "#8e0152"
            ],
            [
             0.1,
             "#c51b7d"
            ],
            [
             0.2,
             "#de77ae"
            ],
            [
             0.3,
             "#f1b6da"
            ],
            [
             0.4,
             "#fde0ef"
            ],
            [
             0.5,
             "#f7f7f7"
            ],
            [
             0.6,
             "#e6f5d0"
            ],
            [
             0.7,
             "#b8e186"
            ],
            [
             0.8,
             "#7fbc41"
            ],
            [
             0.9,
             "#4d9221"
            ],
            [
             1,
             "#276419"
            ]
           ],
           "sequential": [
            [
             0,
             "#0d0887"
            ],
            [
             0.1111111111111111,
             "#46039f"
            ],
            [
             0.2222222222222222,
             "#7201a8"
            ],
            [
             0.3333333333333333,
             "#9c179e"
            ],
            [
             0.4444444444444444,
             "#bd3786"
            ],
            [
             0.5555555555555556,
             "#d8576b"
            ],
            [
             0.6666666666666666,
             "#ed7953"
            ],
            [
             0.7777777777777778,
             "#fb9f3a"
            ],
            [
             0.8888888888888888,
             "#fdca26"
            ],
            [
             1,
             "#f0f921"
            ]
           ],
           "sequentialminus": [
            [
             0,
             "#0d0887"
            ],
            [
             0.1111111111111111,
             "#46039f"
            ],
            [
             0.2222222222222222,
             "#7201a8"
            ],
            [
             0.3333333333333333,
             "#9c179e"
            ],
            [
             0.4444444444444444,
             "#bd3786"
            ],
            [
             0.5555555555555556,
             "#d8576b"
            ],
            [
             0.6666666666666666,
             "#ed7953"
            ],
            [
             0.7777777777777778,
             "#fb9f3a"
            ],
            [
             0.8888888888888888,
             "#fdca26"
            ],
            [
             1,
             "#f0f921"
            ]
           ]
          },
          "colorway": [
           "#636efa",
           "#EF553B",
           "#00cc96",
           "#ab63fa",
           "#FFA15A",
           "#19d3f3",
           "#FF6692",
           "#B6E880",
           "#FF97FF",
           "#FECB52"
          ],
          "font": {
           "color": "#f2f5fa"
          },
          "geo": {
           "bgcolor": "rgb(17,17,17)",
           "lakecolor": "rgb(17,17,17)",
           "landcolor": "rgb(17,17,17)",
           "showlakes": true,
           "showland": true,
           "subunitcolor": "#506784"
          },
          "hoverlabel": {
           "align": "left"
          },
          "hovermode": "closest",
          "mapbox": {
           "style": "dark"
          },
          "paper_bgcolor": "rgb(17,17,17)",
          "plot_bgcolor": "rgb(17,17,17)",
          "polar": {
           "angularaxis": {
            "gridcolor": "#506784",
            "linecolor": "#506784",
            "ticks": ""
           },
           "bgcolor": "rgb(17,17,17)",
           "radialaxis": {
            "gridcolor": "#506784",
            "linecolor": "#506784",
            "ticks": ""
           }
          },
          "scene": {
           "xaxis": {
            "backgroundcolor": "rgb(17,17,17)",
            "gridcolor": "#506784",
            "gridwidth": 2,
            "linecolor": "#506784",
            "showbackground": true,
            "ticks": "",
            "zerolinecolor": "#C8D4E3"
           },
           "yaxis": {
            "backgroundcolor": "rgb(17,17,17)",
            "gridcolor": "#506784",
            "gridwidth": 2,
            "linecolor": "#506784",
            "showbackground": true,
            "ticks": "",
            "zerolinecolor": "#C8D4E3"
           },
           "zaxis": {
            "backgroundcolor": "rgb(17,17,17)",
            "gridcolor": "#506784",
            "gridwidth": 2,
            "linecolor": "#506784",
            "showbackground": true,
            "ticks": "",
            "zerolinecolor": "#C8D4E3"
           }
          },
          "shapedefaults": {
           "line": {
            "color": "#f2f5fa"
           }
          },
          "sliderdefaults": {
           "bgcolor": "#C8D4E3",
           "bordercolor": "rgb(17,17,17)",
           "borderwidth": 1,
           "tickwidth": 0
          },
          "ternary": {
           "aaxis": {
            "gridcolor": "#506784",
            "linecolor": "#506784",
            "ticks": ""
           },
           "baxis": {
            "gridcolor": "#506784",
            "linecolor": "#506784",
            "ticks": ""
           },
           "bgcolor": "rgb(17,17,17)",
           "caxis": {
            "gridcolor": "#506784",
            "linecolor": "#506784",
            "ticks": ""
           }
          },
          "title": {
           "x": 0.05
          },
          "updatemenudefaults": {
           "bgcolor": "#506784",
           "borderwidth": 0
          },
          "xaxis": {
           "automargin": true,
           "gridcolor": "#283442",
           "linecolor": "#506784",
           "ticks": "",
           "title": {
            "standoff": 15
           },
           "zerolinecolor": "#283442",
           "zerolinewidth": 2
          },
          "yaxis": {
           "automargin": true,
           "gridcolor": "#283442",
           "linecolor": "#506784",
           "ticks": "",
           "title": {
            "standoff": 15
           },
           "zerolinecolor": "#283442",
           "zerolinewidth": 2
          }
         }
        },
        "title": {
         "text": "Distribution of event counts"
        },
        "xaxis": {
         "anchor": "y",
         "domain": [
          0,
          1
         ]
        },
        "yaxis": {
         "anchor": "x",
         "domain": [
          0,
          1
         ],
         "showgrid": false,
         "title": {
          "text": "Event Counts"
         },
         "visible": true
        }
       }
      }
     },
     "metadata": {},
     "output_type": "display_data"
    }
   ],
   "source": [
    "count_talk = ted_talk.groupby('event')['event'].count()\n",
    "fig = px.box(count_talk, y = count_talk, hover_data = [count_talk.index], title = 'Distribution of event counts', color_discrete_sequence = ['red'])\n",
    "fig.update_layout(\n",
    "    template= 'plotly_dark')\n",
    "fig.update_yaxes(showgrid=False,visible=True,title=\"Event Counts\")\n",
    "fig.show()"
   ]
  },
  {
   "cell_type": "markdown",
   "metadata": {},
   "source": [
    "Film date and Published Date"
   ]
  },
  {
   "cell_type": "code",
   "execution_count": 44,
   "metadata": {},
   "outputs": [
    {
     "data": {
      "text/html": [
       "<div>\n",
       "<style scoped>\n",
       "    .dataframe tbody tr th:only-of-type {\n",
       "        vertical-align: middle;\n",
       "    }\n",
       "\n",
       "    .dataframe tbody tr th {\n",
       "        vertical-align: top;\n",
       "    }\n",
       "\n",
       "    .dataframe thead th {\n",
       "        text-align: right;\n",
       "    }\n",
       "</style>\n",
       "<table border=\"1\" class=\"dataframe\">\n",
       "  <thead>\n",
       "    <tr style=\"text-align: right;\">\n",
       "      <th></th>\n",
       "      <th>comments</th>\n",
       "      <th>description</th>\n",
       "      <th>duration</th>\n",
       "      <th>event</th>\n",
       "      <th>film_date</th>\n",
       "      <th>languages</th>\n",
       "      <th>main_speaker</th>\n",
       "      <th>name</th>\n",
       "      <th>num_speaker</th>\n",
       "      <th>published_date</th>\n",
       "      <th>ratings</th>\n",
       "      <th>related_talks</th>\n",
       "      <th>speaker_occupation</th>\n",
       "      <th>tags</th>\n",
       "      <th>title</th>\n",
       "      <th>url</th>\n",
       "      <th>views</th>\n",
       "    </tr>\n",
       "  </thead>\n",
       "  <tbody>\n",
       "  </tbody>\n",
       "</table>\n",
       "</div>"
      ],
      "text/plain": [
       "Empty DataFrame\n",
       "Columns: [comments, description, duration, event, film_date, languages, main_speaker, name, num_speaker, published_date, ratings, related_talks, speaker_occupation, tags, title, url, views]\n",
       "Index: []"
      ]
     },
     "execution_count": 44,
     "metadata": {},
     "output_type": "execute_result"
    }
   ],
   "source": [
    "ted_talk[ted_talk['published_date'] != ted_talk['film_date']]"
   ]
  },
  {
   "cell_type": "markdown",
   "metadata": {},
   "source": [
    "Film_date equal to published_date for all records. Thus, we can use any columns to filter the year."
   ]
  },
  {
   "cell_type": "code",
   "execution_count": 45,
   "metadata": {},
   "outputs": [
    {
     "data": {
      "application/vnd.plotly.v1+json": {
       "config": {
        "plotlyServerURL": "https://plot.ly"
       },
       "data": [
        {
         "alignmentgroup": "True",
         "hovertemplate": "film_date=%{x}<br>count=%{y}<extra></extra>",
         "legendgroup": "",
         "marker": {
          "color": "red",
          "pattern": {
           "shape": ""
          }
         },
         "name": "",
         "offsetgroup": "",
         "orientation": "v",
         "showlegend": false,
         "textposition": "auto",
         "type": "bar",
         "x": [
          1972,
          1983,
          1984,
          1990,
          1991,
          1994,
          1998,
          2001,
          2002,
          2003,
          2004,
          2005,
          2006,
          2007,
          2008,
          2009,
          2010,
          2011,
          2012,
          2013,
          2014,
          2015,
          2016,
          2017
         ],
         "xaxis": "x",
         "y": [
          1,
          1,
          1,
          1,
          1,
          1,
          6,
          5,
          27,
          33,
          33,
          66,
          50,
          114,
          84,
          232,
          267,
          270,
          267,
          270,
          237,
          239,
          246,
          98
         ],
         "yaxis": "y"
        }
       ],
       "layout": {
        "barmode": "relative",
        "legend": {
         "tracegroupgap": 0
        },
        "margin": {
         "t": 60
        },
        "template": {
         "data": {
          "bar": [
           {
            "error_x": {
             "color": "#f2f5fa"
            },
            "error_y": {
             "color": "#f2f5fa"
            },
            "marker": {
             "line": {
              "color": "rgb(17,17,17)",
              "width": 0.5
             },
             "pattern": {
              "fillmode": "overlay",
              "size": 10,
              "solidity": 0.2
             }
            },
            "type": "bar"
           }
          ],
          "barpolar": [
           {
            "marker": {
             "line": {
              "color": "rgb(17,17,17)",
              "width": 0.5
             },
             "pattern": {
              "fillmode": "overlay",
              "size": 10,
              "solidity": 0.2
             }
            },
            "type": "barpolar"
           }
          ],
          "carpet": [
           {
            "aaxis": {
             "endlinecolor": "#A2B1C6",
             "gridcolor": "#506784",
             "linecolor": "#506784",
             "minorgridcolor": "#506784",
             "startlinecolor": "#A2B1C6"
            },
            "baxis": {
             "endlinecolor": "#A2B1C6",
             "gridcolor": "#506784",
             "linecolor": "#506784",
             "minorgridcolor": "#506784",
             "startlinecolor": "#A2B1C6"
            },
            "type": "carpet"
           }
          ],
          "choropleth": [
           {
            "colorbar": {
             "outlinewidth": 0,
             "ticks": ""
            },
            "type": "choropleth"
           }
          ],
          "contour": [
           {
            "colorbar": {
             "outlinewidth": 0,
             "ticks": ""
            },
            "colorscale": [
             [
              0,
              "#0d0887"
             ],
             [
              0.1111111111111111,
              "#46039f"
             ],
             [
              0.2222222222222222,
              "#7201a8"
             ],
             [
              0.3333333333333333,
              "#9c179e"
             ],
             [
              0.4444444444444444,
              "#bd3786"
             ],
             [
              0.5555555555555556,
              "#d8576b"
             ],
             [
              0.6666666666666666,
              "#ed7953"
             ],
             [
              0.7777777777777778,
              "#fb9f3a"
             ],
             [
              0.8888888888888888,
              "#fdca26"
             ],
             [
              1,
              "#f0f921"
             ]
            ],
            "type": "contour"
           }
          ],
          "contourcarpet": [
           {
            "colorbar": {
             "outlinewidth": 0,
             "ticks": ""
            },
            "type": "contourcarpet"
           }
          ],
          "heatmap": [
           {
            "colorbar": {
             "outlinewidth": 0,
             "ticks": ""
            },
            "colorscale": [
             [
              0,
              "#0d0887"
             ],
             [
              0.1111111111111111,
              "#46039f"
             ],
             [
              0.2222222222222222,
              "#7201a8"
             ],
             [
              0.3333333333333333,
              "#9c179e"
             ],
             [
              0.4444444444444444,
              "#bd3786"
             ],
             [
              0.5555555555555556,
              "#d8576b"
             ],
             [
              0.6666666666666666,
              "#ed7953"
             ],
             [
              0.7777777777777778,
              "#fb9f3a"
             ],
             [
              0.8888888888888888,
              "#fdca26"
             ],
             [
              1,
              "#f0f921"
             ]
            ],
            "type": "heatmap"
           }
          ],
          "heatmapgl": [
           {
            "colorbar": {
             "outlinewidth": 0,
             "ticks": ""
            },
            "colorscale": [
             [
              0,
              "#0d0887"
             ],
             [
              0.1111111111111111,
              "#46039f"
             ],
             [
              0.2222222222222222,
              "#7201a8"
             ],
             [
              0.3333333333333333,
              "#9c179e"
             ],
             [
              0.4444444444444444,
              "#bd3786"
             ],
             [
              0.5555555555555556,
              "#d8576b"
             ],
             [
              0.6666666666666666,
              "#ed7953"
             ],
             [
              0.7777777777777778,
              "#fb9f3a"
             ],
             [
              0.8888888888888888,
              "#fdca26"
             ],
             [
              1,
              "#f0f921"
             ]
            ],
            "type": "heatmapgl"
           }
          ],
          "histogram": [
           {
            "marker": {
             "pattern": {
              "fillmode": "overlay",
              "size": 10,
              "solidity": 0.2
             }
            },
            "type": "histogram"
           }
          ],
          "histogram2d": [
           {
            "colorbar": {
             "outlinewidth": 0,
             "ticks": ""
            },
            "colorscale": [
             [
              0,
              "#0d0887"
             ],
             [
              0.1111111111111111,
              "#46039f"
             ],
             [
              0.2222222222222222,
              "#7201a8"
             ],
             [
              0.3333333333333333,
              "#9c179e"
             ],
             [
              0.4444444444444444,
              "#bd3786"
             ],
             [
              0.5555555555555556,
              "#d8576b"
             ],
             [
              0.6666666666666666,
              "#ed7953"
             ],
             [
              0.7777777777777778,
              "#fb9f3a"
             ],
             [
              0.8888888888888888,
              "#fdca26"
             ],
             [
              1,
              "#f0f921"
             ]
            ],
            "type": "histogram2d"
           }
          ],
          "histogram2dcontour": [
           {
            "colorbar": {
             "outlinewidth": 0,
             "ticks": ""
            },
            "colorscale": [
             [
              0,
              "#0d0887"
             ],
             [
              0.1111111111111111,
              "#46039f"
             ],
             [
              0.2222222222222222,
              "#7201a8"
             ],
             [
              0.3333333333333333,
              "#9c179e"
             ],
             [
              0.4444444444444444,
              "#bd3786"
             ],
             [
              0.5555555555555556,
              "#d8576b"
             ],
             [
              0.6666666666666666,
              "#ed7953"
             ],
             [
              0.7777777777777778,
              "#fb9f3a"
             ],
             [
              0.8888888888888888,
              "#fdca26"
             ],
             [
              1,
              "#f0f921"
             ]
            ],
            "type": "histogram2dcontour"
           }
          ],
          "mesh3d": [
           {
            "colorbar": {
             "outlinewidth": 0,
             "ticks": ""
            },
            "type": "mesh3d"
           }
          ],
          "parcoords": [
           {
            "line": {
             "colorbar": {
              "outlinewidth": 0,
              "ticks": ""
             }
            },
            "type": "parcoords"
           }
          ],
          "pie": [
           {
            "automargin": true,
            "type": "pie"
           }
          ],
          "scatter": [
           {
            "marker": {
             "line": {
              "color": "#283442"
             }
            },
            "type": "scatter"
           }
          ],
          "scatter3d": [
           {
            "line": {
             "colorbar": {
              "outlinewidth": 0,
              "ticks": ""
             }
            },
            "marker": {
             "colorbar": {
              "outlinewidth": 0,
              "ticks": ""
             }
            },
            "type": "scatter3d"
           }
          ],
          "scattercarpet": [
           {
            "marker": {
             "colorbar": {
              "outlinewidth": 0,
              "ticks": ""
             }
            },
            "type": "scattercarpet"
           }
          ],
          "scattergeo": [
           {
            "marker": {
             "colorbar": {
              "outlinewidth": 0,
              "ticks": ""
             }
            },
            "type": "scattergeo"
           }
          ],
          "scattergl": [
           {
            "marker": {
             "line": {
              "color": "#283442"
             }
            },
            "type": "scattergl"
           }
          ],
          "scattermapbox": [
           {
            "marker": {
             "colorbar": {
              "outlinewidth": 0,
              "ticks": ""
             }
            },
            "type": "scattermapbox"
           }
          ],
          "scatterpolar": [
           {
            "marker": {
             "colorbar": {
              "outlinewidth": 0,
              "ticks": ""
             }
            },
            "type": "scatterpolar"
           }
          ],
          "scatterpolargl": [
           {
            "marker": {
             "colorbar": {
              "outlinewidth": 0,
              "ticks": ""
             }
            },
            "type": "scatterpolargl"
           }
          ],
          "scatterternary": [
           {
            "marker": {
             "colorbar": {
              "outlinewidth": 0,
              "ticks": ""
             }
            },
            "type": "scatterternary"
           }
          ],
          "surface": [
           {
            "colorbar": {
             "outlinewidth": 0,
             "ticks": ""
            },
            "colorscale": [
             [
              0,
              "#0d0887"
             ],
             [
              0.1111111111111111,
              "#46039f"
             ],
             [
              0.2222222222222222,
              "#7201a8"
             ],
             [
              0.3333333333333333,
              "#9c179e"
             ],
             [
              0.4444444444444444,
              "#bd3786"
             ],
             [
              0.5555555555555556,
              "#d8576b"
             ],
             [
              0.6666666666666666,
              "#ed7953"
             ],
             [
              0.7777777777777778,
              "#fb9f3a"
             ],
             [
              0.8888888888888888,
              "#fdca26"
             ],
             [
              1,
              "#f0f921"
             ]
            ],
            "type": "surface"
           }
          ],
          "table": [
           {
            "cells": {
             "fill": {
              "color": "#506784"
             },
             "line": {
              "color": "rgb(17,17,17)"
             }
            },
            "header": {
             "fill": {
              "color": "#2a3f5f"
             },
             "line": {
              "color": "rgb(17,17,17)"
             }
            },
            "type": "table"
           }
          ]
         },
         "layout": {
          "annotationdefaults": {
           "arrowcolor": "#f2f5fa",
           "arrowhead": 0,
           "arrowwidth": 1
          },
          "autotypenumbers": "strict",
          "coloraxis": {
           "colorbar": {
            "outlinewidth": 0,
            "ticks": ""
           }
          },
          "colorscale": {
           "diverging": [
            [
             0,
             "#8e0152"
            ],
            [
             0.1,
             "#c51b7d"
            ],
            [
             0.2,
             "#de77ae"
            ],
            [
             0.3,
             "#f1b6da"
            ],
            [
             0.4,
             "#fde0ef"
            ],
            [
             0.5,
             "#f7f7f7"
            ],
            [
             0.6,
             "#e6f5d0"
            ],
            [
             0.7,
             "#b8e186"
            ],
            [
             0.8,
             "#7fbc41"
            ],
            [
             0.9,
             "#4d9221"
            ],
            [
             1,
             "#276419"
            ]
           ],
           "sequential": [
            [
             0,
             "#0d0887"
            ],
            [
             0.1111111111111111,
             "#46039f"
            ],
            [
             0.2222222222222222,
             "#7201a8"
            ],
            [
             0.3333333333333333,
             "#9c179e"
            ],
            [
             0.4444444444444444,
             "#bd3786"
            ],
            [
             0.5555555555555556,
             "#d8576b"
            ],
            [
             0.6666666666666666,
             "#ed7953"
            ],
            [
             0.7777777777777778,
             "#fb9f3a"
            ],
            [
             0.8888888888888888,
             "#fdca26"
            ],
            [
             1,
             "#f0f921"
            ]
           ],
           "sequentialminus": [
            [
             0,
             "#0d0887"
            ],
            [
             0.1111111111111111,
             "#46039f"
            ],
            [
             0.2222222222222222,
             "#7201a8"
            ],
            [
             0.3333333333333333,
             "#9c179e"
            ],
            [
             0.4444444444444444,
             "#bd3786"
            ],
            [
             0.5555555555555556,
             "#d8576b"
            ],
            [
             0.6666666666666666,
             "#ed7953"
            ],
            [
             0.7777777777777778,
             "#fb9f3a"
            ],
            [
             0.8888888888888888,
             "#fdca26"
            ],
            [
             1,
             "#f0f921"
            ]
           ]
          },
          "colorway": [
           "#636efa",
           "#EF553B",
           "#00cc96",
           "#ab63fa",
           "#FFA15A",
           "#19d3f3",
           "#FF6692",
           "#B6E880",
           "#FF97FF",
           "#FECB52"
          ],
          "font": {
           "color": "#f2f5fa"
          },
          "geo": {
           "bgcolor": "rgb(17,17,17)",
           "lakecolor": "rgb(17,17,17)",
           "landcolor": "rgb(17,17,17)",
           "showlakes": true,
           "showland": true,
           "subunitcolor": "#506784"
          },
          "hoverlabel": {
           "align": "left"
          },
          "hovermode": "closest",
          "mapbox": {
           "style": "dark"
          },
          "paper_bgcolor": "rgb(17,17,17)",
          "plot_bgcolor": "rgb(17,17,17)",
          "polar": {
           "angularaxis": {
            "gridcolor": "#506784",
            "linecolor": "#506784",
            "ticks": ""
           },
           "bgcolor": "rgb(17,17,17)",
           "radialaxis": {
            "gridcolor": "#506784",
            "linecolor": "#506784",
            "ticks": ""
           }
          },
          "scene": {
           "xaxis": {
            "backgroundcolor": "rgb(17,17,17)",
            "gridcolor": "#506784",
            "gridwidth": 2,
            "linecolor": "#506784",
            "showbackground": true,
            "ticks": "",
            "zerolinecolor": "#C8D4E3"
           },
           "yaxis": {
            "backgroundcolor": "rgb(17,17,17)",
            "gridcolor": "#506784",
            "gridwidth": 2,
            "linecolor": "#506784",
            "showbackground": true,
            "ticks": "",
            "zerolinecolor": "#C8D4E3"
           },
           "zaxis": {
            "backgroundcolor": "rgb(17,17,17)",
            "gridcolor": "#506784",
            "gridwidth": 2,
            "linecolor": "#506784",
            "showbackground": true,
            "ticks": "",
            "zerolinecolor": "#C8D4E3"
           }
          },
          "shapedefaults": {
           "line": {
            "color": "#f2f5fa"
           }
          },
          "sliderdefaults": {
           "bgcolor": "#C8D4E3",
           "bordercolor": "rgb(17,17,17)",
           "borderwidth": 1,
           "tickwidth": 0
          },
          "ternary": {
           "aaxis": {
            "gridcolor": "#506784",
            "linecolor": "#506784",
            "ticks": ""
           },
           "baxis": {
            "gridcolor": "#506784",
            "linecolor": "#506784",
            "ticks": ""
           },
           "bgcolor": "rgb(17,17,17)",
           "caxis": {
            "gridcolor": "#506784",
            "linecolor": "#506784",
            "ticks": ""
           }
          },
          "title": {
           "x": 0.05
          },
          "updatemenudefaults": {
           "bgcolor": "#506784",
           "borderwidth": 0
          },
          "xaxis": {
           "automargin": true,
           "gridcolor": "#283442",
           "linecolor": "#506784",
           "ticks": "",
           "title": {
            "standoff": 15
           },
           "zerolinecolor": "#283442",
           "zerolinewidth": 2
          },
          "yaxis": {
           "automargin": true,
           "gridcolor": "#283442",
           "linecolor": "#506784",
           "ticks": "",
           "title": {
            "standoff": 15
           },
           "zerolinecolor": "#283442",
           "zerolinewidth": 2
          }
         }
        },
        "xaxis": {
         "anchor": "y",
         "domain": [
          0,
          1
         ],
         "title": {
          "text": "film_date"
         }
        },
        "yaxis": {
         "anchor": "x",
         "domain": [
          0,
          1
         ],
         "title": {
          "text": "count"
         }
        }
       }
      }
     },
     "metadata": {},
     "output_type": "display_data"
    }
   ],
   "source": [
    "year_count = pd.DataFrame(ted_talk.groupby([ted_talk['film_date'].dt.year]).film_date.count())\n",
    "year_count.columns = ['count']\n",
    "year_count = year_count.reset_index()\n",
    "\n",
    "fig = px.bar(year_count, x = 'film_date', y = 'count', color_discrete_sequence = ['red'])\n",
    "fig.update_layout(\n",
    "    template= 'plotly_dark')"
   ]
  },
  {
   "cell_type": "markdown",
   "metadata": {},
   "source": [
    "As year 1972 - 2001 has less than 10 talks, we will exclude this year from our dashboard"
   ]
  },
  {
   "cell_type": "code",
   "execution_count": 46,
   "metadata": {},
   "outputs": [
    {
     "data": {
      "text/plain": [
       "(2533, 17)"
      ]
     },
     "execution_count": 46,
     "metadata": {},
     "output_type": "execute_result"
    }
   ],
   "source": [
    "ted_talk = ted_talk[ted_talk['film_date'].dt.year >= 2002].reset_index(drop = True)\n",
    "\n",
    "ted_talk.shape"
   ]
  },
  {
   "cell_type": "markdown",
   "metadata": {},
   "source": [
    "Find the year that does not align with event name"
   ]
  },
  {
   "cell_type": "code",
   "execution_count": 47,
   "metadata": {},
   "outputs": [
    {
     "data": {
      "text/html": [
       "<div>\n",
       "<style scoped>\n",
       "    .dataframe tbody tr th:only-of-type {\n",
       "        vertical-align: middle;\n",
       "    }\n",
       "\n",
       "    .dataframe tbody tr th {\n",
       "        vertical-align: top;\n",
       "    }\n",
       "\n",
       "    .dataframe thead th {\n",
       "        text-align: right;\n",
       "    }\n",
       "</style>\n",
       "<table border=\"1\" class=\"dataframe\">\n",
       "  <thead>\n",
       "    <tr style=\"text-align: right;\">\n",
       "      <th></th>\n",
       "      <th>event</th>\n",
       "      <th>film_date</th>\n",
       "      <th>year_from_name</th>\n",
       "      <th>year_date</th>\n",
       "    </tr>\n",
       "  </thead>\n",
       "  <tbody>\n",
       "    <tr>\n",
       "      <th>822</th>\n",
       "      <td>TEDSalon NY2011</td>\n",
       "      <td>2010-11-18</td>\n",
       "      <td>2011</td>\n",
       "      <td>2010</td>\n",
       "    </tr>\n",
       "  </tbody>\n",
       "</table>\n",
       "</div>"
      ],
      "text/plain": [
       "               event  film_date year_from_name  year_date\n",
       "822  TEDSalon NY2011 2010-11-18           2011       2010"
      ]
     },
     "execution_count": 47,
     "metadata": {},
     "output_type": "execute_result"
    }
   ],
   "source": [
    "year_name = ted_talk.loc[:,['event','film_date']]\n",
    "year_name['year_from_name'] = year_name['event'].apply(lambda x: x[-4:])\n",
    "year_name['year_date'] = year_name['film_date'].dt.year\n",
    "\n",
    "year_name[(year_name['year_from_name'] > year_name['year_date'].apply(lambda x: str(x))) & (year_name['year_from_name'].apply(lambda x: x.isnumeric()))]"
   ]
  },
  {
   "cell_type": "code",
   "execution_count": 48,
   "metadata": {},
   "outputs": [
    {
     "data": {
      "text/html": [
       "<div>\n",
       "<style scoped>\n",
       "    .dataframe tbody tr th:only-of-type {\n",
       "        vertical-align: middle;\n",
       "    }\n",
       "\n",
       "    .dataframe tbody tr th {\n",
       "        vertical-align: top;\n",
       "    }\n",
       "\n",
       "    .dataframe thead th {\n",
       "        text-align: right;\n",
       "    }\n",
       "</style>\n",
       "<table border=\"1\" class=\"dataframe\">\n",
       "  <thead>\n",
       "    <tr style=\"text-align: right;\">\n",
       "      <th></th>\n",
       "      <th>comments</th>\n",
       "      <th>description</th>\n",
       "      <th>duration</th>\n",
       "      <th>event</th>\n",
       "      <th>film_date</th>\n",
       "      <th>languages</th>\n",
       "      <th>main_speaker</th>\n",
       "      <th>name</th>\n",
       "      <th>num_speaker</th>\n",
       "      <th>published_date</th>\n",
       "      <th>ratings</th>\n",
       "      <th>related_talks</th>\n",
       "      <th>speaker_occupation</th>\n",
       "      <th>tags</th>\n",
       "      <th>title</th>\n",
       "      <th>url</th>\n",
       "      <th>views</th>\n",
       "    </tr>\n",
       "  </thead>\n",
       "  <tbody>\n",
       "    <tr>\n",
       "      <th>822</th>\n",
       "      <td>272</td>\n",
       "      <td>In an intimate talk, Barry Schwartz dives into...</td>\n",
       "      <td>1387</td>\n",
       "      <td>TEDSalon NY2011</td>\n",
       "      <td>2010-11-18</td>\n",
       "      <td>32</td>\n",
       "      <td>Barry Schwartz</td>\n",
       "      <td>Barry Schwartz: Using our practical wisdom</td>\n",
       "      <td>1</td>\n",
       "      <td>2010-11-18</td>\n",
       "      <td>[{'id': 3, 'name': 'Courageous', 'count': 175}...</td>\n",
       "      <td>[{'id': 462, 'hero': 'https://pe.tedcdn.com/im...</td>\n",
       "      <td>Psychologist</td>\n",
       "      <td>['culture', 'global issues', 'happiness', 'phi...</td>\n",
       "      <td>Using our practical wisdom</td>\n",
       "      <td>https://www.ted.com/talks/barry_schwartz_using...</td>\n",
       "      <td>948622</td>\n",
       "    </tr>\n",
       "  </tbody>\n",
       "</table>\n",
       "</div>"
      ],
      "text/plain": [
       "     comments                                        description  duration  \\\n",
       "822       272  In an intimate talk, Barry Schwartz dives into...      1387   \n",
       "\n",
       "               event  film_date  languages    main_speaker  \\\n",
       "822  TEDSalon NY2011 2010-11-18         32  Barry Schwartz   \n",
       "\n",
       "                                           name  num_speaker published_date  \\\n",
       "822  Barry Schwartz: Using our practical wisdom            1     2010-11-18   \n",
       "\n",
       "                                               ratings  \\\n",
       "822  [{'id': 3, 'name': 'Courageous', 'count': 175}...   \n",
       "\n",
       "                                         related_talks speaker_occupation  \\\n",
       "822  [{'id': 462, 'hero': 'https://pe.tedcdn.com/im...       Psychologist   \n",
       "\n",
       "                                                  tags  \\\n",
       "822  ['culture', 'global issues', 'happiness', 'phi...   \n",
       "\n",
       "                          title  \\\n",
       "822  Using our practical wisdom   \n",
       "\n",
       "                                                   url   views  \n",
       "822  https://www.ted.com/talks/barry_schwartz_using...  948622  "
      ]
     },
     "execution_count": 48,
     "metadata": {},
     "output_type": "execute_result"
    }
   ],
   "source": [
    "ted_talk[((ted_talk['event'] == 'TEDSalon NY2011') & (ted_talk['film_date'] == '2010-11-18'))]"
   ]
  },
  {
   "cell_type": "markdown",
   "metadata": {},
   "source": [
    "We will drop row that have film_date before the event date."
   ]
  },
  {
   "cell_type": "code",
   "execution_count": 49,
   "metadata": {},
   "outputs": [
    {
     "data": {
      "text/plain": [
       "(2532, 17)"
      ]
     },
     "execution_count": 49,
     "metadata": {},
     "output_type": "execute_result"
    }
   ],
   "source": [
    "ted_talk = ted_talk[~((ted_talk['event'] == 'TEDSalon NY2011') & (ted_talk['film_date'] == '2010-11-18'))].reset_index(drop = True)\n",
    "\n",
    "ted_talk.shape"
   ]
  },
  {
   "cell_type": "markdown",
   "metadata": {},
   "source": [
    "#### Number of speakers"
   ]
  },
  {
   "cell_type": "code",
   "execution_count": 50,
   "metadata": {},
   "outputs": [
    {
     "data": {
      "application/vnd.plotly.v1+json": {
       "config": {
        "plotlyServerURL": "https://plot.ly"
       },
       "data": [
        {
         "alignmentgroup": "True",
         "hovertemplate": "index=%{x}<br>y=%{y}<extra></extra>",
         "legendgroup": "",
         "marker": {
          "color": "red",
          "pattern": {
           "shape": ""
          }
         },
         "name": "",
         "offsetgroup": "",
         "orientation": "v",
         "showlegend": false,
         "textposition": "auto",
         "type": "bar",
         "x": [
          1,
          2,
          3,
          4,
          5
         ],
         "xaxis": "x",
         "y": [
          2474,
          49,
          5,
          3,
          1
         ],
         "yaxis": "y"
        }
       ],
       "layout": {
        "barmode": "relative",
        "legend": {
         "tracegroupgap": 0
        },
        "template": {
         "data": {
          "bar": [
           {
            "error_x": {
             "color": "#f2f5fa"
            },
            "error_y": {
             "color": "#f2f5fa"
            },
            "marker": {
             "line": {
              "color": "rgb(17,17,17)",
              "width": 0.5
             },
             "pattern": {
              "fillmode": "overlay",
              "size": 10,
              "solidity": 0.2
             }
            },
            "type": "bar"
           }
          ],
          "barpolar": [
           {
            "marker": {
             "line": {
              "color": "rgb(17,17,17)",
              "width": 0.5
             },
             "pattern": {
              "fillmode": "overlay",
              "size": 10,
              "solidity": 0.2
             }
            },
            "type": "barpolar"
           }
          ],
          "carpet": [
           {
            "aaxis": {
             "endlinecolor": "#A2B1C6",
             "gridcolor": "#506784",
             "linecolor": "#506784",
             "minorgridcolor": "#506784",
             "startlinecolor": "#A2B1C6"
            },
            "baxis": {
             "endlinecolor": "#A2B1C6",
             "gridcolor": "#506784",
             "linecolor": "#506784",
             "minorgridcolor": "#506784",
             "startlinecolor": "#A2B1C6"
            },
            "type": "carpet"
           }
          ],
          "choropleth": [
           {
            "colorbar": {
             "outlinewidth": 0,
             "ticks": ""
            },
            "type": "choropleth"
           }
          ],
          "contour": [
           {
            "colorbar": {
             "outlinewidth": 0,
             "ticks": ""
            },
            "colorscale": [
             [
              0,
              "#0d0887"
             ],
             [
              0.1111111111111111,
              "#46039f"
             ],
             [
              0.2222222222222222,
              "#7201a8"
             ],
             [
              0.3333333333333333,
              "#9c179e"
             ],
             [
              0.4444444444444444,
              "#bd3786"
             ],
             [
              0.5555555555555556,
              "#d8576b"
             ],
             [
              0.6666666666666666,
              "#ed7953"
             ],
             [
              0.7777777777777778,
              "#fb9f3a"
             ],
             [
              0.8888888888888888,
              "#fdca26"
             ],
             [
              1,
              "#f0f921"
             ]
            ],
            "type": "contour"
           }
          ],
          "contourcarpet": [
           {
            "colorbar": {
             "outlinewidth": 0,
             "ticks": ""
            },
            "type": "contourcarpet"
           }
          ],
          "heatmap": [
           {
            "colorbar": {
             "outlinewidth": 0,
             "ticks": ""
            },
            "colorscale": [
             [
              0,
              "#0d0887"
             ],
             [
              0.1111111111111111,
              "#46039f"
             ],
             [
              0.2222222222222222,
              "#7201a8"
             ],
             [
              0.3333333333333333,
              "#9c179e"
             ],
             [
              0.4444444444444444,
              "#bd3786"
             ],
             [
              0.5555555555555556,
              "#d8576b"
             ],
             [
              0.6666666666666666,
              "#ed7953"
             ],
             [
              0.7777777777777778,
              "#fb9f3a"
             ],
             [
              0.8888888888888888,
              "#fdca26"
             ],
             [
              1,
              "#f0f921"
             ]
            ],
            "type": "heatmap"
           }
          ],
          "heatmapgl": [
           {
            "colorbar": {
             "outlinewidth": 0,
             "ticks": ""
            },
            "colorscale": [
             [
              0,
              "#0d0887"
             ],
             [
              0.1111111111111111,
              "#46039f"
             ],
             [
              0.2222222222222222,
              "#7201a8"
             ],
             [
              0.3333333333333333,
              "#9c179e"
             ],
             [
              0.4444444444444444,
              "#bd3786"
             ],
             [
              0.5555555555555556,
              "#d8576b"
             ],
             [
              0.6666666666666666,
              "#ed7953"
             ],
             [
              0.7777777777777778,
              "#fb9f3a"
             ],
             [
              0.8888888888888888,
              "#fdca26"
             ],
             [
              1,
              "#f0f921"
             ]
            ],
            "type": "heatmapgl"
           }
          ],
          "histogram": [
           {
            "marker": {
             "pattern": {
              "fillmode": "overlay",
              "size": 10,
              "solidity": 0.2
             }
            },
            "type": "histogram"
           }
          ],
          "histogram2d": [
           {
            "colorbar": {
             "outlinewidth": 0,
             "ticks": ""
            },
            "colorscale": [
             [
              0,
              "#0d0887"
             ],
             [
              0.1111111111111111,
              "#46039f"
             ],
             [
              0.2222222222222222,
              "#7201a8"
             ],
             [
              0.3333333333333333,
              "#9c179e"
             ],
             [
              0.4444444444444444,
              "#bd3786"
             ],
             [
              0.5555555555555556,
              "#d8576b"
             ],
             [
              0.6666666666666666,
              "#ed7953"
             ],
             [
              0.7777777777777778,
              "#fb9f3a"
             ],
             [
              0.8888888888888888,
              "#fdca26"
             ],
             [
              1,
              "#f0f921"
             ]
            ],
            "type": "histogram2d"
           }
          ],
          "histogram2dcontour": [
           {
            "colorbar": {
             "outlinewidth": 0,
             "ticks": ""
            },
            "colorscale": [
             [
              0,
              "#0d0887"
             ],
             [
              0.1111111111111111,
              "#46039f"
             ],
             [
              0.2222222222222222,
              "#7201a8"
             ],
             [
              0.3333333333333333,
              "#9c179e"
             ],
             [
              0.4444444444444444,
              "#bd3786"
             ],
             [
              0.5555555555555556,
              "#d8576b"
             ],
             [
              0.6666666666666666,
              "#ed7953"
             ],
             [
              0.7777777777777778,
              "#fb9f3a"
             ],
             [
              0.8888888888888888,
              "#fdca26"
             ],
             [
              1,
              "#f0f921"
             ]
            ],
            "type": "histogram2dcontour"
           }
          ],
          "mesh3d": [
           {
            "colorbar": {
             "outlinewidth": 0,
             "ticks": ""
            },
            "type": "mesh3d"
           }
          ],
          "parcoords": [
           {
            "line": {
             "colorbar": {
              "outlinewidth": 0,
              "ticks": ""
             }
            },
            "type": "parcoords"
           }
          ],
          "pie": [
           {
            "automargin": true,
            "type": "pie"
           }
          ],
          "scatter": [
           {
            "marker": {
             "line": {
              "color": "#283442"
             }
            },
            "type": "scatter"
           }
          ],
          "scatter3d": [
           {
            "line": {
             "colorbar": {
              "outlinewidth": 0,
              "ticks": ""
             }
            },
            "marker": {
             "colorbar": {
              "outlinewidth": 0,
              "ticks": ""
             }
            },
            "type": "scatter3d"
           }
          ],
          "scattercarpet": [
           {
            "marker": {
             "colorbar": {
              "outlinewidth": 0,
              "ticks": ""
             }
            },
            "type": "scattercarpet"
           }
          ],
          "scattergeo": [
           {
            "marker": {
             "colorbar": {
              "outlinewidth": 0,
              "ticks": ""
             }
            },
            "type": "scattergeo"
           }
          ],
          "scattergl": [
           {
            "marker": {
             "line": {
              "color": "#283442"
             }
            },
            "type": "scattergl"
           }
          ],
          "scattermapbox": [
           {
            "marker": {
             "colorbar": {
              "outlinewidth": 0,
              "ticks": ""
             }
            },
            "type": "scattermapbox"
           }
          ],
          "scatterpolar": [
           {
            "marker": {
             "colorbar": {
              "outlinewidth": 0,
              "ticks": ""
             }
            },
            "type": "scatterpolar"
           }
          ],
          "scatterpolargl": [
           {
            "marker": {
             "colorbar": {
              "outlinewidth": 0,
              "ticks": ""
             }
            },
            "type": "scatterpolargl"
           }
          ],
          "scatterternary": [
           {
            "marker": {
             "colorbar": {
              "outlinewidth": 0,
              "ticks": ""
             }
            },
            "type": "scatterternary"
           }
          ],
          "surface": [
           {
            "colorbar": {
             "outlinewidth": 0,
             "ticks": ""
            },
            "colorscale": [
             [
              0,
              "#0d0887"
             ],
             [
              0.1111111111111111,
              "#46039f"
             ],
             [
              0.2222222222222222,
              "#7201a8"
             ],
             [
              0.3333333333333333,
              "#9c179e"
             ],
             [
              0.4444444444444444,
              "#bd3786"
             ],
             [
              0.5555555555555556,
              "#d8576b"
             ],
             [
              0.6666666666666666,
              "#ed7953"
             ],
             [
              0.7777777777777778,
              "#fb9f3a"
             ],
             [
              0.8888888888888888,
              "#fdca26"
             ],
             [
              1,
              "#f0f921"
             ]
            ],
            "type": "surface"
           }
          ],
          "table": [
           {
            "cells": {
             "fill": {
              "color": "#506784"
             },
             "line": {
              "color": "rgb(17,17,17)"
             }
            },
            "header": {
             "fill": {
              "color": "#2a3f5f"
             },
             "line": {
              "color": "rgb(17,17,17)"
             }
            },
            "type": "table"
           }
          ]
         },
         "layout": {
          "annotationdefaults": {
           "arrowcolor": "#f2f5fa",
           "arrowhead": 0,
           "arrowwidth": 1
          },
          "autotypenumbers": "strict",
          "coloraxis": {
           "colorbar": {
            "outlinewidth": 0,
            "ticks": ""
           }
          },
          "colorscale": {
           "diverging": [
            [
             0,
             "#8e0152"
            ],
            [
             0.1,
             "#c51b7d"
            ],
            [
             0.2,
             "#de77ae"
            ],
            [
             0.3,
             "#f1b6da"
            ],
            [
             0.4,
             "#fde0ef"
            ],
            [
             0.5,
             "#f7f7f7"
            ],
            [
             0.6,
             "#e6f5d0"
            ],
            [
             0.7,
             "#b8e186"
            ],
            [
             0.8,
             "#7fbc41"
            ],
            [
             0.9,
             "#4d9221"
            ],
            [
             1,
             "#276419"
            ]
           ],
           "sequential": [
            [
             0,
             "#0d0887"
            ],
            [
             0.1111111111111111,
             "#46039f"
            ],
            [
             0.2222222222222222,
             "#7201a8"
            ],
            [
             0.3333333333333333,
             "#9c179e"
            ],
            [
             0.4444444444444444,
             "#bd3786"
            ],
            [
             0.5555555555555556,
             "#d8576b"
            ],
            [
             0.6666666666666666,
             "#ed7953"
            ],
            [
             0.7777777777777778,
             "#fb9f3a"
            ],
            [
             0.8888888888888888,
             "#fdca26"
            ],
            [
             1,
             "#f0f921"
            ]
           ],
           "sequentialminus": [
            [
             0,
             "#0d0887"
            ],
            [
             0.1111111111111111,
             "#46039f"
            ],
            [
             0.2222222222222222,
             "#7201a8"
            ],
            [
             0.3333333333333333,
             "#9c179e"
            ],
            [
             0.4444444444444444,
             "#bd3786"
            ],
            [
             0.5555555555555556,
             "#d8576b"
            ],
            [
             0.6666666666666666,
             "#ed7953"
            ],
            [
             0.7777777777777778,
             "#fb9f3a"
            ],
            [
             0.8888888888888888,
             "#fdca26"
            ],
            [
             1,
             "#f0f921"
            ]
           ]
          },
          "colorway": [
           "#636efa",
           "#EF553B",
           "#00cc96",
           "#ab63fa",
           "#FFA15A",
           "#19d3f3",
           "#FF6692",
           "#B6E880",
           "#FF97FF",
           "#FECB52"
          ],
          "font": {
           "color": "#f2f5fa"
          },
          "geo": {
           "bgcolor": "rgb(17,17,17)",
           "lakecolor": "rgb(17,17,17)",
           "landcolor": "rgb(17,17,17)",
           "showlakes": true,
           "showland": true,
           "subunitcolor": "#506784"
          },
          "hoverlabel": {
           "align": "left"
          },
          "hovermode": "closest",
          "mapbox": {
           "style": "dark"
          },
          "paper_bgcolor": "rgb(17,17,17)",
          "plot_bgcolor": "rgb(17,17,17)",
          "polar": {
           "angularaxis": {
            "gridcolor": "#506784",
            "linecolor": "#506784",
            "ticks": ""
           },
           "bgcolor": "rgb(17,17,17)",
           "radialaxis": {
            "gridcolor": "#506784",
            "linecolor": "#506784",
            "ticks": ""
           }
          },
          "scene": {
           "xaxis": {
            "backgroundcolor": "rgb(17,17,17)",
            "gridcolor": "#506784",
            "gridwidth": 2,
            "linecolor": "#506784",
            "showbackground": true,
            "ticks": "",
            "zerolinecolor": "#C8D4E3"
           },
           "yaxis": {
            "backgroundcolor": "rgb(17,17,17)",
            "gridcolor": "#506784",
            "gridwidth": 2,
            "linecolor": "#506784",
            "showbackground": true,
            "ticks": "",
            "zerolinecolor": "#C8D4E3"
           },
           "zaxis": {
            "backgroundcolor": "rgb(17,17,17)",
            "gridcolor": "#506784",
            "gridwidth": 2,
            "linecolor": "#506784",
            "showbackground": true,
            "ticks": "",
            "zerolinecolor": "#C8D4E3"
           }
          },
          "shapedefaults": {
           "line": {
            "color": "#f2f5fa"
           }
          },
          "sliderdefaults": {
           "bgcolor": "#C8D4E3",
           "bordercolor": "rgb(17,17,17)",
           "borderwidth": 1,
           "tickwidth": 0
          },
          "ternary": {
           "aaxis": {
            "gridcolor": "#506784",
            "linecolor": "#506784",
            "ticks": ""
           },
           "baxis": {
            "gridcolor": "#506784",
            "linecolor": "#506784",
            "ticks": ""
           },
           "bgcolor": "rgb(17,17,17)",
           "caxis": {
            "gridcolor": "#506784",
            "linecolor": "#506784",
            "ticks": ""
           }
          },
          "title": {
           "x": 0.05
          },
          "updatemenudefaults": {
           "bgcolor": "#506784",
           "borderwidth": 0
          },
          "xaxis": {
           "automargin": true,
           "gridcolor": "#283442",
           "linecolor": "#506784",
           "ticks": "",
           "title": {
            "standoff": 15
           },
           "zerolinecolor": "#283442",
           "zerolinewidth": 2
          },
          "yaxis": {
           "automargin": true,
           "gridcolor": "#283442",
           "linecolor": "#506784",
           "ticks": "",
           "title": {
            "standoff": 15
           },
           "zerolinecolor": "#283442",
           "zerolinewidth": 2
          }
         }
        },
        "title": {
         "text": "Number of speakers of the talk"
        },
        "xaxis": {
         "anchor": "y",
         "domain": [
          0,
          1
         ],
         "title": {
          "text": "Number of speaker"
         }
        },
        "yaxis": {
         "anchor": "x",
         "domain": [
          0,
          1
         ],
         "showgrid": false,
         "title": {
          "text": "Count"
         },
         "visible": true
        }
       }
      }
     },
     "metadata": {},
     "output_type": "display_data"
    }
   ],
   "source": [
    "count_speaker = ted_talk.groupby(['num_speaker'])['num_speaker'].count()\n",
    "fig = px.bar(count_speaker,x = count_speaker.index, y = count_speaker, title = 'Number of speakers of the talk', color_discrete_sequence = ['red'])\n",
    "fig.update_layout(\n",
    "    template= 'plotly_dark')\n",
    "fig.update_yaxes(showgrid=False,visible=True, title=\"Count\")\n",
    "fig.update_xaxes(title = 'Number of speaker')\n",
    "fig.show()"
   ]
  },
  {
   "cell_type": "markdown",
   "metadata": {},
   "source": [
    "#### Rating"
   ]
  },
  {
   "cell_type": "code",
   "execution_count": 51,
   "metadata": {},
   "outputs": [
    {
     "data": {
      "text/html": [
       "<div>\n",
       "<style scoped>\n",
       "    .dataframe tbody tr th:only-of-type {\n",
       "        vertical-align: middle;\n",
       "    }\n",
       "\n",
       "    .dataframe tbody tr th {\n",
       "        vertical-align: top;\n",
       "    }\n",
       "\n",
       "    .dataframe thead th {\n",
       "        text-align: right;\n",
       "    }\n",
       "</style>\n",
       "<table border=\"1\" class=\"dataframe\">\n",
       "  <thead>\n",
       "    <tr style=\"text-align: right;\">\n",
       "      <th></th>\n",
       "      <th>id</th>\n",
       "      <th>name</th>\n",
       "      <th>count</th>\n",
       "    </tr>\n",
       "  </thead>\n",
       "  <tbody>\n",
       "    <tr>\n",
       "      <th>0</th>\n",
       "      <td>7</td>\n",
       "      <td>Funny</td>\n",
       "      <td>19645</td>\n",
       "    </tr>\n",
       "    <tr>\n",
       "      <th>1</th>\n",
       "      <td>1</td>\n",
       "      <td>Beautiful</td>\n",
       "      <td>4573</td>\n",
       "    </tr>\n",
       "    <tr>\n",
       "      <th>2</th>\n",
       "      <td>9</td>\n",
       "      <td>Ingenious</td>\n",
       "      <td>6073</td>\n",
       "    </tr>\n",
       "    <tr>\n",
       "      <th>3</th>\n",
       "      <td>3</td>\n",
       "      <td>Courageous</td>\n",
       "      <td>3253</td>\n",
       "    </tr>\n",
       "    <tr>\n",
       "      <th>4</th>\n",
       "      <td>11</td>\n",
       "      <td>Longwinded</td>\n",
       "      <td>387</td>\n",
       "    </tr>\n",
       "    <tr>\n",
       "      <th>...</th>\n",
       "      <td>...</td>\n",
       "      <td>...</td>\n",
       "      <td>...</td>\n",
       "    </tr>\n",
       "    <tr>\n",
       "      <th>9</th>\n",
       "      <td>11</td>\n",
       "      <td>Longwinded</td>\n",
       "      <td>9</td>\n",
       "    </tr>\n",
       "    <tr>\n",
       "      <th>10</th>\n",
       "      <td>24</td>\n",
       "      <td>Persuasive</td>\n",
       "      <td>5</td>\n",
       "    </tr>\n",
       "    <tr>\n",
       "      <th>11</th>\n",
       "      <td>23</td>\n",
       "      <td>Jaw-dropping</td>\n",
       "      <td>3</td>\n",
       "    </tr>\n",
       "    <tr>\n",
       "      <th>12</th>\n",
       "      <td>3</td>\n",
       "      <td>Courageous</td>\n",
       "      <td>0</td>\n",
       "    </tr>\n",
       "    <tr>\n",
       "      <th>13</th>\n",
       "      <td>7</td>\n",
       "      <td>Funny</td>\n",
       "      <td>0</td>\n",
       "    </tr>\n",
       "  </tbody>\n",
       "</table>\n",
       "<p>35448 rows × 3 columns</p>\n",
       "</div>"
      ],
      "text/plain": [
       "    id          name  count\n",
       "0    7         Funny  19645\n",
       "1    1     Beautiful   4573\n",
       "2    9     Ingenious   6073\n",
       "3    3    Courageous   3253\n",
       "4   11    Longwinded    387\n",
       "..  ..           ...    ...\n",
       "9   11    Longwinded      9\n",
       "10  24    Persuasive      5\n",
       "11  23  Jaw-dropping      3\n",
       "12   3    Courageous      0\n",
       "13   7         Funny      0\n",
       "\n",
       "[35448 rows x 3 columns]"
      ]
     },
     "execution_count": 51,
     "metadata": {},
     "output_type": "execute_result"
    }
   ],
   "source": [
    "for i in range(len(ted_talk)):\n",
    "    if i == 0:\n",
    "        rating = pd.DataFrame(ast.literal_eval(ted_talk.ratings[i]))\n",
    "    else:\n",
    "        rating = rating.append(pd.DataFrame(ast.literal_eval(ted_talk.ratings[i])))\n",
    "\n",
    "rating"
   ]
  },
  {
   "cell_type": "code",
   "execution_count": 52,
   "metadata": {},
   "outputs": [
    {
     "data": {
      "application/vnd.plotly.v1+json": {
       "config": {
        "plotlyServerURL": "https://plot.ly"
       },
       "data": [
        {
         "alignmentgroup": "True",
         "hovertemplate": "name=%{x}<br>count=%{y}<extra></extra>",
         "legendgroup": "",
         "marker": {
          "color": "red",
          "pattern": {
           "shape": ""
          }
         },
         "name": "",
         "offsetgroup": "",
         "orientation": "v",
         "showlegend": false,
         "textposition": "auto",
         "type": "bar",
         "x": [
          "Beautiful",
          "Confusing",
          "Courageous",
          "Funny",
          "Informative",
          "Ingenious",
          "Inspiring",
          "Longwinded",
          "Unconvincing",
          "Fascinating",
          "Jaw-dropping",
          "Persuasive",
          "OK",
          "Obnoxious"
         ],
         "xaxis": "x",
         "y": [
          487349,
          53229,
          417101,
          391997,
          884139,
          383227,
          1342098,
          82384,
          133716,
          797086,
          376293,
          558645,
          206219,
          65868
         ],
         "yaxis": "y"
        }
       ],
       "layout": {
        "barmode": "relative",
        "legend": {
         "tracegroupgap": 0
        },
        "margin": {
         "t": 60
        },
        "template": {
         "data": {
          "bar": [
           {
            "error_x": {
             "color": "#f2f5fa"
            },
            "error_y": {
             "color": "#f2f5fa"
            },
            "marker": {
             "line": {
              "color": "rgb(17,17,17)",
              "width": 0.5
             },
             "pattern": {
              "fillmode": "overlay",
              "size": 10,
              "solidity": 0.2
             }
            },
            "type": "bar"
           }
          ],
          "barpolar": [
           {
            "marker": {
             "line": {
              "color": "rgb(17,17,17)",
              "width": 0.5
             },
             "pattern": {
              "fillmode": "overlay",
              "size": 10,
              "solidity": 0.2
             }
            },
            "type": "barpolar"
           }
          ],
          "carpet": [
           {
            "aaxis": {
             "endlinecolor": "#A2B1C6",
             "gridcolor": "#506784",
             "linecolor": "#506784",
             "minorgridcolor": "#506784",
             "startlinecolor": "#A2B1C6"
            },
            "baxis": {
             "endlinecolor": "#A2B1C6",
             "gridcolor": "#506784",
             "linecolor": "#506784",
             "minorgridcolor": "#506784",
             "startlinecolor": "#A2B1C6"
            },
            "type": "carpet"
           }
          ],
          "choropleth": [
           {
            "colorbar": {
             "outlinewidth": 0,
             "ticks": ""
            },
            "type": "choropleth"
           }
          ],
          "contour": [
           {
            "colorbar": {
             "outlinewidth": 0,
             "ticks": ""
            },
            "colorscale": [
             [
              0,
              "#0d0887"
             ],
             [
              0.1111111111111111,
              "#46039f"
             ],
             [
              0.2222222222222222,
              "#7201a8"
             ],
             [
              0.3333333333333333,
              "#9c179e"
             ],
             [
              0.4444444444444444,
              "#bd3786"
             ],
             [
              0.5555555555555556,
              "#d8576b"
             ],
             [
              0.6666666666666666,
              "#ed7953"
             ],
             [
              0.7777777777777778,
              "#fb9f3a"
             ],
             [
              0.8888888888888888,
              "#fdca26"
             ],
             [
              1,
              "#f0f921"
             ]
            ],
            "type": "contour"
           }
          ],
          "contourcarpet": [
           {
            "colorbar": {
             "outlinewidth": 0,
             "ticks": ""
            },
            "type": "contourcarpet"
           }
          ],
          "heatmap": [
           {
            "colorbar": {
             "outlinewidth": 0,
             "ticks": ""
            },
            "colorscale": [
             [
              0,
              "#0d0887"
             ],
             [
              0.1111111111111111,
              "#46039f"
             ],
             [
              0.2222222222222222,
              "#7201a8"
             ],
             [
              0.3333333333333333,
              "#9c179e"
             ],
             [
              0.4444444444444444,
              "#bd3786"
             ],
             [
              0.5555555555555556,
              "#d8576b"
             ],
             [
              0.6666666666666666,
              "#ed7953"
             ],
             [
              0.7777777777777778,
              "#fb9f3a"
             ],
             [
              0.8888888888888888,
              "#fdca26"
             ],
             [
              1,
              "#f0f921"
             ]
            ],
            "type": "heatmap"
           }
          ],
          "heatmapgl": [
           {
            "colorbar": {
             "outlinewidth": 0,
             "ticks": ""
            },
            "colorscale": [
             [
              0,
              "#0d0887"
             ],
             [
              0.1111111111111111,
              "#46039f"
             ],
             [
              0.2222222222222222,
              "#7201a8"
             ],
             [
              0.3333333333333333,
              "#9c179e"
             ],
             [
              0.4444444444444444,
              "#bd3786"
             ],
             [
              0.5555555555555556,
              "#d8576b"
             ],
             [
              0.6666666666666666,
              "#ed7953"
             ],
             [
              0.7777777777777778,
              "#fb9f3a"
             ],
             [
              0.8888888888888888,
              "#fdca26"
             ],
             [
              1,
              "#f0f921"
             ]
            ],
            "type": "heatmapgl"
           }
          ],
          "histogram": [
           {
            "marker": {
             "pattern": {
              "fillmode": "overlay",
              "size": 10,
              "solidity": 0.2
             }
            },
            "type": "histogram"
           }
          ],
          "histogram2d": [
           {
            "colorbar": {
             "outlinewidth": 0,
             "ticks": ""
            },
            "colorscale": [
             [
              0,
              "#0d0887"
             ],
             [
              0.1111111111111111,
              "#46039f"
             ],
             [
              0.2222222222222222,
              "#7201a8"
             ],
             [
              0.3333333333333333,
              "#9c179e"
             ],
             [
              0.4444444444444444,
              "#bd3786"
             ],
             [
              0.5555555555555556,
              "#d8576b"
             ],
             [
              0.6666666666666666,
              "#ed7953"
             ],
             [
              0.7777777777777778,
              "#fb9f3a"
             ],
             [
              0.8888888888888888,
              "#fdca26"
             ],
             [
              1,
              "#f0f921"
             ]
            ],
            "type": "histogram2d"
           }
          ],
          "histogram2dcontour": [
           {
            "colorbar": {
             "outlinewidth": 0,
             "ticks": ""
            },
            "colorscale": [
             [
              0,
              "#0d0887"
             ],
             [
              0.1111111111111111,
              "#46039f"
             ],
             [
              0.2222222222222222,
              "#7201a8"
             ],
             [
              0.3333333333333333,
              "#9c179e"
             ],
             [
              0.4444444444444444,
              "#bd3786"
             ],
             [
              0.5555555555555556,
              "#d8576b"
             ],
             [
              0.6666666666666666,
              "#ed7953"
             ],
             [
              0.7777777777777778,
              "#fb9f3a"
             ],
             [
              0.8888888888888888,
              "#fdca26"
             ],
             [
              1,
              "#f0f921"
             ]
            ],
            "type": "histogram2dcontour"
           }
          ],
          "mesh3d": [
           {
            "colorbar": {
             "outlinewidth": 0,
             "ticks": ""
            },
            "type": "mesh3d"
           }
          ],
          "parcoords": [
           {
            "line": {
             "colorbar": {
              "outlinewidth": 0,
              "ticks": ""
             }
            },
            "type": "parcoords"
           }
          ],
          "pie": [
           {
            "automargin": true,
            "type": "pie"
           }
          ],
          "scatter": [
           {
            "marker": {
             "line": {
              "color": "#283442"
             }
            },
            "type": "scatter"
           }
          ],
          "scatter3d": [
           {
            "line": {
             "colorbar": {
              "outlinewidth": 0,
              "ticks": ""
             }
            },
            "marker": {
             "colorbar": {
              "outlinewidth": 0,
              "ticks": ""
             }
            },
            "type": "scatter3d"
           }
          ],
          "scattercarpet": [
           {
            "marker": {
             "colorbar": {
              "outlinewidth": 0,
              "ticks": ""
             }
            },
            "type": "scattercarpet"
           }
          ],
          "scattergeo": [
           {
            "marker": {
             "colorbar": {
              "outlinewidth": 0,
              "ticks": ""
             }
            },
            "type": "scattergeo"
           }
          ],
          "scattergl": [
           {
            "marker": {
             "line": {
              "color": "#283442"
             }
            },
            "type": "scattergl"
           }
          ],
          "scattermapbox": [
           {
            "marker": {
             "colorbar": {
              "outlinewidth": 0,
              "ticks": ""
             }
            },
            "type": "scattermapbox"
           }
          ],
          "scatterpolar": [
           {
            "marker": {
             "colorbar": {
              "outlinewidth": 0,
              "ticks": ""
             }
            },
            "type": "scatterpolar"
           }
          ],
          "scatterpolargl": [
           {
            "marker": {
             "colorbar": {
              "outlinewidth": 0,
              "ticks": ""
             }
            },
            "type": "scatterpolargl"
           }
          ],
          "scatterternary": [
           {
            "marker": {
             "colorbar": {
              "outlinewidth": 0,
              "ticks": ""
             }
            },
            "type": "scatterternary"
           }
          ],
          "surface": [
           {
            "colorbar": {
             "outlinewidth": 0,
             "ticks": ""
            },
            "colorscale": [
             [
              0,
              "#0d0887"
             ],
             [
              0.1111111111111111,
              "#46039f"
             ],
             [
              0.2222222222222222,
              "#7201a8"
             ],
             [
              0.3333333333333333,
              "#9c179e"
             ],
             [
              0.4444444444444444,
              "#bd3786"
             ],
             [
              0.5555555555555556,
              "#d8576b"
             ],
             [
              0.6666666666666666,
              "#ed7953"
             ],
             [
              0.7777777777777778,
              "#fb9f3a"
             ],
             [
              0.8888888888888888,
              "#fdca26"
             ],
             [
              1,
              "#f0f921"
             ]
            ],
            "type": "surface"
           }
          ],
          "table": [
           {
            "cells": {
             "fill": {
              "color": "#506784"
             },
             "line": {
              "color": "rgb(17,17,17)"
             }
            },
            "header": {
             "fill": {
              "color": "#2a3f5f"
             },
             "line": {
              "color": "rgb(17,17,17)"
             }
            },
            "type": "table"
           }
          ]
         },
         "layout": {
          "annotationdefaults": {
           "arrowcolor": "#f2f5fa",
           "arrowhead": 0,
           "arrowwidth": 1
          },
          "autotypenumbers": "strict",
          "coloraxis": {
           "colorbar": {
            "outlinewidth": 0,
            "ticks": ""
           }
          },
          "colorscale": {
           "diverging": [
            [
             0,
             "#8e0152"
            ],
            [
             0.1,
             "#c51b7d"
            ],
            [
             0.2,
             "#de77ae"
            ],
            [
             0.3,
             "#f1b6da"
            ],
            [
             0.4,
             "#fde0ef"
            ],
            [
             0.5,
             "#f7f7f7"
            ],
            [
             0.6,
             "#e6f5d0"
            ],
            [
             0.7,
             "#b8e186"
            ],
            [
             0.8,
             "#7fbc41"
            ],
            [
             0.9,
             "#4d9221"
            ],
            [
             1,
             "#276419"
            ]
           ],
           "sequential": [
            [
             0,
             "#0d0887"
            ],
            [
             0.1111111111111111,
             "#46039f"
            ],
            [
             0.2222222222222222,
             "#7201a8"
            ],
            [
             0.3333333333333333,
             "#9c179e"
            ],
            [
             0.4444444444444444,
             "#bd3786"
            ],
            [
             0.5555555555555556,
             "#d8576b"
            ],
            [
             0.6666666666666666,
             "#ed7953"
            ],
            [
             0.7777777777777778,
             "#fb9f3a"
            ],
            [
             0.8888888888888888,
             "#fdca26"
            ],
            [
             1,
             "#f0f921"
            ]
           ],
           "sequentialminus": [
            [
             0,
             "#0d0887"
            ],
            [
             0.1111111111111111,
             "#46039f"
            ],
            [
             0.2222222222222222,
             "#7201a8"
            ],
            [
             0.3333333333333333,
             "#9c179e"
            ],
            [
             0.4444444444444444,
             "#bd3786"
            ],
            [
             0.5555555555555556,
             "#d8576b"
            ],
            [
             0.6666666666666666,
             "#ed7953"
            ],
            [
             0.7777777777777778,
             "#fb9f3a"
            ],
            [
             0.8888888888888888,
             "#fdca26"
            ],
            [
             1,
             "#f0f921"
            ]
           ]
          },
          "colorway": [
           "#636efa",
           "#EF553B",
           "#00cc96",
           "#ab63fa",
           "#FFA15A",
           "#19d3f3",
           "#FF6692",
           "#B6E880",
           "#FF97FF",
           "#FECB52"
          ],
          "font": {
           "color": "#f2f5fa"
          },
          "geo": {
           "bgcolor": "rgb(17,17,17)",
           "lakecolor": "rgb(17,17,17)",
           "landcolor": "rgb(17,17,17)",
           "showlakes": true,
           "showland": true,
           "subunitcolor": "#506784"
          },
          "hoverlabel": {
           "align": "left"
          },
          "hovermode": "closest",
          "mapbox": {
           "style": "dark"
          },
          "paper_bgcolor": "rgb(17,17,17)",
          "plot_bgcolor": "rgb(17,17,17)",
          "polar": {
           "angularaxis": {
            "gridcolor": "#506784",
            "linecolor": "#506784",
            "ticks": ""
           },
           "bgcolor": "rgb(17,17,17)",
           "radialaxis": {
            "gridcolor": "#506784",
            "linecolor": "#506784",
            "ticks": ""
           }
          },
          "scene": {
           "xaxis": {
            "backgroundcolor": "rgb(17,17,17)",
            "gridcolor": "#506784",
            "gridwidth": 2,
            "linecolor": "#506784",
            "showbackground": true,
            "ticks": "",
            "zerolinecolor": "#C8D4E3"
           },
           "yaxis": {
            "backgroundcolor": "rgb(17,17,17)",
            "gridcolor": "#506784",
            "gridwidth": 2,
            "linecolor": "#506784",
            "showbackground": true,
            "ticks": "",
            "zerolinecolor": "#C8D4E3"
           },
           "zaxis": {
            "backgroundcolor": "rgb(17,17,17)",
            "gridcolor": "#506784",
            "gridwidth": 2,
            "linecolor": "#506784",
            "showbackground": true,
            "ticks": "",
            "zerolinecolor": "#C8D4E3"
           }
          },
          "shapedefaults": {
           "line": {
            "color": "#f2f5fa"
           }
          },
          "sliderdefaults": {
           "bgcolor": "#C8D4E3",
           "bordercolor": "rgb(17,17,17)",
           "borderwidth": 1,
           "tickwidth": 0
          },
          "ternary": {
           "aaxis": {
            "gridcolor": "#506784",
            "linecolor": "#506784",
            "ticks": ""
           },
           "baxis": {
            "gridcolor": "#506784",
            "linecolor": "#506784",
            "ticks": ""
           },
           "bgcolor": "rgb(17,17,17)",
           "caxis": {
            "gridcolor": "#506784",
            "linecolor": "#506784",
            "ticks": ""
           }
          },
          "title": {
           "x": 0.05
          },
          "updatemenudefaults": {
           "bgcolor": "#506784",
           "borderwidth": 0
          },
          "xaxis": {
           "automargin": true,
           "gridcolor": "#283442",
           "linecolor": "#506784",
           "ticks": "",
           "title": {
            "standoff": 15
           },
           "zerolinecolor": "#283442",
           "zerolinewidth": 2
          },
          "yaxis": {
           "automargin": true,
           "gridcolor": "#283442",
           "linecolor": "#506784",
           "ticks": "",
           "title": {
            "standoff": 15
           },
           "zerolinecolor": "#283442",
           "zerolinewidth": 2
          }
         }
        },
        "xaxis": {
         "anchor": "y",
         "domain": [
          0,
          1
         ],
         "title": {
          "text": "Ratings"
         }
        },
        "yaxis": {
         "anchor": "x",
         "domain": [
          0,
          1
         ],
         "showgrid": false,
         "title": {
          "text": "Count"
         },
         "visible": true
        }
       }
      }
     },
     "metadata": {},
     "output_type": "display_data"
    }
   ],
   "source": [
    "rating_count = pd.DataFrame(rating.groupby(['id','name'])['count'].sum()).reset_index()\n",
    "\n",
    "fig = px.bar(rating_count, x = 'name', y = 'count', color_discrete_sequence = ['red'])\n",
    "fig.update_layout(\n",
    "    template= 'plotly_dark')\n",
    "fig.update_yaxes(showgrid=False,visible=True, title=\"Count\")\n",
    "fig.update_xaxes(title = 'Ratings')\n",
    "fig.show()"
   ]
  },
  {
   "cell_type": "markdown",
   "metadata": {},
   "source": [
    "#### Tags"
   ]
  },
  {
   "cell_type": "code",
   "execution_count": 53,
   "metadata": {},
   "outputs": [
    {
     "data": {
      "text/html": [
       "<div>\n",
       "<style scoped>\n",
       "    .dataframe tbody tr th:only-of-type {\n",
       "        vertical-align: middle;\n",
       "    }\n",
       "\n",
       "    .dataframe tbody tr th {\n",
       "        vertical-align: top;\n",
       "    }\n",
       "\n",
       "    .dataframe thead th {\n",
       "        text-align: right;\n",
       "    }\n",
       "</style>\n",
       "<table border=\"1\" class=\"dataframe\">\n",
       "  <thead>\n",
       "    <tr style=\"text-align: right;\">\n",
       "      <th></th>\n",
       "      <th>tags</th>\n",
       "    </tr>\n",
       "  </thead>\n",
       "  <tbody>\n",
       "    <tr>\n",
       "      <th>0</th>\n",
       "      <td>children</td>\n",
       "    </tr>\n",
       "    <tr>\n",
       "      <th>1</th>\n",
       "      <td>creativity</td>\n",
       "    </tr>\n",
       "    <tr>\n",
       "      <th>2</th>\n",
       "      <td>culture</td>\n",
       "    </tr>\n",
       "    <tr>\n",
       "      <th>3</th>\n",
       "      <td>dance</td>\n",
       "    </tr>\n",
       "    <tr>\n",
       "      <th>4</th>\n",
       "      <td>education</td>\n",
       "    </tr>\n",
       "    <tr>\n",
       "      <th>...</th>\n",
       "      <td>...</td>\n",
       "    </tr>\n",
       "    <tr>\n",
       "      <th>4</th>\n",
       "      <td>play</td>\n",
       "    </tr>\n",
       "    <tr>\n",
       "      <th>5</th>\n",
       "      <td>public spaces</td>\n",
       "    </tr>\n",
       "    <tr>\n",
       "      <th>6</th>\n",
       "      <td>society</td>\n",
       "    </tr>\n",
       "    <tr>\n",
       "      <th>7</th>\n",
       "      <td>software</td>\n",
       "    </tr>\n",
       "    <tr>\n",
       "      <th>8</th>\n",
       "      <td>urban planning</td>\n",
       "    </tr>\n",
       "  </tbody>\n",
       "</table>\n",
       "<p>19031 rows × 1 columns</p>\n",
       "</div>"
      ],
      "text/plain": [
       "              tags\n",
       "0         children\n",
       "1       creativity\n",
       "2          culture\n",
       "3            dance\n",
       "4        education\n",
       "..             ...\n",
       "4             play\n",
       "5    public spaces\n",
       "6          society\n",
       "7         software\n",
       "8   urban planning\n",
       "\n",
       "[19031 rows x 1 columns]"
      ]
     },
     "execution_count": 53,
     "metadata": {},
     "output_type": "execute_result"
    }
   ],
   "source": [
    "for i in range(len(ted_talk)):\n",
    "    if i == 0:\n",
    "        tag = pd.DataFrame(ast.literal_eval(ted_talk.tags[i]),columns = ['tags'])\n",
    "    else:\n",
    "        tag = tag.append(pd.DataFrame(ast.literal_eval(ted_talk.tags[i]),columns = ['tags']))\n",
    "\n",
    "tag"
   ]
  },
  {
   "cell_type": "code",
   "execution_count": 54,
   "metadata": {},
   "outputs": [
    {
     "data": {
      "application/vnd.plotly.v1+json": {
       "config": {
        "plotlyServerURL": "https://plot.ly"
       },
       "data": [
        {
         "alignmentgroup": "True",
         "customdata": [
          [
           "technology"
          ],
          [
           "science"
          ],
          [
           "global issues"
          ],
          [
           "culture"
          ],
          [
           "TEDx"
          ],
          [
           "design"
          ],
          [
           "business"
          ],
          [
           "entertainment"
          ],
          [
           "health"
          ],
          [
           "innovation"
          ],
          [
           "society"
          ],
          [
           "art"
          ],
          [
           "social change"
          ],
          [
           "future"
          ],
          [
           "communication"
          ],
          [
           "creativity"
          ],
          [
           "biology"
          ],
          [
           "humanity"
          ],
          [
           "collaboration"
          ],
          [
           "environment"
          ],
          [
           "economics"
          ],
          [
           "medicine"
          ],
          [
           "brain"
          ],
          [
           "activism"
          ],
          [
           "education"
          ],
          [
           "community"
          ],
          [
           "history"
          ],
          [
           "TED Fellows"
          ],
          [
           "children"
          ],
          [
           "invention"
          ],
          [
           "music"
          ],
          [
           "health care"
          ],
          [
           "politics"
          ],
          [
           "cities"
          ],
          [
           "psychology"
          ],
          [
           "storytelling"
          ],
          [
           "performance"
          ],
          [
           "women"
          ],
          [
           "nature"
          ],
          [
           "identity"
          ],
          [
           "war"
          ],
          [
           "computers"
          ],
          [
           "engineering"
          ],
          [
           "animals"
          ],
          [
           "life"
          ],
          [
           "Africa"
          ],
          [
           "humor"
          ],
          [
           "exploration"
          ],
          [
           "personal growth"
          ],
          [
           "inequality"
          ],
          [
           "data"
          ],
          [
           "government"
          ],
          [
           "medical research"
          ],
          [
           "photography"
          ],
          [
           "neuroscience"
          ],
          [
           "climate change"
          ],
          [
           "Internet"
          ],
          [
           "visualizations"
          ],
          [
           "architecture"
          ],
          [
           "live music"
          ],
          [
           "sustainability"
          ],
          [
           "disease"
          ],
          [
           "oceans"
          ],
          [
           "physics"
          ],
          [
           "potential"
          ],
          [
           "green"
          ],
          [
           "happiness"
          ],
          [
           "biotech"
          ],
          [
           "work"
          ],
          [
           "mind"
          ],
          [
           "violence"
          ],
          [
           "film"
          ],
          [
           "media"
          ],
          [
           "evolution"
          ],
          [
           "writing"
          ],
          [
           "big problems"
          ],
          [
           "entrepreneur"
          ],
          [
           "global development"
          ],
          [
           "philosophy"
          ],
          [
           "motivation"
          ],
          [
           "beauty"
          ],
          [
           "genetics"
          ],
          [
           "biodiversity"
          ],
          [
           "space"
          ],
          [
           "poverty"
          ],
          [
           "robots"
          ],
          [
           "language"
          ],
          [
           "cognitive science"
          ],
          [
           "mental health"
          ],
          [
           "food"
          ],
          [
           "math"
          ],
          [
           "family"
          ],
          [
           "ecology"
          ],
          [
           "religion"
          ],
          [
           "peace"
          ],
          [
           "illness"
          ],
          [
           "energy"
          ],
          [
           "social media"
          ],
          [
           "policy"
          ],
          [
           "demo"
          ],
          [
           "poetry"
          ],
          [
           "universe"
          ],
          [
           "product design"
          ],
          [
           "parenting"
          ],
          [
           "journalism"
          ],
          [
           "intelligence"
          ],
          [
           "self"
          ],
          [
           "infrastructure"
          ],
          [
           "law"
          ],
          [
           "TED Brain Trust"
          ],
          [
           "adventure"
          ],
          [
           "democracy"
          ],
          [
           "public health"
          ],
          [
           "cancer"
          ],
          [
           "comedy"
          ],
          [
           "astronomy"
          ],
          [
           "DNA"
          ],
          [
           "software"
          ],
          [
           "crime"
          ],
          [
           "web"
          ],
          [
           "AI"
          ],
          [
           "leadership"
          ],
          [
           "race"
          ],
          [
           "death"
          ],
          [
           "teaching"
          ],
          [
           "aging"
          ],
          [
           "choice"
          ],
          [
           "science and art"
          ],
          [
           "water"
          ],
          [
           "security"
          ],
          [
           "love"
          ],
          [
           "materials"
          ],
          [
           "pollution"
          ],
          [
           "terrorism"
          ],
          [
           "youth"
          ],
          [
           "algorithm"
          ],
          [
           "chemistry"
          ],
          [
           "alternative energy"
          ],
          [
           "goal-setting"
          ],
          [
           "decision-making"
          ],
          [
           "books"
          ],
          [
           "agriculture"
          ],
          [
           "insects"
          ],
          [
           "compassion"
          ],
          [
           "transportation"
          ],
          [
           "sex"
          ],
          [
           "open-source"
          ],
          [
           "Gender equality"
          ],
          [
           "disability"
          ],
          [
           "philanthropy"
          ],
          [
           "investment"
          ],
          [
           "Middle East"
          ],
          [
           "money"
          ],
          [
           "microbiology"
          ],
          [
           "molecular biology"
          ],
          [
           "fear"
          ],
          [
           "biomechanics"
          ],
          [
           "United States"
          ],
          [
           "curiosity"
          ],
          [
           "gaming"
          ],
          [
           "relationships"
          ],
          [
           "urban planning"
          ],
          [
           "feminism"
          ],
          [
           "sports"
          ],
          [
           "industrial design"
          ],
          [
           "fish"
          ],
          [
           "statistics"
          ],
          [
           "success"
          ],
          [
           "plants"
          ],
          [
           "TED Prize"
          ],
          [
           "interface design"
          ],
          [
           "bacteria"
          ],
          [
           "Planets"
          ],
          [
           "gender"
          ],
          [
           "empathy"
          ],
          [
           "Asia"
          ],
          [
           "women in business"
          ],
          [
           "code"
          ],
          [
           "disaster relief"
          ],
          [
           "dance"
          ],
          [
           "TEDYouth"
          ],
          [
           "depression"
          ],
          [
           "consciousness"
          ],
          [
           "nanoscale"
          ],
          [
           "behavioral economics"
          ],
          [
           "memory"
          ],
          [
           "anthropology"
          ],
          [
           "garden"
          ],
          [
           "Senses"
          ],
          [
           "online video"
          ],
          [
           "performance art"
          ],
          [
           "physiology"
          ],
          [
           "Bioethics"
          ],
          [
           "faith"
          ],
          [
           "mission blue"
          ],
          [
           "ancient world"
          ],
          [
           "morality"
          ],
          [
           "consumerism"
          ],
          [
           "biomimicry"
          ],
          [
           "corruption"
          ],
          [
           "sight"
          ],
          [
           "personality"
          ],
          [
           "marketing"
          ],
          [
           "NASA"
          ],
          [
           "china"
          ],
          [
           "pharmaceuticals"
          ],
          [
           "Surveillance"
          ],
          [
           "sociology"
          ],
          [
           "literature"
          ],
          [
           "military"
          ],
          [
           "cars"
          ],
          [
           "illusion"
          ],
          [
           "productivity"
          ],
          [
           "TEDMED"
          ],
          [
           "TEDNYC"
          ],
          [
           "prison"
          ],
          [
           "news"
          ],
          [
           "programming"
          ],
          [
           "world cultures"
          ],
          [
           "Europe"
          ],
          [
           "machine learning"
          ],
          [
           "library"
          ],
          [
           "magic"
          ],
          [
           "public spaces"
          ],
          [
           "complexity"
          ],
          [
           "sound"
          ],
          [
           "telescopes"
          ],
          [
           "india"
          ],
          [
           "finance"
          ],
          [
           "drones"
          ],
          [
           "solar system"
          ],
          [
           "play"
          ],
          [
           "movies"
          ],
          [
           "TED Books"
          ],
          [
           "singer"
          ],
          [
           "guitar"
          ],
          [
           "time"
          ],
          [
           "microbes"
          ],
          [
           "theater"
          ],
          [
           "manufacturing"
          ],
          [
           "prosthetics"
          ],
          [
           "map"
          ],
          [
           "privacy"
          ],
          [
           "cosmos"
          ],
          [
           "AIDS"
          ],
          [
           "animation"
          ],
          [
           "piano"
          ],
          [
           "solar energy"
          ],
          [
           "toy"
          ],
          [
           "heart health"
          ],
          [
           "botany"
          ],
          [
           "God"
          ],
          [
           "speech"
          ],
          [
           "spoken word"
          ],
          [
           "conservation"
          ],
          [
           "trees"
          ],
          [
           "virtual reality"
          ],
          [
           "simplicity"
          ],
          [
           "presentation"
          ],
          [
           "Anthropocene"
          ],
          [
           "extraterrestrial life"
          ],
          [
           "failure"
          ],
          [
           "fashion"
          ],
          [
           "LGBT"
          ],
          [
           "South America"
          ],
          [
           "flight"
          ],
          [
           "sanitation"
          ],
          [
           "Egypt"
          ],
          [
           "interview"
          ],
          [
           "immigration"
          ],
          [
           "work-life balance"
          ],
          [
           "protests"
          ],
          [
           "Surgery"
          ],
          [
           "weather"
          ],
          [
           "MacArthur grant"
          ],
          [
           "dark matter"
          ],
          [
           "museums"
          ],
          [
           "synthetic biology"
          ],
          [
           "prediction"
          ],
          [
           "capitalism"
          ],
          [
           "virus"
          ],
          [
           "population"
          ],
          [
           "iraq"
          ],
          [
           "Natural resources"
          ],
          [
           "refugees"
          ],
          [
           "discovery"
          ],
          [
           "Mars"
          ],
          [
           "Vaccines"
          ],
          [
           "TED en Español"
          ],
          [
           "hack"
          ],
          [
           "Blindness"
          ],
          [
           "birds"
          ],
          [
           "trust"
          ],
          [
           "bees"
          ],
          [
           "astrobiology"
          ],
          [
           "medical imaging"
          ],
          [
           "composing"
          ],
          [
           "friendship"
          ],
          [
           "TED-Ed"
          ],
          [
           "ebola"
          ],
          [
           "obesity"
          ],
          [
           "sexual violence"
          ],
          [
           "Autism spectrum disorder"
          ],
          [
           "plastic"
          ],
          [
           "Brazil"
          ],
          [
           "Human body"
          ],
          [
           "Criminal Justice"
          ],
          [
           "Google"
          ],
          [
           "travel"
          ],
          [
           "dinosaurs"
          ],
          [
           "paleontology"
          ],
          [
           "advertising"
          ],
          [
           "String theory"
          ],
          [
           "evolutionary psychology"
          ],
          [
           "PTSD"
          ],
          [
           "farming"
          ],
          [
           "nuclear energy"
          ],
          [
           "body language"
          ],
          [
           "human origins"
          ],
          [
           "natural disaster"
          ],
          [
           "Slavery"
          ],
          [
           "submarine"
          ],
          [
           "archaeology"
          ],
          [
           "crowdsourcing"
          ],
          [
           "men"
          ],
          [
           "smell"
          ],
          [
           "big bang"
          ],
          [
           "vocals"
          ],
          [
           "pain"
          ],
          [
           "driverless cars"
          ],
          [
           "Islam"
          ],
          [
           "wikipedia"
          ],
          [
           "rivers"
          ],
          [
           "charter for compassion"
          ],
          [
           "rocket science"
          ],
          [
           "telecom"
          ],
          [
           "Foreign Policy"
          ],
          [
           "painting"
          ],
          [
           "New York"
          ],
          [
           "pregnancy"
          ],
          [
           "Syria"
          ],
          [
           "Debate"
          ],
          [
           "biosphere"
          ],
          [
           "suicide"
          ],
          [
           "deextinction"
          ],
          [
           "conducting"
          ],
          [
           "bullying"
          ],
          [
           "extreme sports"
          ],
          [
           "Transgender"
          ],
          [
           "aircraft"
          ],
          [
           "narcotics"
          ],
          [
           "shopping"
          ],
          [
           "monkeys"
          ],
          [
           "wind energy"
          ],
          [
           "mobility"
          ],
          [
           "Buddhism"
          ],
          [
           "meditation"
          ],
          [
           "typography"
          ],
          [
           "student"
          ],
          [
           "TED Residency"
          ],
          [
           "cyborg"
          ],
          [
           "wunderkind"
          ],
          [
           "trafficking"
          ],
          [
           "primates"
          ],
          [
           "HIV"
          ],
          [
           "Alzheimer's"
          ],
          [
           "Guns"
          ],
          [
           "Gender spectrum"
          ],
          [
           "exoskeleton"
          ],
          [
           "nonviolence"
          ],
          [
           "violin"
          ],
          [
           "television"
          ],
          [
           "hearing"
          ],
          [
           "geology"
          ],
          [
           "atheism"
          ],
          [
           "Addiction"
          ],
          [
           "resources"
          ],
          [
           "asteroid"
          ],
          [
           "state-building"
          ],
          [
           "oil"
          ],
          [
           "Christianity"
          ],
          [
           "Iran"
          ],
          [
           "mindfulness"
          ],
          [
           "introvert"
          ],
          [
           "meme"
          ],
          [
           "jazz"
          ],
          [
           "urban"
          ],
          [
           "glacier"
          ],
          [
           "ants"
          ],
          [
           "vulnerability"
          ],
          [
           "microfinance"
          ],
          [
           "nuclear weapons"
          ],
          [
           "CRISPR"
          ],
          [
           "sleep"
          ],
          [
           "cello"
          ],
          [
           "Moon"
          ],
          [
           "apes"
          ],
          [
           "Brand"
          ],
          [
           "blockchain"
          ],
          [
           "Nobel prize"
          ],
          [
           "street art"
          ],
          [
           "epidemiology"
          ],
          [
           "forensics"
          ],
          [
           "microsoft"
          ],
          [
           "mining"
          ],
          [
           "novel"
          ],
          [
           "pandemic"
          ],
          [
           "3d printing"
          ],
          [
           "augmented reality"
          ],
          [
           "evil"
          ],
          [
           "grammar"
          ],
          [
           "origami"
          ],
          [
           "cloud"
          ],
          [
           "funny"
          ],
          [
           "testing"
          ],
          [
           "skateboarding"
          ]
         ],
         "hovertemplate": "variable=%{x}<br>value=%{y}<br>tags=%{customdata[0]}<extra></extra>",
         "legendgroup": "",
         "marker": {
          "color": "red"
         },
         "name": "",
         "notched": false,
         "offsetgroup": "",
         "orientation": "v",
         "showlegend": false,
         "type": "box",
         "x": [
          "count",
          "count",
          "count",
          "count",
          "count",
          "count",
          "count",
          "count",
          "count",
          "count",
          "count",
          "count",
          "count",
          "count",
          "count",
          "count",
          "count",
          "count",
          "count",
          "count",
          "count",
          "count",
          "count",
          "count",
          "count",
          "count",
          "count",
          "count",
          "count",
          "count",
          "count",
          "count",
          "count",
          "count",
          "count",
          "count",
          "count",
          "count",
          "count",
          "count",
          "count",
          "count",
          "count",
          "count",
          "count",
          "count",
          "count",
          "count",
          "count",
          "count",
          "count",
          "count",
          "count",
          "count",
          "count",
          "count",
          "count",
          "count",
          "count",
          "count",
          "count",
          "count",
          "count",
          "count",
          "count",
          "count",
          "count",
          "count",
          "count",
          "count",
          "count",
          "count",
          "count",
          "count",
          "count",
          "count",
          "count",
          "count",
          "count",
          "count",
          "count",
          "count",
          "count",
          "count",
          "count",
          "count",
          "count",
          "count",
          "count",
          "count",
          "count",
          "count",
          "count",
          "count",
          "count",
          "count",
          "count",
          "count",
          "count",
          "count",
          "count",
          "count",
          "count",
          "count",
          "count",
          "count",
          "count",
          "count",
          "count",
          "count",
          "count",
          "count",
          "count",
          "count",
          "count",
          "count",
          "count",
          "count",
          "count",
          "count",
          "count",
          "count",
          "count",
          "count",
          "count",
          "count",
          "count",
          "count",
          "count",
          "count",
          "count",
          "count",
          "count",
          "count",
          "count",
          "count",
          "count",
          "count",
          "count",
          "count",
          "count",
          "count",
          "count",
          "count",
          "count",
          "count",
          "count",
          "count",
          "count",
          "count",
          "count",
          "count",
          "count",
          "count",
          "count",
          "count",
          "count",
          "count",
          "count",
          "count",
          "count",
          "count",
          "count",
          "count",
          "count",
          "count",
          "count",
          "count",
          "count",
          "count",
          "count",
          "count",
          "count",
          "count",
          "count",
          "count",
          "count",
          "count",
          "count",
          "count",
          "count",
          "count",
          "count",
          "count",
          "count",
          "count",
          "count",
          "count",
          "count",
          "count",
          "count",
          "count",
          "count",
          "count",
          "count",
          "count",
          "count",
          "count",
          "count",
          "count",
          "count",
          "count",
          "count",
          "count",
          "count",
          "count",
          "count",
          "count",
          "count",
          "count",
          "count",
          "count",
          "count",
          "count",
          "count",
          "count",
          "count",
          "count",
          "count",
          "count",
          "count",
          "count",
          "count",
          "count",
          "count",
          "count",
          "count",
          "count",
          "count",
          "count",
          "count",
          "count",
          "count",
          "count",
          "count",
          "count",
          "count",
          "count",
          "count",
          "count",
          "count",
          "count",
          "count",
          "count",
          "count",
          "count",
          "count",
          "count",
          "count",
          "count",
          "count",
          "count",
          "count",
          "count",
          "count",
          "count",
          "count",
          "count",
          "count",
          "count",
          "count",
          "count",
          "count",
          "count",
          "count",
          "count",
          "count",
          "count",
          "count",
          "count",
          "count",
          "count",
          "count",
          "count",
          "count",
          "count",
          "count",
          "count",
          "count",
          "count",
          "count",
          "count",
          "count",
          "count",
          "count",
          "count",
          "count",
          "count",
          "count",
          "count",
          "count",
          "count",
          "count",
          "count",
          "count",
          "count",
          "count",
          "count",
          "count",
          "count",
          "count",
          "count",
          "count",
          "count",
          "count",
          "count",
          "count",
          "count",
          "count",
          "count",
          "count",
          "count",
          "count",
          "count",
          "count",
          "count",
          "count",
          "count",
          "count",
          "count",
          "count",
          "count",
          "count",
          "count",
          "count",
          "count",
          "count",
          "count",
          "count",
          "count",
          "count",
          "count",
          "count",
          "count",
          "count",
          "count",
          "count",
          "count",
          "count",
          "count",
          "count",
          "count",
          "count",
          "count",
          "count",
          "count",
          "count",
          "count",
          "count",
          "count",
          "count",
          "count",
          "count",
          "count",
          "count",
          "count",
          "count",
          "count",
          "count",
          "count",
          "count",
          "count",
          "count",
          "count",
          "count",
          "count",
          "count",
          "count",
          "count",
          "count",
          "count",
          "count",
          "count",
          "count",
          "count",
          "count",
          "count",
          "count",
          "count",
          "count",
          "count",
          "count",
          "count",
          "count",
          "count",
          "count",
          "count",
          "count",
          "count",
          "count",
          "count",
          "count",
          "count",
          "count",
          "count",
          "count",
          "count",
          "count",
          "count",
          "count",
          "count",
          "count",
          "count",
          "count",
          "count",
          "count",
          "count",
          "count",
          "count",
          "count",
          "count",
          "count",
          "count",
          "count",
          "count",
          "count"
         ],
         "x0": " ",
         "xaxis": "x",
         "y": [
          718,
          562,
          499,
          481,
          450,
          411,
          348,
          296,
          236,
          228,
          223,
          219,
          218,
          193,
          190,
          187,
          187,
          181,
          173,
          165,
          164,
          161,
          157,
          157,
          152,
          148,
          144,
          143,
          142,
          140,
          140,
          131,
          128,
          123,
          121,
          118,
          117,
          116,
          116,
          113,
          112,
          110,
          110,
          108,
          106,
          105,
          104,
          99,
          96,
          94,
          94,
          93,
          92,
          92,
          89,
          87,
          84,
          83,
          81,
          80,
          80,
          79,
          76,
          74,
          73,
          72,
          72,
          72,
          70,
          70,
          69,
          67,
          67,
          66,
          65,
          65,
          64,
          64,
          63,
          63,
          62,
          61,
          61,
          60,
          59,
          59,
          59,
          58,
          58,
          57,
          56,
          54,
          54,
          54,
          53,
          52,
          52,
          52,
          51,
          51,
          51,
          51,
          51,
          50,
          50,
          50,
          49,
          49,
          48,
          48,
          48,
          47,
          47,
          47,
          47,
          47,
          45,
          45,
          44,
          43,
          43,
          43,
          43,
          43,
          43,
          43,
          42,
          42,
          41,
          40,
          39,
          39,
          39,
          38,
          38,
          38,
          38,
          37,
          36,
          36,
          36,
          36,
          35,
          35,
          35,
          34,
          34,
          34,
          34,
          33,
          32,
          32,
          32,
          31,
          31,
          31,
          30,
          30,
          30,
          30,
          29,
          29,
          29,
          29,
          29,
          28,
          28,
          28,
          28,
          27,
          27,
          27,
          27,
          27,
          26,
          26,
          26,
          25,
          25,
          25,
          24,
          24,
          24,
          24,
          23,
          23,
          23,
          23,
          23,
          23,
          23,
          23,
          23,
          23,
          22,
          22,
          22,
          22,
          22,
          22,
          21,
          21,
          21,
          21,
          21,
          21,
          21,
          21,
          20,
          20,
          20,
          20,
          20,
          19,
          19,
          19,
          19,
          19,
          19,
          18,
          18,
          18,
          18,
          18,
          18,
          18,
          18,
          17,
          17,
          17,
          17,
          17,
          17,
          17,
          17,
          17,
          17,
          16,
          16,
          16,
          16,
          16,
          16,
          16,
          16,
          16,
          15,
          15,
          15,
          15,
          15,
          15,
          15,
          15,
          15,
          15,
          14,
          14,
          14,
          14,
          14,
          14,
          14,
          14,
          14,
          14,
          14,
          14,
          14,
          14,
          14,
          13,
          13,
          13,
          13,
          13,
          13,
          13,
          13,
          13,
          12,
          12,
          12,
          12,
          12,
          12,
          12,
          12,
          12,
          12,
          12,
          12,
          11,
          11,
          11,
          11,
          11,
          11,
          11,
          11,
          11,
          10,
          10,
          10,
          10,
          10,
          10,
          10,
          10,
          10,
          10,
          10,
          10,
          10,
          10,
          10,
          10,
          10,
          10,
          10,
          10,
          9,
          9,
          9,
          9,
          9,
          9,
          9,
          9,
          9,
          9,
          8,
          8,
          8,
          8,
          8,
          8,
          8,
          8,
          8,
          8,
          7,
          7,
          7,
          7,
          7,
          7,
          7,
          7,
          7,
          7,
          7,
          7,
          7,
          7,
          7,
          7,
          6,
          6,
          6,
          6,
          6,
          6,
          6,
          6,
          6,
          6,
          6,
          6,
          6,
          6,
          5,
          5,
          5,
          5,
          5,
          5,
          5,
          5,
          5,
          5,
          5,
          5,
          5,
          5,
          4,
          4,
          4,
          4,
          4,
          4,
          4,
          4,
          4,
          3,
          3,
          3,
          3,
          3,
          3,
          3,
          3,
          3,
          3,
          3,
          3,
          3,
          3,
          2,
          2,
          2,
          2,
          1,
          1,
          1,
          1
         ],
         "y0": " ",
         "yaxis": "y"
        }
       ],
       "layout": {
        "boxmode": "group",
        "legend": {
         "tracegroupgap": 0
        },
        "template": {
         "data": {
          "bar": [
           {
            "error_x": {
             "color": "#f2f5fa"
            },
            "error_y": {
             "color": "#f2f5fa"
            },
            "marker": {
             "line": {
              "color": "rgb(17,17,17)",
              "width": 0.5
             },
             "pattern": {
              "fillmode": "overlay",
              "size": 10,
              "solidity": 0.2
             }
            },
            "type": "bar"
           }
          ],
          "barpolar": [
           {
            "marker": {
             "line": {
              "color": "rgb(17,17,17)",
              "width": 0.5
             },
             "pattern": {
              "fillmode": "overlay",
              "size": 10,
              "solidity": 0.2
             }
            },
            "type": "barpolar"
           }
          ],
          "carpet": [
           {
            "aaxis": {
             "endlinecolor": "#A2B1C6",
             "gridcolor": "#506784",
             "linecolor": "#506784",
             "minorgridcolor": "#506784",
             "startlinecolor": "#A2B1C6"
            },
            "baxis": {
             "endlinecolor": "#A2B1C6",
             "gridcolor": "#506784",
             "linecolor": "#506784",
             "minorgridcolor": "#506784",
             "startlinecolor": "#A2B1C6"
            },
            "type": "carpet"
           }
          ],
          "choropleth": [
           {
            "colorbar": {
             "outlinewidth": 0,
             "ticks": ""
            },
            "type": "choropleth"
           }
          ],
          "contour": [
           {
            "colorbar": {
             "outlinewidth": 0,
             "ticks": ""
            },
            "colorscale": [
             [
              0,
              "#0d0887"
             ],
             [
              0.1111111111111111,
              "#46039f"
             ],
             [
              0.2222222222222222,
              "#7201a8"
             ],
             [
              0.3333333333333333,
              "#9c179e"
             ],
             [
              0.4444444444444444,
              "#bd3786"
             ],
             [
              0.5555555555555556,
              "#d8576b"
             ],
             [
              0.6666666666666666,
              "#ed7953"
             ],
             [
              0.7777777777777778,
              "#fb9f3a"
             ],
             [
              0.8888888888888888,
              "#fdca26"
             ],
             [
              1,
              "#f0f921"
             ]
            ],
            "type": "contour"
           }
          ],
          "contourcarpet": [
           {
            "colorbar": {
             "outlinewidth": 0,
             "ticks": ""
            },
            "type": "contourcarpet"
           }
          ],
          "heatmap": [
           {
            "colorbar": {
             "outlinewidth": 0,
             "ticks": ""
            },
            "colorscale": [
             [
              0,
              "#0d0887"
             ],
             [
              0.1111111111111111,
              "#46039f"
             ],
             [
              0.2222222222222222,
              "#7201a8"
             ],
             [
              0.3333333333333333,
              "#9c179e"
             ],
             [
              0.4444444444444444,
              "#bd3786"
             ],
             [
              0.5555555555555556,
              "#d8576b"
             ],
             [
              0.6666666666666666,
              "#ed7953"
             ],
             [
              0.7777777777777778,
              "#fb9f3a"
             ],
             [
              0.8888888888888888,
              "#fdca26"
             ],
             [
              1,
              "#f0f921"
             ]
            ],
            "type": "heatmap"
           }
          ],
          "heatmapgl": [
           {
            "colorbar": {
             "outlinewidth": 0,
             "ticks": ""
            },
            "colorscale": [
             [
              0,
              "#0d0887"
             ],
             [
              0.1111111111111111,
              "#46039f"
             ],
             [
              0.2222222222222222,
              "#7201a8"
             ],
             [
              0.3333333333333333,
              "#9c179e"
             ],
             [
              0.4444444444444444,
              "#bd3786"
             ],
             [
              0.5555555555555556,
              "#d8576b"
             ],
             [
              0.6666666666666666,
              "#ed7953"
             ],
             [
              0.7777777777777778,
              "#fb9f3a"
             ],
             [
              0.8888888888888888,
              "#fdca26"
             ],
             [
              1,
              "#f0f921"
             ]
            ],
            "type": "heatmapgl"
           }
          ],
          "histogram": [
           {
            "marker": {
             "pattern": {
              "fillmode": "overlay",
              "size": 10,
              "solidity": 0.2
             }
            },
            "type": "histogram"
           }
          ],
          "histogram2d": [
           {
            "colorbar": {
             "outlinewidth": 0,
             "ticks": ""
            },
            "colorscale": [
             [
              0,
              "#0d0887"
             ],
             [
              0.1111111111111111,
              "#46039f"
             ],
             [
              0.2222222222222222,
              "#7201a8"
             ],
             [
              0.3333333333333333,
              "#9c179e"
             ],
             [
              0.4444444444444444,
              "#bd3786"
             ],
             [
              0.5555555555555556,
              "#d8576b"
             ],
             [
              0.6666666666666666,
              "#ed7953"
             ],
             [
              0.7777777777777778,
              "#fb9f3a"
             ],
             [
              0.8888888888888888,
              "#fdca26"
             ],
             [
              1,
              "#f0f921"
             ]
            ],
            "type": "histogram2d"
           }
          ],
          "histogram2dcontour": [
           {
            "colorbar": {
             "outlinewidth": 0,
             "ticks": ""
            },
            "colorscale": [
             [
              0,
              "#0d0887"
             ],
             [
              0.1111111111111111,
              "#46039f"
             ],
             [
              0.2222222222222222,
              "#7201a8"
             ],
             [
              0.3333333333333333,
              "#9c179e"
             ],
             [
              0.4444444444444444,
              "#bd3786"
             ],
             [
              0.5555555555555556,
              "#d8576b"
             ],
             [
              0.6666666666666666,
              "#ed7953"
             ],
             [
              0.7777777777777778,
              "#fb9f3a"
             ],
             [
              0.8888888888888888,
              "#fdca26"
             ],
             [
              1,
              "#f0f921"
             ]
            ],
            "type": "histogram2dcontour"
           }
          ],
          "mesh3d": [
           {
            "colorbar": {
             "outlinewidth": 0,
             "ticks": ""
            },
            "type": "mesh3d"
           }
          ],
          "parcoords": [
           {
            "line": {
             "colorbar": {
              "outlinewidth": 0,
              "ticks": ""
             }
            },
            "type": "parcoords"
           }
          ],
          "pie": [
           {
            "automargin": true,
            "type": "pie"
           }
          ],
          "scatter": [
           {
            "marker": {
             "line": {
              "color": "#283442"
             }
            },
            "type": "scatter"
           }
          ],
          "scatter3d": [
           {
            "line": {
             "colorbar": {
              "outlinewidth": 0,
              "ticks": ""
             }
            },
            "marker": {
             "colorbar": {
              "outlinewidth": 0,
              "ticks": ""
             }
            },
            "type": "scatter3d"
           }
          ],
          "scattercarpet": [
           {
            "marker": {
             "colorbar": {
              "outlinewidth": 0,
              "ticks": ""
             }
            },
            "type": "scattercarpet"
           }
          ],
          "scattergeo": [
           {
            "marker": {
             "colorbar": {
              "outlinewidth": 0,
              "ticks": ""
             }
            },
            "type": "scattergeo"
           }
          ],
          "scattergl": [
           {
            "marker": {
             "line": {
              "color": "#283442"
             }
            },
            "type": "scattergl"
           }
          ],
          "scattermapbox": [
           {
            "marker": {
             "colorbar": {
              "outlinewidth": 0,
              "ticks": ""
             }
            },
            "type": "scattermapbox"
           }
          ],
          "scatterpolar": [
           {
            "marker": {
             "colorbar": {
              "outlinewidth": 0,
              "ticks": ""
             }
            },
            "type": "scatterpolar"
           }
          ],
          "scatterpolargl": [
           {
            "marker": {
             "colorbar": {
              "outlinewidth": 0,
              "ticks": ""
             }
            },
            "type": "scatterpolargl"
           }
          ],
          "scatterternary": [
           {
            "marker": {
             "colorbar": {
              "outlinewidth": 0,
              "ticks": ""
             }
            },
            "type": "scatterternary"
           }
          ],
          "surface": [
           {
            "colorbar": {
             "outlinewidth": 0,
             "ticks": ""
            },
            "colorscale": [
             [
              0,
              "#0d0887"
             ],
             [
              0.1111111111111111,
              "#46039f"
             ],
             [
              0.2222222222222222,
              "#7201a8"
             ],
             [
              0.3333333333333333,
              "#9c179e"
             ],
             [
              0.4444444444444444,
              "#bd3786"
             ],
             [
              0.5555555555555556,
              "#d8576b"
             ],
             [
              0.6666666666666666,
              "#ed7953"
             ],
             [
              0.7777777777777778,
              "#fb9f3a"
             ],
             [
              0.8888888888888888,
              "#fdca26"
             ],
             [
              1,
              "#f0f921"
             ]
            ],
            "type": "surface"
           }
          ],
          "table": [
           {
            "cells": {
             "fill": {
              "color": "#506784"
             },
             "line": {
              "color": "rgb(17,17,17)"
             }
            },
            "header": {
             "fill": {
              "color": "#2a3f5f"
             },
             "line": {
              "color": "rgb(17,17,17)"
             }
            },
            "type": "table"
           }
          ]
         },
         "layout": {
          "annotationdefaults": {
           "arrowcolor": "#f2f5fa",
           "arrowhead": 0,
           "arrowwidth": 1
          },
          "autotypenumbers": "strict",
          "coloraxis": {
           "colorbar": {
            "outlinewidth": 0,
            "ticks": ""
           }
          },
          "colorscale": {
           "diverging": [
            [
             0,
             "#8e0152"
            ],
            [
             0.1,
             "#c51b7d"
            ],
            [
             0.2,
             "#de77ae"
            ],
            [
             0.3,
             "#f1b6da"
            ],
            [
             0.4,
             "#fde0ef"
            ],
            [
             0.5,
             "#f7f7f7"
            ],
            [
             0.6,
             "#e6f5d0"
            ],
            [
             0.7,
             "#b8e186"
            ],
            [
             0.8,
             "#7fbc41"
            ],
            [
             0.9,
             "#4d9221"
            ],
            [
             1,
             "#276419"
            ]
           ],
           "sequential": [
            [
             0,
             "#0d0887"
            ],
            [
             0.1111111111111111,
             "#46039f"
            ],
            [
             0.2222222222222222,
             "#7201a8"
            ],
            [
             0.3333333333333333,
             "#9c179e"
            ],
            [
             0.4444444444444444,
             "#bd3786"
            ],
            [
             0.5555555555555556,
             "#d8576b"
            ],
            [
             0.6666666666666666,
             "#ed7953"
            ],
            [
             0.7777777777777778,
             "#fb9f3a"
            ],
            [
             0.8888888888888888,
             "#fdca26"
            ],
            [
             1,
             "#f0f921"
            ]
           ],
           "sequentialminus": [
            [
             0,
             "#0d0887"
            ],
            [
             0.1111111111111111,
             "#46039f"
            ],
            [
             0.2222222222222222,
             "#7201a8"
            ],
            [
             0.3333333333333333,
             "#9c179e"
            ],
            [
             0.4444444444444444,
             "#bd3786"
            ],
            [
             0.5555555555555556,
             "#d8576b"
            ],
            [
             0.6666666666666666,
             "#ed7953"
            ],
            [
             0.7777777777777778,
             "#fb9f3a"
            ],
            [
             0.8888888888888888,
             "#fdca26"
            ],
            [
             1,
             "#f0f921"
            ]
           ]
          },
          "colorway": [
           "#636efa",
           "#EF553B",
           "#00cc96",
           "#ab63fa",
           "#FFA15A",
           "#19d3f3",
           "#FF6692",
           "#B6E880",
           "#FF97FF",
           "#FECB52"
          ],
          "font": {
           "color": "#f2f5fa"
          },
          "geo": {
           "bgcolor": "rgb(17,17,17)",
           "lakecolor": "rgb(17,17,17)",
           "landcolor": "rgb(17,17,17)",
           "showlakes": true,
           "showland": true,
           "subunitcolor": "#506784"
          },
          "hoverlabel": {
           "align": "left"
          },
          "hovermode": "closest",
          "mapbox": {
           "style": "dark"
          },
          "paper_bgcolor": "rgb(17,17,17)",
          "plot_bgcolor": "rgb(17,17,17)",
          "polar": {
           "angularaxis": {
            "gridcolor": "#506784",
            "linecolor": "#506784",
            "ticks": ""
           },
           "bgcolor": "rgb(17,17,17)",
           "radialaxis": {
            "gridcolor": "#506784",
            "linecolor": "#506784",
            "ticks": ""
           }
          },
          "scene": {
           "xaxis": {
            "backgroundcolor": "rgb(17,17,17)",
            "gridcolor": "#506784",
            "gridwidth": 2,
            "linecolor": "#506784",
            "showbackground": true,
            "ticks": "",
            "zerolinecolor": "#C8D4E3"
           },
           "yaxis": {
            "backgroundcolor": "rgb(17,17,17)",
            "gridcolor": "#506784",
            "gridwidth": 2,
            "linecolor": "#506784",
            "showbackground": true,
            "ticks": "",
            "zerolinecolor": "#C8D4E3"
           },
           "zaxis": {
            "backgroundcolor": "rgb(17,17,17)",
            "gridcolor": "#506784",
            "gridwidth": 2,
            "linecolor": "#506784",
            "showbackground": true,
            "ticks": "",
            "zerolinecolor": "#C8D4E3"
           }
          },
          "shapedefaults": {
           "line": {
            "color": "#f2f5fa"
           }
          },
          "sliderdefaults": {
           "bgcolor": "#C8D4E3",
           "bordercolor": "rgb(17,17,17)",
           "borderwidth": 1,
           "tickwidth": 0
          },
          "ternary": {
           "aaxis": {
            "gridcolor": "#506784",
            "linecolor": "#506784",
            "ticks": ""
           },
           "baxis": {
            "gridcolor": "#506784",
            "linecolor": "#506784",
            "ticks": ""
           },
           "bgcolor": "rgb(17,17,17)",
           "caxis": {
            "gridcolor": "#506784",
            "linecolor": "#506784",
            "ticks": ""
           }
          },
          "title": {
           "x": 0.05
          },
          "updatemenudefaults": {
           "bgcolor": "#506784",
           "borderwidth": 0
          },
          "xaxis": {
           "automargin": true,
           "gridcolor": "#283442",
           "linecolor": "#506784",
           "ticks": "",
           "title": {
            "standoff": 15
           },
           "zerolinecolor": "#283442",
           "zerolinewidth": 2
          },
          "yaxis": {
           "automargin": true,
           "gridcolor": "#283442",
           "linecolor": "#506784",
           "ticks": "",
           "title": {
            "standoff": 15
           },
           "zerolinecolor": "#283442",
           "zerolinewidth": 2
          }
         }
        },
        "title": {
         "text": "Distribution of tag counts"
        },
        "xaxis": {
         "anchor": "y",
         "domain": [
          0,
          1
         ],
         "title": {
          "text": "Tag counts"
         }
        },
        "yaxis": {
         "anchor": "x",
         "domain": [
          0,
          1
         ],
         "title": {
          "text": "value"
         }
        }
       }
      }
     },
     "metadata": {},
     "output_type": "display_data"
    }
   ],
   "source": [
    "count_tag = pd.DataFrame(tag.groupby('tags')['tags'].count().sort_values(ascending = False))\n",
    "count_tag.columns = ['count']\n",
    "count_tag = count_tag.reset_index()\n",
    "\n",
    "fig = px.box(count_tag, hover_data = ['tags'], title = 'Distribution of tag counts', color_discrete_sequence = ['red'])\n",
    "fig.update_layout(\n",
    "    template= 'plotly_dark')\n",
    "fig.update_xaxes(title = 'Tag counts')\n",
    "fig.show()"
   ]
  },
  {
   "cell_type": "code",
   "execution_count": 55,
   "metadata": {},
   "outputs": [
    {
     "data": {
      "application/vnd.plotly.v1+json": {
       "config": {
        "plotlyServerURL": "https://plot.ly"
       },
       "data": [
        {
         "alignmentgroup": "True",
         "hovertemplate": "x=%{x}<br>y=%{y}<extra></extra>",
         "legendgroup": "",
         "marker": {
          "color": "red",
          "pattern": {
           "shape": ""
          }
         },
         "name": "",
         "offsetgroup": "",
         "orientation": "v",
         "showlegend": false,
         "textposition": "auto",
         "type": "bar",
         "x": [
          "technology",
          "science",
          "global issues",
          "culture",
          "TEDx",
          "design",
          "business",
          "entertainment",
          "health",
          "innovation"
         ],
         "xaxis": "x",
         "y": [
          718,
          562,
          499,
          481,
          450,
          411,
          348,
          296,
          236,
          228
         ],
         "yaxis": "y"
        }
       ],
       "layout": {
        "barmode": "relative",
        "legend": {
         "tracegroupgap": 0
        },
        "margin": {
         "t": 60
        },
        "template": {
         "data": {
          "bar": [
           {
            "error_x": {
             "color": "#f2f5fa"
            },
            "error_y": {
             "color": "#f2f5fa"
            },
            "marker": {
             "line": {
              "color": "rgb(17,17,17)",
              "width": 0.5
             },
             "pattern": {
              "fillmode": "overlay",
              "size": 10,
              "solidity": 0.2
             }
            },
            "type": "bar"
           }
          ],
          "barpolar": [
           {
            "marker": {
             "line": {
              "color": "rgb(17,17,17)",
              "width": 0.5
             },
             "pattern": {
              "fillmode": "overlay",
              "size": 10,
              "solidity": 0.2
             }
            },
            "type": "barpolar"
           }
          ],
          "carpet": [
           {
            "aaxis": {
             "endlinecolor": "#A2B1C6",
             "gridcolor": "#506784",
             "linecolor": "#506784",
             "minorgridcolor": "#506784",
             "startlinecolor": "#A2B1C6"
            },
            "baxis": {
             "endlinecolor": "#A2B1C6",
             "gridcolor": "#506784",
             "linecolor": "#506784",
             "minorgridcolor": "#506784",
             "startlinecolor": "#A2B1C6"
            },
            "type": "carpet"
           }
          ],
          "choropleth": [
           {
            "colorbar": {
             "outlinewidth": 0,
             "ticks": ""
            },
            "type": "choropleth"
           }
          ],
          "contour": [
           {
            "colorbar": {
             "outlinewidth": 0,
             "ticks": ""
            },
            "colorscale": [
             [
              0,
              "#0d0887"
             ],
             [
              0.1111111111111111,
              "#46039f"
             ],
             [
              0.2222222222222222,
              "#7201a8"
             ],
             [
              0.3333333333333333,
              "#9c179e"
             ],
             [
              0.4444444444444444,
              "#bd3786"
             ],
             [
              0.5555555555555556,
              "#d8576b"
             ],
             [
              0.6666666666666666,
              "#ed7953"
             ],
             [
              0.7777777777777778,
              "#fb9f3a"
             ],
             [
              0.8888888888888888,
              "#fdca26"
             ],
             [
              1,
              "#f0f921"
             ]
            ],
            "type": "contour"
           }
          ],
          "contourcarpet": [
           {
            "colorbar": {
             "outlinewidth": 0,
             "ticks": ""
            },
            "type": "contourcarpet"
           }
          ],
          "heatmap": [
           {
            "colorbar": {
             "outlinewidth": 0,
             "ticks": ""
            },
            "colorscale": [
             [
              0,
              "#0d0887"
             ],
             [
              0.1111111111111111,
              "#46039f"
             ],
             [
              0.2222222222222222,
              "#7201a8"
             ],
             [
              0.3333333333333333,
              "#9c179e"
             ],
             [
              0.4444444444444444,
              "#bd3786"
             ],
             [
              0.5555555555555556,
              "#d8576b"
             ],
             [
              0.6666666666666666,
              "#ed7953"
             ],
             [
              0.7777777777777778,
              "#fb9f3a"
             ],
             [
              0.8888888888888888,
              "#fdca26"
             ],
             [
              1,
              "#f0f921"
             ]
            ],
            "type": "heatmap"
           }
          ],
          "heatmapgl": [
           {
            "colorbar": {
             "outlinewidth": 0,
             "ticks": ""
            },
            "colorscale": [
             [
              0,
              "#0d0887"
             ],
             [
              0.1111111111111111,
              "#46039f"
             ],
             [
              0.2222222222222222,
              "#7201a8"
             ],
             [
              0.3333333333333333,
              "#9c179e"
             ],
             [
              0.4444444444444444,
              "#bd3786"
             ],
             [
              0.5555555555555556,
              "#d8576b"
             ],
             [
              0.6666666666666666,
              "#ed7953"
             ],
             [
              0.7777777777777778,
              "#fb9f3a"
             ],
             [
              0.8888888888888888,
              "#fdca26"
             ],
             [
              1,
              "#f0f921"
             ]
            ],
            "type": "heatmapgl"
           }
          ],
          "histogram": [
           {
            "marker": {
             "pattern": {
              "fillmode": "overlay",
              "size": 10,
              "solidity": 0.2
             }
            },
            "type": "histogram"
           }
          ],
          "histogram2d": [
           {
            "colorbar": {
             "outlinewidth": 0,
             "ticks": ""
            },
            "colorscale": [
             [
              0,
              "#0d0887"
             ],
             [
              0.1111111111111111,
              "#46039f"
             ],
             [
              0.2222222222222222,
              "#7201a8"
             ],
             [
              0.3333333333333333,
              "#9c179e"
             ],
             [
              0.4444444444444444,
              "#bd3786"
             ],
             [
              0.5555555555555556,
              "#d8576b"
             ],
             [
              0.6666666666666666,
              "#ed7953"
             ],
             [
              0.7777777777777778,
              "#fb9f3a"
             ],
             [
              0.8888888888888888,
              "#fdca26"
             ],
             [
              1,
              "#f0f921"
             ]
            ],
            "type": "histogram2d"
           }
          ],
          "histogram2dcontour": [
           {
            "colorbar": {
             "outlinewidth": 0,
             "ticks": ""
            },
            "colorscale": [
             [
              0,
              "#0d0887"
             ],
             [
              0.1111111111111111,
              "#46039f"
             ],
             [
              0.2222222222222222,
              "#7201a8"
             ],
             [
              0.3333333333333333,
              "#9c179e"
             ],
             [
              0.4444444444444444,
              "#bd3786"
             ],
             [
              0.5555555555555556,
              "#d8576b"
             ],
             [
              0.6666666666666666,
              "#ed7953"
             ],
             [
              0.7777777777777778,
              "#fb9f3a"
             ],
             [
              0.8888888888888888,
              "#fdca26"
             ],
             [
              1,
              "#f0f921"
             ]
            ],
            "type": "histogram2dcontour"
           }
          ],
          "mesh3d": [
           {
            "colorbar": {
             "outlinewidth": 0,
             "ticks": ""
            },
            "type": "mesh3d"
           }
          ],
          "parcoords": [
           {
            "line": {
             "colorbar": {
              "outlinewidth": 0,
              "ticks": ""
             }
            },
            "type": "parcoords"
           }
          ],
          "pie": [
           {
            "automargin": true,
            "type": "pie"
           }
          ],
          "scatter": [
           {
            "marker": {
             "line": {
              "color": "#283442"
             }
            },
            "type": "scatter"
           }
          ],
          "scatter3d": [
           {
            "line": {
             "colorbar": {
              "outlinewidth": 0,
              "ticks": ""
             }
            },
            "marker": {
             "colorbar": {
              "outlinewidth": 0,
              "ticks": ""
             }
            },
            "type": "scatter3d"
           }
          ],
          "scattercarpet": [
           {
            "marker": {
             "colorbar": {
              "outlinewidth": 0,
              "ticks": ""
             }
            },
            "type": "scattercarpet"
           }
          ],
          "scattergeo": [
           {
            "marker": {
             "colorbar": {
              "outlinewidth": 0,
              "ticks": ""
             }
            },
            "type": "scattergeo"
           }
          ],
          "scattergl": [
           {
            "marker": {
             "line": {
              "color": "#283442"
             }
            },
            "type": "scattergl"
           }
          ],
          "scattermapbox": [
           {
            "marker": {
             "colorbar": {
              "outlinewidth": 0,
              "ticks": ""
             }
            },
            "type": "scattermapbox"
           }
          ],
          "scatterpolar": [
           {
            "marker": {
             "colorbar": {
              "outlinewidth": 0,
              "ticks": ""
             }
            },
            "type": "scatterpolar"
           }
          ],
          "scatterpolargl": [
           {
            "marker": {
             "colorbar": {
              "outlinewidth": 0,
              "ticks": ""
             }
            },
            "type": "scatterpolargl"
           }
          ],
          "scatterternary": [
           {
            "marker": {
             "colorbar": {
              "outlinewidth": 0,
              "ticks": ""
             }
            },
            "type": "scatterternary"
           }
          ],
          "surface": [
           {
            "colorbar": {
             "outlinewidth": 0,
             "ticks": ""
            },
            "colorscale": [
             [
              0,
              "#0d0887"
             ],
             [
              0.1111111111111111,
              "#46039f"
             ],
             [
              0.2222222222222222,
              "#7201a8"
             ],
             [
              0.3333333333333333,
              "#9c179e"
             ],
             [
              0.4444444444444444,
              "#bd3786"
             ],
             [
              0.5555555555555556,
              "#d8576b"
             ],
             [
              0.6666666666666666,
              "#ed7953"
             ],
             [
              0.7777777777777778,
              "#fb9f3a"
             ],
             [
              0.8888888888888888,
              "#fdca26"
             ],
             [
              1,
              "#f0f921"
             ]
            ],
            "type": "surface"
           }
          ],
          "table": [
           {
            "cells": {
             "fill": {
              "color": "#506784"
             },
             "line": {
              "color": "rgb(17,17,17)"
             }
            },
            "header": {
             "fill": {
              "color": "#2a3f5f"
             },
             "line": {
              "color": "rgb(17,17,17)"
             }
            },
            "type": "table"
           }
          ]
         },
         "layout": {
          "annotationdefaults": {
           "arrowcolor": "#f2f5fa",
           "arrowhead": 0,
           "arrowwidth": 1
          },
          "autotypenumbers": "strict",
          "coloraxis": {
           "colorbar": {
            "outlinewidth": 0,
            "ticks": ""
           }
          },
          "colorscale": {
           "diverging": [
            [
             0,
             "#8e0152"
            ],
            [
             0.1,
             "#c51b7d"
            ],
            [
             0.2,
             "#de77ae"
            ],
            [
             0.3,
             "#f1b6da"
            ],
            [
             0.4,
             "#fde0ef"
            ],
            [
             0.5,
             "#f7f7f7"
            ],
            [
             0.6,
             "#e6f5d0"
            ],
            [
             0.7,
             "#b8e186"
            ],
            [
             0.8,
             "#7fbc41"
            ],
            [
             0.9,
             "#4d9221"
            ],
            [
             1,
             "#276419"
            ]
           ],
           "sequential": [
            [
             0,
             "#0d0887"
            ],
            [
             0.1111111111111111,
             "#46039f"
            ],
            [
             0.2222222222222222,
             "#7201a8"
            ],
            [
             0.3333333333333333,
             "#9c179e"
            ],
            [
             0.4444444444444444,
             "#bd3786"
            ],
            [
             0.5555555555555556,
             "#d8576b"
            ],
            [
             0.6666666666666666,
             "#ed7953"
            ],
            [
             0.7777777777777778,
             "#fb9f3a"
            ],
            [
             0.8888888888888888,
             "#fdca26"
            ],
            [
             1,
             "#f0f921"
            ]
           ],
           "sequentialminus": [
            [
             0,
             "#0d0887"
            ],
            [
             0.1111111111111111,
             "#46039f"
            ],
            [
             0.2222222222222222,
             "#7201a8"
            ],
            [
             0.3333333333333333,
             "#9c179e"
            ],
            [
             0.4444444444444444,
             "#bd3786"
            ],
            [
             0.5555555555555556,
             "#d8576b"
            ],
            [
             0.6666666666666666,
             "#ed7953"
            ],
            [
             0.7777777777777778,
             "#fb9f3a"
            ],
            [
             0.8888888888888888,
             "#fdca26"
            ],
            [
             1,
             "#f0f921"
            ]
           ]
          },
          "colorway": [
           "#636efa",
           "#EF553B",
           "#00cc96",
           "#ab63fa",
           "#FFA15A",
           "#19d3f3",
           "#FF6692",
           "#B6E880",
           "#FF97FF",
           "#FECB52"
          ],
          "font": {
           "color": "#f2f5fa"
          },
          "geo": {
           "bgcolor": "rgb(17,17,17)",
           "lakecolor": "rgb(17,17,17)",
           "landcolor": "rgb(17,17,17)",
           "showlakes": true,
           "showland": true,
           "subunitcolor": "#506784"
          },
          "hoverlabel": {
           "align": "left"
          },
          "hovermode": "closest",
          "mapbox": {
           "style": "dark"
          },
          "paper_bgcolor": "rgb(17,17,17)",
          "plot_bgcolor": "rgb(17,17,17)",
          "polar": {
           "angularaxis": {
            "gridcolor": "#506784",
            "linecolor": "#506784",
            "ticks": ""
           },
           "bgcolor": "rgb(17,17,17)",
           "radialaxis": {
            "gridcolor": "#506784",
            "linecolor": "#506784",
            "ticks": ""
           }
          },
          "scene": {
           "xaxis": {
            "backgroundcolor": "rgb(17,17,17)",
            "gridcolor": "#506784",
            "gridwidth": 2,
            "linecolor": "#506784",
            "showbackground": true,
            "ticks": "",
            "zerolinecolor": "#C8D4E3"
           },
           "yaxis": {
            "backgroundcolor": "rgb(17,17,17)",
            "gridcolor": "#506784",
            "gridwidth": 2,
            "linecolor": "#506784",
            "showbackground": true,
            "ticks": "",
            "zerolinecolor": "#C8D4E3"
           },
           "zaxis": {
            "backgroundcolor": "rgb(17,17,17)",
            "gridcolor": "#506784",
            "gridwidth": 2,
            "linecolor": "#506784",
            "showbackground": true,
            "ticks": "",
            "zerolinecolor": "#C8D4E3"
           }
          },
          "shapedefaults": {
           "line": {
            "color": "#f2f5fa"
           }
          },
          "sliderdefaults": {
           "bgcolor": "#C8D4E3",
           "bordercolor": "rgb(17,17,17)",
           "borderwidth": 1,
           "tickwidth": 0
          },
          "ternary": {
           "aaxis": {
            "gridcolor": "#506784",
            "linecolor": "#506784",
            "ticks": ""
           },
           "baxis": {
            "gridcolor": "#506784",
            "linecolor": "#506784",
            "ticks": ""
           },
           "bgcolor": "rgb(17,17,17)",
           "caxis": {
            "gridcolor": "#506784",
            "linecolor": "#506784",
            "ticks": ""
           }
          },
          "title": {
           "x": 0.05
          },
          "updatemenudefaults": {
           "bgcolor": "#506784",
           "borderwidth": 0
          },
          "xaxis": {
           "automargin": true,
           "gridcolor": "#283442",
           "linecolor": "#506784",
           "ticks": "",
           "title": {
            "standoff": 15
           },
           "zerolinecolor": "#283442",
           "zerolinewidth": 2
          },
          "yaxis": {
           "automargin": true,
           "gridcolor": "#283442",
           "linecolor": "#506784",
           "ticks": "",
           "title": {
            "standoff": 15
           },
           "zerolinecolor": "#283442",
           "zerolinewidth": 2
          }
         }
        },
        "xaxis": {
         "anchor": "y",
         "domain": [
          0,
          1
         ],
         "title": {
          "text": "Tags"
         }
        },
        "yaxis": {
         "anchor": "x",
         "domain": [
          0,
          1
         ],
         "showgrid": false,
         "title": {
          "text": "Count"
         },
         "visible": true
        }
       }
      }
     },
     "metadata": {},
     "output_type": "display_data"
    }
   ],
   "source": [
    "fig = px.bar(count_tag.head(10), x = count_tag['tags'].head(10), y = count_tag['count'].head(10), color_discrete_sequence = ['red'])\n",
    "fig.update_layout(\n",
    "    template= 'plotly_dark')\n",
    "fig.update_yaxes(showgrid=False,visible=True, title=\"Count\")\n",
    "fig.update_xaxes(title = 'Tags')\n",
    "fig.show()"
   ]
  },
  {
   "cell_type": "markdown",
   "metadata": {},
   "source": [
    "#### View"
   ]
  },
  {
   "cell_type": "code",
   "execution_count": 56,
   "metadata": {},
   "outputs": [
    {
     "data": {
      "application/vnd.plotly.v1+json": {
       "config": {
        "plotlyServerURL": "https://plot.ly"
       },
       "data": [
        {
         "alignmentgroup": "True",
         "customdata": [
          [
           "Do schools kill creativity?"
          ],
          [
           "Averting the climate crisis"
          ],
          [
           "Simplicity sells"
          ],
          [
           "Greening the ghetto"
          ],
          [
           "The best stats you've ever seen"
          ],
          [
           "Why we do what we do"
          ],
          [
           "Letting go of God"
          ],
          [
           "Behind the design of Seattle's library"
          ],
          [
           "Let's teach religion -- all religion -- in schools"
          ],
          [
           "A life of purpose"
          ],
          [
           "My wish: A call for open-source architecture"
          ],
          [
           "My wish: A global day of film"
          ],
          [
           "My wish: Help me stop pandemics"
          ],
          [
           "The radical promise of the multi-touch interface"
          ],
          [
           "One Laptop per Child"
          ],
          [
           "An 11-year-old's magical violin"
          ],
          [
           "Improvising on piano, aged 14"
          ],
          [
           "Simple designs to save a life"
          ],
          [
           "Organic design, inspired by nature"
          ],
          [
           "The birth of Wikipedia"
          ],
          [
           "The birth of the open-source learning revolution"
          ],
          [
           "Nerdcore comedy"
          ],
          [
           "Meet the founder of the blog revolution"
          ],
          [
           "Why we love, why we cheat"
          ],
          [
           "Happiness in body and soul"
          ],
          [
           "Chemical scum that dream of distant quasars"
          ],
          [
           "Why the universe seems so strange"
          ],
          [
           "The freakonomics of crack dealing"
          ],
          [
           "Choice, happiness and spaghetti sauce"
          ],
          [
           "The surprising science of happiness"
          ],
          [
           "The paradox of choice"
          ],
          [
           "Meet the future of cancer research"
          ],
          [
           "A roadmap to end aging"
          ],
          [
           "How mobile phones can fight poverty"
          ],
          [
           "Invest in Africa's own solutions"
          ],
          [
           "Why we should invest in a free press"
          ],
          [
           "How to rebuild a broken state"
          ],
          [
           "The real future of space exploration"
          ],
          [
           "Why did I ski to the North Pole?"
          ],
          [
           "My wish: Three actions for Africa"
          ],
          [
           "My wish: Manufactured landscapes and green education"
          ],
          [
           "My wish: Three unusual medical inventions"
          ],
          [
           "How juries are fooled by statistics"
          ],
          [
           "Why people believe weird things"
          ],
          [
           "The accelerating power of technology"
          ],
          [
           "How technology evolves"
          ],
          [
           "Fight injustice with raw video"
          ],
          [
           "8 secrets of success"
          ],
          [
           "If I controlled the Internet"
          ],
          [
           "The killer American diet that's sweeping the planet"
          ],
          [
           "The hidden world of shadow cities"
          ],
          [
           "Global priorities bigger than climate change"
          ],
          [
           "Dreams from endangered cultures"
          ],
          [
           "Photos of endangered cultures"
          ],
          [
           "Is this our final century?"
          ],
          [
           "Progress is not a zero-sum game"
          ],
          [
           "How the \"ghost map\" helped end a killer disease"
          ],
          [
           "The era of open innovation"
          ],
          [
           "A dance of \"Symbiosis\""
          ],
          [
           "Four American characters"
          ],
          [
           "Everyday inventions"
          ],
          [
           "Unleash your creativity in a Fab Lab"
          ],
          [
           "In praise of slowness"
          ],
          [
           "My wish: Rebuilding Rwanda"
          ],
          [
           "My wish: Build the Encyclopedia of Life"
          ],
          [
           "My wish: Let my photographs bear witness"
          ],
          [
           "What separates us from chimpanzees?"
          ],
          [
           "How to get your ideas to spread"
          ],
          [
           "How we discovered DNA"
          ],
          [
           "Visual illusions that show how we (mis)think"
          ],
          [
           "To invent is to give"
          ],
          [
           "The life code that will reshape the future"
          ],
          [
           "Happiness by design"
          ],
          [
           "The route to a sustainable future"
          ],
          [
           "How architecture can connect us"
          ],
          [
           "Great cars are great art"
          ],
          [
           "Singing \"What I Want\""
          ],
          [
           "Design is in the details"
          ],
          [
           "Art with wire, sugar, chocolate and string"
          ],
          [
           "A philosophical quest for our biggest problems"
          ],
          [
           "Biomimicry's surprising lessons from nature's engineers"
          ],
          [
           "Sampling the ocean's DNA"
          ],
          [
           "Software (as) art"
          ],
          [
           "The gentle genius of bonobos"
          ],
          [
           "The story of life in photographs"
          ],
          [
           "The shrimp with a kick!"
          ],
          [
           "Global warming's theme song, \"Manhattan in January\""
          ],
          [
           "Casting a spell on the cello"
          ],
          [
           "The illusion of consciousness"
          ],
          [
           "How to truly listen"
          ],
          [
           "Cradle to cradle design"
          ],
          [
           "The electricity metaphor for the web's future"
          ],
          [
           "A mockingbird remix of TED2006"
          ],
          [
           "\"Kiteflyer's Hill\""
          ],
          [
           "\"What You've Got\""
          ],
          [
           "Why would God create a tsunami?"
          ],
          [
           "Militant atheism"
          ],
          [
           "A comic sendup of TED2006"
          ],
          [
           "\"La Vie en Rose\""
          ],
          [
           "Technology's long tail"
          ],
          [
           "Cape Breton fiddling in reel time"
          ],
          [
           "The genesis of Google"
          ],
          [
           "\"Black Men Ski\""
          ],
          [
           "The ghastly tragedy of the suburbs"
          ],
          [
           "Human-centered design"
          ],
          [
           "What squatter cities can teach us"
          ],
          [
           "How brain science will change computing"
          ],
          [
           "Swim with the giant sunfish"
          ],
          [
           "How PhotoSynth can connect the world's images"
          ],
          [
           "Salvation (and profit) in greentech"
          ],
          [
           "Want to help Africa? Do business here"
          ],
          [
           "Rethink the desktop with BumpTop"
          ],
          [
           "We can be Buddhas"
          ],
          [
           "A memorial at Ground Zero"
          ],
          [
           "Let's rethink America's military strategy"
          ],
          [
           "A string quartet plays \"Blue Room\""
          ],
          [
           "Tour Microsoft's Virtual Earth"
          ],
          [
           "New insights on poverty"
          ],
          [
           "I'm going to the moon. Who's with me?"
          ],
          [
           "Dangerous memes"
          ],
          [
           "The potential of regenerative medicine"
          ],
          [
           "The Web's secret stories"
          ],
          [
           "Flip your thinking on AIDS in Africa"
          ],
          [
           "Spore, birth of a game"
          ],
          [
           "The  4 a.m. mystery"
          ],
          [
           "Visualizing the wonder of a living cell"
          ],
          [
           "How to get (a new) hip"
          ],
          [
           "Africa's cheetahs versus hippos"
          ],
          [
           "Aid versus trade"
          ],
          [
           "How I built a windmill"
          ],
          [
           "Why invest in Africa"
          ],
          [
           "How to educate leaders? Liberal arts"
          ],
          [
           "Telling stories from Africa"
          ],
          [
           "Patient capitalism"
          ],
          [
           "\"Thula Mama\""
          ],
          [
           "\"Woza\""
          ],
          [
           "My journey into movies that matter"
          ],
          [
           "Luke, a new prosthetic arm for soldiers"
          ],
          [
           "The joy of lexicography"
          ],
          [
           "Aid for Africa? No thanks."
          ],
          [
           "My creations, a new form of life"
          ],
          [
           "What our language habits reveal"
          ],
          [
           "The surprising decline in violence"
          ],
          [
           "An Iraq war movie crowd-sourced from soldiers"
          ],
          [
           "The search for humanity's roots"
          ],
          [
           "Designing for simplicity"
          ],
          [
           "10 ways the world could end"
          ],
          [
           "A flight on solar wings"
          ],
          [
           "This is Saturn"
          ],
          [
           "My magic moves"
          ],
          [
           "Life at 30,000 feet"
          ],
          [
           "Building \"self-aware\" robots"
          ],
          [
           "The illustrated woman"
          ],
          [
           "The anthropology of mobile phones"
          ],
          [
           "3 clues to understanding your brain"
          ],
          [
           "A commodities exchange for Ethiopia"
          ],
          [
           "The habits of happiness"
          ],
          [
           "Laws that choke creativity"
          ],
          [
           "Playing with DNA that self-assembles"
          ],
          [
           "A critical look at geoengineering against climate change"
          ],
          [
           "Using biology to rethink the energy challenge"
          ],
          [
           "The case for optimism"
          ],
          [
           "The sticky wonder of gecko feet"
          ],
          [
           "The fractals at the heart of African designs"
          ],
          [
           "Design and destiny"
          ],
          [
           "Beauty, truth and ... physics?"
          ],
          [
           "Winning the oil endgame"
          ],
          [
           "A performance of \"Mathemagic\""
          ],
          [
           "Why aren't we more compassionate?"
          ],
          [
           "The lost art of letter-writing"
          ],
          [
           "5 dangerous things you should let your kids do"
          ],
          [
           "Tales of passion"
          ],
          [
           "We're worried about local warming ... in your lap"
          ],
          [
           "The emergent genius of ant colonies"
          ],
          [
           "The mystery box"
          ],
          [
           "Underwater astonishments"
          ],
          [
           "Treat design as art"
          ],
          [
           "A master architect asks, Now what?"
          ],
          [
           "\"Tembererana\""
          ],
          [
           "Rebuilding a neighborhood with beauty, dignity, hope"
          ],
          [
           "The life-long learner"
          ],
          [
           "The music wars"
          ],
          [
           "An unusual glimpse at celebrity"
          ],
          [
           "TED's nonprofit transition"
          ],
          [
           "The idea behind Zipcar (and what comes next)"
          ],
          [
           "A song of the city"
          ],
          [
           "An illustrated journey through Rome"
          ],
          [
           "A plant's-eye view"
          ],
          [
           "The new power of collaboration"
          ],
          [
           "The untouchable music of the theremin"
          ],
          [
           "The story of Project Orion"
          ],
          [
           "Building uniqueness"
          ],
          [
           "The Jill and Julia Show"
          ],
          [
           "Juggle and jest"
          ],
          [
           "A parable for Kenya"
          ],
          [
           "Model rocketry"
          ],
          [
           "A preview of the WorldWide Telescope"
          ],
          [
           "A powerful idea about ideas"
          ],
          [
           "On the verge of creating synthetic life"
          ],
          [
           "My stroke of insight"
          ],
          [
           "My wish: Once Upon a School"
          ],
          [
           "My wish: The Charter for Compassion"
          ],
          [
           "My wish: Find the next Einstein in Africa"
          ],
          [
           "My green agenda for architecture"
          ],
          [
           "A look inside the brain in real time"
          ],
          [
           "The call to learn"
          ],
          [
           "\"M'Bifo\""
          ],
          [
           "The search for the true face of Leonardo"
          ],
          [
           "Sputnik mania"
          ],
          [
           "A new kind of music video"
          ],
          [
           "Questioning the universe"
          ],
          [
           "New thinking on the climate crisis"
          ],
          [
           "Free or cheap Wii Remote hacks"
          ],
          [
           "Inventing instruments that unlock new music"
          ],
          [
           "The new open-source economics"
          ],
          [
           "World-class health care"
          ],
          [
           "Where does creativity hide?"
          ],
          [
           "Making sense of string theory"
          ],
          [
           "CERN's supercollider"
          ],
          [
           "Wake up! It's They Might Be Giants!"
          ],
          [
           "The thinking behind 50x15"
          ],
          [
           "6 ways mushrooms can save the world"
          ],
          [
           "Can we domesticate germs?"
          ],
          [
           "Juggling as art ... and science"
          ],
          [
           "A thought experiment on the intelligence of crows"
          ],
          [
           "How the news distorts our worldview"
          ],
          [
           "What's wrong with what we eat"
          ],
          [
           "The astonishing hidden world of the deep ocean"
          ],
          [
           "Designing objects that tell stories"
          ],
          [
           "Moving sculpture"
          ],
          [
           "A hospital tour in Nigeria"
          ],
          [
           "The \"bottom billion\""
          ],
          [
           "Memes and \"temes\""
          ],
          [
           "Archeology, animal photography, BBQ ..."
          ],
          [
           "\"Kounandi\""
          ],
          [
           "The worldwide web of belief and ritual"
          ],
          [
           "The ancestor of language"
          ],
          [
           "The birth of the computer"
          ],
          [
           "Turning powerful stats into art"
          ],
          [
           "Your genes are not your fate"
          ],
          [
           "Robots inspired by cockroach ingenuity"
          ],
          [
           "A mobile fridge for vaccines"
          ],
          [
           "Surprising stats about child carseats"
          ],
          [
           "The transformative power of classical music"
          ],
          [
           "One Laptop per Child, two years on"
          ],
          [
           "\"Clonie\""
          ],
          [
           "A performance with breath, music, passion"
          ],
          [
           "Stephen Hawking's zero g flight"
          ],
          [
           "The story of a girl"
          ],
          [
           "\"Peace on Earth\""
          ],
          [
           "A hero of the Congo forest"
          ],
          [
           "Animate characters by evolving them"
          ],
          [
           "What happens when you lose everything"
          ],
          [
           "Institutions vs. collaboration"
          ],
          [
           "\"Mother of Pearl,\" \"If I Had You\""
          ],
          [
           "Let's look for life in the outer solar system"
          ],
          [
           "The brain in love"
          ],
          [
           "My year of living biblically"
          ],
          [
           "Brain magic"
          ],
          [
           "The new era of positive psychology"
          ],
          [
           "The wonder of Zulu wire art"
          ],
          [
           "On humanity"
          ],
          [
           "A dig for humanity's origins"
          ],
          [
           "The web as art"
          ],
          [
           "A tour of modern architecture"
          ],
          [
           "The next 5,000 days of the web"
          ],
          [
           "A computer that works like the brain"
          ],
          [
           "The math and magic of origami"
          ],
          [
           "Blindfold origami and cello"
          ],
          [
           "Shedding light on dark matter"
          ],
          [
           "A family tree for humanity"
          ],
          [
           "How photography connects us"
          ],
          [
           "Close-up card magic with a twist"
          ],
          [
           "Dog-friendly dog training"
          ],
          [
           "\"The Dog Song\""
          ],
          [
           "Great piano performances, recreated"
          ],
          [
           "Kids can teach themselves"
          ],
          [
           "How I became an activist"
          ],
          [
           "A talking, squawking parrot"
          ],
          [
           "DNA folding, in detail"
          ],
          [
           "Our next giant leap"
          ],
          [
           "The web is more than \"better TV\""
          ],
          [
           "What we think we know"
          ],
          [
           "How humans and animals can live together"
          ],
          [
           "How to survive a nuclear attack"
          ],
          [
           "A free digital library"
          ],
          [
           "Once upon a time, my mother ..."
          ],
          [
           "The camel's hump"
          ],
          [
           "What's wrong with school lunches"
          ],
          [
           "The moral roots of liberals and conservatives"
          ],
          [
           "What security means to me"
          ],
          [
           "How to pitch to a VC"
          ],
          [
           "Health and the human mind"
          ],
          [
           "The psychology of evil"
          ],
          [
           "Remember to say thank you"
          ],
          [
           "Playtime with Pleo, your robotic dinosaur friend"
          ],
          [
           "Human nature and the blank slate"
          ],
          [
           "Robots will invade our lives"
          ],
          [
           "Things I've learned in my life so far"
          ],
          [
           "Politics and religion are technologies"
          ],
          [
           "The Blur Building and other tech-empowered architecture"
          ],
          [
           "Moving photos of extreme drug-resistant TB"
          ],
          [
           "Are games better than life?"
          ],
          [
           "Lessons from past presidents"
          ],
          [
           "The Web as a city"
          ],
          [
           "Playing invisible turntables"
          ],
          [
           "An 8-dimensional model of the universe"
          ],
          [
           "Design and the Elastic Mind"
          ],
          [
           "On glamour"
          ],
          [
           "Healing through diet"
          ],
          [
           "Aliens, love -- where are they?"
          ],
          [
           "Flow, the secret to happiness"
          ],
          [
           "The face of AIDS in Africa"
          ],
          [
           "Why do societies collapse?"
          ],
          [
           "A story of mixed emoticons"
          ],
          [
           "Toys and materials from the future"
          ],
          [
           "The story of Ezra"
          ],
          [
           "The balancing act of compassion"
          ],
          [
           "The profound journey of compassion"
          ],
          [
           "Compassion at the dinner table"
          ],
          [
           "Lose your ego, find your compassion"
          ],
          [
           "Expanding your circle of compassion"
          ],
          [
           "The evolution of compassion"
          ],
          [
           "A flight through the ocean"
          ],
          [
           "The power and the danger of online crowds"
          ],
          [
           "Walk the earth ... my 17-year vow of silence"
          ],
          [
           "Tales of creativity and play"
          ],
          [
           "The science of scent"
          ],
          [
           "Science and democracy"
          ],
          [
           "A complicated hero in the war on dictatorship"
          ],
          [
           "The story behind the Mars Rovers"
          ],
          [
           "Tidying up art"
          ],
          [
           "The Long Now"
          ],
          [
           "Fashion and creativity"
          ],
          [
           "A tour of Nollywood, Nigeria's booming film industry"
          ],
          [
           "The design of the universe"
          ],
          [
           "What I'm worried about, what I'm excited about"
          ],
          [
           "A foie gras parable"
          ],
          [
           "Do the green thing"
          ],
          [
           "The coming neurological epidemic"
          ],
          [
           "The mysterious lives of giant trees"
          ],
          [
           "Life in Second Life"
          ],
          [
           "The future of cars"
          ],
          [
           "Demo: The Orb"
          ],
          [
           "The joyful tradition of mountain music"
          ],
          [
           "A plea for bees"
          ],
          [
           "My library of human imagination"
          ],
          [
           "Why we make bad decisions"
          ],
          [
           "The price of happiness"
          ],
          [
           "There might just be life on Mars"
          ],
          [
           "The science of sync"
          ],
          [
           "Taking OLPC to Colombia"
          ],
          [
           "The hunt for General Tso"
          ],
          [
           "Play! Experiment! Discover!"
          ],
          [
           "My journey in design"
          ],
          [
           "Digging up dinosaurs"
          ],
          [
           "My dream of a flying car"
          ],
          [
           "Organic algorithms in architecture"
          ],
          [
           "Ways of seeing"
          ],
          [
           "The visual magic of comics"
          ],
          [
           "The art and craft of bread"
          ],
          [
           "What consumers want"
          ],
          [
           "Great design is serious, not solemn"
          ],
          [
           "Design and discovery"
          ],
          [
           "Tools for a better world"
          ],
          [
           "Genomics 101"
          ],
          [
           "The extraordinary power of ordinary people"
          ],
          [
           "Hypersonic sound and other inventions"
          ],
          [
           "A theory of Earth's mass extinctions"
          ],
          [
           "Solving medical mysteries"
          ],
          [
           "Fiddling in reel time"
          ],
          [
           "A solar energy system that tracks the sun"
          ],
          [
           "Mosquitos, malaria and education"
          ],
          [
           "Your elusive creative genius"
          ],
          [
           "Toy tiles that talk to each other"
          ],
          [
           "Our loss of wisdom"
          ],
          [
           "The next species of human"
          ],
          [
           "The El Sistema music revolution"
          ],
          [
           "El Sistema's top youth orchestra"
          ],
          [
           "My wish: Protect our oceans"
          ],
          [
           "Join the SETI search"
          ],
          [
           "How Benjamin Button got his face"
          ],
          [
           "Seas of plastic"
          ],
          [
           "A dive into the reef's Twilight Zone"
          ],
          [
           "My underground art explorations"
          ],
          [
           "The voices of Twitter users"
          ],
          [
           "How to restore a rainforest"
          ],
          [
           "Conserving the canopy"
          ],
          [
           "Learning from dirty jobs"
          ],
          [
           "Piano jazz that rocks"
          ],
          [
           "3 ways good design makes you happy"
          ],
          [
           "Meet the SixthSense interaction"
          ],
          [
           "My 12 pairs of legs"
          ],
          [
           "Play is more than just fun"
          ],
          [
           "The next web"
          ],
          [
           "Cute, sexy, sweet, funny"
          ],
          [
           "Our buggy moral code"
          ],
          [
           "My obsession with objects and the stories they tell"
          ],
          [
           "What is retro-futurism?"
          ],
          [
           "How to grow fresh air"
          ],
          [
           "High-altitude wind energy from kites!"
          ],
          [
           "An escape from poverty"
          ],
          [
           "Cool tricks your phone can do"
          ],
          [
           "The jungle search for viruses"
          ],
          [
           "Can design save newspapers?"
          ],
          [
           "Extreme wingsuit flying"
          ],
          [
           "The Airstream, restyled"
          ],
          [
           "Military robots and the future of war"
          ],
          [
           "Scenes from \"My Architect\""
          ],
          [
           "A prediction for the future of Iran"
          ],
          [
           "How bacteria \"talk\""
          ],
          [
           "A theory of everything"
          ],
          [
           "Our antisocial phone tricks"
          ],
          [
           "A new ecosystem for electric cars"
          ],
          [
           "To upgrade is human"
          ],
          [
           "Stunning data visualization in the AlloSphere"
          ],
          [
           "Smash fear, learn anything"
          ],
          [
           "9 life lessons from rock climbing"
          ],
          [
           "The beautiful math of coral"
          ],
          [
           "Rethinking the way we sit down"
          ],
          [
           "Reporting crisis via texting"
          ],
          [
           "Does racism affect how you vote?"
          ],
          [
           "Comics of bygone New York"
          ],
          [
           "How ideas trump crises"
          ],
          [
           "Growing evidence of brain plasticity"
          ],
          [
           "A one-woman global village"
          ],
          [
           "Lessons from the 1918 flu"
          ],
          [
           "What went wrong at the LHC"
          ],
          [
           "The mathematics of war"
          ],
          [
           "Teach arts and sciences together"
          ],
          [
           "Anti-gravity sculpture"
          ],
          [
           "What comes after An Inconvenient Truth?"
          ],
          [
           "We need to feed the whole world"
          ],
          [
           "The tribes we lead"
          ],
          [
           "Chaos and harmony on piano"
          ],
          [
           "Insights on HIV, in stunning data visuals"
          ],
          [
           "Ideas for India's future"
          ],
          [
           "A full-band beatbox"
          ],
          [
           "The business logic of sustainability"
          ],
          [
           "Are we in control of our own decisions?"
          ],
          [
           "10 things you didn't know about orgasm"
          ],
          [
           "Could a Saturn moon harbor life?"
          ],
          [
           "A supercharged motorcycle design"
          ],
          [
           "Don't eat the marshmallow!"
          ],
          [
           "The world's English mania"
          ],
          [
           "A passionate, personal case for education"
          ],
          [
           "Why we're storing billions of seeds"
          ],
          [
           "Playing \"Pink Noise\" on guitar"
          ],
          [
           "A call to reinvent liberal arts education"
          ],
          [
           "A university for the coming singularity"
          ],
          [
           "A wide-angle view of fragile Earth"
          ],
          [
           "Odes to vice and consequences"
          ],
          [
           "The world in 2200"
          ],
          [
           "A plug for smart power outlets"
          ],
          [
           "Eco-friendly drywall"
          ],
          [
           "Happiness and its surprises"
          ],
          [
           "Learning from the gecko's tail"
          ],
          [
           "Success is a continuous journey"
          ],
          [
           "Life in Biosphere 2"
          ],
          [
           "How social media can make history"
          ],
          [
           "How cults rewire the brain"
          ],
          [
           "Surgery's past, present and robotic future"
          ],
          [
           "An electrifying organ performance"
          ],
          [
           "The psychology of time"
          ],
          [
           "New rules for rebuilding a broken nation"
          ],
          [
           "You are the future of philanthropy"
          ],
          [
           "My trek to the South Pole"
          ],
          [
           "Teach statistics before calculus!"
          ],
          [
           "Life lessons through tinkering"
          ],
          [
           "17 words of architectural inspiration"
          ],
          [
           "The design genius of Charles + Ray Eames"
          ],
          [
           "3 ways the brain creates meaning"
          ],
          [
           "Escaping the Khmer Rouge"
          ],
          [
           "A next-gen cure for killer infections"
          ],
          [
           "4 environmental 'heresies'"
          ],
          [
           "Playing with space and light"
          ],
          [
           "A better way to harvest bone marrow"
          ],
          [
           "Exploring the mind of a killer"
          ],
          [
           "Skin color is an illusion"
          ],
          [
           "Wiring a web for global good"
          ],
          [
           "A kinder, gentler philosophy of success"
          ],
          [
           "Art that looks back at you"
          ],
          [
           "I believe we evolved from aquatic apes"
          ],
          [
           "Hold your breath for micro-sculpture"
          ],
          [
           "How to make filthy water drinkable"
          ],
          [
           "Why the world needs charter cities"
          ],
          [
           "Biomimicry in action"
          ],
          [
           "The music of a war child"
          ],
          [
           "The puzzle of motivation"
          ],
          [
           "A demo of wireless electricity"
          ],
          [
           "Let my dataset change your mindset"
          ],
          [
           "A multimedia theatrical adventure"
          ],
          [
           "One seed at a time, protecting the future of food"
          ],
          [
           "Adjustable liquid-filled eyeglasses"
          ],
          [
           "Post-crash, investing in a better world"
          ],
          [
           "Making sound visible through cymatics"
          ],
          [
           "A leap from the edge of space"
          ],
          [
           "Time-lapse proof of extreme ice loss"
          ],
          [
           "How I swam the North Pole"
          ],
          [
           "How we read each other's minds"
          ],
          [
           "Hypnotic South Asian improv music"
          ],
          [
           "How global crime networks work"
          ],
          [
           "3 warp-speed architecture tales"
          ],
          [
           "An inventory of the invisible"
          ],
          [
           "What hallucination reveals about our minds"
          ],
          [
           "\"Wait It Out\""
          ],
          [
           "The Web as random acts of kindness"
          ],
          [
           "How the Net aids dictatorships"
          ],
          [
           "How I harnessed the wind"
          ],
          [
           "Photographs of secret sites"
          ],
          [
           "A third way to think about aid"
          ],
          [
           "Mapping the future of countries"
          ],
          [
           "Designers -- think big!"
          ],
          [
           "Let's revive the Golden Rule"
          ],
          [
           "How spectroscopy could reveal alien life"
          ],
          [
           "The power of time off"
          ],
          [
           "How food shapes our cities"
          ],
          [
           "Tribal leadership"
          ],
          [
           "The danger of a single story"
          ],
          [
           "Optical illusions show how we see"
          ],
          [
           "Claim your \"manspace\""
          ],
          [
           "New York -- before the City"
          ],
          [
           "Robots that \"show emotion\""
          ],
          [
           "Life lessons from an ad man"
          ],
          [
           "A brain in a supercomputer"
          ],
          [
           "The 4 ways sound affects us"
          ],
          [
           "The post-crisis consumer"
          ],
          [
           "Animating a photo-real digital face"
          ],
          [
           "Lead like the great conductors"
          ],
          [
           "1.3m reasons to re-invent the syringe"
          ],
          [
           "Navigating our global future"
          ],
          [
           "A new way to explain explanation"
          ],
          [
           "Architecture that repairs itself?"
          ],
          [
           "The year I was homeless"
          ],
          [
           "Symmetry, reality's riddle"
          ],
          [
           "The modern euphonium"
          ],
          [
           "How the Internet enables intimacy"
          ],
          [
           "The refugees of boom-and-bust"
          ],
          [
           "The science behind a climate headline"
          ],
          [
           "Photographing the landscape of oil"
          ],
          [
           "The surprising spread of Idol TV"
          ],
          [
           "The thrilling potential of SixthSense technology"
          ],
          [
           "Science-inspired design"
          ],
          [
           "Learning from leadership's missing manual"
          ],
          [
           "East vs. West -- the myths that mystify"
          ],
          [
           "Learn to use the 13th-century astrolabe"
          ],
          [
           "Asia's rise -- how and when"
          ],
          [
           "Transition to a world without oil"
          ],
          [
           "Turning dunes into architecture"
          ],
          [
           "Dance to change the world"
          ],
          [
           "Why nations should pursue soft power"
          ],
          [
           "Global ethic vs. national interest"
          ],
          [
           "The hunt for a supermassive black hole"
          ],
          [
           "The ancient ingenuity of water harvesting"
          ],
          [
           "The art of puzzles"
          ],
          [
           "The fight against sex slavery"
          ],
          [
           "A one-man world summit"
          ],
          [
           "The art of the interview"
          ],
          [
           "How low-cost eye care can be world-class"
          ],
          [
           "Pop culture in the Arab world"
          ],
          [
           "The intricate economics of terrorism"
          ],
          [
           "Photographing the hidden story"
          ],
          [
           "How to make a splash in social media"
          ],
          [
           "Dragonflies that fly across oceans"
          ],
          [
           "Metaphorically speaking"
          ],
          [
           "A new way to fight corruption"
          ],
          [
           "Fusion is energy's future"
          ],
          [
           "My message of peace from Pakistan"
          ],
          [
           "What's the right thing to do?"
          ],
          [
           "Engineering a better life for all"
          ],
          [
           "My solar-powered adventure"
          ],
          [
           "The neurons that shaped civilization"
          ],
          [
           "Exposing the invisible"
          ],
          [
           "How to live to be 100+"
          ],
          [
           "The real danger lurking in the water"
          ],
          [
           "An all-star set"
          ],
          [
           "Really achieving your childhood dreams"
          ],
          [
           "The uniqueness of humans"
          ],
          [
           "What Bernie Madoff couldn't steal from me"
          ],
          [
           "How we rescued the \"dancing\" bears\""
          ],
          [
           "Kids, take charge"
          ],
          [
           "Making maps to fight disaster, build economies"
          ],
          [
           "Stories of Haiti"
          ],
          [
           "All things are Moleeds"
          ],
          [
           "How I held my breath for 17 minutes"
          ],
          [
           "10 young Indian artists to watch"
          ],
          [
           "Growing new organs"
          ],
          [
           "Rhythm is everything, everywhere"
          ],
          [
           "What teachers make"
          ],
          [
           "Your health depends on where you live"
          ],
          [
           "Building a theater that remakes itself"
          ],
          [
           "Embrace your inner girl"
          ],
          [
           "A warm embrace that saves lives"
          ],
          [
           "Weird, or just different?"
          ],
          [
           "The fringe benefits of failure"
          ],
          [
           "Solving social problems with a nudge"
          ],
          [
           "The big idea my brother inspired"
          ],
          [
           "A lab the size of a postage stamp"
          ],
          [
           "A new strategy in the war on cancer"
          ],
          [
           "The painter and the pendulum"
          ],
          [
           "How to expose the corrupt"
          ],
          [
           "Teach every child about food"
          ],
          [
           "Augmented-reality maps"
          ],
          [
           "The next age of government"
          ],
          [
           "The opportunity of adversity"
          ],
          [
           "Innovating to zero!"
          ],
          [
           "Technology's epic story"
          ],
          [
           "Four ways to fix a broken legal system"
          ],
          [
           "The wireless future of medicine"
          ],
          [
           "The world needs all kinds of minds"
          ],
          [
           "How brains learn to see"
          ],
          [
           "My 5 lives as an artist"
          ],
          [
           "Watch me play ... the audience!"
          ],
          [
           "The riddle of experience vs. memory"
          ],
          [
           "The rise of cricket, the rise of India"
          ],
          [
           "Is Pivot a turning point for web exploration?"
          ],
          [
           "Before Avatar ... a curious boy"
          ],
          [
           "In the Internet age, dance evolves ..."
          ],
          [
           "Plug into your hard-wired happiness"
          ],
          [
           "The year open data went worldwide"
          ],
          [
           "Take Turns"
          ],
          [
           "How I fell in love with a fish"
          ],
          [
           "The magic of the placebo"
          ],
          [
           "Do what you love (no excuses!)"
          ],
          [
           "Suspended animation is within our grasp"
          ],
          [
           "Take health care off the mainframe"
          ],
          [
           "Gaming can make a better world"
          ],
          [
           "Medical miracle on Everest"
          ],
          [
           "We are the stories we tell ourselves"
          ],
          [
           "Science can answer moral questions"
          ],
          [
           "The fight to end rare-animal trafficking in Brazil"
          ],
          [
           "Let's simplify legal jargon!"
          ],
          [
           "Why we need to go back to Mars"
          ],
          [
           "Music is medicine, music is sanity"
          ],
          [
           "Why I do theater"
          ],
          [
           "How to combat modern slavery"
          ],
          [
           "Teaching one child at a time"
          ],
          [
           "And now, the real news"
          ],
          [
           "How to start a movement"
          ],
          [
           "What adults can learn from kids"
          ],
          [
           "When games invade real life"
          ],
          [
           "Sex, drugs and HIV -- let's get rational"
          ],
          [
           "The emotion behind invention"
          ],
          [
           "My seven species of robot -- and how we created them"
          ],
          [
           "Every pollen grain has a story"
          ],
          [
           "Singing old poems to life"
          ],
          [
           "The danger of science denial"
          ],
          [
           "Photos that changed the world"
          ],
          [
           "The tradeoffs of building green"
          ],
          [
           "How art gives shape to cultural change"
          ],
          [
           "A choir as big as the Internet"
          ],
          [
           "Glowing life in an underwater world"
          ],
          [
           "Homeopathy, quackery and fraud"
          ],
          [
           "Bio-lab on a microchip"
          ],
          [
           "Build a tower, build a team"
          ],
          [
           "Political change with pen and paper"
          ],
          [
           "Radical women, embracing tradition"
          ],
          [
           "Computing a theory of all knowledge"
          ],
          [
           "Why I'm rowing across the Pacific"
          ],
          [
           "Toward a science of simplicity"
          ],
          [
           "Lies, damned lies and statistics (about TEDTalks)"
          ],
          [
           "Social experiments to fight poverty"
          ],
          [
           "How great leaders inspire action"
          ],
          [
           "How we wrecked the ocean"
          ],
          [
           "India's hidden hotbeds of invention"
          ],
          [
           "\"Love Is a Loaded Pistol\""
          ],
          [
           "The hidden influence of social networks"
          ],
          [
           "Could this laser zap malaria?"
          ],
          [
           "Glimpses of a pristine ocean"
          ],
          [
           "Math class needs a makeover"
          ],
          [
           "It's time for \"The Talk\""
          ],
          [
           "Can we eat to starve cancer?"
          ],
          [
           "Why I'm a weekday vegetarian"
          ],
          [
           "Pay attention to penguins"
          ],
          [
           "Planning for the end of oil"
          ],
          [
           "Watch me unveil \"synthetic life\""
          ],
          [
           "Bring on the learning revolution!"
          ],
          [
           "Lessons from fashion's free culture"
          ],
          [
           "Inside a school for suicide bombers"
          ],
          [
           "HIV and flu -- the vaccine strategy"
          ],
          [
           "Songs of secrets and city lights"
          ],
          [
           "Re-examining the remix"
          ],
          [
           "Pointing to the future of UI"
          ],
          [
           "The ocean's glory -- and horror"
          ],
          [
           "The case for anonymity online"
          ],
          [
           "Why we need the explorers"
          ],
          [
           "How to engineer a viral music video"
          ],
          [
           "The lost art of democratic debate"
          ],
          [
           "How poachers became caretakers"
          ],
          [
           "Sweat the small stuff"
          ],
          [
           "Debate: Does the world need nuclear energy?"
          ],
          [
           "How architecture helped music evolve"
          ],
          [
           "The pattern behind self-deception"
          ],
          [
           "How YouTube thinks about copyright"
          ],
          [
           "The intriguing sound of marine mammals"
          ],
          [
           "Let's raise kids to be entrepreneurs"
          ],
          [
           "Fighting cancer with dance"
          ],
          [
           "Measuring what makes life worthwhile"
          ],
          [
           "Intricate beauty by design"
          ],
          [
           "Education innovation in the slums"
          ],
          [
           "A second opinion on developmental disorders"
          ],
          [
           "Legos for grownups"
          ],
          [
           "How cognitive surplus will change the world"
          ],
          [
           "Retrofitting suburbia"
          ],
          [
           "Hidden toxins in the fish we eat"
          ],
          [
           "A 3D atlas of the universe"
          ],
          [
           "Don't build your home, grow it!"
          ],
          [
           "Fractals and the art of roughness"
          ],
          [
           "Obesity + hunger = 1 global food issue"
          ],
          [
           "Life science in prison"
          ],
          [
           "Global population growth, box by box"
          ],
          [
           "The oil spill's unseen villains -- and victims"
          ],
          [
           "When ideas have sex"
          ],
          [
           "Listening to global voices"
          ],
          [
           "The politics of fiction"
          ],
          [
           "Why the world needs WikiLeaks"
          ],
          [
           "Superheroes inspired by Islam"
          ],
          [
           "How we found hundreds of potential Earth-like planets"
          ],
          [
           "A headset that reads your brainwaves"
          ],
          [
           "The bio-future of joint replacement"
          ],
          [
           "The art of choosing"
          ],
          [
           "The oil spill's toxic trade-off"
          ],
          [
           "What matters more than your talents"
          ],
          [
           "Wiring an interactive ocean"
          ],
          [
           "A monkey economy as irrational as ours"
          ],
          [
           "My mind-shifting Everest swim"
          ],
          [
           "How big brands can help save biodiversity"
          ],
          [
           "Our century's greatest injustice"
          ],
          [
           "The case for same-sex marriage"
          ],
          [
           "Meet Milo, the virtual boy"
          ],
          [
           "The Axis of Evil Middle East Comedy Tour"
          ],
          [
           "Did you hear the one about the Iranian-American?"
          ],
          [
           "The game layer on top of the world"
          ],
          [
           "The beauty of data visualization"
          ],
          [
           "Inside an Antarctic time machine"
          ],
          [
           "The empathic civilization"
          ],
          [
           "Learning from Sherman the shark"
          ],
          [
           "The political chemistry of oil"
          ],
          [
           "What physics taught me about marketing"
          ],
          [
           "The Happy Planet Index"
          ],
          [
           "Let the environment guide our development"
          ],
          [
           "The technology of the heart"
          ],
          [
           "Keep your goals to yourself"
          ],
          [
           "The world's oldest living things"
          ],
          [
           "The child-driven education"
          ],
          [
           "Art of substance and absence"
          ],
          [
           "An independent diplomat"
          ],
          [
           "Why the live arts matter"
          ],
          [
           "This is broken"
          ],
          [
           "Discovering ancient climates in oceans and ice"
          ],
          [
           "How web video powers global innovation"
          ],
          [
           "Our natural sleep cycle is nothing like what we do now"
          ],
          [
           "How social networks predict epidemics"
          ],
          [
           "Hurdy-gurdy for beginners"
          ],
          [
           "How pig parts make the world turn"
          ],
          [
           "Where good ideas come from"
          ],
          [
           "Mothers helping mothers fight HIV"
          ],
          [
           "Why I am an HIV/AIDS activist"
          ],
          [
           "The shape-shifting future of the mobile phone"
          ],
          [
           "Shh! Sound health in 8 steps"
          ],
          [
           "The early birdwatchers"
          ],
          [
           "The quantified self"
          ],
          [
           "I am my connectome"
          ],
          [
           "Bringing peace to the minds of Afghanistan"
          ],
          [
           "How Mr. Condom made Thailand a better place for life and love"
          ],
          [
           "Are mushrooms the new plastic?"
          ],
          [
           "An economic reality check"
          ],
          [
           "Tagging tuna in the deep ocean"
          ],
          [
           "The good news of the decade? We're winning the war against child mortality"
          ],
          [
           "The best gift I ever survived"
          ],
          [
           "The roots of plant intelligence"
          ],
          [
           "What nonprofits can learn from Coca-Cola"
          ],
          [
           "Haiti's disaster of engineering"
          ],
          [
           "The art of the eco-mindshift"
          ],
          [
           "My web playroom"
          ],
          [
           "A message to gay teens: It gets better"
          ],
          [
           "Poverty, money -- and love"
          ],
          [
           "The brain in your gut"
          ],
          [
           "Tough truths about plastic pollution"
          ],
          [
           "The power of cartoons"
          ],
          [
           "\"(Nothing But) Flowers\" with string quartet"
          ],
          [
           "Breakthrough designs for ultra-low-cost products"
          ],
          [
           "Global power shifts"
          ],
          [
           "Sustainable seafood? Let's get smart"
          ],
          [
           "Natural pest control ... using bugs!"
          ],
          [
           "Glorious visions in animation and performance"
          ],
          [
           "7 ways games reward the brain"
          ],
          [
           "E-voting without fraud"
          ],
          [
           "Saving the ocean one island at a time"
          ],
          [
           "Re-engineering the brain"
          ],
          [
           "A one-man orchestra of the imagination"
          ],
          [
           "Teaching design for change"
          ],
          [
           "The path to ending ethnic conflicts"
          ],
          [
           "America's native prisoners of war"
          ],
          [
           "Making global labor fair"
          ],
          [
           "Simplifying complexity"
          ],
          [
           "Teaching kids real math with computers"
          ],
          [
           "A Darwinian theory of beauty"
          ],
          [
           "What a bike ride can teach you"
          ],
          [
           "My green school dream"
          ],
          [
           "Making law on the high seas"
          ],
          [
           "Protecting the brain against concussion"
          ],
          [
           "Women, wartime and the dream of peace"
          ],
          [
           "Why work doesn't happen at work"
          ],
          [
           "Creative houses from reclaimed stuff"
          ],
          [
           "What's wrong with our food system"
          ],
          [
           "The walk from \"no\" to \"yes\""
          ],
          [
           "Why not eat insects?"
          ],
          [
           "How I taught rats to sniff out land mines"
          ],
          [
           "A vision for sustainable restaurants"
          ],
          [
           "A feminine response to Iceland's financial crash"
          ],
          [
           "A call to men"
          ],
          [
           "A police chief with a difference"
          ],
          [
           "New data on the rise of women"
          ],
          [
           "How to learn? From mistakes"
          ],
          [
           "Let's talk parenting taboos"
          ],
          [
           "The case for collaborative consumption"
          ],
          [
           "Changing education paradigms"
          ],
          [
           "Life lessons from big cats"
          ],
          [
           "Why we have too few women leaders"
          ],
          [
           "3 stories of local eco-entrepreneurship"
          ],
          [
           "The power of vulnerability"
          ],
          [
           "How to succeed? Get more sleep"
          ],
          [
           "On reading the Koran"
          ],
          [
           "Your brain on improv"
          ],
          [
           "A test that finds 3x more breast tumors, and why it's not available to you"
          ],
          [
           "The 3 A's of awesome"
          ],
          [
           "A realistic vision for world peace"
          ],
          [
           "We are all cyborgs now"
          ],
          [
           "How I built a toaster -- from scratch"
          ],
          [
           "Take \"the Other\" to lunch"
          ],
          [
           "Gaming to re-engage boys in learning"
          ],
          [
           "Addicted to risk"
          ],
          [
           "Singing after a double lung transplant"
          ],
          [
           "The economic injustice of plastic"
          ],
          [
           "Visualizing the medical data explosion"
          ],
          [
           "Silicon-based comedy"
          ],
          [
           "Understanding the rise of China"
          ],
          [
           "It's time to redesign medical data"
          ],
          [
           "Drawing on humor for change"
          ],
          [
           "Know thyself, with a brain scanner"
          ],
          [
           "The council of dads"
          ],
          [
           "Reviving New York's rivers -- with oysters!"
          ],
          [
           "We are makers"
          ],
          [
           "Social media and the end of gender"
          ],
          [
           "Are we born to run?"
          ],
          [
           "Poems of war, peace, women, power"
          ],
          [
           "How to make work-life balance work"
          ],
          [
           "The rise of personal robots"
          ],
          [
           "Mother and daughter doctor-heroes"
          ],
          [
           "Using nature's genius in architecture"
          ],
          [
           "A whistleblower you haven't heard"
          ],
          [
           "Reconnecting with compassion"
          ],
          [
           "The linguistic genius of babies"
          ],
          [
           "Inspiring a life of immersion"
          ],
          [
           "The future of business is the \"mesh\""
          ],
          [
           "On being a woman and a diplomat"
          ],
          [
           "How to use experts -- and when not to"
          ],
          [
           "Saving faces: A facial surgeon's craft"
          ],
          [
           "Curating humanity's heritage"
          ],
          [
           "Understanding cancer through proteomics"
          ],
          [
           "A modern take on piano, violin, cello"
          ],
          [
           "A historic moment in the Arab world"
          ],
          [
           "My wish: Use art to turn the world inside out"
          ],
          [
           "Inside the Egyptian revolution"
          ],
          [
           "How state budgets are breaking US schools"
          ],
          [
           "Printing a human kidney"
          ],
          [
           "This isn't her mother's feminism"
          ],
          [
           "Let's use video to reinvent education"
          ],
          [
           "The birth of a word"
          ],
          [
           "How to keep rivers and streams flowing"
          ],
          [
           "The social animal"
          ],
          [
           "The sound the universe makes"
          ],
          [
           "A life lesson from a volunteer firefighter"
          ],
          [
           "Why light needs darkness"
          ],
          [
           "If I should have a daughter ..."
          ],
          [
           "The magic washing machine"
          ],
          [
           "Evolution's gift of play, from bonobo apes to humans"
          ],
          [
           "It's time to question bio-engineering"
          ],
          [
           "Human exoskeletons -- for war and healing"
          ],
          [
           "Singing the primal mystery"
          ],
          [
           "Don't insist on English!"
          ],
          [
           "Cracking Stuxnet, a 21st-century cyber weapon"
          ],
          [
           "The genius puppetry behind War Horse"
          ],
          [
           "Google's driverless car"
          ],
          [
           "A virtual choir 2,000 voices strong"
          ],
          [
           "Hands-on science with squishy circuits"
          ],
          [
           "Listen, learn ... then lead"
          ],
          [
           "Everyday compassion at Google"
          ],
          [
           "The greatest TED Talk ever sold"
          ],
          [
           "The invention that unlocked a locked-in artist"
          ],
          [
           "Looking past limits"
          ],
          [
           "A song inspired by the ocean"
          ],
          [
           "The history of our world in 18 minutes"
          ],
          [
           "The antidote to apathy"
          ],
          [
           "Remaking my voice"
          ],
          [
           "Open-sourced blueprints for civilization"
          ],
          [
           "Transplant cells, not organs"
          ],
          [
           "A radical experiment in empathy"
          ],
          [
           "On being wrong"
          ],
          [
           "Teaching with the World Peace Game"
          ],
          [
           "What it takes to do extreme astrophysics"
          ],
          [
           "3 things I learned while my plane crashed"
          ],
          [
           "Are we ready for neo-evolution?"
          ],
          [
           "The security mirage"
          ],
          [
           "Using nature to grow batteries"
          ],
          [
           "A next-generation digital book"
          ],
          [
           "Turning trash into toys for learning"
          ],
          [
           "Beware online \"filter bubbles\""
          ],
          [
           "The mothers who found forgiveness, friendship"
          ],
          [
           "Architecture that senses and responds"
          ],
          [
           "Grow your own clothes"
          ],
          [
           "Distant time and the hint of a multiverse"
          ],
          [
           "The hidden beauty of pollination"
          ],
          [
           "Animal tales from icy wonderlands"
          ],
          [
           "Silk, the ancient material of the future"
          ],
          [
           "The hidden power of smiling"
          ],
          [
           "Building a museum of museums on the web"
          ],
          [
           "My friend Richard Feynman"
          ],
          [
           "A light switch for neurons"
          ],
          [
           "Building the Seed Cathedral"
          ],
          [
           "The mystery of chronic pain"
          ],
          [
           "The weird, wonderful world of bioluminescence"
          ],
          [
           "How to tie your shoes"
          ],
          [
           "Gotta share!"
          ],
          [
           "Visualizing ourselves ... with crowd-sourced data"
          ],
          [
           "How we'll stop polio for good"
          ],
          [
           "Art in exile"
          ],
          [
           "Faith versus tradition in Islam"
          ],
          [
           "On violin and cello, \"Passacaglia\""
          ],
          [
           "Authentic creativity vs. karaoke culture"
          ],
          [
           "Making a car for blind drivers"
          ],
          [
           "7 rules for making more happiness"
          ],
          [
           "Making sense of a visible quantum object"
          ],
          [
           "Wearing nothing new"
          ],
          [
           "We need a \"moral operating system\""
          ],
          [
           "Building a dinosaur from a chicken"
          ],
          [
           "Taking imagination seriously"
          ],
          [
           "The world's first charter city?"
          ],
          [
           "Is anatomy destiny?"
          ],
          [
           "Break the silence for suicide attempt survivors"
          ],
          [
           "Medicine's future? There's an app for that"
          ],
          [
           "How I became 100 artists"
          ],
          [
           "A manifesto for play, for Bulgaria and beyond"
          ],
          [
           "Haunting photos of polar ice"
          ],
          [
           "This is beatjazz"
          ],
          [
           "A cello with many voices"
          ],
          [
           "A future beyond traffic gridlock"
          ],
          [
           "Different ways of knowing"
          ],
          [
           "A circle of caring"
          ],
          [
           "A history of the universe in sound"
          ],
          [
           "On being just crazy enough"
          ],
          [
           "A civil response to violence"
          ],
          [
           "A Rosetta Stone for a lost language"
          ],
          [
           "Meet e-Patient Dave"
          ],
          [
           "Building a park in the sky"
          ],
          [
           "Try something new for 30 days"
          ],
          [
           "Cooking as never seen before"
          ],
          [
           "The beautiful tricks of flowers"
          ],
          [
           "Don't take consciousness for granted"
          ],
          [
           "Caring for engineered tissue"
          ],
          [
           "Let's take back the Internet!"
          ],
          [
           "A global culture to fight extremism"
          ],
          [
           "Trial, error and the God complex"
          ],
          [
           "See Yemen through my eyes"
          ],
          [
           "Fighting viruses, defending the net"
          ],
          [
           "Embracing otherness, embracing myself"
          ],
          [
           "How algorithms shape our world"
          ],
          [
           "A robot that flies like a bird"
          ],
          [
           "Time to end the war in Afghanistan"
          ],
          [
           "The surprising math of cities and corporations"
          ],
          [
           "The origins of pleasure"
          ],
          [
           "Ending hunger now"
          ],
          [
           "5 ways to listen better"
          ],
          [
           "After your final status update"
          ],
          [
           "Wireless data from every light bulb"
          ],
          [
           "How language transformed humanity"
          ],
          [
           "Are we filtering the wrong microbes?"
          ],
          [
           "The demise of guys?"
          ],
          [
           "Suddenly, my body"
          ],
          [
           "The shareable future of cities"
          ],
          [
           "The great penguin rescue"
          ],
          [
           "One day of peace"
          ],
          [
           "Finding planets around other stars"
          ],
          [
           "The magic of truth and lies (and iPods)"
          ],
          [
           "Beware conflicts of interest"
          ],
          [
           "DNA clues to our inner neanderthal"
          ],
          [
           "Pay attention to nonviolence"
          ],
          [
           "Can we make things that make themselves?"
          ],
          [
           "Compassion and the true meaning of empathy"
          ],
          [
           "Unintended consequences"
          ],
          [
           "My father the forger"
          ],
          [
           "Making matter come alive"
          ],
          [
           "Shake up your story"
          ],
          [
           "Does democracy stifle economic growth?"
          ],
          [
           "Hire the hackers!"
          ],
          [
           "The art of wearable communication"
          ],
          [
           "Welcome to the genomic revolution"
          ],
          [
           "The conscience of television"
          ],
          [
           "The Generosity Experiment"
          ],
          [
           "The 6 killer apps of prosperity"
          ],
          [
           "What we learned from 5 million books"
          ],
          [
           "Selling condoms in the Congo"
          ],
          [
           "Fighting a contagious cancer"
          ],
          [
           "Doodlers, unite!"
          ],
          [
           "A doctor's touch"
          ],
          [
           "A short intro to the Studio School"
          ],
          [
           "Filming democracy in Ghana"
          ],
          [
           "Battling bad science"
          ],
          [
           "A flirtatious aria"
          ],
          [
           "The generation that's remaking China"
          ],
          [
           "Finding life we can't imagine"
          ],
          [
           "Less stuff, more happiness"
          ],
          [
           "How to live before you die"
          ],
          [
           "We can recycle plastic"
          ],
          [
           "Trusting the ensemble"
          ],
          [
           "What do babies think?"
          ],
          [
           "How beauty feels"
          ],
          [
           "The day I turned down Tim Berners-Lee"
          ],
          [
           "How to spot a liar"
          ],
          [
           "My mushroom burial suit"
          ],
          [
           "Learning from a barefoot movement"
          ],
          [
           "Freeing energy from the grid"
          ],
          [
           "How cyberattacks threaten real-world peace"
          ],
          [
           "A prosthetic arm that \"feels\""
          ],
          [
           "Art made of storms"
          ],
          [
           "How economic inequality harms societies"
          ],
          [
           "The divided brain"
          ],
          [
           "The strange tale of the Norden bombsight"
          ],
          [
           "Open-source cancer research"
          ],
          [
           "Stories cut from paper"
          ],
          [
           "FBI, here I am!"
          ],
          [
           "Trust, morality -- and oxytocin?"
          ],
          [
           "A plane you can drive"
          ],
          [
           "The real reason for brains"
          ],
          [
           "Augmented reality, techno-magic"
          ],
          [
           "How mobile phones helped solve two murders"
          ],
          [
           "The right to understand"
          ],
          [
           "The line between life and not-life"
          ],
          [
           "High-tech art (with a sense of humor)"
          ],
          [
           "Ancient wonders captured in 3D"
          ],
          [
           "A map of the brain"
          ],
          [
           "The shared experience of absurdity"
          ],
          [
           "6 ways to save the internet"
          ],
          [
           "Open science now!"
          ],
          [
           "Conception to birth -- visualized"
          ],
          [
           "Fly with the Jetman"
          ],
          [
           "A 12-year-old app developer"
          ],
          [
           "Experiments that hint of longer lives"
          ],
          [
           "Science versus wonder?"
          ],
          [
           "How games make kids smarter"
          ],
          [
           "Being young and making an impact"
          ],
          [
           "How to defend Earth from asteroids"
          ],
          [
           "Meet Rezero, the dancing ballbot"
          ],
          [
           "The technology of storytelling"
          ],
          [
           "A garden in my apartment"
          ],
          [
           "Living beyond limits"
          ],
          [
           "Philosophy in prison"
          ],
          [
           "What we learn before we're born"
          ],
          [
           "Dance vs. powerpoint, a modest proposal"
          ],
          [
           "Building the musical muscle"
          ],
          [
           "Don't regret regret"
          ],
          [
           "Don't misrepresent Africa"
          ],
          [
           "How many lives can you live?"
          ],
          [
           "How to topple a dictator"
          ],
          [
           "Massive-scale online collaboration"
          ],
          [
           "The magnificence of spider silk"
          ],
          [
           "Ultrasound surgery -- healing without cuts"
          ],
          [
           "There are no mistakes on the bandstand"
          ],
          [
           "The world's smallest 3D printer"
          ],
          [
           "What happens when an NGO admits failure"
          ],
          [
           "The hidden light of Afghanistan"
          ],
          [
           "Color-coded surgery"
          ],
          [
           "Put a value on nature!"
          ],
          [
           "Cooking as alchemy"
          ],
          [
           "An unexpected place of healing"
          ],
          [
           "My subversive (garden) plot"
          ],
          [
           "Medicine for the 99 percent"
          ],
          [
           "The quest to understand consciousness"
          ],
          [
           "A prosthetic eye to treat blindness"
          ],
          [
           "The battle between your present and future self"
          ],
          [
           "How to stop torture"
          ],
          [
           "There are no scraps of men"
          ],
          [
           "How healthy living nearly killed me"
          ],
          [
           "Life's third act"
          ],
          [
           "The global power shift"
          ],
          [
           "1,000 TED Talks in six words"
          ],
          [
           "Change our culture, change our world"
          ],
          [
           "Can astronomers help doctors?"
          ],
          [
           "Be suspicious of simple stories"
          ],
          [
           "Award-winning teenage science in action"
          ],
          [
           "In defense of dialogue"
          ],
          [
           "Animations of unseeable biology"
          ],
          [
           "\"Women of Hope\""
          ],
          [
           "Thorium, an alternative nuclear fuel"
          ],
          [
           "The debut of the British Paraorchestra"
          ],
          [
           "Meet the Water Canary"
          ],
          [
           "Atheism 2.0"
          ],
          [
           "Three types of online attack"
          ],
          [
           "Why SOPA is a bad idea"
          ],
          [
           "How to make choosing easier"
          ],
          [
           "The beautiful math behind the world's ugliest music"
          ],
          [
           "Plant fuels that could power a jet"
          ],
          [
           "Is there a real you?"
          ],
          [
           "A primer on 3D printing"
          ],
          [
           "Extreme swimming with the world's most dangerous jellyfish"
          ],
          [
           "Doctors make mistakes. Can we talk about that?"
          ],
          [
           "Women entrepreneurs, example not exception"
          ],
          [
           "Hedonistic sustainability"
          ],
          [
           "What happens inside those massive warehouses?"
          ],
          [
           "Why I chose a gun"
          ],
          [
           "Treating cancer with electric fields"
          ],
          [
           "The happy secret to better work"
          ],
          [
           "The universal anesthesia machine"
          ],
          [
           "Hooked by an octopus"
          ],
          [
           "Let's bridge the digital divide!"
          ],
          [
           "The secret structure of great talks"
          ],
          [
           "How your brain tells you where you are"
          ],
          [
           "Non-lethal weapons, a moral hazard?"
          ],
          [
           "Globalizing the local, localizing the global"
          ],
          [
           "Where are the baby dinosaurs?"
          ],
          [
           "Impossible photography"
          ],
          [
           "Everyday leadership"
          ],
          [
           "Deaf in the military"
          ],
          [
           "The toxic baby"
          ],
          [
           "What you don't know about marriage"
          ],
          [
           "\"Family Tree\""
          ],
          [
           "Crowdsource your health"
          ],
          [
           "How do you save a shark you know nothing about?"
          ],
          [
           "How mobile phones power disaster relief"
          ],
          [
           "The true cost of oil"
          ],
          [
           "Look up for a change"
          ],
          [
           "2600 years of history in one object"
          ],
          [
           "Comedy is translation"
          ],
          [
           "Using tech to enable dreaming"
          ],
          [
           "Saving for tomorrow, tomorrow"
          ],
          [
           "My immigration story"
          ],
          [
           "All your devices can be hacked"
          ],
          [
           "The sibling bond"
          ],
          [
           "Why videos go viral"
          ],
          [
           "A census of the ocean"
          ],
          [
           "The ocean's shifting baseline"
          ],
          [
           "Abundance is our future"
          ],
          [
           "The Earth is full"
          ],
          [
           "Robots that fly ... and cooperate"
          ],
          [
           "The power of introverts"
          ],
          [
           "We need to talk about an injustice"
          ],
          [
           "The clues to a great story"
          ],
          [
           "Why I must speak out about climate change"
          ],
          [
           "Coding a better government"
          ],
          [
           "A TED speaker's worst nightmare"
          ],
          [
           "Design to challenge reality"
          ],
          [
           "Why you will fail to have a great career"
          ],
          [
           "The cockroach beatbox"
          ],
          [
           "Questions no one knows the answers to"
          ],
          [
           "Deep ocean mysteries and wonders"
          ],
          [
           "How simple ideas lead to scientific discoveries"
          ],
          [
           "Religion, evolution, and the ecstasy of self-transcendence"
          ],
          [
           "The $8 billion iPod"
          ],
          [
           "Listening to shame"
          ],
          [
           "Beautiful artificial limbs"
          ],
          [
           "Victims of the city"
          ],
          [
           "Let's transform energy -- with natural gas"
          ],
          [
           "The single biggest health threat women face"
          ],
          [
           "Yup, I built a nuclear fusion reactor"
          ],
          [
           "Everyday moments, caught in time"
          ],
          [
           "Make data more human"
          ],
          [
           "Let's talk about dying"
          ],
          [
           "The missing link to renewable energy"
          ],
          [
           "From mach-20 glider to hummingbird drone"
          ],
          [
           "Unlock the intelligence, passion, greatness of girls"
          ],
          [
           "Building blocks that blink, beep and teach"
          ],
          [
           "A magical tale (with augmented reality)"
          ],
          [
           "Inventing is the easy part. Marketing takes work"
          ],
          [
           "I am a pirate"
          ],
          [
           "The secret life of plankton"
          ],
          [
           "Connected, but alone?"
          ],
          [
           "Designing books is no laughing matter. OK, it is."
          ],
          [
           "On the virtual dissection table"
          ],
          [
           "How can technology transform the human body?"
          ],
          [
           "\"Put the financial aid in the bag\""
          ],
          [
           "The other inconvenient truth"
          ],
          [
           "Half a million secrets"
          ],
          [
           "Moral behavior in animals"
          ],
          [
           "Let's put birth control back on the agenda"
          ],
          [
           "How I repaired my own heart"
          ],
          [
           "Building US-China relations ... by banjo"
          ],
          [
           "How do we heal medicine?"
          ],
          [
           "How I beat a patent troll"
          ],
          [
           "The stories behind the bloodlines"
          ],
          [
           "Older people are happier"
          ],
          [
           "Tracking ancient diseases using ... plaque"
          ],
          [
           "Is our universe the only universe?"
          ],
          [
           "How to buy happiness"
          ],
          [
           "Just how small is an atom?"
          ],
          [
           "The 4 commandments of cities"
          ],
          [
           "Texting that saves lives"
          ],
          [
           "How to use a paper towel"
          ],
          [
           "Gaming for understanding"
          ],
          [
           "A new museum wing ... in a giant bubble"
          ],
          [
           "A 40-year plan for energy"
          ],
          [
           "Sculpting waves in wood and time"
          ],
          [
           "Tracking our online trackers"
          ],
          [
           "Perspective is everything"
          ],
          [
           "A teen just trying to figure it out"
          ],
          [
           "From stigma to supermodel"
          ],
          [
           "Music and emotion through time"
          ],
          [
           "Information is food"
          ],
          [
           "Unseen footage, untamed nature"
          ],
          [
           "Feats of memory anyone can do"
          ],
          [
           "404, the story of a page not found"
          ],
          [
           "Beethoven the businessman"
          ],
          [
           "3 new ways to kill mosquitoes"
          ],
          [
           "The optimism bias"
          ],
          [
           "The mathematics of history"
          ],
          [
           "How to build your creative confidence"
          ],
          [
           "How to look inside the brain"
          ],
          [
           "One year of turning the world inside out"
          ],
          [
           "Cheap, effective shelter for disaster relief"
          ],
          [
           "The sea we've hardly seen"
          ],
          [
           "What's left to explore?"
          ],
          [
           "Religions and babies"
          ],
          [
           "The journey across the high wire"
          ],
          [
           "HIV -- how to fight an epidemic of bad laws"
          ],
          [
           "Beats that defy boxes"
          ],
          [
           "A reality check on renewables"
          ],
          [
           "4 lessons from robots about being human"
          ],
          [
           "Revealing the lost codex of Archimedes"
          ],
          [
           "The attitudes that sparked Arab Spring"
          ],
          [
           "What your designs say about you"
          ],
          [
           "Dancing with light"
          ],
          [
           "ET is (probably) out there -- get ready"
          ],
          [
           "A new way to stop identity theft"
          ],
          [
           "Will our kids be a different species?"
          ],
          [
           "What we didn't know about penis anatomy"
          ],
          [
           "Why is 'x' the unknown?"
          ],
          [
           "Mining minerals from seawater"
          ],
          [
           "Design, explained."
          ],
          [
           "A new way to diagnose autism"
          ],
          [
           "We are all designers"
          ],
          [
           "What if our healthcare system kept us healthy?"
          ],
          [
           "The shared wonder of film"
          ],
          [
           "Archaeology from space"
          ],
          [
           "The myth of the gay agenda"
          ],
          [
           "Pop an ollie and innovate!"
          ],
          [
           "Women should represent women in media"
          ],
          [
           "Lessons from death row inmates"
          ],
          [
           "Are we over-medicalized?"
          ],
          [
           "The electric rise and fall of Nikola Tesla"
          ],
          [
           "The 100,000-student classroom"
          ],
          [
           "How to air-condition outdoor spaces"
          ],
          [
           "Tour the solar system from home"
          ],
          [
           "India's invisible innovation"
          ],
          [
           "Advice to a young scientist"
          ],
          [
           "Reinventing the encyclopedia game"
          ],
          [
           "How Arduino is open-sourcing imagination"
          ],
          [
           "Four principles for the open world"
          ],
          [
           "A tale of mental illness -- from the inside"
          ],
          [
           "The levitating superconductor"
          ],
          [
           "How I'm preparing to get Alzheimer's"
          ],
          [
           "What's your 200-year plan?"
          ],
          [
           "A novel idea for cleaning up oil spills"
          ],
          [
           "A young guitarist meets his hero"
          ],
          [
           "The game that can give you 10 extra years of life"
          ],
          [
           "Meet your microbes"
          ],
          [
           "The future race car -- 150mph, and no driver"
          ],
          [
           "A vision of crimes in the future"
          ],
          [
           "New ways to see music (with color! and fire!)"
          ],
          [
           "How to fool a GPS"
          ],
          [
           "Capturing memories in video art"
          ],
          [
           "Experiments that point to a new understanding of cancer"
          ],
          [
           "Let's crowdsource the world's goals"
          ],
          [
           "Sometimes it's good to give up the driver's seat"
          ],
          [
           "Image recognition that triggers augmented reality"
          ],
          [
           "I listen to color"
          ],
          [
           "The greatest machine that never was"
          ],
          [
           "Technology crafts for the digitally underserved"
          ],
          [
           "A Navy Admiral's thoughts on global security"
          ],
          [
           "Your phone company is watching"
          ],
          [
           "Finding the story inside the painting"
          ],
          [
           "Imaging at a trillion frames per second"
          ],
          [
           "Building unimaginable shapes"
          ],
          [
           "Every city needs healthy honey bees"
          ],
          [
           "When a reporter becomes the story"
          ],
          [
           "Behind the Great Firewall of China"
          ],
          [
           "A teacher growing green in the South Bronx"
          ],
          [
           "What we're learning from online education"
          ],
          [
           "(Re)touching lives through photos"
          ],
          [
           "The mad scientist of music"
          ],
          [
           "Is life really that complex?"
          ],
          [
           "Fighting with nonviolence"
          ],
          [
           "Dare to disagree"
          ],
          [
           "A test for Parkinson's with a phone call"
          ],
          [
           "How we can eat our landscapes"
          ],
          [
           "Embrace the remix"
          ],
          [
           "Photos that bear witness to modern slavery"
          ],
          [
           "What's a snollygoster? A short lesson in political speak"
          ],
          [
           "Can democracy exist without trust?"
          ],
          [
           "How to step up in the face of disaster"
          ],
          [
           "Strange answers to the psychopath test"
          ],
          [
           "Design for people, not awards"
          ],
          [
           "The art of creating awe"
          ],
          [
           "The power of the informal economy"
          ],
          [
           "The rise of human-computer cooperation"
          ],
          [
           "Sculpted space, within and without"
          ],
          [
           "Energy from floating algae pods"
          ],
          [
           "Brilliant designs to fit more people in every city"
          ],
          [
           "Why eyewitnesses get it wrong"
          ],
          [
           "Mental health for all by involving all"
          ],
          [
           "The voices of China's workers"
          ],
          [
           "The promise of research with stem cells"
          ],
          [
           "A choreographer's creative process in real time"
          ],
          [
           "Demand a more open-source government"
          ],
          [
           "The global food waste scandal"
          ],
          [
           "The mysterious workings of the adolescent brain"
          ],
          [
           "Why architects need to use their ears"
          ],
          [
           "Discover the physical side of the internet"
          ],
          [
           "Demand a fair trade cell phone"
          ],
          [
           "A story about knots and surgeons"
          ],
          [
           "The currency of the new economy is trust"
          ],
          [
           "Are droids taking our jobs?"
          ],
          [
           "What we're learning from 5,000 brains"
          ],
          [
           "How the Internet will (one day) transform government"
          ],
          [
           "An animated tour of the invisible"
          ],
          [
           "What doctors don't know about the drugs they prescribe"
          ],
          [
           "A thousand times no"
          ],
          [
           "Making sense of maps"
          ],
          [
           "Let's prepare for our new climate"
          ],
          [
           "Your body language may shape who you are"
          ],
          [
           "Between music and medicine"
          ],
          [
           "Terrorism is a failed brand"
          ],
          [
           "The self-organizing computer course"
          ],
          [
           "Weaving narratives in museum galleries"
          ],
          [
           "3 ways to (usefully) lose control of your brand"
          ],
          [
           "How art, technology and design inform creative leaders"
          ],
          [
           "What's so funny about mental illness?"
          ],
          [
           "Talk nerdy to me"
          ],
          [
           "The secret lives of paintings"
          ],
          [
           "Smart failure for a fast-changing world"
          ],
          [
           "Let's pool our medical data"
          ],
          [
           "Science is for everyone, kids included"
          ],
          [
           "My battle to expose government corruption"
          ],
          [
           "Online video -- annotated, remixed and popped"
          ],
          [
           "Actually, the world isn't flat"
          ],
          [
           "The strange politics of disgust"
          ],
          [
           "A child of the state"
          ],
          [
           "Metal that breathes"
          ],
          [
           "A cyber-magic card trick like no other"
          ],
          [
           "Why democracy matters"
          ],
          [
           "How open data is changing international aid"
          ],
          [
           "The secret of the bat genome"
          ],
          [
           "Healthier men, one moustache at a time"
          ],
          [
           "What I've learned from my autistic brothers"
          ],
          [
           "Want to be happier? Stay in the moment"
          ],
          [
           "A new mission for veterans -- disaster relief"
          ],
          [
           "The beautiful nano details of our world"
          ],
          [
           "The tragedy of orphanages"
          ],
          [
           "The future of lying"
          ],
          [
           "4 lessons in creativity"
          ],
          [
           "How I started a sanitary napkin revolution!"
          ],
          [
           "Love letters to strangers"
          ],
          [
           "How to \"sketch\" with electronics"
          ],
          [
           "The arts festival revolution"
          ],
          [
           "Your brain on video games"
          ],
          [
           "The cheap all-terrain wheelchair"
          ],
          [
           "Teen wonders play bluegrass"
          ],
          [
           "Nature. Beauty. Gratitude."
          ],
          [
           "Before I die I want to ..."
          ],
          [
           "Want to help someone? Shut up and listen!"
          ],
          [
           "How to solve traffic jams"
          ],
          [
           "A broken body isn't a broken person"
          ],
          [
           "Why I love vultures"
          ],
          [
           "Forget multitasking, try monotasking"
          ],
          [
           "Why global jihad is losing"
          ],
          [
           "A bath without water"
          ],
          [
           "Lessons in business ... from prison"
          ],
          [
           "Could tissue engineering mean personalized medicine?"
          ],
          [
           "Please don't take my Air Jordans"
          ],
          [
           "Pool medical patents, save lives"
          ],
          [
           "How to separate fact and fiction online"
          ],
          [
           "A Saudi, an Indian and an Iranian walk into a Qatari bar ..."
          ],
          [
           "The dance of the dung beetle"
          ],
          [
           "Why bother leaving the house?"
          ],
          [
           "Excuse me, may I rent your car?"
          ],
          [
           "Beware neuro-bunk"
          ],
          [
           "A father-daughter bond, one photo at a time"
          ],
          [
           "What we learned from teetering on the fiscal cliff"
          ],
          [
           "Israel and Iran: A love story?"
          ],
          [
           "What fear can teach us"
          ],
          [
           "Re-engineering mosquitos to fight disease"
          ],
          [
           "A cinematic journey through visual effects"
          ],
          [
           "How common threats can make common (political) ground"
          ],
          [
           "Deep sea diving ... in a wheelchair"
          ],
          [
           "How a boy became an artist"
          ],
          [
           "Ethical riddles in HIV research"
          ],
          [
           "All it takes is 10 mindful minutes"
          ],
          [
           "A father-daughter dance ... in prison"
          ],
          [
           "Biohacking -- you can do it, too"
          ],
          [
           "Looks aren't everything. Believe me, I'm a model."
          ],
          [
           "Could the sun be good for your heart?"
          ],
          [
           "How movies teach manhood"
          ],
          [
           "What I saw in the war"
          ],
          [
           "Kids need structure"
          ],
          [
           "A universal translator for surgeons"
          ],
          [
           "Why domestic violence victims don't leave"
          ],
          [
           "A new kind of job market"
          ],
          [
           "Let's teach kids to code"
          ],
          [
           "Fifty shades of gay"
          ],
          [
           "A country with no water"
          ],
          [
           "I think we all need a pep talk"
          ],
          [
           "Why Libya's revolution didn't work -- and what might"
          ],
          [
           "Hey science teachers -- make it fun"
          ],
          [
           "One second every day"
          ],
          [
           "Print your own medicine"
          ],
          [
           "Take back your city with paint"
          ],
          [
           "Dare to educate Afghan girls"
          ],
          [
           "A \"self-healing\" asphalt"
          ],
          [
           "Who controls the world?"
          ],
          [
           "The secret to desire in a long-term relationship"
          ],
          [
           "Be an artist, right now!"
          ],
          [
           "A monkey that controls a robot with its thoughts. No, really."
          ],
          [
           "Could your language affect your ability to save money?"
          ],
          [
           "Three myths about corruption"
          ],
          [
           "Use data to build better schools"
          ],
          [
           "How a fly flies"
          ],
          [
           "Agile programming -- for your family"
          ],
          [
           "Dance, tiny robots!"
          ],
          [
           "Build a School in the Cloud"
          ],
          [
           "A clean energy proposal -- race to the top!"
          ],
          [
           "The art of asking"
          ],
          [
           "How to fight desertification and reverse climate change"
          ],
          [
           "How we found the giant squid"
          ],
          [
           "A guerilla gardener in South Central LA"
          ],
          [
           "A girl who demanded school"
          ],
          [
           "To This Day ... for the bullied and beautiful"
          ],
          [
           "The way we think about charity is dead wrong"
          ],
          [
           "Your brain is more than a bag of chemicals"
          ],
          [
           "The dawn of de-extinction. Are you ready?"
          ],
          [
           "The good news on poverty (Yes, there's good news)"
          ],
          [
           "Play with smart materials"
          ],
          [
           "The Internet could crash. We need a Plan B"
          ],
          [
           "The mind behind Tesla, SpaceX, SolarCity ..."
          ],
          [
           "My escape from North Korea"
          ],
          [
           "We need better drugs -- now"
          ],
          [
           "Virtual Choir Live"
          ],
          [
           "We're covered in germs. Let's design for that."
          ],
          [
           "One very dry demo"
          ],
          [
           "My invention that made peace with lions"
          ],
          [
           "When you're making a deal, what's going on in your brain?"
          ],
          [
           "The technology of touch"
          ],
          [
           "How a dead duck changed my life"
          ],
          [
           "A skateboard, with a boost"
          ],
          [
           "We the People, and the Republic we must reclaim"
          ],
          [
           "The emergence of \"4D printing\""
          ],
          [
           "Watson, Jeopardy and me, the obsolete know-it-all"
          ],
          [
           "4 pillars of college success in science"
          ],
          [
           "A mini robot -- powered by your phone"
          ],
          [
           "What makes us feel good about our work?"
          ],
          [
           "Health care should be a team sport"
          ],
          [
           "The Philosophical Breakfast Club"
          ],
          [
           "Let's talk crap. Seriously."
          ],
          [
           "Toward a new understanding of mental illness"
          ],
          [
           "In search of the man who broke my neck"
          ],
          [
           "Parkinson's, depression and the switch that might turn them off"
          ],
          [
           "My journey to yo-yo mastery"
          ],
          [
           "Txtng is killing language. JK!!!"
          ],
          [
           "The death of innovation, the end of growth"
          ],
          [
           "The key to growth? Race with the machines"
          ],
          [
           "How much does a video weigh?"
          ],
          [
           "If cars could talk, accidents might be avoidable"
          ],
          [
           "10 top time-saving tech tips"
          ],
          [
           "Got a meeting? Take a walk"
          ],
          [
           "My radical plan for small nuclear fission reactors"
          ],
          [
           "The silent drama of photography"
          ],
          [
           "Your online life, permanent as a tattoo"
          ],
          [
           "Every kid needs a champion"
          ],
          [
           "The economic case for preschool"
          ],
          [
           "Learn to read Chinese ... with ease!"
          ],
          [
           "Teachers need real feedback"
          ],
          [
           "3 rules to spark learning"
          ],
          [
           "My story, from gangland daughter to star teacher"
          ],
          [
           "\"High School Training Ground\""
          ],
          [
           "Our failing schools. Enough is enough!"
          ],
          [
           "Grit: The power of passion and perseverance"
          ],
          [
           "How to escape education's death valley"
          ],
          [
           "Why 30 is not the new 20"
          ],
          [
           "Why we need strangeness"
          ],
          [
           "The invisible man"
          ],
          [
           "Hack a banana, make a keyboard!"
          ],
          [
           "Why Google Glass?"
          ],
          [
           "The why and how of effective altruism"
          ],
          [
           "Embrace the shake"
          ],
          [
           "Prepare for a good end of life"
          ],
          [
           "Architecture for the people by the people"
          ],
          [
           "The violin, and my dark night of the soul"
          ],
          [
           "Why I brought Pac-Man to MoMA"
          ],
          [
           "Violence against women -- it's a men's issue"
          ],
          [
           "Bring back the woolly mammoth!"
          ],
          [
           "How books can open your mind"
          ],
          [
           "Love, no matter what"
          ],
          [
           "How behavioral science can lower your energy bill"
          ],
          [
           "How I named, shamed and jailed"
          ],
          [
           "Could we speak the language of dolphins?"
          ],
          [
           "How I made an impossible film"
          ],
          [
           "What will future jobs look like?"
          ],
          [
           "The astounding athletic power of quadcopters"
          ],
          [
           "Imagine a European democracy without borders"
          ],
          [
           "The kill decision shouldn't belong to a robot"
          ],
          [
           "A Saudi woman who dared to drive"
          ],
          [
           "How we can predict the next financial crisis"
          ],
          [
           "Meet BRCK, Internet access built for Africa"
          ],
          [
           "The family I lost in North Korea. And the family I gained."
          ],
          [
           "How to reduce poverty? Fix homes"
          ],
          [
           "Photos from a storm chaser"
          ],
          [
           "The doubt essential to faith"
          ],
          [
           "Is the obesity crisis hiding a bigger problem?"
          ],
          [
           "Anatomy of a New Yorker cartoon"
          ],
          [
           "How we'll resurrect the gastric brooding frog, the Tasmanian tiger"
          ],
          [
           "Why we will rely on robots"
          ],
          [
           "A tale of two political systems"
          ],
          [
           "The big-data revolution in healthcare"
          ],
          [
           "Reach into the computer and grab a pixel"
          ],
          [
           "Bluegrass virtuosity from ... New Jersey?"
          ],
          [
           "Meet global corruption's hidden players"
          ],
          [
           "Why we should build wooden skyscrapers"
          ],
          [
           "The interspecies internet? An idea in progress"
          ],
          [
           "A promising test for pancreatic cancer ... from a teenager"
          ],
          [
           "Sex needs a new metaphor. Here's one ..."
          ],
          [
           "The voice of the natural world"
          ],
          [
           "Cloudy with a chance of joy"
          ],
          [
           "Where is home?"
          ],
          [
           "Two young scientists break down plastics with bacteria"
          ],
          [
           "The orchestra in my mouth"
          ],
          [
           "Our shared condition -- consciousness"
          ],
          [
           "DJ decks made of ... paper"
          ],
          [
           "In our baby's illness, a life lesson"
          ],
          [
           "Bitcoin. Sweat. Tide. Meet the future of branded currency."
          ],
          [
           "How a penny made me feel like a millionaire"
          ],
          [
           "A 3D-printed jumbo jet?"
          ],
          [
           "The fastest ambulance? A motorcycle"
          ],
          [
           "Spider-Man, The Lion King and life on the creative edge"
          ],
          [
           "Better baby care -- thanks to Formula 1"
          ],
          [
           "The polyphonic me"
          ],
          [
           "For argument's sake"
          ],
          [
           "Design for all 5 senses"
          ],
          [
           "Ingenuity and elegance in ancient African alphabets"
          ],
          [
           "The voices in my head"
          ],
          [
           "In the key of genius"
          ],
          [
           "The dangers of willful blindness"
          ],
          [
           "Emergency shelters made from paper"
          ],
          [
           "Why do we sleep?"
          ],
          [
           "A mouse. A laser beam. A manipulated memory."
          ],
          [
           "Making peace is a marathon"
          ],
          [
           "Why I fell in love with monster prime numbers"
          ],
          [
           "How to make stress your friend"
          ],
          [
           "The rise of the new global super-rich"
          ],
          [
           "Your body is my canvas"
          ],
          [
           "For more wonder, rewild the world"
          ],
          [
           "The museum of you"
          ],
          [
           "How technology allowed me to read"
          ],
          [
           "3 reasons we still haven’t gotten rid of malaria"
          ],
          [
           "The art of misdirection"
          ],
          [
           "Everyday cybercrime -- and what you can do about it"
          ],
          [
           "Why bees are disappearing"
          ],
          [
           "Mapping ideas worth spreading"
          ],
          [
           "Leather and meat without killing animals"
          ],
          [
           "Why mayors should rule the world"
          ],
          [
           "How reliable is your memory?"
          ],
          [
           "The pursuit of ignorance"
          ],
          [
           "What we don't understand about trust"
          ],
          [
           "Why our IQ levels are higher than our grandparents'"
          ],
          [
           "Confessions of a depressed comic"
          ],
          [
           "The unheard story of David and Goliath"
          ],
          [
           "Life that doesn't end with death"
          ],
          [
           "How I hacked online dating"
          ],
          [
           "Psychedelic science"
          ],
          [
           "Can technology solve our big problems?"
          ],
          [
           "The case for letting business solve social problems"
          ],
          [
           "Why we shouldn't trust markets with our civic life"
          ],
          [
           "New York's streets? Not so mean any more"
          ],
          [
           "Iran and Israel: Peace is possible"
          ],
          [
           "Let's treat violence like a contagious disease"
          ],
          [
           "Adventures in Twitter fiction"
          ],
          [
           "The walkable city"
          ],
          [
           "We need a heroic narrative for death"
          ],
          [
           "Ingenious homes in unexpected places"
          ],
          [
           "What will a future without secrets look like?"
          ],
          [
           "Who am I? Think again"
          ],
          [
           "Let's go all-in on selling sustainability"
          ],
          [
           "Africa's next boom"
          ],
          [
           "An ode to envy"
          ],
          [
           "Why our universe might exist on a knife-edge"
          ],
          [
           "Architecture at home in its community"
          ],
          [
           "Government -- investor, risk-taker, innovator"
          ],
          [
           "A simple solution to the coming phosphorus crisis"
          ],
          [
           "Life in the \"digital now\""
          ],
          [
           "Why stay in Chernobyl? Because it's home."
          ],
          [
           "The art of bow-making"
          ],
          [
           "The deadly genius of drug cartels"
          ],
          [
           "What I discovered in New York City  trash"
          ],
          [
           "The paralyzed rat that walked"
          ],
          [
           "How the NSA betrayed the world's trust -- time to act"
          ],
          [
           "The magic of Fibonacci numbers"
          ],
          [
           "Is China the new idol for emerging economies?"
          ],
          [
           "Design with the blind in mind"
          ],
          [
           "The link between unemployment and terrorism"
          ],
          [
           "What doctors can learn from each other"
          ],
          [
           "Massively multi-player… thumb-wrestling?"
          ],
          [
           "A drone's-eye view of conservation"
          ],
          [
           "Ecology from the air"
          ],
          [
           "Meet the robots for humanity"
          ],
          [
           "No roads? There's a drone for that"
          ],
          [
           "How your \"working memory\" makes sense of the world"
          ],
          [
           "How societies can grow old better"
          ],
          [
           "What is so special about the human brain?"
          ],
          [
           "Want to be happy? Be grateful"
          ],
          [
           "Invest in social change"
          ],
          [
           "Body parts on a chip"
          ],
          [
           "Let’s try emotional correctness"
          ],
          [
           "My underwater robot"
          ],
          [
           "Why buses represent democracy in action"
          ],
          [
           "What I learned from Nelson Mandela"
          ],
          [
           "How to build with clay ... and community"
          ],
          [
           "My glacier cave discoveries"
          ],
          [
           "The 4 stories we tell ourselves about death"
          ],
          [
           "Inside the secret shipping industry"
          ],
          [
           "A new vision for rebuilding Detroit"
          ],
          [
           "Welcome to the age of the industrial internet"
          ],
          [
           "Depression, the secret we share"
          ],
          [
           "The $80 prosthetic knee that's changing lives"
          ],
          [
           "Does money make you mean?"
          ],
          [
           "Never, ever give up"
          ],
          [
           "How an obese town lost a million pounds"
          ],
          [
           "I got 99 problems ... palsy is just one"
          ],
          [
           "Don't kill your language"
          ],
          [
           "A bold new way to fund drug research"
          ],
          [
           "Why dieting doesn't usually work"
          ],
          [
           "How to build an information time machine"
          ],
          [
           "To hear this music you have to be there. Literally"
          ],
          [
           "Profit’s not always the point"
          ],
          [
           "Demo: A needle-free vaccine patch that's safer and way cheaper"
          ],
          [
           "So we leaned in ... now what?"
          ],
          [
           "How I learned to stop worrying and love \"useless\" art"
          ],
          [
           "Robots with \"soul\""
          ],
          [
           "A little-told tale of sex and sensuality"
          ],
          [
           "His and hers … healthcare"
          ],
          [
           "As work gets more complex, 6 rules to simplify"
          ],
          [
           "How I beat stage fright"
          ],
          [
           "Why massive open online courses (still) matter"
          ],
          [
           "Why smart statistics are the key to fighting crime"
          ],
          [
           "Want to be an activist? Start with your toys"
          ],
          [
           "Puppies! Now that I’ve got your attention, complexity theory"
          ],
          [
           "Meet a young entrepreneur, cartoonist, designer, activist ..."
          ],
          [
           "How we turned the tide on domestic violence (Hint: the Polaroid helped)"
          ],
          [
           "The world is one big dataset. Now, how to photograph it ..."
          ],
          [
           "How architectural innovations migrate across borders"
          ],
          [
           "A new equation for intelligence"
          ],
          [
           "Art that craves your attention"
          ],
          [
           "Does the media have a \"duty of care\"?"
          ],
          [
           "Paper beats plastic? How to rethink environmental folklore"
          ],
          [
           "The investment logic for sustainability"
          ],
          [
           "Synthetic voices, as unique as fingerprints"
          ],
          [
           "Love -- you're doing it wrong"
          ],
          [
           "A new way to grow bone"
          ],
          [
           "What it takes to be a great leader"
          ],
          [
           "Are we designed to be sexual omnivores?"
          ],
          [
           "We're all hiding something. Let's find the courage to open up"
          ],
          [
           "Can the damaged brain repair itself?"
          ],
          [
           "Why good hackers make good citizens"
          ],
          [
           "We need money for aid. So let’s print it."
          ],
          [
           "What we can learn from galaxies far, far away"
          ],
          [
           "The 3 agencies with the power to make or break economies"
          ],
          [
           "Could future devices read images from our brains?"
          ],
          [
           "How data will transform business"
          ],
          [
           "Government surveillance — this is just the beginning"
          ],
          [
           "My DNA vending machine"
          ],
          [
           "A 50-cent microscope that folds like origami"
          ],
          [
           "A word game to communicate in any language"
          ],
          [
           "Can we all \"have it all\"?"
          ],
          [
           "You don't need an app for that"
          ],
          [
           "The birds and the bees are just the beginning"
          ],
          [
           "The long reach of reason"
          ],
          [
           "The neuroscience of restorative justice"
          ],
          [
           "Here's how we take back the Internet"
          ],
          [
           "What I learned from going blind in space"
          ],
          [
           "My wish: To launch a new era of openness in business"
          ],
          [
           "The NSA responds to Edward Snowden's TED Talk"
          ],
          [
           "Where’s Google going next?"
          ],
          [
           "My daughter, Malala"
          ],
          [
           "To create for the ages, let's combine art and engineering"
          ],
          [
           "Zombie roaches and other parasite tales"
          ],
          [
           "Protecting Twitter users (sometimes from themselves)"
          ],
          [
           "The new bionics that let us run, climb and dance"
          ],
          [
           "Why I must come out"
          ],
          [
           "It's TED, the Musical"
          ],
          [
           "The discovery that could rewrite physics"
          ],
          [
           "Why giving away our wealth has been the most satisfying thing we've done"
          ],
          [
           "Your social media \"likes\" expose more than you think"
          ],
          [
           "The unstoppable walk to political reform"
          ],
          [
           "How public spaces make cities work"
          ],
          [
           "Teach teachers how to create magic"
          ],
          [
           " Hidden miracles of the natural world"
          ],
          [
           "The sore problem of prosthetic limbs"
          ],
          [
           "Be passionate. Be courageous. Be your best."
          ],
          [
           "Should you live for your résumé ... or your eulogy?"
          ],
          [
           "For parents, happiness is a very high bar"
          ],
          [
           "How I help transgender teens become who they want to be"
          ],
          [
           "The flower-shaped starshade that might help us detect Earth-like planets"
          ],
          [
           "My life in typefaces"
          ],
          [
           "Embrace the near win"
          ],
          [
           "How synchronized hammer strikes could generate nuclear fusion"
          ],
          [
           "A shark-deterrent wetsuit (and it's not what you think)"
          ],
          [
           "The best computer interface? Maybe ... your hands"
          ],
          [
           "Success, failure and the drive to keep creating"
          ],
          [
           "Autism — what we know (and what we don't know yet)"
          ],
          [
           "Are athletes really getting faster, better, stronger?"
          ],
          [
           "Get your next eye exam on a smartphone"
          ],
          [
           "The emergent patterns of climate change"
          ],
          [
           "What does the future hold? 11 characters offer quirky answers"
          ],
          [
           "Color blind or color brave?"
          ],
          [
           "And for my next trick, a robot"
          ],
          [
           "The military case for sharing knowledge"
          ],
          [
           "Comics that ask \"what if?\""
          ],
          [
           "How sampling transformed music"
          ],
          [
           "How to rob a bank (from the inside, that is)"
          ],
          [
           "What ants teach us about the brain, cancer and the Internet"
          ],
          [
           "The bridge between suicide and life"
          ],
          [
           "The smelly mystery of the human pheromone   "
          ],
          [
           "The Museum of Four in the Morning"
          ],
          [
           "Why good leaders make you feel safe"
          ],
          [
           "Save the oceans, feed the world!"
          ],
          [
           "How the worst moments in our lives make us who we are"
          ],
          [
           "How augmented reality will change sports ... and build empathy"
          ],
          [
           "How to talk to veterans about the war"
          ],
          [
           "Why veterans miss war"
          ],
          [
           "How the teddy bear taught us compassion"
          ],
          [
           "A glimpse of life on the road"
          ],
          [
           "The hunt for \"unexpected genetic heroes\""
          ],
          [
           "How I started writing songs again"
          ],
          [
           "Get ready for hybrid thinking"
          ],
          [
           "The psychology of your future self"
          ],
          [
           "Why people need poetry"
          ],
          [
           "The secrets of nature's grossest creatures, channeled into robots"
          ],
          [
           "What the gay rights movement learned from the civil rights movement"
          ],
          [
           "I'm not your inspiration, thank you very much"
          ],
          [
           "Hackers: the Internet's immune system"
          ],
          [
           "The shocking move to criminalize nonviolent protest"
          ],
          [
           "Why science demands a leap into the unknown"
          ],
          [
           "The world's largest family reunion ... we're all invited!"
          ],
          [
           "Is religion good or bad? (This is a trick question)"
          ],
          [
           "What makes a word \"real\"?"
          ],
          [
           "How to make hard choices "
          ],
          [
           "3 ways to speak English"
          ],
          [
           "Two poems about what dogs think (probably)"
          ],
          [
           "Why your worst deeds don’t define you"
          ],
          [
           "What’s wrong with your pa$$w0rd?"
          ],
          [
           "Why we should trust scientists"
          ],
          [
           "The DIY orchestra of the future"
          ],
          [
           "How to speak so that people want to listen"
          ],
          [
           "The 1s and 0s behind cyber warfare"
          ],
          [
           "The loves and lies of fireflies"
          ],
          [
           "Which country does the most good for the world?"
          ],
          [
           "Can prejudice ever be a good thing?"
          ],
          [
           "Why I love a country that once betrayed me"
          ],
          [
           "Want to innovate? Become a \"now-ist\""
          ],
          [
           "A 30-year history of the future"
          ],
          [
           "Our unhealthy obsession with choice"
          ],
          [
           "When people of Muslim heritage challenge fundamentalism"
          ],
          [
           "Two nerdy obsessions meet -- and it's magic"
          ],
          [
           "How do you explain consciousness?"
          ],
          [
           "A tool to fix one of the most dangerous moments in surgery"
          ],
          [
           "Sculptures that’d be at home in the deep sea"
          ],
          [
           "What humans can learn from semi-intelligent slime"
          ],
          [
           "Are you human?"
          ],
          [
           "An ultra-low-cost college degree"
          ],
          [
           "How giant websites design for you (and a billion others, too)"
          ],
          [
           "The dark secrets of a surveillance state"
          ],
          [
           "How animations can help scientists test a hypothesis"
          ],
          [
           "Why I live in mortal dread of public speaking"
          ],
          [
           "Own your body's data"
          ],
          [
           "Beware, fellow plutocrats, the pitchforks are coming"
          ],
          [
           "How prisons can help inmates live meaningful lives"
          ],
          [
           "Why ordinary people need to understand power"
          ],
          [
           "The danger of silence"
          ],
          [
           "A Magna Carta for the web"
          ],
          [
           "How I brought a river, and my city, back to life"
          ],
          [
           "Why lunch ladies are heroes"
          ],
          [
           "Depressed dogs, cats with OCD — what animal madness means for us humans"
          ],
          [
           "Everyday objects, tragic histories"
          ],
          [
           "Can we prevent the end of the world?"
          ],
          [
           "Crop insurance, an idea worth seeding"
          ],
          [
           "Find your voice against gender violence"
          ],
          [
           "Don't like clickbait? Don't click"
          ],
          [
           "Please, please, people. Let's put the 'awe' back in 'awesome'"
          ],
          [
           "Why does the universe exist?"
          ],
          [
           "How to live passionately—no matter your age"
          ],
          [
           "An engineer's vision for tiny forests, everywhere"
          ],
          [
           "How our stories cross over"
          ],
          [
           "I am the son of a terrorist. Here's how I chose peace."
          ],
          [
           "A park underneath the hustle and bustle of New York City"
          ],
          [
           "How not to be ignorant about the world"
          ],
          [
           "Wry photos that turn stereotypes upside down"
          ],
          [
           "What makes us get sick? Look upstream"
          ],
          [
           "What's the next window into our universe?"
          ],
          [
           "Why a good book is a secret door"
          ],
          [
           "What's next in 3D printing"
          ],
          [
           "The magic of the Amazon: A river that flows invisibly all around us"
          ],
          [
           "The state of the climate — and what we might do about it"
          ],
          [
           "Big data is better data"
          ],
          [
           "The courage to tell a hidden story"
          ],
          [
           "“Am I dying?” The honest answer."
          ],
          [
           "How to reinvent the apartment building"
          ],
          [
           "Sanitation is a basic human right"
          ],
          [
           "The career advice you probably didn’t get"
          ],
          [
           "Where to train the world's doctors? Cuba."
          ],
          [
           "A neural portrait of the human mind"
          ],
          [
           "Why I take the piano on the road ... and in the air"
          ],
          [
           "New thoughts on capital in the twenty-first century"
          ],
          [
           "Why thinking you're ugly is bad for you"
          ],
          [
           "How to upgrade democracy for the Internet era"
          ],
          [
           "The hidden force in global economics: sending money home"
          ],
          [
           "Why privacy matters"
          ],
          [
           "One more reason to get a good night's sleep"
          ],
          [
           "The simple power of hand-washing"
          ],
          [
           "The future of early cancer detection?"
          ],
          [
           "Let's help refugees thrive, not just survive"
          ],
          [
           "My father, locked in his body but soaring free"
          ],
          [
           "What do we do with all this big data? "
          ],
          [
           "The leaders who ruined Africa, and the generation who can fix it"
          ],
          [
           "Should you donate differently?"
          ],
          [
           "What I learned from spending 31 days underwater"
          ],
          [
           "A science award that makes you laugh, then think"
          ],
          [
           "How I defend the rule of law"
          ],
          [
           "A flying camera ... on a leash"
          ],
          [
           "Photos that give voice to the animal kingdom"
          ],
          [
           "Yes, I survived cancer. But that doesn't define me"
          ],
          [
           "What new power looks like"
          ],
          [
           "It’s our city. Let’s fix it"
          ],
          [
           "Humble plants that hide surprising secrets"
          ],
          [
           "Be an opportunity maker"
          ],
          [
           "My architectural philosophy? Bring the community into the process"
          ],
          [
           "How painting can transform communities"
          ],
          [
           "The coming crisis in antibiotics"
          ],
          [
           "What the Social Progress Index can reveal about your country"
          ],
          [
           "Why we need to end the War on Drugs"
          ],
          [
           "What your doctor won’t disclose"
          ],
          [
           "Hidden music rituals around the world"
          ],
          [
           "How to save the world (or at least yourself) from bad meetings"
          ],
          [
           "Tiny satellites show us the Earth as it changes in near-real-time"
          ],
          [
           "Meet the mom who started the Ice Bucket Challenge"
          ],
          [
           "This gel can make you stop bleeding instantly"
          ],
          [
           "How autism freed me to be myself"
          ],
          [
           "What the people of the Amazon know that you don't"
          ],
          [
           "Why some people find exercise harder than others"
          ],
          [
           "The art of stillness"
          ],
          [
           "Hidden cameras that film injustice in the world’s most dangerous places"
          ],
          [
           "To the South Pole and back — the hardest 105 days of my life"
          ],
          [
           "The workforce crisis of 2030 -- and how to start solving it now"
          ],
          [
           "What veterinarians know that physicians don't"
          ],
          [
           "A dance in a hurricane of paper, wind and light"
          ],
          [
           "How Christmas lights helped guerrillas put down their guns"
          ],
          [
           "Fighters and mourners of the Ukrainian revolution"
          ],
          [
           "The world's most boring television ... and why it's hilariously addictive"
          ],
          [
           "The small and surprisingly dangerous detail the police track about you"
          ],
          [
           "Social maps that reveal a city's intersections — and separations"
          ],
          [
           "How to overcome our biases? Walk boldly toward them"
          ],
          [
           "The wonderful and terrifying implications of computers that can learn"
          ],
          [
           "The power of believing that you can improve"
          ],
          [
           "Got a smartphone? Start broadcasting"
          ],
          [
           "Trash cart superheroes"
          ],
          [
           "Go ahead, make up new words!"
          ],
          [
           "See invisible motion, hear silent sounds"
          ],
          [
           "Why you should care about whale poo"
          ],
          [
           "Happy maps"
          ],
          [
           "For more tolerance, we need more ... tourism?"
          ],
          [
           "A forensic anthropologist who brings closure for the \"disappeared\""
          ],
          [
           "Hopeful lessons from the battle to save rainforests"
          ],
          [
           "Creative problem-solving in the face of extreme limits"
          ],
          [
           "Let's save the last pristine continent"
          ],
          [
           "How to protect fast-growing cities from failing"
          ],
          [
           "Poetry that frees the soul"
          ],
          [
           "How to let altruism be your guide"
          ],
          [
           "Why I make robots the size of a grain of rice"
          ],
          [
           "Better toilets, better life"
          ],
          [
           "The danger of hiding who you are"
          ],
          [
           "Brain-to-brain communication has arrived. How we did it"
          ],
          [
           "To solve mass violence, look to locals"
          ],
          [
           "My mother’s strange definition of empowerment"
          ],
          [
           "The beauty and diversity of Muslim life"
          ],
          [
           "Online social change: easy to organize, hard to win"
          ],
          [
           "Humanity vs. Ebola. How we could win a terrifying war"
          ],
          [
           "10 myths about psychology, debunked"
          ],
          [
           "Got a wicked problem? First, tell me how you make toast"
          ],
          [
           "Old books reborn as art"
          ],
          [
           "How butterflies self-medicate"
          ],
          [
           "How to run a company with (almost) no rules"
          ],
          [
           "My simple invention, designed to keep my grandfather safe"
          ],
          [
           "The mathematics of love"
          ],
          [
           "Why we all need to practice emotional first aid"
          ],
          [
           "How childhood trauma affects health across a lifetime"
          ],
          [
           "For these women, reading is a daring act"
          ],
          [
           "How to go to space, without having to go to space"
          ],
          [
           "The little problem I had renting a house"
          ],
          [
           "How our microbes make us who we are"
          ],
          [
           "How I work to protect women from honor killings"
          ],
          [
           "The power of herd immunity"
          ],
          [
           "How we found the worst place to park in New York City -- using big data"
          ],
          [
           "A magical search for a coincidence"
          ],
          [
           "The problem with \"trickle-down techonomics\""
          ],
          [
           "What can save the rainforest? Your used cell phone"
          ],
          [
           "A love poem for lonely prime numbers"
          ],
          [
           "Think your email's private? Think again"
          ],
          [
           "4 lessons I learned from taking a stand against drugs and gun violence"
          ],
          [
           "In praise of macro -- yes, macro -- finance in Africa"
          ],
          [
           "Why the buildings of the future will be shaped by ... you"
          ],
          [
           "What I learned as a kid in jail"
          ],
          [
           "Play this word game to come up with original ideas"
          ],
          [
           "How to manage for collective creativity"
          ],
          [
           "I was held hostage for 317 days. Here's what I thought about…"
          ],
          [
           "The good news about PMS"
          ],
          [
           "Can we create new senses for humans?"
          ],
          [
           "What if 3D printing was 100x faster?"
          ],
          [
           "The price of shame"
          ],
          [
           "How we're teaching computers to understand pictures"
          ],
          [
           "A tale of two Americas. And the mini-mart where they collided"
          ],
          [
           "Everyone around you has a story the world needs to hear"
          ],
          [
           "How to revive a neighborhood: with imagination, beauty and art"
          ],
          [
           "Why do ambitious women have flat heads?"
          ],
          [
           "There’s a better way to die, and architecture can help"
          ],
          [
           "How I use sonar to navigate the world"
          ],
          [
           "Are China and the US doomed to conflict?"
          ],
          [
           "The day I stood up alone"
          ],
          [
           "The next outbreak? We’re not ready"
          ],
          [
           "5 ways to kill your dreams"
          ],
          [
           "Math is forever"
          ],
          [
           "How equal do we want the world to be? You'd be surprised"
          ],
          [
           "How to land on a comet"
          ],
          [
           "My desperate journey with a human smuggler"
          ],
          [
           "How to make peace? Get angry"
          ],
          [
           "The best kindergarten you’ve ever seen"
          ],
          [
           "Why we need to rethink capitalism"
          ],
          [
           "How Mars might hold the secret to the origin of life"
          ],
          [
           "The hidden reason for poverty the world needs to address now"
          ],
          [
           "How I fell in love with quasars, blazars and our incredible universe"
          ],
          [
           "How virtual reality can create the ultimate empathy machine"
          ],
          [
           "How to raise a black son in America"
          ],
          [
           "How we unearthed the Spinosaurus"
          ],
          [
           "What happens when our computers get smarter than we are?"
          ],
          [
           "How to control someone else's arm with your brain"
          ],
          [
           "Why we laugh"
          ],
          [
           "How we're priming some kids for college — and others for prison"
          ],
          [
           "The case for engineering our food"
          ],
          [
           "New video technology that reveals an object's hidden properties"
          ],
          [
           "The dancer, the singer, the cellist ... and a moment of creative magic"
          ],
          [
           "Programming bacteria to detect cancer (and maybe treat it)"
          ],
          [
           "A song for my hero, the woman who rowed into a hurricane"
          ],
          [
           "The first 21 days of a bee’s life"
          ],
          [
           "Magical houses, made of bamboo"
          ],
          [
           "Why city flags may be the worst-designed thing you've never noticed"
          ],
          [
           "A moving song from women in prison for life"
          ],
          [
           "My daughter, my wife, our robot, and the quest for immortality"
          ],
          [
           "Physical therapy is boring -- play a game instead"
          ],
          [
           "Chimps have feelings and thoughts. They should also have rights"
          ],
          [
           "Rethinking infidelity ... a talk for anyone who has ever loved"
          ],
          [
           "The joy of surfing in ice-cold water"
          ],
          [
           "How we cut youth violence in Boston by 79 percent"
          ],
          [
           "What does my headscarf mean to you?"
          ],
          [
           "The search for planets beyond our solar system"
          ],
          [
           "Gorgeous portraits of the world's vanishing people"
          ],
          [
           "The single biggest reason why startups succeed"
          ],
          [
           "The surprisingly logical minds of babies"
          ],
          [
           "The first secret of design is ... noticing"
          ],
          [
           "How this FBI strategy is actually creating US-based terrorists"
          ],
          [
           "How to fix a broken school? Lead fearlessly, love hard"
          ],
          [
           "This is what it's like to go undercover in North Korea"
          ],
          [
           "One woman, five characters, and a sex lesson from the future"
          ],
          [
           "Do we see reality as it is?"
          ],
          [
           "A powerful poem about what it feels like to be transgender"
          ],
          [
           "This app knows how you feel -- from the look on your face"
          ],
          [
           "Forget the pecking order at work"
          ],
          [
           "The forgotten history of autism"
          ],
          [
           "A visual history of inequality in industrial America"
          ],
          [
           "An 11-year-old prodigy performs old-school jazz"
          ],
          [
           "Confessions of a bad feminist"
          ],
          [
           "The art of first impressions -- in design and life"
          ],
          [
           "What do we do when antibiotics don't work any more?"
          ],
          [
           "How a driverless car sees the road"
          ],
          [
           "The surprising thing I learned sailing solo around the world"
          ],
          [
           "Why I believe the mistreatment of women is the number one human rights abuse "
          ],
          [
           "The amazing story of the man who gave us modern pain relief"
          ],
          [
           "Meet the women fighting on the front lines of an American war"
          ],
          [
           "The math behind basketball's wildest moves"
          ],
          [
           "A warrior’s cry against child marriage"
          ],
          [
           "Everything you think you know about addiction is wrong"
          ],
          [
           "When to take a stand -- and when to let it go"
          ],
          [
           "Human trafficking is all around you. This is how it works"
          ],
          [
           "A better way to talk about abortion"
          ],
          [
           "This is what enduring love looks like"
          ],
          [
           "What happened when I open-sourced my brain cancer"
          ],
          [
           "What we learn from insects' sex lives"
          ],
          [
           "When online shaming goes too far"
          ],
          [
           "What my religion really says about women"
          ],
          [
           "The nerd's guide to learning everything online"
          ],
          [
           "Street art with a message of hope and peace"
          ],
          [
           "What explains the rise of humans?"
          ],
          [
           "The surprising way groups like ISIS stay in power"
          ],
          [
           "My road trip through the whitest towns in America"
          ],
          [
           "A secret memorial for civilian casualties"
          ],
          [
           "Could we cure HIV with lasers?"
          ],
          [
           "How I learned to communicate my inner life with Asperger's"
          ],
          [
           "A visual history of human knowledge"
          ],
          [
           "How young blood might help reverse aging. Yes, really"
          ],
          [
           "How to avoid surveillance ... with the phone in your pocket"
          ],
          [
           "A journey through the mind of an artist"
          ],
          [
           "How quantum biology might explain life’s biggest questions"
          ],
          [
           "The troubling reason why vaccines are made too late ... if they're made at all"
          ],
          [
           "These robots come to the rescue after a disaster"
          ],
          [
           "How too many rules at work keep you from getting things done"
          ],
          [
           "This telescope might show us the beginning of the universe"
          ],
          [
           "An invitation to men who want a better world for women"
          ],
          [
           "How the mysterious dark net is going mainstream"
          ],
          [
           "The mathematician who cracked Wall Street"
          ],
          [
           "I leapt from the stratosphere. Here's how I did it"
          ],
          [
           "The way we think about work is broken"
          ],
          [
           "What really matters at the end of life"
          ],
          [
           "This tennis icon paved the way for women in sports"
          ],
          [
           "How fear drives American politics"
          ],
          [
           "The story we tell about poverty isn't true"
          ],
          [
           "Why gender equality is good for everyone — men included"
          ],
          [
           "Falling in love is the easy part"
          ],
          [
           "How to find work you love"
          ],
          [
           "How I stopped the Taliban from shutting down my school"
          ],
          [
           "Why public beheadings get millions of views"
          ],
          [
           "Why climate change is a threat to human rights"
          ],
          [
           "4 powerful poems about Parkinson's and growing older"
          ],
          [
           "Alzheimer's is not normal aging — and we can cure it"
          ],
          [
           "Don't ask where I'm from, ask where I'm a local"
          ],
          [
           "Stunning photos of the endangered Everglades"
          ],
          [
           "How my mind came back to life — and no one knew"
          ],
          [
           "Why some of us don't have one true calling"
          ],
          [
           "Climate change is happening. Here's how we adapt"
          ],
          [
           "Soon we'll cure diseases with a cell, not a pill"
          ],
          [
           "Design at the intersection of technology and biology"
          ],
          [
           "You can grow new brain cells. Here's how"
          ],
          [
           "Home is a song I've always remembered"
          ],
          [
           "How we can make the world a better place by 2030"
          ],
          [
           "The future of flying robots"
          ],
          [
           "Why medicine often has dangerous side effects for women"
          ],
          [
           "Two nameless bodies washed up on the beach. Here are their stories"
          ],
          [
           "The unexpected beauty of everyday sounds"
          ],
          [
           "The secret US prisons you've never heard of before"
          ],
          [
           " How CRISPR lets us edit our DNA"
          ],
          [
           "An Internet without screens might look like this"
          ],
          [
           "Deep under the Earth's surface, discovering beauty and science"
          ],
          [
           "Social services are broken. How we can fix them"
          ],
          [
           "How I teach kids to love science"
          ],
          [
           "The enchanting music of sign language"
          ],
          [
           "Art that lets you talk back to NSA spies"
          ],
          [
           "How to stay calm when you know you'll be stressed"
          ],
          [
           "How data from a crisis text line is saving lives"
          ],
          [
           "A boat carrying 500 refugees sunk at sea. The story of two survivors"
          ],
          [
           "The coolest animal you know nothing about ... and how we can save it"
          ],
          [
           "Forget Wi-Fi. Meet the new Li-Fi Internet"
          ],
          [
           "A musical escape into a world of light and color"
          ],
          [
           "This is what LGBT life is like around the world"
          ],
          [
           "The moral bias behind your search results"
          ],
          [
           "How I'm working for change inside my church"
          ],
          [
           "The chilling aftershock of a brush with death"
          ],
          [
           "Why sneakers are a great investment"
          ],
          [
           "The future of news? Virtual reality"
          ],
          [
           "My country will be underwater soon -- unless we work together"
          ],
          [
           "What are animals thinking and feeling?"
          ],
          [
           "Why are these 32 symbols found in ancient caves all over Europe?"
          ],
          [
           "My year reading a book from every country in the world"
          ],
          [
           "Why the best hire might not have the perfect resume"
          ],
          [
           "An art made of trust, vulnerability and connection"
          ],
          [
           "How we're growing baby corals to rebuild reefs"
          ],
          [
           "The US needs paid family leave -- for the sake of its future"
          ],
          [
           "How new technology helps blind people explore the world"
          ],
          [
           "The exhilarating peace of freediving"
          ],
          [
           "The untapped genius that could change science for the better"
          ],
          [
           "Forget shopping. Soon you'll download your new clothes"
          ],
          [
           "How germs travel on planes -- and how we can stop them"
          ],
          [
           "A beatboxing lesson from a father-daughter duo"
          ],
          [
           "The four fish we're overeating -- and what to eat instead"
          ],
          [
           "Let's not use Mars as a backup planet"
          ],
          [
           "What happens when a city runs out of room for its dead"
          ],
          [
           "A hilarious celebration of lifelong female friendship"
          ],
          [
           "Refugees have the right to be protected"
          ],
          [
           "Governments don't understand cyber warfare. We need hackers"
          ],
          [
           "An underwater art museum, teeming with life"
          ],
          [
           "What makes a good life? Lessons from the longest study on happiness"
          ],
          [
           "Have we reached the end of physics?"
          ],
          [
           "How to use data to make a hit TV show"
          ],
          [
           "How we'll find life on other planets"
          ],
          [
           "4 ways we can avoid a catastrophic drought"
          ],
          [
           "This is what happens when you reply to spam email"
          ],
          [
           "How frustration can make us more creative"
          ],
          [
           "I love being a police officer, but we need reform"
          ],
          [
           "Let's design social media that drives real change"
          ],
          [
           "Why great architecture should tell a story"
          ],
          [
           "The mysterious world of underwater caves"
          ],
          [
           "How we can make crops survive without water"
          ],
          [
           "Can a computer write poetry?"
          ],
          [
           "How I turned a deadly plant into a thriving business"
          ],
          [
           "The unheard story of the Sistine Chapel"
          ],
          [
           "Capitalism will eat democracy -- unless we speak up"
          ],
          [
           "Glow-in-the-dark sharks and other stunning sea creatures"
          ],
          [
           "Should you be able to patent a human gene?"
          ],
          [
           "A robot that runs and swims like a salamander"
          ],
          [
           "Our campaign to ban plastic bags in Bali"
          ],
          [
           "A delightful way to teach kids about computers"
          ],
          [
           "The boiling river of the Amazon"
          ],
          [
           "A simple way to break a bad habit"
          ],
          [
           "How we'll fight the next deadly virus"
          ],
          [
           "Special Olympics let me be myself -- a champion"
          ],
          [
           "Economic growth has stalled. Let's fix it"
          ],
          [
           "Shape-shifting tech will change work as we know it"
          ],
          [
           "How I'm discovering the secrets of ancient texts"
          ],
          [
           "The case for fish farming"
          ],
          [
           "The problem with race-based medicine"
          ],
          [
           "The brain may be able to repair itself -- with help"
          ],
          [
           "10 ways to have a better conversation"
          ],
          [
           "My year of saying yes to everything"
          ],
          [
           "What the discovery of gravitational waves means"
          ],
          [
           "Meet the dazzling flying machines of the future"
          ],
          [
           "The case for optimism on climate change"
          ],
          [
           "What it's like to be Muslim in America"
          ],
          [
           "How to make a profit while making a difference"
          ],
          [
           "Why your doctor should care about social justice"
          ],
          [
           "Why we need gender-neutral bathrooms"
          ],
          [
           "Dive into an ocean photographer's world"
          ],
          [
           "How yarn bombing grew into a worldwide movement"
          ],
          [
           "What really happens when you mix medications?"
          ],
          [
           "Our refugee system is failing. Here's how we can fix it"
          ],
          [
           "Uber's plan to get more people into fewer cars"
          ],
          [
           "Teach girls bravery, not perfection"
          ],
          [
           "This computer will grow your food in the future"
          ],
          [
           "The secrets I find on the mysterious ocean floor"
          ],
          [
           "Simple hacks for life with Parkinson's"
          ],
          [
           "This country isn't just carbon neutral -- it's carbon negative"
          ],
          [
           "The gospel of doubt"
          ],
          [
           "How Airbnb designs for trust"
          ],
          [
           "Inside the mind of a master procrastinator"
          ],
          [
           "The reporting system that sexual assault survivors want"
          ],
          [
           "A conservative's plea: Let's work together"
          ],
          [
           "A glimpse of the future through an augmented reality headset"
          ],
          [
           "A prosecutor's vision for a better justice system"
          ],
          [
           "How to get back to work after a career break"
          ],
          [
           "You have no idea where camels really come from"
          ],
          [
           "How young Africans found a voice on Twitter"
          ],
          [
           "A futuristic vision of the age of holograms"
          ],
          [
           "The beauty of human skin in every color"
          ],
          [
           "Why gun violence can't be our new normal"
          ],
          [
           "How humans could evolve to survive in space"
          ],
          [
           "Two reasons companies fail -- and how to avoid them"
          ],
          [
           "The surprising habits of original thinkers"
          ],
          [
           "How a start-up in the White House is changing business as usual"
          ],
          [
           "How megacities are changing the map of the world"
          ],
          [
           "The magic ingredient that brings Pixar movies to life"
          ],
          [
           "The most mysterious star in the universe"
          ],
          [
           "The Panama Papers exposed a huge global problem. What's next?"
          ],
          [
           "The mind behind Linux"
          ],
          [
           "What does it mean to be a citizen of the world?"
          ],
          [
           "Your kids might live on Mars. Here's how they'll survive"
          ],
          [
           "A new superweapon in the fight against cancer"
          ],
          [
           "The unexpected benefit of celebrating failure"
          ],
          [
           "The nit-picking glory of The New Yorker's Comma Queen"
          ],
          [
           "The inside story of the Paris climate agreement"
          ],
          [
           "TED's secret to great public speaking"
          ],
          [
           "Wisdom from great writers on every year of life"
          ],
          [
           "We can reprogram life. How to do it wisely"
          ],
          [
           "A taboo-free way to talk about periods"
          ],
          [
           "Hunting for dinosaurs showed me our place in the universe"
          ],
          [
           "A smart loan for people with no credit history (yet)"
          ],
          [
           "Insightful human portraits made from data"
          ],
          [
           "Why I put myself in danger to tell the stories of Gaza"
          ],
          [
           "A provocative way to finance the fight against climate change"
          ],
          [
           "How to read the genome and build a human being"
          ],
          [
           "How my son's short life made a lasting difference"
          ],
          [
           "Pirates, nurses and other rebel designers"
          ],
          [
           "The dream we haven't dared to dream"
          ],
          [
           "A sci-fi vision of love from a 318-year-old hologram"
          ],
          [
           "This virtual lab will revolutionize science class"
          ],
          [
           "Gene editing can now change an entire species -- forever"
          ],
          [
           "This is your brain on communication"
          ],
          [
           "An artist's unflinching look at racial violence"
          ],
          [
           "This tiny particle could roam your body to find tumors"
          ],
          [
           "Can you really tell if a kid is lying?"
          ],
          [
           "Good news in the fight against pancreatic cancer"
          ],
          [
           "Our lonely society makes it hard to come home from war"
          ],
          [
           "The laws that sex workers really want"
          ],
          [
           "How free is our freedom of the press?"
          ],
          [
           "The beauty of being a misfit"
          ],
          [
           "Your words may predict your future mental health"
          ],
          [
           "Drawings that show the beauty and fragility of Earth"
          ],
          [
           "How barbershops can keep men healthy"
          ],
          [
           "My journey from Marine to actor"
          ],
          [
           "A smarter, more precise way to think about public health"
          ],
          [
           "The real harm of the global arms trade"
          ],
          [
           "An entertainment icon on living a life of meaning"
          ],
          [
           "The passing of time, caught in a single photo"
          ],
          [
           "What's so sexy about math?"
          ],
          [
           "Every piece of art you've ever wanted to see -- up close and searchable"
          ],
          [
           "The Chinese zodiac, explained"
          ],
          [
           "How college loans exploit students for profit"
          ],
          [
           "A highly scientific taxonomy of haters"
          ],
          [
           "3 reasons why we can win the fight against poverty"
          ],
          [
           "The secret to effective nonviolent resistance"
          ],
          [
           "This scientist makes ears out of apples"
          ],
          [
           "The birth of virtual reality as an art form"
          ],
          [
           "How better tech could protect us from distraction"
          ],
          [
           "I survived a terrorist attack. Here's what I learned"
          ],
          [
           "Why genetic research must be more diverse"
          ],
          [
           "How to fix a broken education system ... without any more money"
          ],
          [
           "Who are you, really? The puzzle of personality"
          ],
          [
           "What can we learn from shortcuts?"
          ],
          [
           "How a blind astronomer found a way to hear the stars"
          ],
          [
           "How computers are learning to be creative"
          ],
          [
           "Why you think you're right -- even if you're wrong"
          ],
          [
           "Clues to prehistoric times, found in blind cavefish"
          ],
          [
           "\"Redemption Song\""
          ],
          [
           "How Syria's architecture laid the foundation for brutal war"
          ],
          [
           "Why Brexit happened -- and what to do next"
          ],
          [
           "Why I keep speaking up, even when people mock my accent"
          ],
          [
           "When we design for disability, we all benefit"
          ],
          [
           "3 lessons on success from an Arab businesswoman"
          ],
          [
           "What will be the next big scientific breakthrough?"
          ],
          [
           "Nature is everywhere -- we just need to learn to see it"
          ],
          [
           "How to grow a forest in your backyard"
          ],
          [
           "My love letter to cosplay"
          ],
          [
           "A forgotten Space Age technology could change how we grow food"
          ],
          [
           "A project of peace, painted across 50 buildings"
          ],
          [
           "How the Panama Papers journalists broke the biggest leak in history"
          ],
          [
           "A new way to study the brain's invisible secrets"
          ],
          [
           "How trees talk to each other"
          ],
          [
           "The jobs we'll lose to machines -- and the ones we won't"
          ],
          [
           "How to build a business that lasts 100 years"
          ],
          [
           "The taboo secret to better health"
          ],
          [
           "How Africa can keep rising"
          ],
          [
           "What a planet needs to sustain life"
          ],
          [
           "A small country with big ideas to get rid of fossil fuels"
          ],
          [
           "3 moons and a planet that could have alien life"
          ],
          [
           "Hunting for Peru's lost civilizations -- with satellites"
          ],
          [
           "A letter to all who have lost in this era"
          ],
          [
           "How Argentina's blind soccer team became champions"
          ],
          [
           "The next manufacturing revolution is here"
          ],
          [
           "What we can do to die well"
          ],
          [
           "The deadly legacy of cluster bombs"
          ],
          [
           "How the blockchain is changing money and business"
          ],
          [
           "The spellbinding art of human anatomy"
          ],
          [
           "How women wage conflict without violence"
          ],
          [
           "Bring on the female superheroes!"
          ],
          [
           "Why you should talk to strangers"
          ],
          [
           "The risky politics of progress"
          ],
          [
           "The agony of trying to unsubscribe"
          ],
          [
           "Let's teach for mastery -- not test scores"
          ],
          [
           "The new American Dream"
          ],
          [
           "Why helmets don't prevent concussions -- and what might"
          ],
          [
           "A new way to heal hearts without surgery"
          ],
          [
           "The future of money"
          ],
          [
           "How to raise successful kids -- without over-parenting"
          ],
          [
           "How fear of nuclear power is hurting the environment"
          ],
          [
           "Architecture that's built to heal"
          ],
          [
           "Why some people are more altruistic than others"
          ],
          [
           "There's no such thing as not voting"
          ],
          [
           "Why you should know how much your coworkers get paid"
          ],
          [
           "Why open a school? To close a prison"
          ],
          [
           "The era of personal DNA testing is here"
          ],
          [
           "We can fight terror without sacrificing our rights"
          ],
          [
           "America's forgotten working class"
          ],
          [
           "A visual history of social dance in 25 moves"
          ],
          [
           "How we're harnessing nature's hidden superpowers"
          ],
          [
           "Can we build AI without losing control over it?"
          ],
          [
           "Technology hasn't changed love. Here's why"
          ],
          [
           "What you need to know about CRISPR"
          ],
          [
           "Immigrant voices make democracy stronger"
          ],
          [
           "We can start winning the war against cancer"
          ],
          [
           "What reality are you creating for yourself?"
          ],
          [
           "Ideas worth dating"
          ],
          [
           "4 reasons to learn a new language"
          ],
          [
           "How we talk about sexual assault online"
          ],
          [
           "The beauty of what we'll never know"
          ],
          [
           "Art can heal PTSD's invisible wounds"
          ],
          [
           "5 ways to lead in an era of constant change"
          ],
          [
           "Ballroom dance that breaks gender roles"
          ],
          [
           "We've stopped trusting institutions and started trusting strangers"
          ],
          [
           "A temporary tattoo that brings hospital care to the home"
          ],
          [
           "Machine intelligence makes human morals more important"
          ],
          [
           "Inside the mind of a former radical jihadist"
          ],
          [
           "The unexpected challenges of a country's first election"
          ],
          [
           "What a driverless world could look like"
          ],
          [
           "How the US should use its superpower status"
          ],
          [
           "How loss helped one artist find beauty in imperfection"
          ],
          [
           "Everything you hear on film is a lie"
          ],
          [
           "\"St. James Infirmary Blues\""
          ],
          [
           "Enough with the fear of fat"
          ],
          [
           "Your smartphone is a civil rights issue"
          ],
          [
           "How America's public schools keep kids in poverty"
          ],
          [
           "Your company's data could help end world hunger"
          ],
          [
           "4 ways to build a human company in the age of machines"
          ],
          [
           "\"Space Oddity\""
          ],
          [
           "It's time for women to run for office"
          ],
          [
           "Islamophobia killed my brother. Let's end the hate"
          ],
          [
           "Can a divided America heal?"
          ],
          [
           "Easy DIY projects for kid engineers"
          ],
          [
           "We train soldiers for war. Let's train them to come home, too"
          ],
          [
           "The urgency of intersectionality"
          ],
          [
           "How the blockchain will radically transform the economy"
          ],
          [
           "The playful wonderland behind great inventions"
          ],
          [
           "Help for kids the education system ignores"
          ],
          [
           "Math is the hidden secret to understanding the world"
          ],
          [
           "A political party for women's equality"
          ],
          [
           "What will humans look like in 100 years?"
          ],
          [
           "How to speak up for yourself"
          ],
          [
           "We need nuclear power to solve climate change"
          ],
          [
           "An interview with the founders of Black Lives Matter"
          ],
          [
           "Maps that show us who we are (not just where we are)"
          ],
          [
           "How an old loop of railroads is changing the face of a city"
          ],
          [
           "4 larger-than-life lessons from soap operas"
          ],
          [
           "A queer vision of love and marriage"
          ],
          [
           "Let's clean up the space junk orbiting Earth"
          ],
          [
           "What I learned from 100 days of rejection"
          ],
          [
           "Say your truths and seek them in others"
          ],
          [
           "Do kids think of sperm donors as family?"
          ],
          [
           "Why curiosity is the key to science and medicine"
          ],
          [
           "How AI can bring on a second Industrial Revolution"
          ],
          [
           "Could a drug prevent depression and PTSD?"
          ],
          [
           "How students of color confront impostor syndrome"
          ],
          [
           "How to gain control of your free time"
          ],
          [
           "Will automation take away all our jobs?"
          ],
          [
           "What will you tell your daughters about 2016?"
          ],
          [
           "Why Earth may someday look like Mars"
          ],
          [
           "It's time to reclaim religion"
          ],
          [
           "How we explore unanswered questions in physics"
          ],
          [
           "Are you a giver or a taker?"
          ],
          [
           "The world doesn't need more nuclear weapons"
          ],
          [
           "Want kids to learn well? Feed them well"
          ],
          [
           "The lies we tell pregnant women"
          ],
          [
           "A better way to talk about love"
          ],
          [
           "The next step in nanotechnology"
          ],
          [
           "Meet the inventor of the electronic spreadsheet"
          ],
          [
           "To solve old problems, study new species"
          ],
          [
           "If a story moves you, act on it"
          ],
          [
           "What happens when you have a disease doctors can't diagnose"
          ],
          [
           "How online abuse of women has spiraled out of control"
          ],
          [
           "Art made of the air we breathe"
          ],
          [
           "How to have better political conversations"
          ],
          [
           "The ethical dilemma of designer babies"
          ],
          [
           "Buildings that blend nature and city"
          ],
          [
           "Where is cybercrime really coming from?"
          ],
          [
           "What we don't know about Europe's Muslim kids"
          ],
          [
           "A young scientist's quest for clean water"
          ],
          [
           "Help discover ancient ruins -- before it's too late"
          ],
          [
           "Why you should love statistics"
          ],
          [
           "How to get better at the things you care about"
          ],
          [
           "My son was a Columbine shooter. This is my story"
          ],
          [
           "What time is it on Mars?"
          ],
          [
           "The incredible inventions of intuitive AI"
          ],
          [
           "Our story of rape and reconciliation"
          ],
          [
           "New nanotech to detect cancer early"
          ],
          [
           "4 ways to make a city more walkable"
          ],
          [
           "What it's like to be a parent in a war zone"
          ],
          [
           "How racism harms pregnant women -- and what can help"
          ],
          [
           "An electrifying acoustic guitar performance"
          ],
          [
           "How to practice safe sexting"
          ],
          [
           "3 ways to fix a broken news industry"
          ],
          [
           "How jails extort the poor"
          ],
          [
           "Don't fear superintelligent AI"
          ],
          [
           "Nationalism vs. globalism: the new political divide"
          ],
          [
           "The racial politics of time"
          ],
          [
           "A robot that eats pollution"
          ],
          [
           "A few ways to fix a government"
          ],
          [
           "The data behind Hollywood's sexism"
          ],
          [
           "Smelfies, and other experiments in synthetic biology"
          ],
          [
           "This app makes it fun to pick up litter"
          ],
          [
           "What I learned from 2,000 obituaries"
          ],
          [
           "Stories from a home for terminally ill children"
          ],
          [
           "\"Rollercoaster\""
          ],
          [
           "A scientific approach to the paranormal"
          ],
          [
           "I grew up in the Westboro Baptist Church. Here's why I left"
          ],
          [
           "To raise brave girls, encourage adventure"
          ],
          [
           "Why women should tell the stories of humanity"
          ],
          [
           "How I'm fighting bias in algorithms"
          ],
          [
           "Beautiful new words to describe obscure emotions"
          ],
          [
           "A burial practice that nourishes the planet"
          ],
          [
           "Adventures of an asteroid hunter"
          ],
          [
           "What young women believe about their own sexual pleasure"
          ],
          [
           "Should we simplify spelling?"
          ],
          [
           "\"Turceasca\""
          ],
          [
           "Inside America's dead shopping malls"
          ],
          [
           "Lifelike simulations that make real-life surgery safer"
          ],
          [
           "Asking for help is a strength, not a weakness"
          ],
          [
           "Why civilians suffer more once a war is over"
          ],
          [
           "Who would the rest of the world vote for in your country's election?"
          ],
          [
           "3 ways to spot a bad statistic"
          ],
          [
           "A young inventor's plan to recycle Styrofoam"
          ],
          [
           "What we don't know about mother's milk"
          ],
          [
           "Addiction is a disease. We should treat it like one"
          ],
          [
           "How early life experience is written into DNA"
          ],
          [
           "\"Music for Wood and Strings\""
          ],
          [
           "A young poet tells the story of Darfur"
          ],
          [
           "Know your worth, and then ask for it"
          ],
          [
           "Political common ground in a polarized United States"
          ],
          [
           "How to take a picture of a black hole"
          ],
          [
           "The conversation we're not having about digital child abuse"
          ],
          [
           "How racism makes us sick"
          ],
          [
           "How we can find ourselves in data"
          ],
          [
           "3 ways to plan for the (very) long term"
          ],
          [
           "In praise of conflict"
          ],
          [
           "An intergalactic guide to using a defibrillator"
          ],
          [
           "A simple birth kit for mothers in the developing world"
          ],
          [
           "We should all be feminists"
          ],
          [
           "How do you build a sacred space?"
          ],
          [
           "How radio telescopes show us unseen galaxies"
          ],
          [
           "A video game to cope with grief"
          ],
          [
           "A doctor's case for medical marijuana"
          ],
          [
           "How I learned to read -- and trade stocks -- in prison"
          ],
          [
           "How fake news does real harm"
          ],
          [
           "Science in service to the public good"
          ],
          [
           "Why the only future worth building includes everyone"
          ],
          [
           "On tennis, love and motherhood"
          ],
          [
           "What you can do to prevent Alzheimer's"
          ],
          [
           "The future we're building -- and boring"
          ],
          [
           "Behind the lies of Holocaust denial"
          ],
          [
           "How (and why) Russia hacked the US election"
          ],
          [
           "There's no shame in taking care of your mental health"
          ],
          [
           "A summer school kids actually want to attend"
          ],
          [
           "A tribute to nurses"
          ],
          [
           "The biology of our best and worst selves"
          ],
          [
           "Poetry, music and identity"
          ],
          [
           "How human noise affects ocean habitats"
          ],
          [
           "Thoughts on humanity, fame and love"
          ],
          [
           "3 principles for creating safer AI"
          ],
          [
           "What makes life worth living in the face of death"
          ],
          [
           "A climate solution where all sides can win"
          ],
          [
           "Why school should start later for teens"
          ],
          [
           "When Black women walk, things change"
          ],
          [
           "Poverty isn't a lack of character; it's a lack of cash"
          ],
          [
           "Why I speak up about living with epilepsy"
          ],
          [
           "This is what democracy looks like"
          ],
          [
           "A secret weapon against Zika and other mosquito-borne diseases"
          ],
          [
           "How to find a wonderful idea"
          ],
          [
           "How pollution is changing the ocean's chemistry"
          ],
          [
           "Don't fear intelligent machines. Work with them"
          ],
          [
           "Am I not human? A call for criminal justice reform"
          ],
          [
           "No one should die because they live too far from a doctor"
          ],
          [
           "Songs that bring history to life"
          ],
          [
           "How to design a library that makes kids want to read "
          ],
          [
           "How to see past your own perspective and find truth"
          ],
          [
           "Why glass towers are bad for city life -- and what we need instead"
          ],
          [
           "To understand autism, don't look away"
          ],
          [
           "What happens in your brain when you pay attention?"
          ],
          [
           "12 truths I learned from life and writing"
          ],
          [
           "Why you should define your fears instead of your goals"
          ],
          [
           "How I built a jet suit"
          ],
          [
           "When I die, recompose me"
          ],
          [
           "Science didn't understand my kids' rare disease until I decided to study it"
          ],
          [
           "\"Awoo\""
          ],
          [
           "Doesn't everyone deserve a chance at a good life?"
          ],
          [
           "Why we need to imagine different futures"
          ],
          [
           "The refugee crisis is a test of our character"
          ],
          [
           "Why design should include everyone"
          ],
          [
           "A celebration of natural hair"
          ],
          [
           "Don't feel sorry for refugees -- believe in them"
          ],
          [
           "Lifesaving scientific tools made of paper"
          ],
          [
           "How we can face the future without fear, together"
          ],
          [
           "Why journalists have an obligation to challenge power"
          ],
          [
           "What rivers can tell us about the earth's history"
          ],
          [
           "Why our screens make us less happy"
          ],
          [
           "Can clouds buy us more time to solve climate change?"
          ],
          [
           "Your brain hallucinates your conscious reality"
          ],
          [
           "The human insights missing from big data"
          ],
          [
           "Hamilton vs. Madison and the birth of American partisanship"
          ],
          [
           "How I fail at being disabled"
          ],
          [
           "How cohousing can make us happier (and live longer)"
          ],
          [
           "A simple new blood test that can catch cancer early"
          ],
          [
           "How a handful of tech companies control billions of minds every day"
          ],
          [
           "You smell with your body, not just your nose"
          ],
          [
           "Why I still have hope for coral reefs"
          ],
          [
           "Meet Spot, the robot dog that can run, hop and open doors"
          ],
          [
           "Can art amend history?"
          ],
          [
           "What six years in captivity taught me about fear and faith"
          ],
          [
           "The stories behind The New Yorker's iconic covers"
          ],
          [
           "How computers learn to recognize objects instantly"
          ],
          [
           "How AI can enhance our memory, work and social lives"
          ],
          [
           "How your brain decides what is beautiful"
          ],
          [
           "Let's end ageism"
          ],
          [
           "You owe it to yourself to experience a total solar eclipse"
          ],
          [
           "A dance to honor Mother Earth"
          ],
          [
           "Meet the microscopic life in your home -- and on your face"
          ],
          [
           "Courage is contagious"
          ],
          [
           "How boredom can lead to your most brilliant ideas"
          ],
          [
           "How I help free innocent people from prison"
          ],
          [
           "How artists can (finally) get paid in the digital age "
          ],
          [
           "7 principles for building better cities"
          ],
          [
           "A practical way to help the homeless find work and safety"
          ],
          [
           "The secret to living longer may be your social life"
          ],
          [
           "How I found myself through music"
          ],
          [
           "The era of blind faith in big data must end"
          ],
          [
           "What moral decisions should driverless cars make?"
          ],
          [
           "A lyrical bridge between past, present and future"
          ],
          [
           "What would happen if we upload our brains to computers?"
          ],
          [
           "What the sugar coating on your cells is trying to tell you"
          ],
          [
           "\"The Sacred Art of the Ori\""
          ],
          [
           "When workers own companies, the economy is more resilient"
          ],
          [
           "Fun, fierce and fantastical African art"
          ],
          [
           "Why we need to end the era of orphanages"
          ],
          [
           "Can a robot pass a university entrance exam?"
          ],
          [
           "How the US government spies on people who protest -- including you"
          ],
          [
           "How your pictures can help reclaim lost history"
          ],
          [
           "Dare to refuse the origin myths that claim who you are"
          ],
          [
           "A smog vacuum cleaner and other magical city designs"
          ],
          [
           "How young people join violent extremist groups -- and how to stop them"
          ],
          [
           "How to build a company where the best ideas win"
          ],
          [
           "Would you live in a floating city in the sky?"
          ],
          [
           "What it feels like to see Earth from space"
          ],
          [
           "Who belongs in a city?"
          ],
          [
           "How our friendship survives our opposing politics"
          ],
          [
           "There's more to life than being happy"
          ],
          [
           "What really motivates people to be honest in business"
          ],
          [
           "A forgotten ancient grain that could help Africa prosper"
          ],
          [
           "The real reason manufacturing jobs are disappearing"
          ],
          [
           "The fascinating physics of everyday life"
          ],
          [
           "Living sculptures that stand for history's truths"
          ],
          [
           "How digital DNA could help you make better health choices"
          ],
          [
           "Why Africa must become a center of knowledge again"
          ],
          [
           "What we're missing in the debate about immigration"
          ],
          [
           "The most Martian place on Earth"
          ],
          [
           "What intelligent machines can learn from a school of fish"
          ],
          [
           "A black man goes undercover in the alt-right"
          ],
          [
           "How a video game might help us build better cities"
          ]
         ],
         "hovertemplate": "variable=%{x}<br>value=%{y}<br>title=%{customdata[0]}<extra></extra>",
         "legendgroup": "",
         "marker": {
          "color": "red"
         },
         "name": "",
         "notched": false,
         "offsetgroup": "",
         "orientation": "v",
         "showlegend": false,
         "type": "box",
         "x": [
          "views",
          "views",
          "views",
          "views",
          "views",
          "views",
          "views",
          "views",
          "views",
          "views",
          "views",
          "views",
          "views",
          "views",
          "views",
          "views",
          "views",
          "views",
          "views",
          "views",
          "views",
          "views",
          "views",
          "views",
          "views",
          "views",
          "views",
          "views",
          "views",
          "views",
          "views",
          "views",
          "views",
          "views",
          "views",
          "views",
          "views",
          "views",
          "views",
          "views",
          "views",
          "views",
          "views",
          "views",
          "views",
          "views",
          "views",
          "views",
          "views",
          "views",
          "views",
          "views",
          "views",
          "views",
          "views",
          "views",
          "views",
          "views",
          "views",
          "views",
          "views",
          "views",
          "views",
          "views",
          "views",
          "views",
          "views",
          "views",
          "views",
          "views",
          "views",
          "views",
          "views",
          "views",
          "views",
          "views",
          "views",
          "views",
          "views",
          "views",
          "views",
          "views",
          "views",
          "views",
          "views",
          "views",
          "views",
          "views",
          "views",
          "views",
          "views",
          "views",
          "views",
          "views",
          "views",
          "views",
          "views",
          "views",
          "views",
          "views",
          "views",
          "views",
          "views",
          "views",
          "views",
          "views",
          "views",
          "views",
          "views",
          "views",
          "views",
          "views",
          "views",
          "views",
          "views",
          "views",
          "views",
          "views",
          "views",
          "views",
          "views",
          "views",
          "views",
          "views",
          "views",
          "views",
          "views",
          "views",
          "views",
          "views",
          "views",
          "views",
          "views",
          "views",
          "views",
          "views",
          "views",
          "views",
          "views",
          "views",
          "views",
          "views",
          "views",
          "views",
          "views",
          "views",
          "views",
          "views",
          "views",
          "views",
          "views",
          "views",
          "views",
          "views",
          "views",
          "views",
          "views",
          "views",
          "views",
          "views",
          "views",
          "views",
          "views",
          "views",
          "views",
          "views",
          "views",
          "views",
          "views",
          "views",
          "views",
          "views",
          "views",
          "views",
          "views",
          "views",
          "views",
          "views",
          "views",
          "views",
          "views",
          "views",
          "views",
          "views",
          "views",
          "views",
          "views",
          "views",
          "views",
          "views",
          "views",
          "views",
          "views",
          "views",
          "views",
          "views",
          "views",
          "views",
          "views",
          "views",
          "views",
          "views",
          "views",
          "views",
          "views",
          "views",
          "views",
          "views",
          "views",
          "views",
          "views",
          "views",
          "views",
          "views",
          "views",
          "views",
          "views",
          "views",
          "views",
          "views",
          "views",
          "views",
          "views",
          "views",
          "views",
          "views",
          "views",
          "views",
          "views",
          "views",
          "views",
          "views",
          "views",
          "views",
          "views",
          "views",
          "views",
          "views",
          "views",
          "views",
          "views",
          "views",
          "views",
          "views",
          "views",
          "views",
          "views",
          "views",
          "views",
          "views",
          "views",
          "views",
          "views",
          "views",
          "views",
          "views",
          "views",
          "views",
          "views",
          "views",
          "views",
          "views",
          "views",
          "views",
          "views",
          "views",
          "views",
          "views",
          "views",
          "views",
          "views",
          "views",
          "views",
          "views",
          "views",
          "views",
          "views",
          "views",
          "views",
          "views",
          "views",
          "views",
          "views",
          "views",
          "views",
          "views",
          "views",
          "views",
          "views",
          "views",
          "views",
          "views",
          "views",
          "views",
          "views",
          "views",
          "views",
          "views",
          "views",
          "views",
          "views",
          "views",
          "views",
          "views",
          "views",
          "views",
          "views",
          "views",
          "views",
          "views",
          "views",
          "views",
          "views",
          "views",
          "views",
          "views",
          "views",
          "views",
          "views",
          "views",
          "views",
          "views",
          "views",
          "views",
          "views",
          "views",
          "views",
          "views",
          "views",
          "views",
          "views",
          "views",
          "views",
          "views",
          "views",
          "views",
          "views",
          "views",
          "views",
          "views",
          "views",
          "views",
          "views",
          "views",
          "views",
          "views",
          "views",
          "views",
          "views",
          "views",
          "views",
          "views",
          "views",
          "views",
          "views",
          "views",
          "views",
          "views",
          "views",
          "views",
          "views",
          "views",
          "views",
          "views",
          "views",
          "views",
          "views",
          "views",
          "views",
          "views",
          "views",
          "views",
          "views",
          "views",
          "views",
          "views",
          "views",
          "views",
          "views",
          "views",
          "views",
          "views",
          "views",
          "views",
          "views",
          "views",
          "views",
          "views",
          "views",
          "views",
          "views",
          "views",
          "views",
          "views",
          "views",
          "views",
          "views",
          "views",
          "views",
          "views",
          "views",
          "views",
          "views",
          "views",
          "views",
          "views",
          "views",
          "views",
          "views",
          "views",
          "views",
          "views",
          "views",
          "views",
          "views",
          "views",
          "views",
          "views",
          "views",
          "views",
          "views",
          "views",
          "views",
          "views",
          "views",
          "views",
          "views",
          "views",
          "views",
          "views",
          "views",
          "views",
          "views",
          "views",
          "views",
          "views",
          "views",
          "views",
          "views",
          "views",
          "views",
          "views",
          "views",
          "views",
          "views",
          "views",
          "views",
          "views",
          "views",
          "views",
          "views",
          "views",
          "views",
          "views",
          "views",
          "views",
          "views",
          "views",
          "views",
          "views",
          "views",
          "views",
          "views",
          "views",
          "views",
          "views",
          "views",
          "views",
          "views",
          "views",
          "views",
          "views",
          "views",
          "views",
          "views",
          "views",
          "views",
          "views",
          "views",
          "views",
          "views",
          "views",
          "views",
          "views",
          "views",
          "views",
          "views",
          "views",
          "views",
          "views",
          "views",
          "views",
          "views",
          "views",
          "views",
          "views",
          "views",
          "views",
          "views",
          "views",
          "views",
          "views",
          "views",
          "views",
          "views",
          "views",
          "views",
          "views",
          "views",
          "views",
          "views",
          "views",
          "views",
          "views",
          "views",
          "views",
          "views",
          "views",
          "views",
          "views",
          "views",
          "views",
          "views",
          "views",
          "views",
          "views",
          "views",
          "views",
          "views",
          "views",
          "views",
          "views",
          "views",
          "views",
          "views",
          "views",
          "views",
          "views",
          "views",
          "views",
          "views",
          "views",
          "views",
          "views",
          "views",
          "views",
          "views",
          "views",
          "views",
          "views",
          "views",
          "views",
          "views",
          "views",
          "views",
          "views",
          "views",
          "views",
          "views",
          "views",
          "views",
          "views",
          "views",
          "views",
          "views",
          "views",
          "views",
          "views",
          "views",
          "views",
          "views",
          "views",
          "views",
          "views",
          "views",
          "views",
          "views",
          "views",
          "views",
          "views",
          "views",
          "views",
          "views",
          "views",
          "views",
          "views",
          "views",
          "views",
          "views",
          "views",
          "views",
          "views",
          "views",
          "views",
          "views",
          "views",
          "views",
          "views",
          "views",
          "views",
          "views",
          "views",
          "views",
          "views",
          "views",
          "views",
          "views",
          "views",
          "views",
          "views",
          "views",
          "views",
          "views",
          "views",
          "views",
          "views",
          "views",
          "views",
          "views",
          "views",
          "views",
          "views",
          "views",
          "views",
          "views",
          "views",
          "views",
          "views",
          "views",
          "views",
          "views",
          "views",
          "views",
          "views",
          "views",
          "views",
          "views",
          "views",
          "views",
          "views",
          "views",
          "views",
          "views",
          "views",
          "views",
          "views",
          "views",
          "views",
          "views",
          "views",
          "views",
          "views",
          "views",
          "views",
          "views",
          "views",
          "views",
          "views",
          "views",
          "views",
          "views",
          "views",
          "views",
          "views",
          "views",
          "views",
          "views",
          "views",
          "views",
          "views",
          "views",
          "views",
          "views",
          "views",
          "views",
          "views",
          "views",
          "views",
          "views",
          "views",
          "views",
          "views",
          "views",
          "views",
          "views",
          "views",
          "views",
          "views",
          "views",
          "views",
          "views",
          "views",
          "views",
          "views",
          "views",
          "views",
          "views",
          "views",
          "views",
          "views",
          "views",
          "views",
          "views",
          "views",
          "views",
          "views",
          "views",
          "views",
          "views",
          "views",
          "views",
          "views",
          "views",
          "views",
          "views",
          "views",
          "views",
          "views",
          "views",
          "views",
          "views",
          "views",
          "views",
          "views",
          "views",
          "views",
          "views",
          "views",
          "views",
          "views",
          "views",
          "views",
          "views",
          "views",
          "views",
          "views",
          "views",
          "views",
          "views",
          "views",
          "views",
          "views",
          "views",
          "views",
          "views",
          "views",
          "views",
          "views",
          "views",
          "views",
          "views",
          "views",
          "views",
          "views",
          "views",
          "views",
          "views",
          "views",
          "views",
          "views",
          "views",
          "views",
          "views",
          "views",
          "views",
          "views",
          "views",
          "views",
          "views",
          "views",
          "views",
          "views",
          "views",
          "views",
          "views",
          "views",
          "views",
          "views",
          "views",
          "views",
          "views",
          "views",
          "views",
          "views",
          "views",
          "views",
          "views",
          "views",
          "views",
          "views",
          "views",
          "views",
          "views",
          "views",
          "views",
          "views",
          "views",
          "views",
          "views",
          "views",
          "views",
          "views",
          "views",
          "views",
          "views",
          "views",
          "views",
          "views",
          "views",
          "views",
          "views",
          "views",
          "views",
          "views",
          "views",
          "views",
          "views",
          "views",
          "views",
          "views",
          "views",
          "views",
          "views",
          "views",
          "views",
          "views",
          "views",
          "views",
          "views",
          "views",
          "views",
          "views",
          "views",
          "views",
          "views",
          "views",
          "views",
          "views",
          "views",
          "views",
          "views",
          "views",
          "views",
          "views",
          "views",
          "views",
          "views",
          "views",
          "views",
          "views",
          "views",
          "views",
          "views",
          "views",
          "views",
          "views",
          "views",
          "views",
          "views",
          "views",
          "views",
          "views",
          "views",
          "views",
          "views",
          "views",
          "views",
          "views",
          "views",
          "views",
          "views",
          "views",
          "views",
          "views",
          "views",
          "views",
          "views",
          "views",
          "views",
          "views",
          "views",
          "views",
          "views",
          "views",
          "views",
          "views",
          "views",
          "views",
          "views",
          "views",
          "views",
          "views",
          "views",
          "views",
          "views",
          "views",
          "views",
          "views",
          "views",
          "views",
          "views",
          "views",
          "views",
          "views",
          "views",
          "views",
          "views",
          "views",
          "views",
          "views",
          "views",
          "views",
          "views",
          "views",
          "views",
          "views",
          "views",
          "views",
          "views",
          "views",
          "views",
          "views",
          "views",
          "views",
          "views",
          "views",
          "views",
          "views",
          "views",
          "views",
          "views",
          "views",
          "views",
          "views",
          "views",
          "views",
          "views",
          "views",
          "views",
          "views",
          "views",
          "views",
          "views",
          "views",
          "views",
          "views",
          "views",
          "views",
          "views",
          "views",
          "views",
          "views",
          "views",
          "views",
          "views",
          "views",
          "views",
          "views",
          "views",
          "views",
          "views",
          "views",
          "views",
          "views",
          "views",
          "views",
          "views",
          "views",
          "views",
          "views",
          "views",
          "views",
          "views",
          "views",
          "views",
          "views",
          "views",
          "views",
          "views",
          "views",
          "views",
          "views",
          "views",
          "views",
          "views",
          "views",
          "views",
          "views",
          "views",
          "views",
          "views",
          "views",
          "views",
          "views",
          "views",
          "views",
          "views",
          "views",
          "views",
          "views",
          "views",
          "views",
          "views",
          "views",
          "views",
          "views",
          "views",
          "views",
          "views",
          "views",
          "views",
          "views",
          "views",
          "views",
          "views",
          "views",
          "views",
          "views",
          "views",
          "views",
          "views",
          "views",
          "views",
          "views",
          "views",
          "views",
          "views",
          "views",
          "views",
          "views",
          "views",
          "views",
          "views",
          "views",
          "views",
          "views",
          "views",
          "views",
          "views",
          "views",
          "views",
          "views",
          "views",
          "views",
          "views",
          "views",
          "views",
          "views",
          "views",
          "views",
          "views",
          "views",
          "views",
          "views",
          "views",
          "views",
          "views",
          "views",
          "views",
          "views",
          "views",
          "views",
          "views",
          "views",
          "views",
          "views",
          "views",
          "views",
          "views",
          "views",
          "views",
          "views",
          "views",
          "views",
          "views",
          "views",
          "views",
          "views",
          "views",
          "views",
          "views",
          "views",
          "views",
          "views",
          "views",
          "views",
          "views",
          "views",
          "views",
          "views",
          "views",
          "views",
          "views",
          "views",
          "views",
          "views",
          "views",
          "views",
          "views",
          "views",
          "views",
          "views",
          "views",
          "views",
          "views",
          "views",
          "views",
          "views",
          "views",
          "views",
          "views",
          "views",
          "views",
          "views",
          "views",
          "views",
          "views",
          "views",
          "views",
          "views",
          "views",
          "views",
          "views",
          "views",
          "views",
          "views",
          "views",
          "views",
          "views",
          "views",
          "views",
          "views",
          "views",
          "views",
          "views",
          "views",
          "views",
          "views",
          "views",
          "views",
          "views",
          "views",
          "views",
          "views",
          "views",
          "views",
          "views",
          "views",
          "views",
          "views",
          "views",
          "views",
          "views",
          "views",
          "views",
          "views",
          "views",
          "views",
          "views",
          "views",
          "views",
          "views",
          "views",
          "views",
          "views",
          "views",
          "views",
          "views",
          "views",
          "views",
          "views",
          "views",
          "views",
          "views",
          "views",
          "views",
          "views",
          "views",
          "views",
          "views",
          "views",
          "views",
          "views",
          "views",
          "views",
          "views",
          "views",
          "views",
          "views",
          "views",
          "views",
          "views",
          "views",
          "views",
          "views",
          "views",
          "views",
          "views",
          "views",
          "views",
          "views",
          "views",
          "views",
          "views",
          "views",
          "views",
          "views",
          "views",
          "views",
          "views",
          "views",
          "views",
          "views",
          "views",
          "views",
          "views",
          "views",
          "views",
          "views",
          "views",
          "views",
          "views",
          "views",
          "views",
          "views",
          "views",
          "views",
          "views",
          "views",
          "views",
          "views",
          "views",
          "views",
          "views",
          "views",
          "views",
          "views",
          "views",
          "views",
          "views",
          "views",
          "views",
          "views",
          "views",
          "views",
          "views",
          "views",
          "views",
          "views",
          "views",
          "views",
          "views",
          "views",
          "views",
          "views",
          "views",
          "views",
          "views",
          "views",
          "views",
          "views",
          "views",
          "views",
          "views",
          "views",
          "views",
          "views",
          "views",
          "views",
          "views",
          "views",
          "views",
          "views",
          "views",
          "views",
          "views",
          "views",
          "views",
          "views",
          "views",
          "views",
          "views",
          "views",
          "views",
          "views",
          "views",
          "views",
          "views",
          "views",
          "views",
          "views",
          "views",
          "views",
          "views",
          "views",
          "views",
          "views",
          "views",
          "views",
          "views",
          "views",
          "views",
          "views",
          "views",
          "views",
          "views",
          "views",
          "views",
          "views",
          "views",
          "views",
          "views",
          "views",
          "views",
          "views",
          "views",
          "views",
          "views",
          "views",
          "views",
          "views",
          "views",
          "views",
          "views",
          "views",
          "views",
          "views",
          "views",
          "views",
          "views",
          "views",
          "views",
          "views",
          "views",
          "views",
          "views",
          "views",
          "views",
          "views",
          "views",
          "views",
          "views",
          "views",
          "views",
          "views",
          "views",
          "views",
          "views",
          "views",
          "views",
          "views",
          "views",
          "views",
          "views",
          "views",
          "views",
          "views",
          "views",
          "views",
          "views",
          "views",
          "views",
          "views",
          "views",
          "views",
          "views",
          "views",
          "views",
          "views",
          "views",
          "views",
          "views",
          "views",
          "views",
          "views",
          "views",
          "views",
          "views",
          "views",
          "views",
          "views",
          "views",
          "views",
          "views",
          "views",
          "views",
          "views",
          "views",
          "views",
          "views",
          "views",
          "views",
          "views",
          "views",
          "views",
          "views",
          "views",
          "views",
          "views",
          "views",
          "views",
          "views",
          "views",
          "views",
          "views",
          "views",
          "views",
          "views",
          "views",
          "views",
          "views",
          "views",
          "views",
          "views",
          "views",
          "views",
          "views",
          "views",
          "views",
          "views",
          "views",
          "views",
          "views",
          "views",
          "views",
          "views",
          "views",
          "views",
          "views",
          "views",
          "views",
          "views",
          "views",
          "views",
          "views",
          "views",
          "views",
          "views",
          "views",
          "views",
          "views",
          "views",
          "views",
          "views",
          "views",
          "views",
          "views",
          "views",
          "views",
          "views",
          "views",
          "views",
          "views",
          "views",
          "views",
          "views",
          "views",
          "views",
          "views",
          "views",
          "views",
          "views",
          "views",
          "views",
          "views",
          "views",
          "views",
          "views",
          "views",
          "views",
          "views",
          "views",
          "views",
          "views",
          "views",
          "views",
          "views",
          "views",
          "views",
          "views",
          "views",
          "views",
          "views",
          "views",
          "views",
          "views",
          "views",
          "views",
          "views",
          "views",
          "views",
          "views",
          "views",
          "views",
          "views",
          "views",
          "views",
          "views",
          "views",
          "views",
          "views",
          "views",
          "views",
          "views",
          "views",
          "views",
          "views",
          "views",
          "views",
          "views",
          "views",
          "views",
          "views",
          "views",
          "views",
          "views",
          "views",
          "views",
          "views",
          "views",
          "views",
          "views",
          "views",
          "views",
          "views",
          "views",
          "views",
          "views",
          "views",
          "views",
          "views",
          "views",
          "views",
          "views",
          "views",
          "views",
          "views",
          "views",
          "views",
          "views",
          "views",
          "views",
          "views",
          "views",
          "views",
          "views",
          "views",
          "views",
          "views",
          "views",
          "views",
          "views",
          "views",
          "views",
          "views",
          "views",
          "views",
          "views",
          "views",
          "views",
          "views",
          "views",
          "views",
          "views",
          "views",
          "views",
          "views",
          "views",
          "views",
          "views",
          "views",
          "views",
          "views",
          "views",
          "views",
          "views",
          "views",
          "views",
          "views",
          "views",
          "views",
          "views",
          "views",
          "views",
          "views",
          "views",
          "views",
          "views",
          "views",
          "views",
          "views",
          "views",
          "views",
          "views",
          "views",
          "views",
          "views",
          "views",
          "views",
          "views",
          "views",
          "views",
          "views",
          "views",
          "views",
          "views",
          "views",
          "views",
          "views",
          "views",
          "views",
          "views",
          "views",
          "views",
          "views",
          "views",
          "views",
          "views",
          "views",
          "views",
          "views",
          "views",
          "views",
          "views",
          "views",
          "views",
          "views",
          "views",
          "views",
          "views",
          "views",
          "views",
          "views",
          "views",
          "views",
          "views",
          "views",
          "views",
          "views",
          "views",
          "views",
          "views",
          "views",
          "views",
          "views",
          "views",
          "views",
          "views",
          "views",
          "views",
          "views",
          "views",
          "views",
          "views",
          "views",
          "views",
          "views",
          "views",
          "views",
          "views",
          "views",
          "views",
          "views",
          "views",
          "views",
          "views",
          "views",
          "views",
          "views",
          "views",
          "views",
          "views",
          "views",
          "views",
          "views",
          "views",
          "views",
          "views",
          "views",
          "views",
          "views",
          "views",
          "views",
          "views",
          "views",
          "views",
          "views",
          "views",
          "views",
          "views",
          "views",
          "views",
          "views",
          "views",
          "views",
          "views",
          "views",
          "views",
          "views",
          "views",
          "views",
          "views",
          "views",
          "views",
          "views",
          "views",
          "views",
          "views",
          "views",
          "views",
          "views",
          "views",
          "views",
          "views",
          "views",
          "views",
          "views",
          "views",
          "views",
          "views",
          "views",
          "views",
          "views",
          "views",
          "views",
          "views",
          "views",
          "views",
          "views",
          "views",
          "views",
          "views",
          "views",
          "views",
          "views",
          "views",
          "views",
          "views",
          "views",
          "views",
          "views",
          "views",
          "views",
          "views",
          "views",
          "views",
          "views",
          "views",
          "views",
          "views",
          "views",
          "views",
          "views",
          "views",
          "views",
          "views",
          "views",
          "views",
          "views",
          "views",
          "views",
          "views",
          "views",
          "views",
          "views",
          "views",
          "views",
          "views",
          "views",
          "views",
          "views",
          "views",
          "views",
          "views",
          "views",
          "views",
          "views",
          "views",
          "views",
          "views",
          "views",
          "views",
          "views",
          "views",
          "views",
          "views",
          "views",
          "views",
          "views",
          "views",
          "views",
          "views",
          "views",
          "views",
          "views",
          "views",
          "views",
          "views",
          "views",
          "views",
          "views",
          "views",
          "views",
          "views",
          "views",
          "views",
          "views",
          "views",
          "views",
          "views",
          "views",
          "views",
          "views",
          "views",
          "views",
          "views",
          "views",
          "views",
          "views",
          "views",
          "views",
          "views",
          "views",
          "views",
          "views",
          "views",
          "views",
          "views",
          "views",
          "views",
          "views",
          "views",
          "views",
          "views",
          "views",
          "views",
          "views",
          "views",
          "views",
          "views",
          "views",
          "views",
          "views",
          "views",
          "views",
          "views",
          "views",
          "views",
          "views",
          "views",
          "views",
          "views",
          "views",
          "views",
          "views",
          "views",
          "views",
          "views",
          "views",
          "views",
          "views",
          "views",
          "views",
          "views",
          "views",
          "views",
          "views",
          "views",
          "views",
          "views",
          "views",
          "views",
          "views",
          "views",
          "views",
          "views",
          "views",
          "views",
          "views",
          "views",
          "views",
          "views",
          "views",
          "views",
          "views",
          "views",
          "views",
          "views",
          "views",
          "views",
          "views",
          "views",
          "views",
          "views",
          "views",
          "views",
          "views",
          "views",
          "views",
          "views",
          "views",
          "views",
          "views",
          "views",
          "views",
          "views",
          "views",
          "views",
          "views",
          "views",
          "views",
          "views",
          "views",
          "views",
          "views",
          "views",
          "views",
          "views",
          "views",
          "views",
          "views",
          "views",
          "views",
          "views",
          "views",
          "views",
          "views",
          "views",
          "views",
          "views",
          "views",
          "views",
          "views",
          "views",
          "views",
          "views",
          "views",
          "views",
          "views",
          "views",
          "views",
          "views",
          "views",
          "views",
          "views",
          "views",
          "views",
          "views",
          "views",
          "views",
          "views",
          "views",
          "views",
          "views",
          "views",
          "views",
          "views",
          "views",
          "views",
          "views",
          "views",
          "views",
          "views",
          "views",
          "views",
          "views",
          "views",
          "views",
          "views",
          "views",
          "views",
          "views",
          "views",
          "views",
          "views",
          "views",
          "views",
          "views",
          "views",
          "views",
          "views",
          "views",
          "views",
          "views",
          "views",
          "views",
          "views",
          "views",
          "views",
          "views",
          "views",
          "views",
          "views",
          "views",
          "views",
          "views",
          "views",
          "views",
          "views",
          "views",
          "views",
          "views",
          "views",
          "views",
          "views",
          "views",
          "views",
          "views",
          "views",
          "views",
          "views",
          "views",
          "views",
          "views",
          "views",
          "views",
          "views",
          "views",
          "views",
          "views",
          "views",
          "views",
          "views",
          "views",
          "views",
          "views",
          "views",
          "views",
          "views",
          "views",
          "views",
          "views",
          "views",
          "views",
          "views",
          "views",
          "views",
          "views",
          "views",
          "views",
          "views",
          "views",
          "views",
          "views",
          "views",
          "views",
          "views",
          "views",
          "views",
          "views",
          "views",
          "views",
          "views",
          "views",
          "views",
          "views",
          "views",
          "views",
          "views",
          "views",
          "views",
          "views",
          "views",
          "views",
          "views",
          "views",
          "views",
          "views",
          "views",
          "views",
          "views",
          "views",
          "views",
          "views",
          "views",
          "views",
          "views",
          "views",
          "views",
          "views",
          "views",
          "views",
          "views",
          "views",
          "views",
          "views",
          "views",
          "views",
          "views",
          "views",
          "views",
          "views",
          "views",
          "views",
          "views",
          "views",
          "views",
          "views",
          "views",
          "views",
          "views",
          "views",
          "views",
          "views",
          "views",
          "views",
          "views",
          "views",
          "views",
          "views",
          "views",
          "views",
          "views",
          "views",
          "views",
          "views",
          "views",
          "views",
          "views",
          "views",
          "views",
          "views",
          "views",
          "views",
          "views",
          "views",
          "views",
          "views",
          "views",
          "views",
          "views",
          "views",
          "views",
          "views",
          "views",
          "views",
          "views",
          "views",
          "views",
          "views",
          "views",
          "views",
          "views",
          "views",
          "views",
          "views",
          "views",
          "views",
          "views",
          "views",
          "views",
          "views",
          "views",
          "views",
          "views",
          "views",
          "views",
          "views",
          "views",
          "views",
          "views",
          "views",
          "views",
          "views",
          "views",
          "views",
          "views",
          "views",
          "views",
          "views",
          "views",
          "views",
          "views",
          "views",
          "views",
          "views",
          "views",
          "views",
          "views",
          "views",
          "views",
          "views",
          "views",
          "views",
          "views",
          "views",
          "views",
          "views",
          "views",
          "views",
          "views",
          "views",
          "views",
          "views",
          "views",
          "views",
          "views",
          "views",
          "views",
          "views",
          "views",
          "views",
          "views",
          "views",
          "views",
          "views",
          "views",
          "views",
          "views",
          "views",
          "views",
          "views",
          "views",
          "views",
          "views",
          "views",
          "views",
          "views",
          "views",
          "views",
          "views",
          "views",
          "views",
          "views",
          "views",
          "views",
          "views",
          "views",
          "views",
          "views",
          "views",
          "views",
          "views",
          "views",
          "views",
          "views",
          "views",
          "views",
          "views",
          "views",
          "views",
          "views",
          "views",
          "views",
          "views",
          "views",
          "views",
          "views",
          "views",
          "views",
          "views",
          "views",
          "views",
          "views",
          "views",
          "views",
          "views",
          "views",
          "views",
          "views",
          "views",
          "views",
          "views",
          "views",
          "views",
          "views",
          "views",
          "views",
          "views",
          "views",
          "views",
          "views",
          "views",
          "views",
          "views",
          "views",
          "views",
          "views",
          "views",
          "views",
          "views",
          "views",
          "views",
          "views",
          "views",
          "views",
          "views",
          "views",
          "views",
          "views",
          "views",
          "views",
          "views",
          "views",
          "views",
          "views",
          "views",
          "views",
          "views",
          "views",
          "views",
          "views",
          "views",
          "views",
          "views",
          "views",
          "views",
          "views",
          "views",
          "views",
          "views",
          "views",
          "views",
          "views",
          "views",
          "views",
          "views",
          "views",
          "views",
          "views",
          "views",
          "views",
          "views",
          "views",
          "views",
          "views",
          "views",
          "views",
          "views",
          "views",
          "views",
          "views",
          "views",
          "views",
          "views",
          "views",
          "views",
          "views",
          "views",
          "views",
          "views",
          "views",
          "views",
          "views",
          "views",
          "views",
          "views",
          "views",
          "views",
          "views",
          "views",
          "views",
          "views",
          "views",
          "views",
          "views",
          "views",
          "views",
          "views",
          "views",
          "views",
          "views",
          "views",
          "views",
          "views",
          "views",
          "views",
          "views",
          "views",
          "views",
          "views",
          "views",
          "views",
          "views",
          "views",
          "views",
          "views",
          "views",
          "views",
          "views",
          "views",
          "views",
          "views",
          "views",
          "views",
          "views",
          "views",
          "views",
          "views",
          "views",
          "views",
          "views",
          "views",
          "views",
          "views",
          "views",
          "views",
          "views",
          "views",
          "views",
          "views",
          "views",
          "views",
          "views",
          "views",
          "views",
          "views",
          "views",
          "views",
          "views",
          "views",
          "views",
          "views",
          "views",
          "views",
          "views",
          "views",
          "views",
          "views",
          "views",
          "views",
          "views",
          "views",
          "views",
          "views",
          "views",
          "views",
          "views",
          "views",
          "views",
          "views",
          "views",
          "views",
          "views",
          "views",
          "views",
          "views",
          "views",
          "views",
          "views",
          "views",
          "views",
          "views",
          "views",
          "views",
          "views",
          "views",
          "views",
          "views",
          "views",
          "views",
          "views",
          "views",
          "views",
          "views",
          "views",
          "views",
          "views",
          "views",
          "views",
          "views",
          "views",
          "views",
          "views",
          "views",
          "views",
          "views",
          "views",
          "views",
          "views",
          "views",
          "views",
          "views",
          "views",
          "views",
          "views",
          "views",
          "views",
          "views",
          "views",
          "views",
          "views",
          "views",
          "views",
          "views",
          "views",
          "views",
          "views",
          "views",
          "views",
          "views",
          "views",
          "views",
          "views",
          "views",
          "views",
          "views",
          "views",
          "views",
          "views",
          "views",
          "views",
          "views",
          "views",
          "views",
          "views",
          "views",
          "views",
          "views",
          "views",
          "views",
          "views",
          "views",
          "views",
          "views",
          "views",
          "views",
          "views",
          "views",
          "views",
          "views",
          "views",
          "views",
          "views",
          "views",
          "views",
          "views",
          "views",
          "views",
          "views",
          "views",
          "views"
         ],
         "x0": " ",
         "xaxis": "x",
         "y": [
          47227110,
          3200520,
          1636292,
          1697550,
          12005869,
          20685401,
          3769987,
          967741,
          2567958,
          3095993,
          1211416,
          387877,
          693341,
          4531020,
          358304,
          2702470,
          1628912,
          1415724,
          1074081,
          1106561,
          966439,
          6141440,
          518624,
          9260764,
          1131864,
          1096862,
          2885999,
          2863214,
          7023562,
          14689301,
          10000702,
          1030267,
          3277740,
          503517,
          705389,
          580891,
          809226,
          2028451,
          745231,
          718649,
          975107,
          382996,
          1053758,
          5364639,
          2434344,
          1536873,
          904215,
          10841210,
          1813665,
          2299265,
          673036,
          1391142,
          2532851,
          882034,
          2121177,
          1090180,
          684519,
          1409327,
          3051507,
          978825,
          442553,
          691814,
          2441805,
          849859,
          1335732,
          1262674,
          1663001,
          5570544,
          1520908,
          2138907,
          680134,
          690928,
          1762302,
          1392010,
          660909,
          867495,
          395769,
          761930,
          1149090,
          762264,
          1920434,
          560904,
          606311,
          2197377,
          1697185,
          1115081,
          591379,
          398713,
          2676717,
          4165572,
          1426390,
          754700,
          643078,
          513672,
          428351,
          616385,
          4374792,
          609087,
          443180,
          904520,
          717002,
          1451846,
          577502,
          1683456,
          779873,
          940913,
          1371482,
          870412,
          4772595,
          805111,
          1044185,
          1479503,
          1493606,
          404402,
          1136037,
          384641,
          308879,
          3243784,
          1801117,
          1596067,
          1427723,
          1049727,
          854967,
          1107307,
          3387765,
          1788182,
          558993,
          648234,
          524049,
          1543596,
          335086,
          1216429,
          561703,
          836269,
          531957,
          416603,
          727247,
          1575699,
          1013063,
          722877,
          3982352,
          1914263,
          2063367,
          507997,
          913666,
          1215947,
          1712075,
          736290,
          2627709,
          1720579,
          1609555,
          1212346,
          672254,
          694378,
          3930186,
          562457,
          7271730,
          1895259,
          410563,
          876658,
          898974,
          418234,
          707524,
          1527858,
          1783740,
          1181696,
          832668,
          8360707,
          1604402,
          533761,
          4364865,
          3741423,
          933311,
          928270,
          3519656,
          13926113,
          585052,
          959382,
          403089,
          611092,
          1854024,
          594523,
          670863,
          324266,
          434005,
          596961,
          700273,
          1359400,
          931001,
          1687185,
          785872,
          545664,
          487972,
          807628,
          200726,
          412154,
          1034064,
          777609,
          1004893,
          21190883,
          1357888,
          1277619,
          473165,
          763815,
          1485761,
          2283491,
          294936,
          1224127,
          311741,
          480377,
          8655723,
          1751426,
          5483940,
          497153,
          753974,
          371754,
          2477746,
          4119616,
          3074172,
          362609,
          315244,
          4060628,
          442623,
          944836,
          2398373,
          1888717,
          3830672,
          1281570,
          1109822,
          672113,
          230569,
          990220,
          735638,
          437132,
          82488,
          984223,
          785293,
          838799,
          1520108,
          1384333,
          799797,
          857181,
          749952,
          9315483,
          398643,
          680591,
          217663,
          497899,
          1123955,
          327542,
          368974,
          325148,
          920941,
          1097533,
          1013879,
          895199,
          4883112,
          2291701,
          13327101,
          4190393,
          294961,
          843859,
          656400,
          855052,
          282994,
          1358292,
          580298,
          2161846,
          375734,
          1410164,
          665947,
          1056435,
          4204848,
          1002304,
          679711,
          329964,
          1486853,
          321896,
          2350678,
          501256,
          504508,
          250722,
          1032549,
          556147,
          657688,
          445781,
          672797,
          185275,
          1137771,
          2724208,
          1074170,
          1008394,
          513090,
          5842377,
          1714168,
          417769,
          1044038,
          602024,
          724833,
          385647,
          583322,
          421212,
          1084634,
          522550,
          344618,
          794615,
          1491698,
          313572,
          379382,
          1110781,
          1935213,
          4016531,
          352285,
          1636425,
          1594241,
          411647,
          330238,
          176245,
          273396,
          204410,
          433202,
          304800,
          236002,
          375491,
          429084,
          723599,
          1893522,
          487630,
          258922,
          456095,
          558734,
          1314201,
          242975,
          900005,
          223082,
          1630525,
          487378,
          1294705,
          429967,
          909508,
          644637,
          554794,
          565020,
          457492,
          512588,
          590570,
          482996,
          3707266,
          1848521,
          651151,
          642201,
          363202,
          1285775,
          532759,
          241858,
          764982,
          417728,
          346702,
          368513,
          1022333,
          817651,
          930647,
          505714,
          774492,
          212202,
          389420,
          326663,
          1205867,
          837508,
          401015,
          1065681,
          612934,
          2634359,
          13155478,
          1765153,
          3303825,
          2954577,
          942604,
          2062308,
          1139732,
          1263442,
          907147,
          1097511,
          352252,
          582812,
          1134737,
          677150,
          398835,
          4434674,
          697257,
          1248458,
          9753630,
          3472415,
          1625469,
          1352069,
          2373021,
          2725557,
          1697809,
          396905,
          3095075,
          630431,
          943565,
          730407,
          1045631,
          1055886,
          1442990,
          308276,
          1460352,
          338831,
          744448,
          2192828,
          2049904,
          1217412,
          1139068,
          497449,
          630784,
          2771442,
          739690,
          1280829,
          554650,
          403555,
          427878,
          294396,
          748739,
          1237391,
          1607397,
          425429,
          948459,
          909309,
          744257,
          1069653,
          775430,
          922158,
          1985679,
          391427,
          904813,
          792495,
          1485196,
          881842,
          4934167,
          22270883,
          884578,
          556657,
          2613400,
          4289903,
          1026589,
          555846,
          1054415,
          589931,
          908923,
          751889,
          296294,
          493966,
          606042,
          352169,
          1587823,
          665959,
          3661633,
          843719,
          1677738,
          1076279,
          680984,
          803691,
          1580239,
          406530,
          437529,
          310446,
          2175141,
          1149257,
          784642,
          594111,
          1022457,
          501090,
          624544,
          646378,
          522578,
          462619,
          2064604,
          996694,
          811914,
          5790615,
          771144,
          1038576,
          640722,
          3573198,
          572392,
          1118954,
          776516,
          18830983,
          2088983,
          1471039,
          389813,
          679728,
          751452,
          308233,
          811565,
          571893,
          914170,
          689476,
          2856240,
          414396,
          891314,
          2129938,
          1159134,
          4233352,
          883282,
          717483,
          430276,
          2161908,
          1581054,
          436147,
          935859,
          1340175,
          732390,
          593547,
          2956967,
          1014285,
          1404586,
          13298341,
          5006241,
          739428,
          1431255,
          906262,
          2882836,
          1180127,
          1557795,
          760493,
          748862,
          2890058,
          629018,
          1072435,
          938937,
          1095398,
          1098346,
          1010292,
          771962,
          1198897,
          411183,
          470615,
          480142,
          441609,
          16097077,
          431307,
          956175,
          1683308,
          569026,
          1738069,
          807653,
          666784,
          481834,
          1437808,
          512817,
          763145,
          833308,
          517779,
          2543750,
          1112000,
          716979,
          297107,
          483137,
          639995,
          541603,
          2066733,
          553253,
          819664,
          497172,
          706235,
          415223,
          393459,
          154698,
          778978,
          1939385,
          1780196,
          3157446,
          397719,
          652315,
          564781,
          572845,
          149818,
          415566,
          1417163,
          359942,
          50443,
          1055904,
          15601385,
          437800,
          1705132,
          556163,
          676741,
          761716,
          717531,
          1224278,
          702550,
          2835976,
          1406151,
          495585,
          528451,
          496827,
          696319,
          433879,
          741625,
          7638978,
          1718568,
          656762,
          2054164,
          4329332,
          540897,
          610454,
          710710,
          4375111,
          840223,
          674090,
          3302312,
          3841631,
          567000,
          654080,
          1890066,
          2797058,
          971594,
          680486,
          575346,
          1974007,
          1022426,
          757791,
          708408,
          384626,
          4573252,
          719238,
          733293,
          3433437,
          320717,
          876649,
          622046,
          1163387,
          176995,
          857400,
          940686,
          684929,
          6475731,
          4782854,
          449161,
          1222800,
          523422,
          1922563,
          403708,
          860139,
          1838628,
          1209663,
          766536,
          524790,
          399280,
          579754,
          2611707,
          295059,
          3917039,
          538014,
          473956,
          1542898,
          642744,
          619489,
          2212944,
          876307,
          34309432,
          612260,
          649531,
          577356,
          1324929,
          851719,
          316507,
          2465179,
          3362099,
          4149065,
          2108816,
          358820,
          603657,
          1086357,
          7266316,
          1033272,
          1057238,
          541076,
          518461,
          389961,
          1514014,
          1426130,
          1451649,
          1616851,
          1059130,
          1160672,
          327406,
          1056987,
          1294171,
          1231159,
          2428958,
          777079,
          428470,
          1579033,
          587639,
          2785058,
          629753,
          772299,
          957087,
          1014201,
          954924,
          668454,
          362741,
          1678493,
          1332785,
          1212079,
          664485,
          426610,
          2934262,
          594725,
          2156157,
          694714,
          1763449,
          2278271,
          819361,
          1123482,
          2468906,
          486269,
          3087856,
          220099,
          659664,
          332099,
          1236817,
          1029186,
          431548,
          1049847,
          292395,
          734490,
          799855,
          4646183,
          816019,
          2581998,
          592082,
          544047,
          479113,
          452632,
          1373377,
          1597719,
          924806,
          800001,
          4657799,
          1424250,
          2528934,
          427590,
          343532,
          497710,
          955329,
          547649,
          1306536,
          2244295,
          568761,
          649740,
          1157394,
          3951683,
          235221,
          484254,
          875821,
          1147609,
          112321,
          865560,
          942928,
          343349,
          1059098,
          1097901,
          899942,
          334820,
          738895,
          3450119,
          1075196,
          1189754,
          317127,
          414028,
          1876053,
          278672,
          1359611,
          1342475,
          688861,
          759736,
          621361,
          622593,
          954049,
          556032,
          368770,
          829399,
          1021573,
          543551,
          454323,
          611081,
          1231423,
          943245,
          307628,
          1347633,
          586814,
          1154719,
          1499219,
          2012387,
          539950,
          960523,
          349168,
          452578,
          505716,
          4908787,
          1112351,
          2152734,
          1828181,
          1393541,
          532619,
          833901,
          588691,
          2235818,
          849372,
          851862,
          1882742,
          2108409,
          1125092,
          1854997,
          858303,
          7431179,
          702793,
          31168150,
          4241096,
          1847256,
          1231800,
          892492,
          2859644,
          667218,
          1475333,
          1301834,
          1208946,
          953587,
          900395,
          521502,
          462012,
          463366,
          757335,
          2327025,
          497626,
          1300622,
          399314,
          465856,
          316975,
          724865,
          1272294,
          2434842,
          599444,
          3813685,
          1064574,
          348647,
          1740568,
          1917442,
          694181,
          2513242,
          861056,
          710327,
          729867,
          880598,
          620073,
          439180,
          420269,
          746852,
          922923,
          2626483,
          914212,
          1866264,
          2783715,
          953671,
          4609857,
          2475423,
          596776,
          1132752,
          1119772,
          2178952,
          562653,
          10529854,
          2391977,
          710619,
          1226731,
          1370710,
          400082,
          1624741,
          1349028,
          1530711,
          2442977,
          3421371,
          856326,
          2467385,
          893343,
          2049103,
          943624,
          2030154,
          656851,
          7481004,
          1612925,
          1104345,
          1479352,
          620231,
          1531265,
          3976339,
          1394203,
          537035,
          6636475,
          1021180,
          744089,
          862689,
          1507048,
          1367702,
          4039403,
          820976,
          657251,
          1218882,
          1549458,
          1885751,
          2004519,
          747979,
          4653286,
          612377,
          846544,
          931567,
          1586547,
          1778606,
          1215549,
          6263759,
          357454,
          1474192,
          509375,
          650274,
          1113407,
          769926,
          251313,
          703439,
          1670894,
          1272198,
          1202928,
          681873,
          2442996,
          1832930,
          461382,
          1071132,
          1621707,
          869847,
          1486880,
          602203,
          938456,
          788065,
          929077,
          800056,
          1751030,
          727487,
          909194,
          1637656,
          525446,
          1190085,
          534289,
          704205,
          8838874,
          1396197,
          938976,
          690977,
          490275,
          735708,
          703559,
          1734555,
          498409,
          1660801,
          2462734,
          3688975,
          6264902,
          659276,
          1435933,
          1948949,
          812508,
          5402228,
          1134961,
          2500389,
          1421357,
          551041,
          2190746,
          1349669,
          984738,
          393695,
          842057,
          1079565,
          5447236,
          1055562,
          1399333,
          740934,
          983929,
          1451656,
          790122,
          593099,
          693722,
          946354,
          992224,
          1264969,
          872169,
          852507,
          647752,
          293626,
          1564173,
          1783040,
          834926,
          484266,
          1258574,
          1390908,
          667985,
          399332,
          2204314,
          787092,
          1776828,
          598693,
          3729820,
          8744428,
          975365,
          502832,
          2901853,
          950387,
          576592,
          16861578,
          1426518,
          3630894,
          1048905,
          471545,
          841471,
          729857,
          2487499,
          648251,
          1067460,
          507746,
          933319,
          822884,
          1529057,
          924764,
          1736183,
          1042789,
          148971,
          291251,
          720940,
          777463,
          487006,
          1033748,
          2758792,
          287416,
          138812,
          6064898,
          7900891,
          6503775,
          847439,
          670245,
          438379,
          569814,
          2042272,
          558524,
          1091352,
          1986542,
          1624184,
          1145700,
          1757711,
          485285,
          571200,
          1791790,
          121186,
          711977,
          276132,
          1482664,
          764971,
          698388,
          653303,
          268280,
          221777,
          550740,
          1109932,
          633715,
          857205,
          369363,
          191555,
          242251,
          1692225,
          393726,
          2119412,
          532416,
          802688,
          1468930,
          2370111,
          986648,
          618729,
          125050,
          161462,
          277326,
          913084,
          338346,
          1443353,
          310126,
          390395,
          66668,
          353749,
          2203020,
          957219,
          1275141,
          2314111,
          348992,
          155895,
          1005287,
          1595655,
          611461,
          1324838,
          548121,
          422460,
          276779,
          1818344,
          550715,
          16209727,
          318110,
          940841,
          115346,
          1152886,
          1196436,
          485769,
          642142,
          1063288,
          3680820,
          3119947,
          120274,
          450706,
          4384497,
          217851,
          288585,
          478456,
          347644,
          792779,
          175395,
          983994,
          713999,
          576918,
          1332298,
          1072306,
          1104692,
          418651,
          2145157,
          293342,
          224768,
          1363726,
          1174189,
          4234334,
          17629275,
          3791888,
          2702500,
          1243930,
          827607,
          2950307,
          306296,
          5917201,
          303986,
          659450,
          277544,
          877096,
          1129577,
          2598055,
          7988894,
          132199,
          142164,
          613676,
          786180,
          3192405,
          1140425,
          220716,
          873230,
          1803069,
          1618434,
          1080869,
          1168080,
          1394503,
          208115,
          181010,
          197120,
          4066376,
          1752014,
          975115,
          1565486,
          186308,
          702977,
          3055565,
          3578701,
          1141812,
          1324704,
          981351,
          1654299,
          1061687,
          777180,
          1197677,
          651717,
          3327164,
          3539952,
          419672,
          834897,
          979094,
          3270359,
          490092,
          661645,
          1144360,
          621547,
          2098639,
          2371897,
          1447603,
          166959,
          1281099,
          655406,
          737937,
          4754217,
          1605113,
          117756,
          264684,
          1995401,
          1183303,
          4389731,
          890283,
          1128212,
          271344,
          166835,
          872641,
          2138419,
          640744,
          493782,
          9315931,
          462242,
          359381,
          952095,
          587088,
          638247,
          1383079,
          832407,
          174326,
          1878242,
          3886045,
          3257749,
          940703,
          1128896,
          572281,
          737230,
          979799,
          765840,
          953825,
          1466095,
          814297,
          298776,
          3024826,
          641193,
          1721411,
          1054590,
          703243,
          721905,
          881361,
          1057964,
          722536,
          1778974,
          1009356,
          3247799,
          2364799,
          1280380,
          811778,
          841128,
          3346345,
          6141140,
          736224,
          731620,
          1217317,
          669088,
          729428,
          729993,
          990712,
          509747,
          850833,
          2623011,
          2468887,
          1184933,
          585351,
          721266,
          1619108,
          1191702,
          4039820,
          863507,
          687263,
          144044,
          1423930,
          1112964,
          2302206,
          767285,
          3600582,
          353350,
          1145261,
          3167353,
          1065331,
          1206351,
          1356163,
          2586606,
          582161,
          640604,
          805880,
          10167161,
          1024653,
          1952381,
          754755,
          856136,
          464213,
          809361,
          1052980,
          1050633,
          933277,
          1362071,
          832831,
          891589,
          516355,
          1471114,
          2246203,
          1225395,
          1337967,
          587181,
          924318,
          1239316,
          956324,
          693628,
          1245095,
          336430,
          2228138,
          1024326,
          661530,
          1030762,
          43155405,
          1038897,
          788255,
          983172,
          625454,
          943919,
          1045703,
          2352202,
          2106788,
          725173,
          1495331,
          539219,
          1272319,
          932024,
          695153,
          813261,
          692434,
          720465,
          1171568,
          1965808,
          852344,
          488481,
          472121,
          714578,
          1123786,
          2723934,
          485501,
          1022799,
          803292,
          1198585,
          1776779,
          1115222,
          1909462,
          766305,
          674288,
          4682458,
          1004016,
          1798001,
          3658158,
          4922118,
          2829484,
          1194938,
          1367089,
          926948,
          2324212,
          660569,
          1594495,
          1233545,
          1063880,
          1120276,
          389194,
          1229150,
          8105311,
          1003863,
          1778739,
          917877,
          1200277,
          1405909,
          783528,
          2033797,
          1951290,
          943968,
          724773,
          606994,
          2052286,
          879676,
          478878,
          8033595,
          815594,
          1164723,
          19787465,
          1042284,
          4146987,
          939074,
          1485801,
          497489,
          3846779,
          1058852,
          1725064,
          2679698,
          1412688,
          828203,
          525297,
          1489438,
          1666552,
          987709,
          595537,
          932561,
          984382,
          2533881,
          10524043,
          1841716,
          1229865,
          1642461,
          824898,
          699088,
          1555722,
          1403668,
          1193896,
          2895821,
          745252,
          9006600,
          4191678,
          3773245,
          3005687,
          2460131,
          5316753,
          4259204,
          1342510,
          1939539,
          1648677,
          1058569,
          1265177,
          4564213,
          9551344,
          796884,
          1005088,
          955827,
          1539504,
          2025005,
          1342712,
          274986,
          1306390,
          1683410,
          1443340,
          2449740,
          1135004,
          911601,
          1118006,
          5319077,
          836699,
          1203901,
          1624716,
          1188149,
          1341106,
          1303148,
          7373875,
          2162439,
          1091988,
          1200139,
          195899,
          814568,
          4843480,
          2735769,
          1546610,
          1593382,
          1567528,
          7469445,
          407419,
          3062980,
          2206204,
          2592925,
          1059278,
          1188177,
          1786965,
          12039978,
          6657858,
          8958850,
          1114173,
          1304597,
          1319453,
          2026001,
          1533054,
          2155416,
          1467971,
          1422767,
          2715019,
          934335,
          1625776,
          948509,
          3158067,
          4032150,
          1089949,
          1421509,
          1164684,
          948840,
          2102608,
          10281817,
          741720,
          1908577,
          1492163,
          1361404,
          630822,
          2140135,
          1330614,
          1608679,
          1361374,
          2459753,
          1168185,
          554360,
          1351691,
          2449736,
          687669,
          1772635,
          5199008,
          1570996,
          1207550,
          717979,
          4538435,
          1836106,
          1022050,
          1223155,
          3035515,
          1212774,
          8688241,
          1332731,
          686914,
          1100997,
          1068469,
          1655352,
          1105500,
          1062701,
          959460,
          790591,
          2067955,
          1423637,
          1469884,
          724180,
          4058274,
          1471722,
          1537390,
          1573440,
          6504999,
          1044961,
          5182832,
          2014461,
          14566463,
          1909640,
          2682427,
          887823,
          780039,
          682353,
          1118305,
          15283242,
          1397126,
          2436104,
          1085152,
          1151214,
          719821,
          3338820,
          1836382,
          1469734,
          2991225,
          2954036,
          3665885,
          1538661,
          6298610,
          1789403,
          1507409,
          1573620,
          1684720,
          925046,
          740772,
          734171,
          1000495,
          1041732,
          986726,
          1463086,
          1305155,
          2663827,
          1041748,
          1204089,
          2158038,
          1644420,
          999700,
          816687,
          618471,
          1245695,
          1108528,
          2290464,
          2225283,
          1628594,
          926295,
          1535238,
          4376218,
          2060055,
          970048,
          1017789,
          848735,
          1154880,
          599368,
          692579,
          1203523,
          992489,
          2030203,
          923663,
          2454860,
          5893321,
          921788,
          1511694,
          1822907,
          1225960,
          871452,
          1585575,
          900115,
          666996,
          2255033,
          1430350,
          826744,
          1429564,
          7265611,
          954702,
          3213217,
          4548115,
          1514912,
          8879917,
          1233104,
          904210,
          4102503,
          1187105,
          1284510,
          1531497,
          1004872,
          2133100,
          1149641,
          2931366,
          1852444,
          1095582,
          3170206,
          2296874,
          1072727,
          877932,
          917406,
          965291,
          1458485,
          1034678,
          836011,
          691538,
          1977165,
          1063414,
          871453,
          1227480,
          970911,
          853612,
          3840850,
          1185518,
          3685420,
          1981978,
          2628178,
          1022945,
          849933,
          756974,
          1304017,
          1210381,
          931677,
          1395038,
          822505,
          795097,
          1797519,
          1256969,
          1424893,
          1474261,
          2379244,
          991359,
          734861,
          4040280,
          4790701,
          760225,
          1191342,
          2293465,
          2124521,
          1028312,
          1624605,
          885494,
          7520736,
          3133189,
          741146,
          1736329,
          3130752,
          2012614,
          1095806,
          1061964,
          2004811,
          7015800,
          742510,
          1048304,
          2306549,
          1901605,
          1248568,
          1276015,
          1112914,
          2293317,
          1038727,
          2572038,
          1033475,
          3643938,
          2305547,
          2824676,
          1051614,
          1150409,
          1506064,
          2200326,
          1785193,
          991694,
          2558702,
          3061003,
          1509188,
          1378298,
          2500023,
          1189824,
          1827375,
          6803938,
          1182977,
          4801456,
          1194762,
          936480,
          2375405,
          1101811,
          1454663,
          959404,
          1934877,
          1971157,
          3399887,
          1117996,
          1229640,
          698636,
          2494615,
          2120292,
          1032390,
          1013296,
          1107747,
          1569284,
          1631913,
          4933802,
          3916554,
          1545239,
          1439616,
          1463585,
          1091065,
          1172298,
          21594632,
          1017778,
          967667,
          4548276,
          1073549,
          2235902,
          2053453,
          1877673,
          1445859,
          1429067,
          1641675,
          2162764,
          1332920,
          833015,
          946949,
          4058219,
          4962607,
          1576773,
          1180236,
          837568,
          1669149,
          1345444,
          1623637,
          812963,
          1798578,
          3804535,
          1054600,
          668555,
          1260362,
          1370965,
          1000194,
          1219295,
          554809,
          884313,
          1198332,
          1492005,
          2890269,
          3247638,
          1111146,
          877106,
          4619628,
          862238,
          3673455,
          1464877,
          1399303,
          1223720,
          1623955,
          2526255,
          984973,
          773801,
          1305783,
          1292110,
          1940683,
          1600522,
          742106,
          3404977,
          772907,
          1082869,
          903111,
          1349623,
          3590381,
          1213718,
          1281466,
          1942778,
          3705589,
          1015320,
          1213251,
          1119970,
          1112534,
          1209472,
          1239635,
          1218131,
          1215053,
          1435886,
          975953,
          1222713,
          1439341,
          970703,
          1358570,
          735649,
          952385,
          2230481,
          1652993,
          1660815,
          956731,
          1132771,
          1593079,
          1685861,
          1019109,
          2120569,
          1701743,
          1003222,
          1682547,
          2226171,
          1454878,
          3143653,
          2649262,
          1104834,
          1051196,
          1568869,
          1469248,
          817014,
          755399,
          695961,
          2065196,
          1824724,
          1307615,
          1569991,
          2183690,
          6569493,
          1278162,
          966645,
          1545629,
          1948196,
          1266639,
          2084303,
          1301734,
          712971,
          877692,
          1601624,
          972816,
          906025,
          687808,
          1818659,
          1465712,
          976621,
          2647157,
          1304427,
          753002,
          1081502,
          1356917,
          1120694,
          859214,
          2446992,
          2482234,
          1159937,
          1068305,
          2610440,
          1559585,
          4340117,
          4984884,
          3104326,
          818556,
          1096201,
          1237938,
          1566854,
          1149837,
          658478,
          999472,
          1981129,
          741287,
          1243218,
          1369263,
          1571516,
          1135382,
          955623,
          2780484,
          1378025,
          1550060,
          2009552,
          1161560,
          1290746,
          1738331,
          2498698,
          11443190,
          2005189,
          1287111,
          1839891,
          1024661,
          1919991,
          1231198,
          1157388,
          1543588,
          1342431,
          2239259,
          4728000,
          1610293,
          1703367,
          1083424,
          1003314,
          1189513,
          4160772,
          1762082,
          1131041,
          1674355,
          1143028,
          1492275,
          1908266,
          931845,
          2832581,
          4614317,
          2782822,
          1528815,
          1512972,
          1386424,
          1257079,
          1225763,
          1160841,
          2206061,
          3351267,
          4597270,
          1310078,
          1304737,
          1373382,
          1028548,
          8218896,
          1773697,
          1049652,
          1863929,
          1365646,
          1339843,
          3811316,
          1617977,
          2006050,
          1252289,
          1617292,
          3460338,
          1531675,
          2471075,
          1175629,
          1407692,
          2362727,
          1476377,
          1165313,
          2155099,
          1453205,
          1711049,
          1532875,
          2042978,
          1566602,
          1388335,
          1531606,
          1139487,
          1905680,
          1241223,
          7841509,
          1458290,
          1591696,
          1588477,
          1780746,
          1126129,
          1441565,
          2603397,
          2312512,
          3361105,
          1398751,
          2556755,
          1947342,
          1999097,
          829988,
          1203056,
          1591495,
          1710873,
          1488893,
          1266485,
          1671043,
          1503884,
          990084,
          983682,
          1852632,
          1272185,
          1272389,
          2061368,
          1705702,
          1437261,
          2527133,
          6214152,
          947562,
          1215662,
          1612561,
          1447861,
          3098476,
          4811180,
          1371548,
          1108371,
          1126459,
          1004539,
          1506693,
          2141928,
          1155507,
          2094497,
          4456309,
          1158020,
          1294952,
          1607427,
          4615013,
          1034518,
          1141254,
          1349253,
          1414721,
          1220746,
          996127,
          2507956,
          1936760,
          1613847,
          1418492,
          684300,
          1625784,
          1242903,
          958480,
          9163813,
          780116,
          1502400,
          1296514,
          1879260,
          1365169,
          1609136,
          1396735,
          1452861,
          762041,
          1799799,
          1202223,
          1054718,
          1976994,
          3436514,
          1446267,
          3185521,
          1626686,
          729236,
          1392660,
          1201029,
          857839,
          1049263,
          1582286,
          1690995,
          2852664,
          1488694,
          2004123,
          1453242,
          2269844,
          1117165,
          1254964,
          1446673,
          16601927,
          2291444,
          1468497,
          1526242,
          1013976,
          20475972,
          2435682,
          982439,
          1286663,
          2079266,
          1468644,
          1332162,
          764500,
          1716203,
          1477852,
          2269380,
          1853424,
          1059854,
          1805637,
          1219306,
          1617536,
          1198546,
          8107178,
          1169214,
          1074684,
          1440785,
          1406128,
          761052,
          1184159,
          1008812,
          2152900,
          8444981,
          3148366,
          2233265,
          2560359,
          1624248,
          2520181,
          1677370,
          1072558,
          1546530,
          901880,
          1260939,
          1587090,
          823110,
          1587546,
          3325490,
          1589527,
          1487112,
          854226,
          1954438,
          1399811,
          2019969,
          14745406,
          1224191,
          1132964,
          1575381,
          1723874,
          1546664,
          2272081,
          992773,
          2224913,
          1961502,
          1096198,
          1468353,
          1743987,
          6484404,
          961158,
          902761,
          2617414,
          2841795,
          1015683,
          2399273,
          1360404,
          1419325,
          1417316,
          2300106,
          1060918,
          1031398,
          2952041,
          1531062,
          1973225,
          1428083,
          1426970,
          1437353,
          1222519,
          961423,
          1184083,
          1503016,
          1431262,
          914011,
          1836233,
          876021,
          1132257,
          1498103,
          1800490,
          987388,
          766188,
          6406853,
          1183075,
          768077,
          1811102,
          1258881,
          2190919,
          2275945,
          1078782,
          993232,
          3016666,
          929167,
          1049990,
          1025698,
          1588740,
          1624428,
          923916,
          2028383,
          1116194,
          1225718,
          1173235,
          878864,
          1191591,
          811599,
          1434311,
          813426,
          809398,
          1246214,
          4235594,
          1396369,
          803813,
          1413042,
          3210972,
          971212,
          1538107,
          888896,
          2432449,
          1370547,
          1162751,
          1827512,
          1475291,
          990075,
          1320671,
          1730653,
          1258539,
          821291,
          997650,
          1260112,
          2396450,
          1929261,
          1677142,
          1507057,
          778960,
          1311426,
          1018830,
          1465749,
          1027539,
          961913,
          443773,
          1548845,
          1279825,
          645572,
          2110218,
          1257468,
          811955,
          1026017,
          2618738,
          942925,
          5711833,
          2201195,
          1404984,
          1195181,
          1226441,
          1799860,
          2603203,
          1185114,
          1162011,
          1690453,
          793098,
          1713788,
          1029397,
          1052018,
          1053126,
          1077686,
          778810,
          1211098,
          2592561,
          1593458,
          1400803,
          783649,
          985203,
          2561564,
          792297,
          2173228,
          1024139,
          1477238,
          827933,
          1811178,
          571009,
          1307557,
          1134472,
          1194781,
          1805897,
          859817,
          2859109,
          851675,
          1134525,
          1236485,
          820295,
          1594248,
          1307805,
          1181475,
          951340,
          1385538,
          738590,
          877915,
          1177013,
          1515162,
          1047389,
          990521,
          857330,
          1985742,
          1122671,
          1158432,
          1910593,
          799891,
          2595890,
          3225186,
          1070583,
          782276,
          1384978,
          825412,
          1381604,
          1172873,
          962489,
          3464767,
          1290086,
          1026629,
          888652,
          1389133,
          1173589,
          1005451,
          4864165,
          1232506,
          1119309,
          975597,
          1219102,
          1430257,
          3535736,
          899560,
          1345520,
          1614524,
          1802516,
          1284067,
          992523,
          1059199,
          1147037,
          1406574,
          1422701,
          827288,
          1243853,
          1082248,
          1035995,
          1304221,
          1195885,
          958917,
          799873,
          1369939,
          2031509,
          2359347,
          1374091,
          2759051,
          3950921,
          893022,
          1354647,
          896491,
          793925,
          1138566,
          1240167,
          942996,
          944259,
          1362265,
          1514291,
          690546,
          1107711,
          952784,
          891398,
          760537,
          1004810,
          1395806,
          890330,
          804359,
          1257858,
          4503368,
          1465808,
          1086882,
          869310,
          1173364,
          933978,
          976473,
          1750573,
          448733,
          640734,
          1707855,
          882840,
          1257054,
          869734,
          908666,
          1405468,
          1057942,
          1107309,
          1247655,
          1128480,
          767660,
          822049,
          2032751,
          890478,
          1502615,
          402343,
          1005076,
          1077662,
          1593651,
          1095143,
          967472,
          801279,
          1318454,
          1098436,
          970115,
          1156126,
          1114319,
          2198889,
          1036236,
          872015,
          2679881,
          1426132,
          2178534,
          5666038,
          918385,
          1132913,
          1460852,
          973376,
          1079349,
          1158707,
          626886,
          975412,
          4642478,
          1085138,
          1515749,
          1022042,
          1219828,
          907047,
          1419314,
          696847,
          925733,
          841955,
          1493866,
          1052652,
          1079698,
          957803,
          874817,
          946815,
          1323235,
          1264166,
          1162505,
          428279,
          1781721,
          1890978,
          3183828,
          1297943,
          977590,
          1015849,
          815611,
          1342356,
          1259603,
          1088768,
          1069469,
          1081270,
          1354522,
          1034009,
          1244502,
          383080,
          1031716,
          1858990,
          907844,
          2664733,
          1103163,
          868290,
          1026708,
          1363680,
          1005506,
          1346060,
          1128877,
          956539,
          1475823,
          890748,
          526794,
          839040,
          1164777,
          1139827,
          1436714,
          967704,
          1319327,
          182975,
          888252,
          721731,
          1051530,
          552732,
          734095,
          834190,
          748485,
          1159426,
          691593,
          761258,
          659384,
          643011,
          840855,
          727807,
          636463,
          744793,
          522917,
          656113,
          773317,
          766721,
          539207,
          857850,
          591131,
          665328,
          1070238,
          248411,
          646174,
          707788,
          566101,
          1009069,
          621431,
          527314,
          613915,
          656791,
          542088,
          534824,
          418368,
          450430,
          417470,
          375647,
          419309,
          391721
         ],
         "y0": " ",
         "yaxis": "y"
        }
       ],
       "layout": {
        "boxmode": "group",
        "legend": {
         "tracegroupgap": 0
        },
        "margin": {
         "t": 60
        },
        "template": {
         "data": {
          "bar": [
           {
            "error_x": {
             "color": "#f2f5fa"
            },
            "error_y": {
             "color": "#f2f5fa"
            },
            "marker": {
             "line": {
              "color": "rgb(17,17,17)",
              "width": 0.5
             },
             "pattern": {
              "fillmode": "overlay",
              "size": 10,
              "solidity": 0.2
             }
            },
            "type": "bar"
           }
          ],
          "barpolar": [
           {
            "marker": {
             "line": {
              "color": "rgb(17,17,17)",
              "width": 0.5
             },
             "pattern": {
              "fillmode": "overlay",
              "size": 10,
              "solidity": 0.2
             }
            },
            "type": "barpolar"
           }
          ],
          "carpet": [
           {
            "aaxis": {
             "endlinecolor": "#A2B1C6",
             "gridcolor": "#506784",
             "linecolor": "#506784",
             "minorgridcolor": "#506784",
             "startlinecolor": "#A2B1C6"
            },
            "baxis": {
             "endlinecolor": "#A2B1C6",
             "gridcolor": "#506784",
             "linecolor": "#506784",
             "minorgridcolor": "#506784",
             "startlinecolor": "#A2B1C6"
            },
            "type": "carpet"
           }
          ],
          "choropleth": [
           {
            "colorbar": {
             "outlinewidth": 0,
             "ticks": ""
            },
            "type": "choropleth"
           }
          ],
          "contour": [
           {
            "colorbar": {
             "outlinewidth": 0,
             "ticks": ""
            },
            "colorscale": [
             [
              0,
              "#0d0887"
             ],
             [
              0.1111111111111111,
              "#46039f"
             ],
             [
              0.2222222222222222,
              "#7201a8"
             ],
             [
              0.3333333333333333,
              "#9c179e"
             ],
             [
              0.4444444444444444,
              "#bd3786"
             ],
             [
              0.5555555555555556,
              "#d8576b"
             ],
             [
              0.6666666666666666,
              "#ed7953"
             ],
             [
              0.7777777777777778,
              "#fb9f3a"
             ],
             [
              0.8888888888888888,
              "#fdca26"
             ],
             [
              1,
              "#f0f921"
             ]
            ],
            "type": "contour"
           }
          ],
          "contourcarpet": [
           {
            "colorbar": {
             "outlinewidth": 0,
             "ticks": ""
            },
            "type": "contourcarpet"
           }
          ],
          "heatmap": [
           {
            "colorbar": {
             "outlinewidth": 0,
             "ticks": ""
            },
            "colorscale": [
             [
              0,
              "#0d0887"
             ],
             [
              0.1111111111111111,
              "#46039f"
             ],
             [
              0.2222222222222222,
              "#7201a8"
             ],
             [
              0.3333333333333333,
              "#9c179e"
             ],
             [
              0.4444444444444444,
              "#bd3786"
             ],
             [
              0.5555555555555556,
              "#d8576b"
             ],
             [
              0.6666666666666666,
              "#ed7953"
             ],
             [
              0.7777777777777778,
              "#fb9f3a"
             ],
             [
              0.8888888888888888,
              "#fdca26"
             ],
             [
              1,
              "#f0f921"
             ]
            ],
            "type": "heatmap"
           }
          ],
          "heatmapgl": [
           {
            "colorbar": {
             "outlinewidth": 0,
             "ticks": ""
            },
            "colorscale": [
             [
              0,
              "#0d0887"
             ],
             [
              0.1111111111111111,
              "#46039f"
             ],
             [
              0.2222222222222222,
              "#7201a8"
             ],
             [
              0.3333333333333333,
              "#9c179e"
             ],
             [
              0.4444444444444444,
              "#bd3786"
             ],
             [
              0.5555555555555556,
              "#d8576b"
             ],
             [
              0.6666666666666666,
              "#ed7953"
             ],
             [
              0.7777777777777778,
              "#fb9f3a"
             ],
             [
              0.8888888888888888,
              "#fdca26"
             ],
             [
              1,
              "#f0f921"
             ]
            ],
            "type": "heatmapgl"
           }
          ],
          "histogram": [
           {
            "marker": {
             "pattern": {
              "fillmode": "overlay",
              "size": 10,
              "solidity": 0.2
             }
            },
            "type": "histogram"
           }
          ],
          "histogram2d": [
           {
            "colorbar": {
             "outlinewidth": 0,
             "ticks": ""
            },
            "colorscale": [
             [
              0,
              "#0d0887"
             ],
             [
              0.1111111111111111,
              "#46039f"
             ],
             [
              0.2222222222222222,
              "#7201a8"
             ],
             [
              0.3333333333333333,
              "#9c179e"
             ],
             [
              0.4444444444444444,
              "#bd3786"
             ],
             [
              0.5555555555555556,
              "#d8576b"
             ],
             [
              0.6666666666666666,
              "#ed7953"
             ],
             [
              0.7777777777777778,
              "#fb9f3a"
             ],
             [
              0.8888888888888888,
              "#fdca26"
             ],
             [
              1,
              "#f0f921"
             ]
            ],
            "type": "histogram2d"
           }
          ],
          "histogram2dcontour": [
           {
            "colorbar": {
             "outlinewidth": 0,
             "ticks": ""
            },
            "colorscale": [
             [
              0,
              "#0d0887"
             ],
             [
              0.1111111111111111,
              "#46039f"
             ],
             [
              0.2222222222222222,
              "#7201a8"
             ],
             [
              0.3333333333333333,
              "#9c179e"
             ],
             [
              0.4444444444444444,
              "#bd3786"
             ],
             [
              0.5555555555555556,
              "#d8576b"
             ],
             [
              0.6666666666666666,
              "#ed7953"
             ],
             [
              0.7777777777777778,
              "#fb9f3a"
             ],
             [
              0.8888888888888888,
              "#fdca26"
             ],
             [
              1,
              "#f0f921"
             ]
            ],
            "type": "histogram2dcontour"
           }
          ],
          "mesh3d": [
           {
            "colorbar": {
             "outlinewidth": 0,
             "ticks": ""
            },
            "type": "mesh3d"
           }
          ],
          "parcoords": [
           {
            "line": {
             "colorbar": {
              "outlinewidth": 0,
              "ticks": ""
             }
            },
            "type": "parcoords"
           }
          ],
          "pie": [
           {
            "automargin": true,
            "type": "pie"
           }
          ],
          "scatter": [
           {
            "marker": {
             "line": {
              "color": "#283442"
             }
            },
            "type": "scatter"
           }
          ],
          "scatter3d": [
           {
            "line": {
             "colorbar": {
              "outlinewidth": 0,
              "ticks": ""
             }
            },
            "marker": {
             "colorbar": {
              "outlinewidth": 0,
              "ticks": ""
             }
            },
            "type": "scatter3d"
           }
          ],
          "scattercarpet": [
           {
            "marker": {
             "colorbar": {
              "outlinewidth": 0,
              "ticks": ""
             }
            },
            "type": "scattercarpet"
           }
          ],
          "scattergeo": [
           {
            "marker": {
             "colorbar": {
              "outlinewidth": 0,
              "ticks": ""
             }
            },
            "type": "scattergeo"
           }
          ],
          "scattergl": [
           {
            "marker": {
             "line": {
              "color": "#283442"
             }
            },
            "type": "scattergl"
           }
          ],
          "scattermapbox": [
           {
            "marker": {
             "colorbar": {
              "outlinewidth": 0,
              "ticks": ""
             }
            },
            "type": "scattermapbox"
           }
          ],
          "scatterpolar": [
           {
            "marker": {
             "colorbar": {
              "outlinewidth": 0,
              "ticks": ""
             }
            },
            "type": "scatterpolar"
           }
          ],
          "scatterpolargl": [
           {
            "marker": {
             "colorbar": {
              "outlinewidth": 0,
              "ticks": ""
             }
            },
            "type": "scatterpolargl"
           }
          ],
          "scatterternary": [
           {
            "marker": {
             "colorbar": {
              "outlinewidth": 0,
              "ticks": ""
             }
            },
            "type": "scatterternary"
           }
          ],
          "surface": [
           {
            "colorbar": {
             "outlinewidth": 0,
             "ticks": ""
            },
            "colorscale": [
             [
              0,
              "#0d0887"
             ],
             [
              0.1111111111111111,
              "#46039f"
             ],
             [
              0.2222222222222222,
              "#7201a8"
             ],
             [
              0.3333333333333333,
              "#9c179e"
             ],
             [
              0.4444444444444444,
              "#bd3786"
             ],
             [
              0.5555555555555556,
              "#d8576b"
             ],
             [
              0.6666666666666666,
              "#ed7953"
             ],
             [
              0.7777777777777778,
              "#fb9f3a"
             ],
             [
              0.8888888888888888,
              "#fdca26"
             ],
             [
              1,
              "#f0f921"
             ]
            ],
            "type": "surface"
           }
          ],
          "table": [
           {
            "cells": {
             "fill": {
              "color": "#506784"
             },
             "line": {
              "color": "rgb(17,17,17)"
             }
            },
            "header": {
             "fill": {
              "color": "#2a3f5f"
             },
             "line": {
              "color": "rgb(17,17,17)"
             }
            },
            "type": "table"
           }
          ]
         },
         "layout": {
          "annotationdefaults": {
           "arrowcolor": "#f2f5fa",
           "arrowhead": 0,
           "arrowwidth": 1
          },
          "autotypenumbers": "strict",
          "coloraxis": {
           "colorbar": {
            "outlinewidth": 0,
            "ticks": ""
           }
          },
          "colorscale": {
           "diverging": [
            [
             0,
             "#8e0152"
            ],
            [
             0.1,
             "#c51b7d"
            ],
            [
             0.2,
             "#de77ae"
            ],
            [
             0.3,
             "#f1b6da"
            ],
            [
             0.4,
             "#fde0ef"
            ],
            [
             0.5,
             "#f7f7f7"
            ],
            [
             0.6,
             "#e6f5d0"
            ],
            [
             0.7,
             "#b8e186"
            ],
            [
             0.8,
             "#7fbc41"
            ],
            [
             0.9,
             "#4d9221"
            ],
            [
             1,
             "#276419"
            ]
           ],
           "sequential": [
            [
             0,
             "#0d0887"
            ],
            [
             0.1111111111111111,
             "#46039f"
            ],
            [
             0.2222222222222222,
             "#7201a8"
            ],
            [
             0.3333333333333333,
             "#9c179e"
            ],
            [
             0.4444444444444444,
             "#bd3786"
            ],
            [
             0.5555555555555556,
             "#d8576b"
            ],
            [
             0.6666666666666666,
             "#ed7953"
            ],
            [
             0.7777777777777778,
             "#fb9f3a"
            ],
            [
             0.8888888888888888,
             "#fdca26"
            ],
            [
             1,
             "#f0f921"
            ]
           ],
           "sequentialminus": [
            [
             0,
             "#0d0887"
            ],
            [
             0.1111111111111111,
             "#46039f"
            ],
            [
             0.2222222222222222,
             "#7201a8"
            ],
            [
             0.3333333333333333,
             "#9c179e"
            ],
            [
             0.4444444444444444,
             "#bd3786"
            ],
            [
             0.5555555555555556,
             "#d8576b"
            ],
            [
             0.6666666666666666,
             "#ed7953"
            ],
            [
             0.7777777777777778,
             "#fb9f3a"
            ],
            [
             0.8888888888888888,
             "#fdca26"
            ],
            [
             1,
             "#f0f921"
            ]
           ]
          },
          "colorway": [
           "#636efa",
           "#EF553B",
           "#00cc96",
           "#ab63fa",
           "#FFA15A",
           "#19d3f3",
           "#FF6692",
           "#B6E880",
           "#FF97FF",
           "#FECB52"
          ],
          "font": {
           "color": "#f2f5fa"
          },
          "geo": {
           "bgcolor": "rgb(17,17,17)",
           "lakecolor": "rgb(17,17,17)",
           "landcolor": "rgb(17,17,17)",
           "showlakes": true,
           "showland": true,
           "subunitcolor": "#506784"
          },
          "hoverlabel": {
           "align": "left"
          },
          "hovermode": "closest",
          "mapbox": {
           "style": "dark"
          },
          "paper_bgcolor": "rgb(17,17,17)",
          "plot_bgcolor": "rgb(17,17,17)",
          "polar": {
           "angularaxis": {
            "gridcolor": "#506784",
            "linecolor": "#506784",
            "ticks": ""
           },
           "bgcolor": "rgb(17,17,17)",
           "radialaxis": {
            "gridcolor": "#506784",
            "linecolor": "#506784",
            "ticks": ""
           }
          },
          "scene": {
           "xaxis": {
            "backgroundcolor": "rgb(17,17,17)",
            "gridcolor": "#506784",
            "gridwidth": 2,
            "linecolor": "#506784",
            "showbackground": true,
            "ticks": "",
            "zerolinecolor": "#C8D4E3"
           },
           "yaxis": {
            "backgroundcolor": "rgb(17,17,17)",
            "gridcolor": "#506784",
            "gridwidth": 2,
            "linecolor": "#506784",
            "showbackground": true,
            "ticks": "",
            "zerolinecolor": "#C8D4E3"
           },
           "zaxis": {
            "backgroundcolor": "rgb(17,17,17)",
            "gridcolor": "#506784",
            "gridwidth": 2,
            "linecolor": "#506784",
            "showbackground": true,
            "ticks": "",
            "zerolinecolor": "#C8D4E3"
           }
          },
          "shapedefaults": {
           "line": {
            "color": "#f2f5fa"
           }
          },
          "sliderdefaults": {
           "bgcolor": "#C8D4E3",
           "bordercolor": "rgb(17,17,17)",
           "borderwidth": 1,
           "tickwidth": 0
          },
          "ternary": {
           "aaxis": {
            "gridcolor": "#506784",
            "linecolor": "#506784",
            "ticks": ""
           },
           "baxis": {
            "gridcolor": "#506784",
            "linecolor": "#506784",
            "ticks": ""
           },
           "bgcolor": "rgb(17,17,17)",
           "caxis": {
            "gridcolor": "#506784",
            "linecolor": "#506784",
            "ticks": ""
           }
          },
          "title": {
           "x": 0.05
          },
          "updatemenudefaults": {
           "bgcolor": "#506784",
           "borderwidth": 0
          },
          "xaxis": {
           "automargin": true,
           "gridcolor": "#283442",
           "linecolor": "#506784",
           "ticks": "",
           "title": {
            "standoff": 15
           },
           "zerolinecolor": "#283442",
           "zerolinewidth": 2
          },
          "yaxis": {
           "automargin": true,
           "gridcolor": "#283442",
           "linecolor": "#506784",
           "ticks": "",
           "title": {
            "standoff": 15
           },
           "zerolinecolor": "#283442",
           "zerolinewidth": 2
          }
         }
        },
        "xaxis": {
         "anchor": "y",
         "domain": [
          0,
          1
         ],
         "title": {
          "text": "Views"
         }
        },
        "yaxis": {
         "anchor": "x",
         "domain": [
          0,
          1
         ],
         "showgrid": false,
         "title": {
          "text": "Value"
         },
         "visible": true
        }
       }
      }
     },
     "metadata": {},
     "output_type": "display_data"
    }
   ],
   "source": [
    "fig = px.box(ted_talk[['views','title']],hover_data = ['title'], color_discrete_sequence = ['red'])\n",
    "fig.update_layout(\n",
    "    template= 'plotly_dark')\n",
    "fig.update_yaxes(showgrid=False,visible=True, title=\"Value\")\n",
    "fig.update_xaxes(title = 'Views')\n",
    "fig.show()"
   ]
  },
  {
   "cell_type": "code",
   "execution_count": 57,
   "metadata": {},
   "outputs": [
    {
     "data": {
      "text/html": [
       "<div>\n",
       "<style scoped>\n",
       "    .dataframe tbody tr th:only-of-type {\n",
       "        vertical-align: middle;\n",
       "    }\n",
       "\n",
       "    .dataframe tbody tr th {\n",
       "        vertical-align: top;\n",
       "    }\n",
       "\n",
       "    .dataframe thead th {\n",
       "        text-align: right;\n",
       "    }\n",
       "</style>\n",
       "<table border=\"1\" class=\"dataframe\">\n",
       "  <thead>\n",
       "    <tr style=\"text-align: right;\">\n",
       "      <th></th>\n",
       "      <th>film_date</th>\n",
       "      <th>count</th>\n",
       "      <th>mean</th>\n",
       "      <th>median</th>\n",
       "    </tr>\n",
       "  </thead>\n",
       "  <tbody>\n",
       "    <tr>\n",
       "      <th>0</th>\n",
       "      <td>2002</td>\n",
       "      <td>27</td>\n",
       "      <td>9.618216e+05</td>\n",
       "      <td>744257.0</td>\n",
       "    </tr>\n",
       "    <tr>\n",
       "      <th>1</th>\n",
       "      <td>2003</td>\n",
       "      <td>33</td>\n",
       "      <td>1.098728e+06</td>\n",
       "      <td>774492.0</td>\n",
       "    </tr>\n",
       "    <tr>\n",
       "      <th>2</th>\n",
       "      <td>2004</td>\n",
       "      <td>33</td>\n",
       "      <td>2.552288e+06</td>\n",
       "      <td>1205867.0</td>\n",
       "    </tr>\n",
       "    <tr>\n",
       "      <th>3</th>\n",
       "      <td>2005</td>\n",
       "      <td>66</td>\n",
       "      <td>1.795745e+06</td>\n",
       "      <td>1000579.0</td>\n",
       "    </tr>\n",
       "    <tr>\n",
       "      <th>4</th>\n",
       "      <td>2006</td>\n",
       "      <td>50</td>\n",
       "      <td>3.053768e+06</td>\n",
       "      <td>1026187.5</td>\n",
       "    </tr>\n",
       "    <tr>\n",
       "      <th>5</th>\n",
       "      <td>2007</td>\n",
       "      <td>114</td>\n",
       "      <td>1.196743e+06</td>\n",
       "      <td>745651.0</td>\n",
       "    </tr>\n",
       "    <tr>\n",
       "      <th>6</th>\n",
       "      <td>2008</td>\n",
       "      <td>84</td>\n",
       "      <td>1.777958e+06</td>\n",
       "      <td>1009386.0</td>\n",
       "    </tr>\n",
       "    <tr>\n",
       "      <th>7</th>\n",
       "      <td>2009</td>\n",
       "      <td>232</td>\n",
       "      <td>1.679581e+06</td>\n",
       "      <td>805672.0</td>\n",
       "    </tr>\n",
       "    <tr>\n",
       "      <th>8</th>\n",
       "      <td>2010</td>\n",
       "      <td>266</td>\n",
       "      <td>1.447511e+06</td>\n",
       "      <td>900168.5</td>\n",
       "    </tr>\n",
       "    <tr>\n",
       "      <th>9</th>\n",
       "      <td>2011</td>\n",
       "      <td>270</td>\n",
       "      <td>1.491156e+06</td>\n",
       "      <td>938716.0</td>\n",
       "    </tr>\n",
       "    <tr>\n",
       "      <th>10</th>\n",
       "      <td>2012</td>\n",
       "      <td>267</td>\n",
       "      <td>1.832994e+06</td>\n",
       "      <td>1080869.0</td>\n",
       "    </tr>\n",
       "    <tr>\n",
       "      <th>11</th>\n",
       "      <td>2013</td>\n",
       "      <td>270</td>\n",
       "      <td>2.178357e+06</td>\n",
       "      <td>1400397.0</td>\n",
       "    </tr>\n",
       "    <tr>\n",
       "      <th>12</th>\n",
       "      <td>2014</td>\n",
       "      <td>237</td>\n",
       "      <td>1.770629e+06</td>\n",
       "      <td>1370965.0</td>\n",
       "    </tr>\n",
       "    <tr>\n",
       "      <th>13</th>\n",
       "      <td>2015</td>\n",
       "      <td>239</td>\n",
       "      <td>1.926093e+06</td>\n",
       "      <td>1453205.0</td>\n",
       "    </tr>\n",
       "    <tr>\n",
       "      <th>14</th>\n",
       "      <td>2016</td>\n",
       "      <td>246</td>\n",
       "      <td>1.475233e+06</td>\n",
       "      <td>1184094.5</td>\n",
       "    </tr>\n",
       "    <tr>\n",
       "      <th>15</th>\n",
       "      <td>2017</td>\n",
       "      <td>98</td>\n",
       "      <td>1.146814e+06</td>\n",
       "      <td>989441.0</td>\n",
       "    </tr>\n",
       "  </tbody>\n",
       "</table>\n",
       "</div>"
      ],
      "text/plain": [
       "    film_date  count          mean     median\n",
       "0        2002     27  9.618216e+05   744257.0\n",
       "1        2003     33  1.098728e+06   774492.0\n",
       "2        2004     33  2.552288e+06  1205867.0\n",
       "3        2005     66  1.795745e+06  1000579.0\n",
       "4        2006     50  3.053768e+06  1026187.5\n",
       "5        2007    114  1.196743e+06   745651.0\n",
       "6        2008     84  1.777958e+06  1009386.0\n",
       "7        2009    232  1.679581e+06   805672.0\n",
       "8        2010    266  1.447511e+06   900168.5\n",
       "9        2011    270  1.491156e+06   938716.0\n",
       "10       2012    267  1.832994e+06  1080869.0\n",
       "11       2013    270  2.178357e+06  1400397.0\n",
       "12       2014    237  1.770629e+06  1370965.0\n",
       "13       2015    239  1.926093e+06  1453205.0\n",
       "14       2016    246  1.475233e+06  1184094.5\n",
       "15       2017     98  1.146814e+06   989441.0"
      ]
     },
     "execution_count": 57,
     "metadata": {},
     "output_type": "execute_result"
    }
   ],
   "source": [
    "ted_talk.groupby(ted_talk['film_date'].dt.year).views.agg(['count','mean','median']).reset_index().sort_values('film_date')"
   ]
  },
  {
   "cell_type": "markdown",
   "metadata": {},
   "source": [
    "# Engagement Charts"
   ]
  },
  {
   "cell_type": "code",
   "execution_count": 58,
   "metadata": {},
   "outputs": [
    {
     "data": {
      "text/html": [
       "<div>\n",
       "<style scoped>\n",
       "    .dataframe tbody tr th:only-of-type {\n",
       "        vertical-align: middle;\n",
       "    }\n",
       "\n",
       "    .dataframe tbody tr th {\n",
       "        vertical-align: top;\n",
       "    }\n",
       "\n",
       "    .dataframe thead th {\n",
       "        text-align: right;\n",
       "    }\n",
       "</style>\n",
       "<table border=\"1\" class=\"dataframe\">\n",
       "  <thead>\n",
       "    <tr style=\"text-align: right;\">\n",
       "      <th></th>\n",
       "      <th>comments</th>\n",
       "      <th>description</th>\n",
       "      <th>duration</th>\n",
       "      <th>event</th>\n",
       "      <th>film_date</th>\n",
       "      <th>languages</th>\n",
       "      <th>main_speaker</th>\n",
       "      <th>name</th>\n",
       "      <th>num_speaker</th>\n",
       "      <th>published_date</th>\n",
       "      <th>ratings</th>\n",
       "      <th>related_talks</th>\n",
       "      <th>speaker_occupation</th>\n",
       "      <th>tags</th>\n",
       "      <th>title</th>\n",
       "      <th>url</th>\n",
       "      <th>views</th>\n",
       "      <th>interaction</th>\n",
       "      <th>year</th>\n",
       "    </tr>\n",
       "  </thead>\n",
       "  <tbody>\n",
       "    <tr>\n",
       "      <th>0</th>\n",
       "      <td>4553</td>\n",
       "      <td>Sir Ken Robinson makes an entertaining and pro...</td>\n",
       "      <td>1164</td>\n",
       "      <td>TED2006</td>\n",
       "      <td>2006-02-25</td>\n",
       "      <td>60</td>\n",
       "      <td>Ken Robinson</td>\n",
       "      <td>Ken Robinson: Do schools kill creativity?</td>\n",
       "      <td>1</td>\n",
       "      <td>2006-02-25</td>\n",
       "      <td>[{'id': 7, 'name': 'Funny', 'count': 19645}, {...</td>\n",
       "      <td>[{'id': 865, 'hero': 'https://pe.tedcdn.com/im...</td>\n",
       "      <td>Author/educator</td>\n",
       "      <td>['children', 'creativity', 'culture', 'dance',...</td>\n",
       "      <td>Do schools kill creativity?</td>\n",
       "      <td>https://www.ted.com/talks/ken_robinson_says_sc...</td>\n",
       "      <td>47227110</td>\n",
       "      <td>0.01</td>\n",
       "      <td>2006</td>\n",
       "    </tr>\n",
       "    <tr>\n",
       "      <th>1</th>\n",
       "      <td>265</td>\n",
       "      <td>With the same humor and humanity he exuded in ...</td>\n",
       "      <td>977</td>\n",
       "      <td>TED2006</td>\n",
       "      <td>2006-02-25</td>\n",
       "      <td>43</td>\n",
       "      <td>Al Gore</td>\n",
       "      <td>Al Gore: Averting the climate crisis</td>\n",
       "      <td>1</td>\n",
       "      <td>2006-02-25</td>\n",
       "      <td>[{'id': 7, 'name': 'Funny', 'count': 544}, {'i...</td>\n",
       "      <td>[{'id': 243, 'hero': 'https://pe.tedcdn.com/im...</td>\n",
       "      <td>Climate advocate</td>\n",
       "      <td>['alternative energy', 'cars', 'climate change...</td>\n",
       "      <td>Averting the climate crisis</td>\n",
       "      <td>https://www.ted.com/talks/al_gore_on_averting_...</td>\n",
       "      <td>3200520</td>\n",
       "      <td>0.01</td>\n",
       "      <td>2006</td>\n",
       "    </tr>\n",
       "    <tr>\n",
       "      <th>2</th>\n",
       "      <td>124</td>\n",
       "      <td>New York Times columnist David Pogue takes aim...</td>\n",
       "      <td>1286</td>\n",
       "      <td>TED2006</td>\n",
       "      <td>2006-02-24</td>\n",
       "      <td>26</td>\n",
       "      <td>David Pogue</td>\n",
       "      <td>David Pogue: Simplicity sells</td>\n",
       "      <td>1</td>\n",
       "      <td>2006-02-24</td>\n",
       "      <td>[{'id': 7, 'name': 'Funny', 'count': 964}, {'i...</td>\n",
       "      <td>[{'id': 1725, 'hero': 'https://pe.tedcdn.com/i...</td>\n",
       "      <td>Technology columnist</td>\n",
       "      <td>['computers', 'entertainment', 'interface desi...</td>\n",
       "      <td>Simplicity sells</td>\n",
       "      <td>https://www.ted.com/talks/david_pogue_says_sim...</td>\n",
       "      <td>1636292</td>\n",
       "      <td>0.01</td>\n",
       "      <td>2006</td>\n",
       "    </tr>\n",
       "    <tr>\n",
       "      <th>3</th>\n",
       "      <td>200</td>\n",
       "      <td>In an emotionally charged talk, MacArthur-winn...</td>\n",
       "      <td>1116</td>\n",
       "      <td>TED2006</td>\n",
       "      <td>2006-02-26</td>\n",
       "      <td>35</td>\n",
       "      <td>Majora Carter</td>\n",
       "      <td>Majora Carter: Greening the ghetto</td>\n",
       "      <td>1</td>\n",
       "      <td>2006-02-26</td>\n",
       "      <td>[{'id': 3, 'name': 'Courageous', 'count': 760}...</td>\n",
       "      <td>[{'id': 1041, 'hero': 'https://pe.tedcdn.com/i...</td>\n",
       "      <td>Activist for environmental justice</td>\n",
       "      <td>['MacArthur grant', 'activism', 'business', 'c...</td>\n",
       "      <td>Greening the ghetto</td>\n",
       "      <td>https://www.ted.com/talks/majora_carter_s_tale...</td>\n",
       "      <td>1697550</td>\n",
       "      <td>0.01</td>\n",
       "      <td>2006</td>\n",
       "    </tr>\n",
       "    <tr>\n",
       "      <th>4</th>\n",
       "      <td>593</td>\n",
       "      <td>You've never seen data presented like this. Wi...</td>\n",
       "      <td>1190</td>\n",
       "      <td>TED2006</td>\n",
       "      <td>2006-02-22</td>\n",
       "      <td>48</td>\n",
       "      <td>Hans Rosling</td>\n",
       "      <td>Hans Rosling: The best stats you've ever seen</td>\n",
       "      <td>1</td>\n",
       "      <td>2006-02-22</td>\n",
       "      <td>[{'id': 9, 'name': 'Ingenious', 'count': 3202}...</td>\n",
       "      <td>[{'id': 2056, 'hero': 'https://pe.tedcdn.com/i...</td>\n",
       "      <td>Global health expert; data visionary</td>\n",
       "      <td>['Africa', 'Asia', 'Google', 'demo', 'economic...</td>\n",
       "      <td>The best stats you've ever seen</td>\n",
       "      <td>https://www.ted.com/talks/hans_rosling_shows_t...</td>\n",
       "      <td>12005869</td>\n",
       "      <td>0.00</td>\n",
       "      <td>2006</td>\n",
       "    </tr>\n",
       "  </tbody>\n",
       "</table>\n",
       "</div>"
      ],
      "text/plain": [
       "   comments                                        description  duration  \\\n",
       "0      4553  Sir Ken Robinson makes an entertaining and pro...      1164   \n",
       "1       265  With the same humor and humanity he exuded in ...       977   \n",
       "2       124  New York Times columnist David Pogue takes aim...      1286   \n",
       "3       200  In an emotionally charged talk, MacArthur-winn...      1116   \n",
       "4       593  You've never seen data presented like this. Wi...      1190   \n",
       "\n",
       "     event  film_date  languages   main_speaker  \\\n",
       "0  TED2006 2006-02-25         60   Ken Robinson   \n",
       "1  TED2006 2006-02-25         43        Al Gore   \n",
       "2  TED2006 2006-02-24         26    David Pogue   \n",
       "3  TED2006 2006-02-26         35  Majora Carter   \n",
       "4  TED2006 2006-02-22         48   Hans Rosling   \n",
       "\n",
       "                                            name  num_speaker published_date  \\\n",
       "0      Ken Robinson: Do schools kill creativity?            1     2006-02-25   \n",
       "1           Al Gore: Averting the climate crisis            1     2006-02-25   \n",
       "2                  David Pogue: Simplicity sells            1     2006-02-24   \n",
       "3             Majora Carter: Greening the ghetto            1     2006-02-26   \n",
       "4  Hans Rosling: The best stats you've ever seen            1     2006-02-22   \n",
       "\n",
       "                                             ratings  \\\n",
       "0  [{'id': 7, 'name': 'Funny', 'count': 19645}, {...   \n",
       "1  [{'id': 7, 'name': 'Funny', 'count': 544}, {'i...   \n",
       "2  [{'id': 7, 'name': 'Funny', 'count': 964}, {'i...   \n",
       "3  [{'id': 3, 'name': 'Courageous', 'count': 760}...   \n",
       "4  [{'id': 9, 'name': 'Ingenious', 'count': 3202}...   \n",
       "\n",
       "                                       related_talks  \\\n",
       "0  [{'id': 865, 'hero': 'https://pe.tedcdn.com/im...   \n",
       "1  [{'id': 243, 'hero': 'https://pe.tedcdn.com/im...   \n",
       "2  [{'id': 1725, 'hero': 'https://pe.tedcdn.com/i...   \n",
       "3  [{'id': 1041, 'hero': 'https://pe.tedcdn.com/i...   \n",
       "4  [{'id': 2056, 'hero': 'https://pe.tedcdn.com/i...   \n",
       "\n",
       "                     speaker_occupation  \\\n",
       "0                       Author/educator   \n",
       "1                      Climate advocate   \n",
       "2                  Technology columnist   \n",
       "3    Activist for environmental justice   \n",
       "4  Global health expert; data visionary   \n",
       "\n",
       "                                                tags  \\\n",
       "0  ['children', 'creativity', 'culture', 'dance',...   \n",
       "1  ['alternative energy', 'cars', 'climate change...   \n",
       "2  ['computers', 'entertainment', 'interface desi...   \n",
       "3  ['MacArthur grant', 'activism', 'business', 'c...   \n",
       "4  ['Africa', 'Asia', 'Google', 'demo', 'economic...   \n",
       "\n",
       "                             title  \\\n",
       "0      Do schools kill creativity?   \n",
       "1      Averting the climate crisis   \n",
       "2                 Simplicity sells   \n",
       "3              Greening the ghetto   \n",
       "4  The best stats you've ever seen   \n",
       "\n",
       "                                                 url     views  interaction  \\\n",
       "0  https://www.ted.com/talks/ken_robinson_says_sc...  47227110         0.01   \n",
       "1  https://www.ted.com/talks/al_gore_on_averting_...   3200520         0.01   \n",
       "2  https://www.ted.com/talks/david_pogue_says_sim...   1636292         0.01   \n",
       "3  https://www.ted.com/talks/majora_carter_s_tale...   1697550         0.01   \n",
       "4  https://www.ted.com/talks/hans_rosling_shows_t...  12005869         0.00   \n",
       "\n",
       "   year  \n",
       "0  2006  \n",
       "1  2006  \n",
       "2  2006  \n",
       "3  2006  \n",
       "4  2006  "
      ]
     },
     "execution_count": 58,
     "metadata": {},
     "output_type": "execute_result"
    }
   ],
   "source": [
    "# Create new variables `interaction`: comments / views\n",
    "ted_talk[\"interaction\"] = round((ted_talk[\"comments\"] / ted_talk[\"views\"]) * 100, 2)\n",
    "\n",
    "# Create new variable `year`\n",
    "ted_talk['year'] = ted_talk['film_date'].dt.year\n",
    "\n",
    "ted_talk.head()"
   ]
  }
 ],
 "metadata": {
  "interpreter": {
   "hash": "58e9d0bbcbc5aa8fd8ef455c7e360d8e49433060d10134250ffe571fc3da7e24"
  },
  "kernelspec": {
   "display_name": "Python 3.8.8 64-bit ('base': conda)",
   "language": "python",
   "name": "python3"
  },
  "language_info": {
   "codemirror_mode": {
    "name": "ipython",
    "version": 3
   },
   "file_extension": ".py",
   "mimetype": "text/x-python",
   "name": "python",
   "nbconvert_exporter": "python",
   "pygments_lexer": "ipython3",
   "version": "3.8.8"
  },
  "orig_nbformat": 4
 },
 "nbformat": 4,
 "nbformat_minor": 2
}
